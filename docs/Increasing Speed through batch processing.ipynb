{
 "cells": [
  {
   "cell_type": "markdown",
   "metadata": {
    "deletable": true,
    "editable": true
   },
   "source": [
    "Here's how you read and write to the binary file used in this extension."
   ]
  },
  {
   "cell_type": "code",
   "execution_count": 1,
   "metadata": {
    "collapsed": false,
    "deletable": true,
    "editable": true
   },
   "outputs": [],
   "source": [
    "%load_ext autoreload\n",
    "%autoreload 2"
   ]
  },
  {
   "cell_type": "code",
   "execution_count": 2,
   "metadata": {
    "collapsed": false,
    "deletable": true,
    "editable": true
   },
   "outputs": [],
   "source": [
    "import SRP\n",
    "import glob\n",
    "import numpy as np\n",
    "import copy\n",
    "import time"
   ]
  },
  {
   "cell_type": "code",
   "execution_count": 16,
   "metadata": {
    "collapsed": false,
    "deletable": true,
    "editable": true
   },
   "outputs": [],
   "source": [
    "hasher = SRP.SRP(1280)"
   ]
  },
  {
   "cell_type": "code",
   "execution_count": 5,
   "metadata": {
    "collapsed": false,
    "deletable": true,
    "editable": true
   },
   "outputs": [],
   "source": [
    "files = glob.glob(\"/home/bschmidt/bookworms/txtlab/*.txt\")"
   ]
  },
  {
   "cell_type": "code",
   "execution_count": 6,
   "metadata": {
    "collapsed": false,
    "deletable": true,
    "editable": true
   },
   "outputs": [],
   "source": [
    "start = datetime.datetime.now()\n",
    "wordcounts = [(f,hasher.standardize([open(f).read()],[1],unzip=False)) for f in files]\n",
    "print \"Tokenization had timedelta of {}\".format(len(data),datetime.datetime.now() - start)"
   ]
  },
  {
   "cell_type": "code",
   "execution_count": null,
   "metadata": {
    "collapsed": false,
    "deletable": true,
    "editable": true
   },
   "outputs": [],
   "source": []
  },
  {
   "cell_type": "code",
   "execution_count": 8,
   "metadata": {
    "collapsed": false,
    "deletable": true,
    "editable": true
   },
   "outputs": [],
   "source": []
  },
  {
   "cell_type": "code",
   "execution_count": 9,
   "metadata": {
    "collapsed": false,
    "deletable": true,
    "editable": true
   },
   "outputs": [
    {
     "name": "stdout",
     "output_type": "stream",
     "text": [
      "Finished 451 with timedelta of 0:01:41.913734\n"
     ]
    }
   ],
   "source": [
    "wrapper = SRP.SRP_batch(hasher)\n",
    "import datetime\n",
    "\n",
    "start = datetime.datetime.now()\n",
    "data = []\n",
    "\n",
    "for id,count in wordcounts:\n",
    "    cop = copy.deepcopy(count)\n",
    "    try:\n",
    "        wrapper.push(id,cop)\n",
    "    except OverflowError:\n",
    "        for val in wrapper.flush():\n",
    "            data.append(val)\n",
    "        wrapper.push(id,cop)\n",
    "\n",
    "for val in wrapper.flush():\n",
    "    data.append(val)\n",
    "\n",
    "print \"Finished {} with timedelta of {}\".format(len(data),datetime.datetime.now() - start)"
   ]
  },
  {
   "cell_type": "code",
   "execution_count": 21,
   "metadata": {
    "collapsed": false
   },
   "outputs": [
    {
     "name": "stdout",
     "output_type": "stream",
     "text": [
      "Finished 451 with timedelta of 0:01:02.626729\n"
     ]
    }
   ],
   "source": [
    "hasher = SRP.SRP(1280)\n",
    "wrapper = SRP.SRP_batch(hasher,target_size=50)\n",
    "import datetime\n",
    "\n",
    "start = datetime.datetime.now()\n",
    "data = []\n",
    "\n",
    "for id,count in wordcounts:\n",
    "    cop = copy.deepcopy(count)\n",
    "    try:\n",
    "        wrapper.push(id,cop)\n",
    "    except OverflowError:\n",
    "        for val in wrapper.flush():\n",
    "            data.append(val)\n",
    "        wrapper.push(id,cop)\n",
    "\n",
    "for val in wrapper.flush():\n",
    "    data.append(val)\n",
    "\n",
    "print \"Finished {} with timedelta of {}\".format(len(data),datetime.datetime.now() - start)"
   ]
  },
  {
   "cell_type": "code",
   "execution_count": 10,
   "metadata": {
    "collapsed": false
   },
   "outputs": [],
   "source": [
    "wordcountsb = [(id,dicto.keys(),dicto.values()) for id,dicto in wordcounts]\n"
   ]
  },
  {
   "cell_type": "code",
   "execution_count": 20,
   "metadata": {
    "collapsed": false
   },
   "outputs": [
    {
     "name": "stdout",
     "output_type": "stream",
     "text": [
      "Finished 451 with timedelta of 0:00:39.880202\n"
     ]
    }
   ],
   "source": [
    "start = datetime.datetime.now()\n",
    "data = []\n",
    "hasher = SRP.SRP(1280)\n",
    "for id,words,counts in wordcountsb:\n",
    "    data.append((id,hasher.stable_transform(words,counts,standardize=False)))\n",
    "\n",
    "print \"Finished {} with timedelta of {}\".format(len(data),datetime.datetime.now() - start)"
   ]
  },
  {
   "cell_type": "code",
   "execution_count": 19,
   "metadata": {
    "collapsed": false
   },
   "outputs": [
    {
     "name": "stdout",
     "output_type": "stream",
     "text": [
      "Finished 451 with timedelta of 0:00:58.709061\n"
     ]
    }
   ],
   "source": [
    "hasher = SRP.SRP(1280,dtype=np.int)\n",
    "\n",
    "start = datetime.datetime.now()\n",
    "data = []\n",
    "\n",
    "for id,words,counts in wordcountsb:\n",
    "    data.append((id,hasher.stable_transform(words,counts,standardize=False)))\n",
    "\n",
    "print \"Finished {} with timedelta of {}\".format(len(data),datetime.datetime.now() - start)"
   ]
  },
  {
   "cell_type": "code",
   "execution_count": 18,
   "metadata": {
    "collapsed": false
   },
   "outputs": [
    {
     "data": {
      "text/plain": [
       "('/home/bschmidt/bookworms/txtlab/EN_1805_Lewis,Matthew_TheBravoofVenice_Novel.txt',\n",
       " array([  22.53500605,   49.64756918,  116.97293091, ..., -238.58495045,\n",
       "          56.79128075,  162.70035791]))"
      ]
     },
     "execution_count": 18,
     "metadata": {},
     "output_type": "execute_result"
    }
   ],
   "source": []
  }
 ],
 "metadata": {
  "kernelspec": {
   "display_name": "Python 2",
   "language": "python",
   "name": "python2"
  },
  "language_info": {
   "codemirror_mode": {
    "name": "ipython",
    "version": 2
   },
   "file_extension": ".py",
   "mimetype": "text/x-python",
   "name": "python",
   "nbconvert_exporter": "python",
   "pygments_lexer": "ipython2",
   "version": "2.7.12"
  }
 },
 "nbformat": 4,
 "nbformat_minor": 0
}
