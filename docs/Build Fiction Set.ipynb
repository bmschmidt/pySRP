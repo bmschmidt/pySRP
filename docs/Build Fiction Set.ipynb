{
 "cells": [
  {
   "cell_type": "markdown",
   "metadata": {
    "deletable": true,
    "editable": true
   },
   "source": [
    "# Extracting and exploring a subset of the Hathi Library\n",
    "\n",
    "This notebook shows how to build a subset of the full SRP Hathi Corpus for a topic of interest.\n",
    "\n",
    "It then performs some basic clustering to see what's in the set.\n",
    "\n",
    "First, some basic imports, plus the SRP module."
   ]
  },
  {
   "cell_type": "code",
   "execution_count": 2,
   "metadata": {
    "collapsed": true,
    "deletable": true,
    "editable": true
   },
   "outputs": [],
   "source": [
    "import SRP\n",
    "import pandas as pd\n",
    "import os\n",
    "import numpy as np\n",
    "import sys"
   ]
  },
  {
   "cell_type": "markdown",
   "metadata": {
    "deletable": true,
    "editable": true
   },
   "source": [
    "Next, I define a few variables relating to where vector files are located. This will change from application to application: since the full SRP binary files are several gigabytes, I don't include in them in the repositories.\n",
    "\n",
    "If you do this for a different set, you'll either want to build up a copy of the full Hathi set from the various parts in the Northeastern repository; **or** just use the half-precision features on Zenodo, that at 11GB are reasonable to download as a single file."
   ]
  },
  {
   "cell_type": "code",
   "execution_count": 3,
   "metadata": {
    "collapsed": true,
    "deletable": true,
    "editable": true
   },
   "outputs": [],
   "source": [
    "full_vector_file_location = \"/home/bschmidt/vector_models/ht-640d-half-precision.bin\"\n",
    "\n",
    "new_vector_file_location = \"underwood.bin\""
   ]
  },
  {
   "cell_type": "markdown",
   "metadata": {
    "deletable": true,
    "editable": true
   },
   "source": [
    "We're building a new smaller corpus based on Ted Underwood's English fiction dataset, used for his [Cultural Analytics article](http://doi.org/10.22148/16.019) (DOI: 10.22148/16.019) with David Bamman and Sabrina Lee. The same steps could be used with any CSV file that has an HTID column. This is pretty big as such sets go--about 100,000 books. But it's still less than 1% of all of Hathi, and so much easier to analyze than the whole thing.\n"
   ]
  },
  {
   "cell_type": "code",
   "execution_count": 4,
   "metadata": {
    "collapsed": false,
    "deletable": true,
    "editable": true
   },
   "outputs": [
    {
     "name": "stderr",
     "output_type": "stream",
     "text": [
      "/home/bschmidt/.local/lib/python3.5/site-packages/IPython/core/interactiveshell.py:2683: DtypeWarning: Columns (7) have mixed types. Specify dtype option on import or set low_memory=False.\n",
      "  interactivity=interactivity, compiler=compiler, result=result)\n"
     ]
    }
   ],
   "source": [
    "underwood = pd.read_csv(\"https://raw.githubusercontent.com/tedunderwood/noveltmmeta/master/workmeta.tsv\", sep=\"\\t\")"
   ]
  },
  {
   "cell_type": "markdown",
   "metadata": {
    "deletable": true,
    "editable": true
   },
   "source": [
    "Here's what this looks like. We're going to use the 'HTID' column here and match it in the SRP features. Sometimes htids are normalized to not have URL-unsafe characters.\n"
   ]
  },
  {
   "cell_type": "code",
   "execution_count": 5,
   "metadata": {
    "collapsed": false,
    "deletable": true,
    "editable": true
   },
   "outputs": [
    {
     "data": {
      "text/html": [
       "<div>\n",
       "<style>\n",
       "    .dataframe thead tr:only-child th {\n",
       "        text-align: right;\n",
       "    }\n",
       "\n",
       "    .dataframe thead th {\n",
       "        text-align: left;\n",
       "    }\n",
       "\n",
       "    .dataframe tbody tr th {\n",
       "        vertical-align: top;\n",
       "    }\n",
       "</style>\n",
       "<table border=\"1\" class=\"dataframe\">\n",
       "  <thead>\n",
       "    <tr style=\"text-align: right;\">\n",
       "      <th></th>\n",
       "      <th>docid</th>\n",
       "      <th>oldauthor</th>\n",
       "      <th>author</th>\n",
       "      <th>authordate</th>\n",
       "      <th>inferreddate</th>\n",
       "      <th>latestcomp</th>\n",
       "      <th>datetype</th>\n",
       "      <th>startdate</th>\n",
       "      <th>enddate</th>\n",
       "      <th>imprint</th>\n",
       "      <th>...</th>\n",
       "      <th>instances</th>\n",
       "      <th>allcopiesofwork</th>\n",
       "      <th>copiesin25yrs</th>\n",
       "      <th>enumcron</th>\n",
       "      <th>volnum</th>\n",
       "      <th>title</th>\n",
       "      <th>parttitle</th>\n",
       "      <th>earlyedition</th>\n",
       "      <th>shorttitle</th>\n",
       "      <th>htid</th>\n",
       "    </tr>\n",
       "  </thead>\n",
       "  <tbody>\n",
       "    <tr>\n",
       "      <th>0</th>\n",
       "      <td>mdp.39015031913893</td>\n",
       "      <td>Spencer, Louise Reid</td>\n",
       "      <td>Spencer, Louise Reid</td>\n",
       "      <td>NaN</td>\n",
       "      <td>0</td>\n",
       "      <td>2100</td>\n",
       "      <td>|</td>\n",
       "      <td>||||</td>\n",
       "      <td>||||</td>\n",
       "      <td>Thomas Y. Crowell company|1945</td>\n",
       "      <td>...</td>\n",
       "      <td>1</td>\n",
       "      <td>1</td>\n",
       "      <td>1</td>\n",
       "      <td>NaN</td>\n",
       "      <td>NaN</td>\n",
       "      <td>Guerrilla wife | $c: [by] Louise Reid Spencer.</td>\n",
       "      <td>NaN</td>\n",
       "      <td>True</td>\n",
       "      <td>Guerrilla wife</td>\n",
       "      <td>mdp.39015031913893</td>\n",
       "    </tr>\n",
       "    <tr>\n",
       "      <th>1</th>\n",
       "      <td>mdp.39015003936864</td>\n",
       "      <td>Baker, Robert H</td>\n",
       "      <td>Baker, Robert H</td>\n",
       "      <td>NaN</td>\n",
       "      <td>0</td>\n",
       "      <td>2100</td>\n",
       "      <td>n</td>\n",
       "      <td></td>\n",
       "      <td></td>\n",
       "      <td>Port Washington, N.Y.|Ashley Books|197-?].</td>\n",
       "      <td>...</td>\n",
       "      <td>1</td>\n",
       "      <td>1</td>\n",
       "      <td>1</td>\n",
       "      <td>NaN</td>\n",
       "      <td>NaN</td>\n",
       "      <td>The suburbs : | a novel / | $c: by Robert H. B...</td>\n",
       "      <td>NaN</td>\n",
       "      <td>True</td>\n",
       "      <td>The suburbs : a novel</td>\n",
       "      <td>mdp.39015003936864</td>\n",
       "    </tr>\n",
       "    <tr>\n",
       "      <th>2</th>\n",
       "      <td>mdp.39015068342305</td>\n",
       "      <td>Dickens, Charles</td>\n",
       "      <td>Dickens, Charles</td>\n",
       "      <td>1812-1870.</td>\n",
       "      <td>0</td>\n",
       "      <td>1870</td>\n",
       "      <td>n</td>\n",
       "      <td></td>\n",
       "      <td></td>\n",
       "      <td>New York|The American news company|n.d.</td>\n",
       "      <td>...</td>\n",
       "      <td>1</td>\n",
       "      <td>1</td>\n",
       "      <td>1</td>\n",
       "      <td>NaN</td>\n",
       "      <td>NaN</td>\n",
       "      <td>Edwin Drood. | $c: By Charles Dickens. With il...</td>\n",
       "      <td>NaN</td>\n",
       "      <td>True</td>\n",
       "      <td>Edwin Drood</td>\n",
       "      <td>mdp.39015068342305</td>\n",
       "    </tr>\n",
       "    <tr>\n",
       "      <th>3</th>\n",
       "      <td>mdp.39015055066586</td>\n",
       "      <td>Stretton, Hesba</td>\n",
       "      <td>Stretton, Hesba</td>\n",
       "      <td>1832-1911.</td>\n",
       "      <td>0</td>\n",
       "      <td>1911</td>\n",
       "      <td>n</td>\n",
       "      <td></td>\n",
       "      <td></td>\n",
       "      <td>New York|Dodd, Mead &amp; co.|n.d.</td>\n",
       "      <td>...</td>\n",
       "      <td>1</td>\n",
       "      <td>1</td>\n",
       "      <td>1</td>\n",
       "      <td>NaN</td>\n",
       "      <td>NaN</td>\n",
       "      <td>Carola, | $c: by Hesba Stretton.</td>\n",
       "      <td>NaN</td>\n",
       "      <td>True</td>\n",
       "      <td>Carola</td>\n",
       "      <td>mdp.39015055066586</td>\n",
       "    </tr>\n",
       "    <tr>\n",
       "      <th>4</th>\n",
       "      <td>mdp.39015055066594</td>\n",
       "      <td>Stretton,Hesba</td>\n",
       "      <td>Stretton, Hesba</td>\n",
       "      <td>1832-1911.</td>\n",
       "      <td>0</td>\n",
       "      <td>1911</td>\n",
       "      <td>n</td>\n",
       "      <td></td>\n",
       "      <td></td>\n",
       "      <td>New York|Dodd, Mead &amp; co.|n.d.</td>\n",
       "      <td>...</td>\n",
       "      <td>1</td>\n",
       "      <td>1</td>\n",
       "      <td>1</td>\n",
       "      <td>NaN</td>\n",
       "      <td>NaN</td>\n",
       "      <td>In prison &amp; out. | $c: By Hesba Stretton.</td>\n",
       "      <td>NaN</td>\n",
       "      <td>True</td>\n",
       "      <td>In prison &amp; out</td>\n",
       "      <td>mdp.39015055066594</td>\n",
       "    </tr>\n",
       "    <tr>\n",
       "      <th>5</th>\n",
       "      <td>mdp.39015063543394</td>\n",
       "      <td>Lyall, Edna</td>\n",
       "      <td>Lyall, Edna</td>\n",
       "      <td>1857-1903.</td>\n",
       "      <td>0</td>\n",
       "      <td>1903</td>\n",
       "      <td>n</td>\n",
       "      <td></td>\n",
       "      <td></td>\n",
       "      <td>New York|A. L. Burt|n.d.</td>\n",
       "      <td>...</td>\n",
       "      <td>1</td>\n",
       "      <td>1</td>\n",
       "      <td>1</td>\n",
       "      <td>NaN</td>\n",
       "      <td>NaN</td>\n",
       "      <td>Donovan. | A novel, | $c: by Edna Lyall [pseud.]</td>\n",
       "      <td>NaN</td>\n",
       "      <td>True</td>\n",
       "      <td>Donovan. A novel</td>\n",
       "      <td>mdp.39015063543394</td>\n",
       "    </tr>\n",
       "    <tr>\n",
       "      <th>6</th>\n",
       "      <td>mdp.39015059414725</td>\n",
       "      <td>McKenna, Stephen</td>\n",
       "      <td>McKenna, Stephen</td>\n",
       "      <td>1888-1967.</td>\n",
       "      <td>0</td>\n",
       "      <td>1967</td>\n",
       "      <td>n</td>\n",
       "      <td></td>\n",
       "      <td></td>\n",
       "      <td>London|Hutchinson &amp; co.|n.d.</td>\n",
       "      <td>...</td>\n",
       "      <td>1</td>\n",
       "      <td>1</td>\n",
       "      <td>1</td>\n",
       "      <td>NaN</td>\n",
       "      <td>NaN</td>\n",
       "      <td>Lady Lilith, | a novel: Beong the first part o...</td>\n",
       "      <td>NaN</td>\n",
       "      <td>True</td>\n",
       "      <td>Lady Lilith, a novel: Beong the first part of ...</td>\n",
       "      <td>mdp.39015059414725</td>\n",
       "    </tr>\n",
       "    <tr>\n",
       "      <th>7</th>\n",
       "      <td>mdp.39015063920006</td>\n",
       "      <td>Haggard, H. Rider (Henry Rider)</td>\n",
       "      <td>Haggard, H. Rider (Henry Rider)</td>\n",
       "      <td>1856-1925.</td>\n",
       "      <td>0</td>\n",
       "      <td>1925</td>\n",
       "      <td>n</td>\n",
       "      <td></td>\n",
       "      <td></td>\n",
       "      <td>New York|J. S. Ogilvie|n.d.</td>\n",
       "      <td>...</td>\n",
       "      <td>1</td>\n",
       "      <td>1</td>\n",
       "      <td>1</td>\n",
       "      <td>NaN</td>\n",
       "      <td>NaN</td>\n",
       "      <td>Beatrice | [a novel] | $c: by H. Rider Haggard.</td>\n",
       "      <td>NaN</td>\n",
       "      <td>True</td>\n",
       "      <td>Beatrice [a novel]</td>\n",
       "      <td>mdp.39015063920006</td>\n",
       "    </tr>\n",
       "    <tr>\n",
       "      <th>8</th>\n",
       "      <td>mdp.39015035876971</td>\n",
       "      <td>Malet, Lucas</td>\n",
       "      <td>Malet, Lucas</td>\n",
       "      <td>1852-1931.</td>\n",
       "      <td>0</td>\n",
       "      <td>1931</td>\n",
       "      <td>n</td>\n",
       "      <td></td>\n",
       "      <td></td>\n",
       "      <td>New York|T. Y. Crowell &amp; co.|n.d.</td>\n",
       "      <td>...</td>\n",
       "      <td>1</td>\n",
       "      <td>1</td>\n",
       "      <td>1</td>\n",
       "      <td>NaN</td>\n",
       "      <td>NaN</td>\n",
       "      <td>Little Peter: | a Christmas morality for child...</td>\n",
       "      <td>NaN</td>\n",
       "      <td>True</td>\n",
       "      <td>Little Peter: a Christmas morality for childre...</td>\n",
       "      <td>mdp.39015035876971</td>\n",
       "    </tr>\n",
       "    <tr>\n",
       "      <th>9</th>\n",
       "      <td>mdp.39015010208315</td>\n",
       "      <td>Caffyn, Mannington, Mrs</td>\n",
       "      <td>Caffyn, Mannington, Mrs</td>\n",
       "      <td>NaN</td>\n",
       "      <td>0</td>\n",
       "      <td>2100</td>\n",
       "      <td>n</td>\n",
       "      <td></td>\n",
       "      <td></td>\n",
       "      <td>New York|Optimus print. co.|n.d.</td>\n",
       "      <td>...</td>\n",
       "      <td>1</td>\n",
       "      <td>1</td>\n",
       "      <td>1</td>\n",
       "      <td>NaN</td>\n",
       "      <td>NaN</td>\n",
       "      <td>A yellow aster : | a novel / | $c: by Iota [ps...</td>\n",
       "      <td>NaN</td>\n",
       "      <td>True</td>\n",
       "      <td>A yellow aster : a novel</td>\n",
       "      <td>mdp.39015010208315</td>\n",
       "    </tr>\n",
       "    <tr>\n",
       "      <th>10</th>\n",
       "      <td>mdp.39015063549854</td>\n",
       "      <td>Dane, Joan</td>\n",
       "      <td>Dane, Joan</td>\n",
       "      <td>NaN</td>\n",
       "      <td>0</td>\n",
       "      <td>2100</td>\n",
       "      <td>n</td>\n",
       "      <td></td>\n",
       "      <td></td>\n",
       "      <td>London|E. Stock|n.d.</td>\n",
       "      <td>...</td>\n",
       "      <td>1</td>\n",
       "      <td>1</td>\n",
       "      <td>1</td>\n",
       "      <td>NaN</td>\n",
       "      <td>NaN</td>\n",
       "      <td>Prince Madog, | discoverer of America; a legen...</td>\n",
       "      <td>NaN</td>\n",
       "      <td>True</td>\n",
       "      <td>Prince Madog, discoverer of America; a legenda...</td>\n",
       "      <td>mdp.39015063549854</td>\n",
       "    </tr>\n",
       "    <tr>\n",
       "      <th>11</th>\n",
       "      <td>uc1.$b69324</td>\n",
       "      <td>Catlin, George</td>\n",
       "      <td>Catlin, George</td>\n",
       "      <td>1796-1872.</td>\n",
       "      <td>0</td>\n",
       "      <td>1872</td>\n",
       "      <td>n</td>\n",
       "      <td></td>\n",
       "      <td></td>\n",
       "      <td>London and Edinburgh|Gall and Inglis|n.d.</td>\n",
       "      <td>...</td>\n",
       "      <td>2</td>\n",
       "      <td>2</td>\n",
       "      <td>2</td>\n",
       "      <td>NaN</td>\n",
       "      <td>NaN</td>\n",
       "      <td>Rambles among the Indians of the Rocky Mountai...</td>\n",
       "      <td>NaN</td>\n",
       "      <td>True</td>\n",
       "      <td>Rambles among the Indians of the Rocky Mountai...</td>\n",
       "      <td>uc1.$b69324</td>\n",
       "    </tr>\n",
       "    <tr>\n",
       "      <th>12</th>\n",
       "      <td>uc1.b3451041</td>\n",
       "      <td>Enriquez, Mig Alvarez</td>\n",
       "      <td>Enriquez, Mig Alvarez</td>\n",
       "      <td>NaN</td>\n",
       "      <td>0</td>\n",
       "      <td>2100</td>\n",
       "      <td></td>\n",
       "      <td></td>\n",
       "      <td></td>\n",
       "      <td>Quezon City|New Day Publishers|l983.</td>\n",
       "      <td>...</td>\n",
       "      <td>2</td>\n",
       "      <td>2</td>\n",
       "      <td>2</td>\n",
       "      <td>NaN</td>\n",
       "      <td>NaN</td>\n",
       "      <td>House of images.</td>\n",
       "      <td>NaN</td>\n",
       "      <td>True</td>\n",
       "      <td>House of images</td>\n",
       "      <td>uc1.b3451041</td>\n",
       "    </tr>\n",
       "    <tr>\n",
       "      <th>13</th>\n",
       "      <td>mdp.39015063933132</td>\n",
       "      <td>Lawrence, Charles Edward</td>\n",
       "      <td>Lawrence, Charles Edward</td>\n",
       "      <td>1870-1940.</td>\n",
       "      <td>0</td>\n",
       "      <td>1940</td>\n",
       "      <td>n</td>\n",
       "      <td></td>\n",
       "      <td></td>\n",
       "      <td>New York|E. P. Dutton &amp; con.|n.d.</td>\n",
       "      <td>...</td>\n",
       "      <td>1</td>\n",
       "      <td>1</td>\n",
       "      <td>1</td>\n",
       "      <td>NaN</td>\n",
       "      <td>NaN</td>\n",
       "      <td>The god in the thicket, | $c: by C. E. Lawrence.</td>\n",
       "      <td>NaN</td>\n",
       "      <td>True</td>\n",
       "      <td>The god in the thicket</td>\n",
       "      <td>mdp.39015063933132</td>\n",
       "    </tr>\n",
       "    <tr>\n",
       "      <th>14</th>\n",
       "      <td>mdp.39015063945813</td>\n",
       "      <td>Lee, Holme</td>\n",
       "      <td>Lee, Holme</td>\n",
       "      <td>1828-1900.</td>\n",
       "      <td>0</td>\n",
       "      <td>1900</td>\n",
       "      <td>n</td>\n",
       "      <td></td>\n",
       "      <td></td>\n",
       "      <td>Philadelphia|H. T. Coates &amp; co.|n.d.</td>\n",
       "      <td>...</td>\n",
       "      <td>1</td>\n",
       "      <td>1</td>\n",
       "      <td>1</td>\n",
       "      <td>NaN</td>\n",
       "      <td>NaN</td>\n",
       "      <td>The vicissitudes of Bessie Fairfax: | a novel,...</td>\n",
       "      <td>NaN</td>\n",
       "      <td>True</td>\n",
       "      <td>The vicissitudes of Bessie Fairfax: a novel</td>\n",
       "      <td>mdp.39015063945813</td>\n",
       "    </tr>\n",
       "    <tr>\n",
       "      <th>15</th>\n",
       "      <td>mdp.39015063542487</td>\n",
       "      <td>Bradley, Edward, Rev</td>\n",
       "      <td>Bradley, Edward, Rev</td>\n",
       "      <td>1827-1889.</td>\n",
       "      <td>0</td>\n",
       "      <td>1889</td>\n",
       "      <td>n</td>\n",
       "      <td></td>\n",
       "      <td></td>\n",
       "      <td>London|n.d.</td>\n",
       "      <td>...</td>\n",
       "      <td>1</td>\n",
       "      <td>1</td>\n",
       "      <td>1</td>\n",
       "      <td>NaN</td>\n",
       "      <td>NaN</td>\n",
       "      <td>Happy hours at Wynford Grange.</td>\n",
       "      <td>NaN</td>\n",
       "      <td>True</td>\n",
       "      <td>Happy hours at Wynford Grange</td>\n",
       "      <td>mdp.39015063542487</td>\n",
       "    </tr>\n",
       "    <tr>\n",
       "      <th>16</th>\n",
       "      <td>mdp.39015031235263</td>\n",
       "      <td>Hawthorne, Nathaniel</td>\n",
       "      <td>Hawthorne, Nathaniel</td>\n",
       "      <td>1804-1864.</td>\n",
       "      <td>0</td>\n",
       "      <td>1864</td>\n",
       "      <td>n</td>\n",
       "      <td></td>\n",
       "      <td></td>\n",
       "      <td>London|New York, [etc.|T. Nelson &amp; sons|n.d.</td>\n",
       "      <td>...</td>\n",
       "      <td>1</td>\n",
       "      <td>1</td>\n",
       "      <td>1</td>\n",
       "      <td>NaN</td>\n",
       "      <td>NaN</td>\n",
       "      <td>The great stone face | &amp; other stories, | $c: ...</td>\n",
       "      <td>NaN</td>\n",
       "      <td>True</td>\n",
       "      <td>The great stone face &amp; other stories</td>\n",
       "      <td>mdp.39015031235263</td>\n",
       "    </tr>\n",
       "    <tr>\n",
       "      <th>17</th>\n",
       "      <td>mdp.39015019204547</td>\n",
       "      <td>Irving, Washington</td>\n",
       "      <td>Irving, Washington</td>\n",
       "      <td>1783-1859.</td>\n",
       "      <td>0</td>\n",
       "      <td>1859</td>\n",
       "      <td>n</td>\n",
       "      <td></td>\n",
       "      <td></td>\n",
       "      <td>New York|A. L. Burt co.|n.d.</td>\n",
       "      <td>...</td>\n",
       "      <td>1</td>\n",
       "      <td>1</td>\n",
       "      <td>1</td>\n",
       "      <td>NaN</td>\n",
       "      <td>NaN</td>\n",
       "      <td>The Alhambra; | tales &amp; sketches of the Moors ...</td>\n",
       "      <td>NaN</td>\n",
       "      <td>True</td>\n",
       "      <td>The Alhambra; tales &amp; sketches of the Moors &amp; ...</td>\n",
       "      <td>mdp.39015019204547</td>\n",
       "    </tr>\n",
       "    <tr>\n",
       "      <th>18</th>\n",
       "      <td>mdp.39015067177587</td>\n",
       "      <td>Jones, Susan Carleton</td>\n",
       "      <td>Jones, Susan Carleton</td>\n",
       "      <td>1869-</td>\n",
       "      <td>0</td>\n",
       "      <td>2100</td>\n",
       "      <td>n</td>\n",
       "      <td></td>\n",
       "      <td></td>\n",
       "      <td>n.p.|n.d.</td>\n",
       "      <td>...</td>\n",
       "      <td>1</td>\n",
       "      <td>1</td>\n",
       "      <td>1</td>\n",
       "      <td>NaN</td>\n",
       "      <td>NaN</td>\n",
       "      <td>The lame priest.</td>\n",
       "      <td>NaN</td>\n",
       "      <td>True</td>\n",
       "      <td>The lame priest</td>\n",
       "      <td>mdp.39015067177587</td>\n",
       "    </tr>\n",
       "    <tr>\n",
       "      <th>19</th>\n",
       "      <td>mdp.39015049809208</td>\n",
       "      <td>Lytton, Edward Bulwer Lytton, Baron</td>\n",
       "      <td>Lytton, Edward Bulwer Lytton, Baron</td>\n",
       "      <td>1803-1873.</td>\n",
       "      <td>0</td>\n",
       "      <td>1873</td>\n",
       "      <td>n</td>\n",
       "      <td></td>\n",
       "      <td></td>\n",
       "      <td>New York|Syndicate trading co.|n.d.</td>\n",
       "      <td>...</td>\n",
       "      <td>1</td>\n",
       "      <td>1</td>\n",
       "      <td>1</td>\n",
       "      <td>NaN</td>\n",
       "      <td>NaN</td>\n",
       "      <td>A strange story, | y Sir Edward Bulwer Lytton.</td>\n",
       "      <td>NaN</td>\n",
       "      <td>True</td>\n",
       "      <td>A strange story, y Sir Edward Bulwer Lytton</td>\n",
       "      <td>mdp.39015049809208</td>\n",
       "    </tr>\n",
       "    <tr>\n",
       "      <th>20</th>\n",
       "      <td>mdp.39015008721394</td>\n",
       "      <td>Campbell, Michael</td>\n",
       "      <td>Campbell, Michael</td>\n",
       "      <td>1924-</td>\n",
       "      <td>0</td>\n",
       "      <td>2100</td>\n",
       "      <td>n</td>\n",
       "      <td></td>\n",
       "      <td></td>\n",
       "      <td>New York|Orion P.|n. d.</td>\n",
       "      <td>...</td>\n",
       "      <td>1</td>\n",
       "      <td>1</td>\n",
       "      <td>1</td>\n",
       "      <td>NaN</td>\n",
       "      <td>NaN</td>\n",
       "      <td>Peter Perry.</td>\n",
       "      <td>NaN</td>\n",
       "      <td>True</td>\n",
       "      <td>Peter Perry</td>\n",
       "      <td>mdp.39015008721394</td>\n",
       "    </tr>\n",
       "    <tr>\n",
       "      <th>21</th>\n",
       "      <td>mdp.39015063548997</td>\n",
       "      <td>Glyn, Elinor</td>\n",
       "      <td>Glyn, Elinor</td>\n",
       "      <td>1864-1943.</td>\n",
       "      <td>0</td>\n",
       "      <td>1943</td>\n",
       "      <td>n</td>\n",
       "      <td></td>\n",
       "      <td></td>\n",
       "      <td>New York|Boston|H. M. Caldwell co.|n.d.</td>\n",
       "      <td>...</td>\n",
       "      <td>1</td>\n",
       "      <td>1</td>\n",
       "      <td>1</td>\n",
       "      <td>NaN</td>\n",
       "      <td>NaN</td>\n",
       "      <td>Visits of Elizabeth | $c: [by] Elinor Glyn.</td>\n",
       "      <td>NaN</td>\n",
       "      <td>True</td>\n",
       "      <td>Visits of Elizabeth</td>\n",
       "      <td>mdp.39015063548997</td>\n",
       "    </tr>\n",
       "    <tr>\n",
       "      <th>22</th>\n",
       "      <td>mdp.39015063918372</td>\n",
       "      <td>Fenn, George Manville</td>\n",
       "      <td>Fenn, George Manville</td>\n",
       "      <td>1831-1909.</td>\n",
       "      <td>0</td>\n",
       "      <td>1909</td>\n",
       "      <td>n</td>\n",
       "      <td></td>\n",
       "      <td></td>\n",
       "      <td>London|New York [etc.|Cassell, Petter, Galpin ...</td>\n",
       "      <td>...</td>\n",
       "      <td>1</td>\n",
       "      <td>1</td>\n",
       "      <td>1</td>\n",
       "      <td>NaN</td>\n",
       "      <td>NaN</td>\n",
       "      <td>Adventures of working men. | $c: By G. Manvill...</td>\n",
       "      <td>NaN</td>\n",
       "      <td>True</td>\n",
       "      <td>Adventures of working men</td>\n",
       "      <td>mdp.39015063918372</td>\n",
       "    </tr>\n",
       "    <tr>\n",
       "      <th>23</th>\n",
       "      <td>mdp.39015063521184</td>\n",
       "      <td>Alcock, Deborah</td>\n",
       "      <td>Alcock, Deborah</td>\n",
       "      <td>1835-1913.</td>\n",
       "      <td>0</td>\n",
       "      <td>1913</td>\n",
       "      <td>n</td>\n",
       "      <td></td>\n",
       "      <td></td>\n",
       "      <td>London|Unwin|n.d.</td>\n",
       "      <td>...</td>\n",
       "      <td>1</td>\n",
       "      <td>1</td>\n",
       "      <td>1</td>\n",
       "      <td>NaN</td>\n",
       "      <td>NaN</td>\n",
       "      <td>The Roman students; | or, on the wings of the ...</td>\n",
       "      <td>NaN</td>\n",
       "      <td>True</td>\n",
       "      <td>The Roman students; or, on the wings of the mo...</td>\n",
       "      <td>mdp.39015063521184</td>\n",
       "    </tr>\n",
       "    <tr>\n",
       "      <th>24</th>\n",
       "      <td>mdp.39015065157607</td>\n",
       "      <td>Sellassie, Berhane Mariam Sahle</td>\n",
       "      <td>Sellassie, Berhane Mariam Sahle</td>\n",
       "      <td>1936-</td>\n",
       "      <td>0</td>\n",
       "      <td>2100</td>\n",
       "      <td>n</td>\n",
       "      <td>||||</td>\n",
       "      <td></td>\n",
       "      <td>NaN</td>\n",
       "      <td>...</td>\n",
       "      <td>1</td>\n",
       "      <td>1</td>\n",
       "      <td>1</td>\n",
       "      <td>NaN</td>\n",
       "      <td>NaN</td>\n",
       "      <td>Shinega's village; | scenes of Ethiopian life.</td>\n",
       "      <td>NaN</td>\n",
       "      <td>True</td>\n",
       "      <td>Shinega's village; scenes of Ethiopian life</td>\n",
       "      <td>mdp.39015065157607</td>\n",
       "    </tr>\n",
       "    <tr>\n",
       "      <th>25</th>\n",
       "      <td>mdp.39015008280904</td>\n",
       "      <td>Andersen, H. C (Hans Christian)</td>\n",
       "      <td>Andersen, H. C. (Hans Christian)</td>\n",
       "      <td>1805-1875.</td>\n",
       "      <td>0</td>\n",
       "      <td>1875</td>\n",
       "      <td>|</td>\n",
       "      <td>||||</td>\n",
       "      <td></td>\n",
       "      <td>NaN</td>\n",
       "      <td>...</td>\n",
       "      <td>1</td>\n",
       "      <td>1</td>\n",
       "      <td>1</td>\n",
       "      <td>NaN</td>\n",
       "      <td>NaN</td>\n",
       "      <td>Andersen's fairy tales; il. by Elizaveth MacKi...</td>\n",
       "      <td>NaN</td>\n",
       "      <td>True</td>\n",
       "      <td>Andersen's fairy tales; il. by Elizaveth MacKi...</td>\n",
       "      <td>mdp.39015008280904</td>\n",
       "    </tr>\n",
       "    <tr>\n",
       "      <th>26</th>\n",
       "      <td>mdp.39015067298763</td>\n",
       "      <td>Kessel, Joseph</td>\n",
       "      <td>Kessel, Joseph</td>\n",
       "      <td>1898-1979.</td>\n",
       "      <td>0</td>\n",
       "      <td>1979</td>\n",
       "      <td>|</td>\n",
       "      <td>||||</td>\n",
       "      <td>||||</td>\n",
       "      <td>New York|Knopf|1962 [c1961</td>\n",
       "      <td>...</td>\n",
       "      <td>1</td>\n",
       "      <td>1</td>\n",
       "      <td>1</td>\n",
       "      <td>NaN</td>\n",
       "      <td>NaN</td>\n",
       "      <td>The road back; | a report on Alcoholics Anonym...</td>\n",
       "      <td>NaN</td>\n",
       "      <td>True</td>\n",
       "      <td>The road back; a report on Alcoholics Anonymous</td>\n",
       "      <td>mdp.39015067298763</td>\n",
       "    </tr>\n",
       "    <tr>\n",
       "      <th>27</th>\n",
       "      <td>mdp.39015065802277</td>\n",
       "      <td>Ohnet, Georges</td>\n",
       "      <td>Ohnet, Georges</td>\n",
       "      <td>1848-1918.</td>\n",
       "      <td>0</td>\n",
       "      <td>1918</td>\n",
       "      <td>n</td>\n",
       "      <td>||||</td>\n",
       "      <td></td>\n",
       "      <td>New York|G. W. Dillingham company c1910.</td>\n",
       "      <td>...</td>\n",
       "      <td>1</td>\n",
       "      <td>1</td>\n",
       "      <td>1</td>\n",
       "      <td>NaN</td>\n",
       "      <td>NaN</td>\n",
       "      <td>The red flag,</td>\n",
       "      <td>NaN</td>\n",
       "      <td>True</td>\n",
       "      <td>The red flag</td>\n",
       "      <td>mdp.39015065802277</td>\n",
       "    </tr>\n",
       "    <tr>\n",
       "      <th>28</th>\n",
       "      <td>coo.31924027270119</td>\n",
       "      <td>NaN</td>\n",
       "      <td>NaN</td>\n",
       "      <td>NaN</td>\n",
       "      <td>0</td>\n",
       "      <td>2100</td>\n",
       "      <td>s</td>\n",
       "      <td>19uu</td>\n",
       "      <td></td>\n",
       "      <td>Philadelphia|G. W. Jacobs|19--</td>\n",
       "      <td>...</td>\n",
       "      <td>1</td>\n",
       "      <td>1</td>\n",
       "      <td>1</td>\n",
       "      <td>NaN</td>\n",
       "      <td>NaN</td>\n",
       "      <td>Aucassin and Nicolette / | $c: [translated by]...</td>\n",
       "      <td>NaN</td>\n",
       "      <td>True</td>\n",
       "      <td>Aucassin and Nicolette</td>\n",
       "      <td>coo.31924027270119</td>\n",
       "    </tr>\n",
       "    <tr>\n",
       "      <th>29</th>\n",
       "      <td>mdp.39015061285808</td>\n",
       "      <td>Eliot, George</td>\n",
       "      <td>Eliot, George</td>\n",
       "      <td>1819-1880.</td>\n",
       "      <td>0</td>\n",
       "      <td>1880</td>\n",
       "      <td>n</td>\n",
       "      <td></td>\n",
       "      <td></td>\n",
       "      <td>Boston|Small, Maynard &amp; co.|n.d.</td>\n",
       "      <td>...</td>\n",
       "      <td>1</td>\n",
       "      <td>1</td>\n",
       "      <td>1</td>\n",
       "      <td>v.1</td>\n",
       "      <td>1.0</td>\n",
       "      <td>The works of George Eliot...</td>\n",
       "      <td>NaN</td>\n",
       "      <td>True</td>\n",
       "      <td>The works of George Eliot</td>\n",
       "      <td>mdp.39015061285808</td>\n",
       "    </tr>\n",
       "    <tr>\n",
       "      <th>...</th>\n",
       "      <td>...</td>\n",
       "      <td>...</td>\n",
       "      <td>...</td>\n",
       "      <td>...</td>\n",
       "      <td>...</td>\n",
       "      <td>...</td>\n",
       "      <td>...</td>\n",
       "      <td>...</td>\n",
       "      <td>...</td>\n",
       "      <td>...</td>\n",
       "      <td>...</td>\n",
       "      <td>...</td>\n",
       "      <td>...</td>\n",
       "      <td>...</td>\n",
       "      <td>...</td>\n",
       "      <td>...</td>\n",
       "      <td>...</td>\n",
       "      <td>...</td>\n",
       "      <td>...</td>\n",
       "      <td>...</td>\n",
       "      <td>...</td>\n",
       "    </tr>\n",
       "    <tr>\n",
       "      <th>138107</th>\n",
       "      <td>pst.000067591329</td>\n",
       "      <td>Hall, Rich</td>\n",
       "      <td>Hall, Rich</td>\n",
       "      <td>1954-</td>\n",
       "      <td>2009</td>\n",
       "      <td>2009</td>\n",
       "      <td>s</td>\n",
       "      <td>2009</td>\n",
       "      <td></td>\n",
       "      <td>London|Abacus|2009.</td>\n",
       "      <td>...</td>\n",
       "      <td>1</td>\n",
       "      <td>1</td>\n",
       "      <td>1</td>\n",
       "      <td>NaN</td>\n",
       "      <td>NaN</td>\n",
       "      <td>Magnificent bastards / | $c: Rich Hall.</td>\n",
       "      <td>NaN</td>\n",
       "      <td>True</td>\n",
       "      <td>Magnificent bastards</td>\n",
       "      <td>pst.000067591329</td>\n",
       "    </tr>\n",
       "    <tr>\n",
       "      <th>138108</th>\n",
       "      <td>pst.000067168613</td>\n",
       "      <td>Bacigalupi, Paolo</td>\n",
       "      <td>Bacigalupi, Paolo</td>\n",
       "      <td>NaN</td>\n",
       "      <td>2009</td>\n",
       "      <td>2009</td>\n",
       "      <td>s</td>\n",
       "      <td>2009</td>\n",
       "      <td></td>\n",
       "      <td>San Francisco|Night Shade Books|c2009.</td>\n",
       "      <td>...</td>\n",
       "      <td>1</td>\n",
       "      <td>1</td>\n",
       "      <td>1</td>\n",
       "      <td>NaN</td>\n",
       "      <td>NaN</td>\n",
       "      <td>The windup girl / | $c: Paolo Bacigalupi.</td>\n",
       "      <td>NaN</td>\n",
       "      <td>True</td>\n",
       "      <td>The windup girl</td>\n",
       "      <td>pst.000067168613</td>\n",
       "    </tr>\n",
       "    <tr>\n",
       "      <th>138109</th>\n",
       "      <td>pst.000066834076</td>\n",
       "      <td>Tyler, Anne</td>\n",
       "      <td>Tyler, Anne</td>\n",
       "      <td>NaN</td>\n",
       "      <td>2009</td>\n",
       "      <td>2009</td>\n",
       "      <td>s</td>\n",
       "      <td>2009</td>\n",
       "      <td></td>\n",
       "      <td>New York|Random House Large Print|c2009.</td>\n",
       "      <td>...</td>\n",
       "      <td>1</td>\n",
       "      <td>1</td>\n",
       "      <td>1</td>\n",
       "      <td>NaN</td>\n",
       "      <td>NaN</td>\n",
       "      <td>Noah's compass : | a novel / | $c: by Anne Tyler.</td>\n",
       "      <td>NaN</td>\n",
       "      <td>True</td>\n",
       "      <td>Noah's compass : a novel</td>\n",
       "      <td>pst.000066834076</td>\n",
       "    </tr>\n",
       "    <tr>\n",
       "      <th>138110</th>\n",
       "      <td>mdp.39015078813063</td>\n",
       "      <td>Kureishi, Hanif</td>\n",
       "      <td>Kureishi, Hanif</td>\n",
       "      <td>NaN</td>\n",
       "      <td>2009</td>\n",
       "      <td>2008</td>\n",
       "      <td>r</td>\n",
       "      <td>2009</td>\n",
       "      <td>2008</td>\n",
       "      <td>London|Faber|2009.</td>\n",
       "      <td>...</td>\n",
       "      <td>1</td>\n",
       "      <td>1</td>\n",
       "      <td>1</td>\n",
       "      <td>NaN</td>\n",
       "      <td>NaN</td>\n",
       "      <td>Something to tell you / | $c: Hanif Kureishi.</td>\n",
       "      <td>NaN</td>\n",
       "      <td>True</td>\n",
       "      <td>Something to tell you</td>\n",
       "      <td>mdp.39015078813063</td>\n",
       "    </tr>\n",
       "    <tr>\n",
       "      <th>138111</th>\n",
       "      <td>umn.31951d03149712s</td>\n",
       "      <td>Wodehouse, P. G. (Pelham Grenville)</td>\n",
       "      <td>Wodehouse, P. G., (Pelham Grenville)</td>\n",
       "      <td>1881-1975.</td>\n",
       "      <td>2009</td>\n",
       "      <td>1909</td>\n",
       "      <td>r</td>\n",
       "      <td>2009</td>\n",
       "      <td>1909</td>\n",
       "      <td>Place of publication not identified|publisher ...</td>\n",
       "      <td>...</td>\n",
       "      <td>1</td>\n",
       "      <td>1</td>\n",
       "      <td>1</td>\n",
       "      <td>NaN</td>\n",
       "      <td>NaN</td>\n",
       "      <td>Leave it to Psmith : | also published as Mike ...</td>\n",
       "      <td>NaN</td>\n",
       "      <td>False</td>\n",
       "      <td>Leave it to Psmith : also published as Mike an...</td>\n",
       "      <td>umn.31951d03149712s</td>\n",
       "    </tr>\n",
       "    <tr>\n",
       "      <th>138112</th>\n",
       "      <td>mdp.39015080826830</td>\n",
       "      <td>NaN</td>\n",
       "      <td>NaN</td>\n",
       "      <td>NaN</td>\n",
       "      <td>2010</td>\n",
       "      <td>2010</td>\n",
       "      <td>s</td>\n",
       "      <td>2010</td>\n",
       "      <td></td>\n",
       "      <td>Boston|Cheng &amp; Tsui Company|2010.</td>\n",
       "      <td>...</td>\n",
       "      <td>1</td>\n",
       "      <td>1</td>\n",
       "      <td>1</td>\n",
       "      <td>NaN</td>\n",
       "      <td>NaN</td>\n",
       "      <td>Another kind of paradise : | short stories fro...</td>\n",
       "      <td>NaN</td>\n",
       "      <td>True</td>\n",
       "      <td>Another kind of paradise : short stories from ...</td>\n",
       "      <td>mdp.39015080826830</td>\n",
       "    </tr>\n",
       "    <tr>\n",
       "      <th>138113</th>\n",
       "      <td>mdp.39015084272098</td>\n",
       "      <td>Stowe, Harriet Beecher</td>\n",
       "      <td>Stowe, Harriet Beecher</td>\n",
       "      <td>1811-1896.</td>\n",
       "      <td>2010</td>\n",
       "      <td>1852</td>\n",
       "      <td>r</td>\n",
       "      <td>2010</td>\n",
       "      <td>1852</td>\n",
       "      <td>New York|W.W. Norton &amp; Co.|c2010.</td>\n",
       "      <td>...</td>\n",
       "      <td>1</td>\n",
       "      <td>1</td>\n",
       "      <td>1</td>\n",
       "      <td>NaN</td>\n",
       "      <td>NaN</td>\n",
       "      <td>Uncle Tom's cabin : | authoritative text, back...</td>\n",
       "      <td>NaN</td>\n",
       "      <td>False</td>\n",
       "      <td>Uncle Tom's cabin : authoritative text, backgr...</td>\n",
       "      <td>mdp.39015084272098</td>\n",
       "    </tr>\n",
       "    <tr>\n",
       "      <th>138114</th>\n",
       "      <td>pst.000067016303</td>\n",
       "      <td>Falconer, Lanoe</td>\n",
       "      <td>Falconer, Lanoe</td>\n",
       "      <td>1848-1908.</td>\n",
       "      <td>2010</td>\n",
       "      <td>1908</td>\n",
       "      <td>s</td>\n",
       "      <td>2010</td>\n",
       "      <td></td>\n",
       "      <td>Bethesda|Academica Press|c2010.</td>\n",
       "      <td>...</td>\n",
       "      <td>1</td>\n",
       "      <td>1</td>\n",
       "      <td>1</td>\n",
       "      <td>NaN</td>\n",
       "      <td>NaN</td>\n",
       "      <td>The collected stories of Lanoe Falconer / | $c...</td>\n",
       "      <td>NaN</td>\n",
       "      <td>False</td>\n",
       "      <td>The collected stories of Lanoe Falconer</td>\n",
       "      <td>pst.000067016303</td>\n",
       "    </tr>\n",
       "    <tr>\n",
       "      <th>138115</th>\n",
       "      <td>mdp.39076002877624</td>\n",
       "      <td>Fevre, Ralph</td>\n",
       "      <td>Fevre, Ralph</td>\n",
       "      <td>1955-</td>\n",
       "      <td>2010</td>\n",
       "      <td>2010</td>\n",
       "      <td>s</td>\n",
       "      <td>2010</td>\n",
       "      <td></td>\n",
       "      <td>Basingstoke [England|New York|Palgrave Macmill...</td>\n",
       "      <td>...</td>\n",
       "      <td>1</td>\n",
       "      <td>1</td>\n",
       "      <td>1</td>\n",
       "      <td>NaN</td>\n",
       "      <td>NaN</td>\n",
       "      <td>Dead white men and other important people : | ...</td>\n",
       "      <td>NaN</td>\n",
       "      <td>True</td>\n",
       "      <td>Dead white men and other important people : so...</td>\n",
       "      <td>mdp.39076002877624</td>\n",
       "    </tr>\n",
       "    <tr>\n",
       "      <th>138116</th>\n",
       "      <td>mdp.39015087049980</td>\n",
       "      <td>NaN</td>\n",
       "      <td>NaN</td>\n",
       "      <td>NaN</td>\n",
       "      <td>2010</td>\n",
       "      <td>2010</td>\n",
       "      <td>s</td>\n",
       "      <td>2010</td>\n",
       "      <td></td>\n",
       "      <td>Ann Arbor, Mich.|Scholars' Facsimiles &amp; Reprin...</td>\n",
       "      <td>...</td>\n",
       "      <td>1</td>\n",
       "      <td>1</td>\n",
       "      <td>1</td>\n",
       "      <td>NaN</td>\n",
       "      <td>NaN</td>\n",
       "      <td>The first female detectives : | The female det...</td>\n",
       "      <td>NaN</td>\n",
       "      <td>True</td>\n",
       "      <td>The first female detectives : The female detec...</td>\n",
       "      <td>mdp.39015087049980</td>\n",
       "    </tr>\n",
       "    <tr>\n",
       "      <th>138117</th>\n",
       "      <td>mdp.39076002964257</td>\n",
       "      <td>Gordon, Jaimy</td>\n",
       "      <td>Gordon, Jaimy</td>\n",
       "      <td>1944-</td>\n",
       "      <td>2010</td>\n",
       "      <td>2010</td>\n",
       "      <td>s</td>\n",
       "      <td>2010</td>\n",
       "      <td></td>\n",
       "      <td>Kingston, N.Y.|McPherson &amp; Co.|c2010.</td>\n",
       "      <td>...</td>\n",
       "      <td>1</td>\n",
       "      <td>1</td>\n",
       "      <td>1</td>\n",
       "      <td>NaN</td>\n",
       "      <td>NaN</td>\n",
       "      <td>Lord of misrule : | a novel / | $c: by Jaimy G...</td>\n",
       "      <td>NaN</td>\n",
       "      <td>True</td>\n",
       "      <td>Lord of misrule : a novel</td>\n",
       "      <td>mdp.39076002964257</td>\n",
       "    </tr>\n",
       "    <tr>\n",
       "      <th>138118</th>\n",
       "      <td>pst.000067890415</td>\n",
       "      <td>Bukowski, Charles</td>\n",
       "      <td>Bukowski, Charles</td>\n",
       "      <td>NaN</td>\n",
       "      <td>2010</td>\n",
       "      <td>2010</td>\n",
       "      <td>s</td>\n",
       "      <td>2010</td>\n",
       "      <td></td>\n",
       "      <td>San Francisco|City Lights|c2010.</td>\n",
       "      <td>...</td>\n",
       "      <td>1</td>\n",
       "      <td>1</td>\n",
       "      <td>1</td>\n",
       "      <td>NaN</td>\n",
       "      <td>NaN</td>\n",
       "      <td>Absence of the hero : | uncollected stories an...</td>\n",
       "      <td>NaN</td>\n",
       "      <td>True</td>\n",
       "      <td>Absence of the hero : uncollected stories and ...</td>\n",
       "      <td>pst.000067890415</td>\n",
       "    </tr>\n",
       "    <tr>\n",
       "      <th>138119</th>\n",
       "      <td>pst.000067809509</td>\n",
       "      <td>Pitts, J. A</td>\n",
       "      <td>Pitts, J. A</td>\n",
       "      <td>NaN</td>\n",
       "      <td>2010</td>\n",
       "      <td>2010</td>\n",
       "      <td>s</td>\n",
       "      <td>2010</td>\n",
       "      <td></td>\n",
       "      <td>New York|Tor|2010.</td>\n",
       "      <td>...</td>\n",
       "      <td>1</td>\n",
       "      <td>1</td>\n",
       "      <td>1</td>\n",
       "      <td>NaN</td>\n",
       "      <td>NaN</td>\n",
       "      <td>Black blade blues / | $c: J.A. Pitts.</td>\n",
       "      <td>NaN</td>\n",
       "      <td>True</td>\n",
       "      <td>Black blade blues</td>\n",
       "      <td>pst.000067809509</td>\n",
       "    </tr>\n",
       "    <tr>\n",
       "      <th>138120</th>\n",
       "      <td>pst.000068100971</td>\n",
       "      <td>NaN</td>\n",
       "      <td>NaN</td>\n",
       "      <td>NaN</td>\n",
       "      <td>2010</td>\n",
       "      <td>2010</td>\n",
       "      <td>s</td>\n",
       "      <td>2010</td>\n",
       "      <td></td>\n",
       "      <td>Berkeley, CA|Ulysses Press|c2010.</td>\n",
       "      <td>...</td>\n",
       "      <td>1</td>\n",
       "      <td>1</td>\n",
       "      <td>1</td>\n",
       "      <td>NaN</td>\n",
       "      <td>NaN</td>\n",
       "      <td>The dead that walk : | zombie stories / | $c: ...</td>\n",
       "      <td>NaN</td>\n",
       "      <td>True</td>\n",
       "      <td>The dead that walk : zombie stories</td>\n",
       "      <td>pst.000068100971</td>\n",
       "    </tr>\n",
       "    <tr>\n",
       "      <th>138121</th>\n",
       "      <td>pst.000067844821</td>\n",
       "      <td>Dosa, David</td>\n",
       "      <td>Dosa, David</td>\n",
       "      <td>NaN</td>\n",
       "      <td>2010</td>\n",
       "      <td>2010</td>\n",
       "      <td>s</td>\n",
       "      <td>2010</td>\n",
       "      <td></td>\n",
       "      <td>New York|Hyperion|c2010.</td>\n",
       "      <td>...</td>\n",
       "      <td>1</td>\n",
       "      <td>1</td>\n",
       "      <td>1</td>\n",
       "      <td>NaN</td>\n",
       "      <td>NaN</td>\n",
       "      <td>Making rounds with Oscar : | the extraordinary...</td>\n",
       "      <td>NaN</td>\n",
       "      <td>True</td>\n",
       "      <td>Making rounds with Oscar : the extraordinary g...</td>\n",
       "      <td>pst.000067844821</td>\n",
       "    </tr>\n",
       "    <tr>\n",
       "      <th>138122</th>\n",
       "      <td>pst.000068289799</td>\n",
       "      <td>Atta, Sefi</td>\n",
       "      <td>Atta, Sefi</td>\n",
       "      <td>NaN</td>\n",
       "      <td>2010</td>\n",
       "      <td>2010</td>\n",
       "      <td>s</td>\n",
       "      <td>2010</td>\n",
       "      <td></td>\n",
       "      <td>Northampton, Mass.|Interlink Books|2010.</td>\n",
       "      <td>...</td>\n",
       "      <td>1</td>\n",
       "      <td>1</td>\n",
       "      <td>1</td>\n",
       "      <td>NaN</td>\n",
       "      <td>NaN</td>\n",
       "      <td>News from home : | stories / | $c: Sefi Atta.</td>\n",
       "      <td>NaN</td>\n",
       "      <td>True</td>\n",
       "      <td>News from home : stories</td>\n",
       "      <td>pst.000068289799</td>\n",
       "    </tr>\n",
       "    <tr>\n",
       "      <th>138123</th>\n",
       "      <td>mdp.39076002873672</td>\n",
       "      <td>Hacikyan, A. J. (Agop Jack)</td>\n",
       "      <td>Hacikyan, A. J. (Agop Jack)</td>\n",
       "      <td>1931-</td>\n",
       "      <td>2010</td>\n",
       "      <td>2010</td>\n",
       "      <td>s</td>\n",
       "      <td>2010</td>\n",
       "      <td></td>\n",
       "      <td>Northampton, Mass.|Interlink Books|2010.</td>\n",
       "      <td>...</td>\n",
       "      <td>1</td>\n",
       "      <td>1</td>\n",
       "      <td>1</td>\n",
       "      <td>NaN</td>\n",
       "      <td>NaN</td>\n",
       "      <td>A summer without dawn / | $c: Agop J. Hacikyan...</td>\n",
       "      <td>NaN</td>\n",
       "      <td>True</td>\n",
       "      <td>A summer without dawn</td>\n",
       "      <td>mdp.39076002873672</td>\n",
       "    </tr>\n",
       "    <tr>\n",
       "      <th>138124</th>\n",
       "      <td>usu.39060017689927</td>\n",
       "      <td>Martin, S. R (Sennie Rudolph)</td>\n",
       "      <td>Martin, S. R (Sennie Rudolph)</td>\n",
       "      <td>1935-</td>\n",
       "      <td>2010</td>\n",
       "      <td>2010</td>\n",
       "      <td>s</td>\n",
       "      <td>2010</td>\n",
       "      <td></td>\n",
       "      <td>Logan, UT|Utah State University Press|2010.</td>\n",
       "      <td>...</td>\n",
       "      <td>1</td>\n",
       "      <td>1</td>\n",
       "      <td>1</td>\n",
       "      <td>NaN</td>\n",
       "      <td>NaN</td>\n",
       "      <td>Natural-born proud : | a revery / | $c: S.R. M...</td>\n",
       "      <td>NaN</td>\n",
       "      <td>True</td>\n",
       "      <td>Natural-born proud : a revery</td>\n",
       "      <td>usu.39060017689927</td>\n",
       "    </tr>\n",
       "    <tr>\n",
       "      <th>138125</th>\n",
       "      <td>inu.30000127741159</td>\n",
       "      <td>Enev, Dei͡an</td>\n",
       "      <td>Enev, Dei͡an</td>\n",
       "      <td>1960-</td>\n",
       "      <td>2010</td>\n",
       "      <td>2010</td>\n",
       "      <td>t</td>\n",
       "      <td>2010</td>\n",
       "      <td>2010</td>\n",
       "      <td>London|Portobello Books|2010, ©2010.</td>\n",
       "      <td>...</td>\n",
       "      <td>1</td>\n",
       "      <td>1</td>\n",
       "      <td>1</td>\n",
       "      <td>NaN</td>\n",
       "      <td>NaN</td>\n",
       "      <td>Circus Bulgaria / | $c: Deyan Enev ; translate...</td>\n",
       "      <td>NaN</td>\n",
       "      <td>True</td>\n",
       "      <td>Circus Bulgaria</td>\n",
       "      <td>inu.30000127741159</td>\n",
       "    </tr>\n",
       "    <tr>\n",
       "      <th>138126</th>\n",
       "      <td>inu.30000127026270</td>\n",
       "      <td>Krysov, Vasiliy</td>\n",
       "      <td>Krysov, Vasiliy</td>\n",
       "      <td>NaN</td>\n",
       "      <td>2010</td>\n",
       "      <td>2010</td>\n",
       "      <td>s</td>\n",
       "      <td>2010</td>\n",
       "      <td></td>\n",
       "      <td>Barnsley|Pen &amp; Sword Military|2010.</td>\n",
       "      <td>...</td>\n",
       "      <td>1</td>\n",
       "      <td>1</td>\n",
       "      <td>1</td>\n",
       "      <td>NaN</td>\n",
       "      <td>NaN</td>\n",
       "      <td>Panzer destroyer : | memoirs of a Red Army tan...</td>\n",
       "      <td>NaN</td>\n",
       "      <td>True</td>\n",
       "      <td>Panzer destroyer : memoirs of a Red Army tank ...</td>\n",
       "      <td>inu.30000127026270</td>\n",
       "    </tr>\n",
       "    <tr>\n",
       "      <th>138127</th>\n",
       "      <td>mdp.39015090475339</td>\n",
       "      <td>Zaidan, Jurji</td>\n",
       "      <td>Zaidan, Jurji</td>\n",
       "      <td>NaN</td>\n",
       "      <td>2010</td>\n",
       "      <td>1906</td>\n",
       "      <td>r</td>\n",
       "      <td>2010</td>\n",
       "      <td>1906</td>\n",
       "      <td>Bethesda, MD|Zaidan Foundation|2010.</td>\n",
       "      <td>...</td>\n",
       "      <td>1</td>\n",
       "      <td>1</td>\n",
       "      <td>1</td>\n",
       "      <td>NaN</td>\n",
       "      <td>NaN</td>\n",
       "      <td>The caliph's sister : | Harun al-Rashid and th...</td>\n",
       "      <td>NaN</td>\n",
       "      <td>False</td>\n",
       "      <td>The caliph's sister : Harun al-Rashid and the ...</td>\n",
       "      <td>mdp.39015090475339</td>\n",
       "    </tr>\n",
       "    <tr>\n",
       "      <th>138128</th>\n",
       "      <td>pst.000067599691</td>\n",
       "      <td>May, Peter</td>\n",
       "      <td>May, Peter</td>\n",
       "      <td>1951-</td>\n",
       "      <td>2010</td>\n",
       "      <td>2010</td>\n",
       "      <td>s</td>\n",
       "      <td>2010</td>\n",
       "      <td></td>\n",
       "      <td>Scottsdale, AZ|Poisoned Pen Press|2010.</td>\n",
       "      <td>...</td>\n",
       "      <td>1</td>\n",
       "      <td>1</td>\n",
       "      <td>1</td>\n",
       "      <td>NaN</td>\n",
       "      <td>NaN</td>\n",
       "      <td>Virtually dead / | $c: Peter May.</td>\n",
       "      <td>NaN</td>\n",
       "      <td>True</td>\n",
       "      <td>Virtually dead</td>\n",
       "      <td>pst.000067599691</td>\n",
       "    </tr>\n",
       "    <tr>\n",
       "      <th>138129</th>\n",
       "      <td>pst.000068314842</td>\n",
       "      <td>NaN</td>\n",
       "      <td>NaN</td>\n",
       "      <td>NaN</td>\n",
       "      <td>2010</td>\n",
       "      <td>2010</td>\n",
       "      <td>s</td>\n",
       "      <td>2010</td>\n",
       "      <td></td>\n",
       "      <td>Edmond, Okla.|Gondwana Press|c2010.</td>\n",
       "      <td>...</td>\n",
       "      <td>1</td>\n",
       "      <td>1</td>\n",
       "      <td>1</td>\n",
       "      <td>NaN</td>\n",
       "      <td>NaN</td>\n",
       "      <td>Lost on Route 66 : | tales from the Mother Roa...</td>\n",
       "      <td>NaN</td>\n",
       "      <td>True</td>\n",
       "      <td>Lost on Route 66 : tales from the Mother Road</td>\n",
       "      <td>pst.000068314842</td>\n",
       "    </tr>\n",
       "    <tr>\n",
       "      <th>138130</th>\n",
       "      <td>pst.000068304621</td>\n",
       "      <td>Bear, Elizabeth</td>\n",
       "      <td>Bear, Elizabeth</td>\n",
       "      <td>NaN</td>\n",
       "      <td>2010</td>\n",
       "      <td>2010</td>\n",
       "      <td>s</td>\n",
       "      <td>2010</td>\n",
       "      <td></td>\n",
       "      <td>Burton, MI|Subterranean Press|2010.</td>\n",
       "      <td>...</td>\n",
       "      <td>1</td>\n",
       "      <td>1</td>\n",
       "      <td>1</td>\n",
       "      <td>NaN</td>\n",
       "      <td>NaN</td>\n",
       "      <td>Bone and jewel creatures / | $c: Elizabeth Bear.</td>\n",
       "      <td>NaN</td>\n",
       "      <td>True</td>\n",
       "      <td>Bone and jewel creatures</td>\n",
       "      <td>pst.000068304621</td>\n",
       "    </tr>\n",
       "    <tr>\n",
       "      <th>138131</th>\n",
       "      <td>pst.000067832682</td>\n",
       "      <td>NaN</td>\n",
       "      <td>NaN</td>\n",
       "      <td>NaN</td>\n",
       "      <td>2010</td>\n",
       "      <td>2010</td>\n",
       "      <td>s</td>\n",
       "      <td>2010</td>\n",
       "      <td></td>\n",
       "      <td>Dinas Powys, Wales|Honno|c2010.</td>\n",
       "      <td>...</td>\n",
       "      <td>1</td>\n",
       "      <td>1</td>\n",
       "      <td>1</td>\n",
       "      <td>NaN</td>\n",
       "      <td>NaN</td>\n",
       "      <td>Cut on the bias : | stories about women and th...</td>\n",
       "      <td>NaN</td>\n",
       "      <td>True</td>\n",
       "      <td>Cut on the bias : stories about women and the ...</td>\n",
       "      <td>pst.000067832682</td>\n",
       "    </tr>\n",
       "    <tr>\n",
       "      <th>138132</th>\n",
       "      <td>umn.31951d030369342</td>\n",
       "      <td>NaN</td>\n",
       "      <td>NaN</td>\n",
       "      <td>NaN</td>\n",
       "      <td>2010</td>\n",
       "      <td>1918</td>\n",
       "      <td>r</td>\n",
       "      <td>2010</td>\n",
       "      <td>1918</td>\n",
       "      <td>Ann Arbor|University Of Michigan Library|2010.</td>\n",
       "      <td>...</td>\n",
       "      <td>1</td>\n",
       "      <td>1</td>\n",
       "      <td>1</td>\n",
       "      <td>NaN</td>\n",
       "      <td>NaN</td>\n",
       "      <td>Six plays of the yiddish theatre / | $c: [tran...</td>\n",
       "      <td>NaN</td>\n",
       "      <td>False</td>\n",
       "      <td>Six plays of the yiddish theatre</td>\n",
       "      <td>umn.31951d030369342</td>\n",
       "    </tr>\n",
       "    <tr>\n",
       "      <th>138133</th>\n",
       "      <td>mdp.39076002906829</td>\n",
       "      <td>Wison, Steven E. (Steven Eugene)</td>\n",
       "      <td>Wison, Steven E. (Steven Eugene)</td>\n",
       "      <td>1951-</td>\n",
       "      <td>2011</td>\n",
       "      <td>2011</td>\n",
       "      <td>s</td>\n",
       "      <td>2011</td>\n",
       "      <td></td>\n",
       "      <td>Cleveland, Ohio|H-G Books|c2011.</td>\n",
       "      <td>...</td>\n",
       "      <td>1</td>\n",
       "      <td>1</td>\n",
       "      <td>1</td>\n",
       "      <td>NaN</td>\n",
       "      <td>NaN</td>\n",
       "      <td>The ghosts of Anatolia : | an epic journey to ...</td>\n",
       "      <td>NaN</td>\n",
       "      <td>True</td>\n",
       "      <td>The ghosts of Anatolia : an epic journey to fo...</td>\n",
       "      <td>mdp.39076002906829</td>\n",
       "    </tr>\n",
       "    <tr>\n",
       "      <th>138134</th>\n",
       "      <td>inu.30000127716409</td>\n",
       "      <td>Jeon, Heecheon</td>\n",
       "      <td>Jeon, Heecheon</td>\n",
       "      <td>NaN</td>\n",
       "      <td>2011</td>\n",
       "      <td>2011</td>\n",
       "      <td>s</td>\n",
       "      <td>2011</td>\n",
       "      <td></td>\n",
       "      <td>New York|Peter Lang|c2011.</td>\n",
       "      <td>...</td>\n",
       "      <td>1</td>\n",
       "      <td>1</td>\n",
       "      <td>1</td>\n",
       "      <td>NaN</td>\n",
       "      <td>NaN</td>\n",
       "      <td>Subjectivity of différance : | a poiesis of de...</td>\n",
       "      <td>NaN</td>\n",
       "      <td>True</td>\n",
       "      <td>Subjectivity of différance : a poiesis of deco...</td>\n",
       "      <td>inu.30000127716409</td>\n",
       "    </tr>\n",
       "    <tr>\n",
       "      <th>138135</th>\n",
       "      <td>ien.35556042103887</td>\n",
       "      <td>Wells, H. G. (Herbert George)</td>\n",
       "      <td>Wells, H. G. (Herbert George)</td>\n",
       "      <td>1866-1946.</td>\n",
       "      <td>2011</td>\n",
       "      <td>1901</td>\n",
       "      <td>r</td>\n",
       "      <td>2011</td>\n",
       "      <td>1901</td>\n",
       "      <td>La Vergne, TN|Nabu Public Domain Reprints|2011?].</td>\n",
       "      <td>...</td>\n",
       "      <td>1</td>\n",
       "      <td>1</td>\n",
       "      <td>1</td>\n",
       "      <td>NaN</td>\n",
       "      <td>NaN</td>\n",
       "      <td>Certain personal matters / | $c: by H. G. Wells.</td>\n",
       "      <td>NaN</td>\n",
       "      <td>False</td>\n",
       "      <td>Certain personal matters</td>\n",
       "      <td>ien.35556042103887</td>\n",
       "    </tr>\n",
       "    <tr>\n",
       "      <th>138136</th>\n",
       "      <td>mdp.39015092163339</td>\n",
       "      <td>Davis, John A</td>\n",
       "      <td>Davis, John A</td>\n",
       "      <td>d.1897.</td>\n",
       "      <td>2013</td>\n",
       "      <td>1880</td>\n",
       "      <td>r</td>\n",
       "      <td>2013</td>\n",
       "      <td>1880</td>\n",
       "      <td>NaN</td>\n",
       "      <td>...</td>\n",
       "      <td>1</td>\n",
       "      <td>1</td>\n",
       "      <td>1</td>\n",
       "      <td>v.4</td>\n",
       "      <td>4.0</td>\n",
       "      <td>Qing guo nu li : | fu ren Zhongguo fu nü sheng...</td>\n",
       "      <td>NaN</td>\n",
       "      <td>False</td>\n",
       "      <td>Qing guo nu li : fu ren Zhongguo fu nü sheng h...</td>\n",
       "      <td>mdp.39015092163339</td>\n",
       "    </tr>\n",
       "  </tbody>\n",
       "</table>\n",
       "<p>138137 rows × 29 columns</p>\n",
       "</div>"
      ],
      "text/plain": [
       "                      docid                            oldauthor  \\\n",
       "0        mdp.39015031913893                 Spencer, Louise Reid   \n",
       "1        mdp.39015003936864                      Baker, Robert H   \n",
       "2        mdp.39015068342305                     Dickens, Charles   \n",
       "3        mdp.39015055066586                      Stretton, Hesba   \n",
       "4        mdp.39015055066594                       Stretton,Hesba   \n",
       "5        mdp.39015063543394                          Lyall, Edna   \n",
       "6        mdp.39015059414725                     McKenna, Stephen   \n",
       "7        mdp.39015063920006      Haggard, H. Rider (Henry Rider)   \n",
       "8        mdp.39015035876971                         Malet, Lucas   \n",
       "9        mdp.39015010208315              Caffyn, Mannington, Mrs   \n",
       "10       mdp.39015063549854                           Dane, Joan   \n",
       "11              uc1.$b69324                       Catlin, George   \n",
       "12             uc1.b3451041                Enriquez, Mig Alvarez   \n",
       "13       mdp.39015063933132             Lawrence, Charles Edward   \n",
       "14       mdp.39015063945813                           Lee, Holme   \n",
       "15       mdp.39015063542487                 Bradley, Edward, Rev   \n",
       "16       mdp.39015031235263                 Hawthorne, Nathaniel   \n",
       "17       mdp.39015019204547                   Irving, Washington   \n",
       "18       mdp.39015067177587                Jones, Susan Carleton   \n",
       "19       mdp.39015049809208  Lytton, Edward Bulwer Lytton, Baron   \n",
       "20       mdp.39015008721394                    Campbell, Michael   \n",
       "21       mdp.39015063548997                         Glyn, Elinor   \n",
       "22       mdp.39015063918372                Fenn, George Manville   \n",
       "23       mdp.39015063521184                      Alcock, Deborah   \n",
       "24       mdp.39015065157607      Sellassie, Berhane Mariam Sahle   \n",
       "25       mdp.39015008280904      Andersen, H. C (Hans Christian)   \n",
       "26       mdp.39015067298763                       Kessel, Joseph   \n",
       "27       mdp.39015065802277                       Ohnet, Georges   \n",
       "28       coo.31924027270119                                  NaN   \n",
       "29       mdp.39015061285808                        Eliot, George   \n",
       "...                     ...                                  ...   \n",
       "138107     pst.000067591329                           Hall, Rich   \n",
       "138108     pst.000067168613                    Bacigalupi, Paolo   \n",
       "138109     pst.000066834076                          Tyler, Anne   \n",
       "138110   mdp.39015078813063                      Kureishi, Hanif   \n",
       "138111  umn.31951d03149712s  Wodehouse, P. G. (Pelham Grenville)   \n",
       "138112   mdp.39015080826830                                  NaN   \n",
       "138113   mdp.39015084272098               Stowe, Harriet Beecher   \n",
       "138114     pst.000067016303                      Falconer, Lanoe   \n",
       "138115   mdp.39076002877624                         Fevre, Ralph   \n",
       "138116   mdp.39015087049980                                  NaN   \n",
       "138117   mdp.39076002964257                        Gordon, Jaimy   \n",
       "138118     pst.000067890415                    Bukowski, Charles   \n",
       "138119     pst.000067809509                          Pitts, J. A   \n",
       "138120     pst.000068100971                                  NaN   \n",
       "138121     pst.000067844821                          Dosa, David   \n",
       "138122     pst.000068289799                           Atta, Sefi   \n",
       "138123   mdp.39076002873672          Hacikyan, A. J. (Agop Jack)   \n",
       "138124   usu.39060017689927        Martin, S. R (Sennie Rudolph)   \n",
       "138125   inu.30000127741159                         Enev, Dei͡an   \n",
       "138126   inu.30000127026270                      Krysov, Vasiliy   \n",
       "138127   mdp.39015090475339                        Zaidan, Jurji   \n",
       "138128     pst.000067599691                           May, Peter   \n",
       "138129     pst.000068314842                                  NaN   \n",
       "138130     pst.000068304621                      Bear, Elizabeth   \n",
       "138131     pst.000067832682                                  NaN   \n",
       "138132  umn.31951d030369342                                  NaN   \n",
       "138133   mdp.39076002906829     Wison, Steven E. (Steven Eugene)   \n",
       "138134   inu.30000127716409                       Jeon, Heecheon   \n",
       "138135   ien.35556042103887        Wells, H. G. (Herbert George)   \n",
       "138136   mdp.39015092163339                        Davis, John A   \n",
       "\n",
       "                                      author  authordate  inferreddate  \\\n",
       "0                       Spencer, Louise Reid         NaN             0   \n",
       "1                            Baker, Robert H         NaN             0   \n",
       "2                           Dickens, Charles  1812-1870.             0   \n",
       "3                            Stretton, Hesba  1832-1911.             0   \n",
       "4                            Stretton, Hesba  1832-1911.             0   \n",
       "5                                Lyall, Edna  1857-1903.             0   \n",
       "6                           McKenna, Stephen  1888-1967.             0   \n",
       "7            Haggard, H. Rider (Henry Rider)  1856-1925.             0   \n",
       "8                               Malet, Lucas  1852-1931.             0   \n",
       "9                    Caffyn, Mannington, Mrs         NaN             0   \n",
       "10                                Dane, Joan         NaN             0   \n",
       "11                            Catlin, George  1796-1872.             0   \n",
       "12                     Enriquez, Mig Alvarez         NaN             0   \n",
       "13                  Lawrence, Charles Edward  1870-1940.             0   \n",
       "14                                Lee, Holme  1828-1900.             0   \n",
       "15                      Bradley, Edward, Rev  1827-1889.             0   \n",
       "16                      Hawthorne, Nathaniel  1804-1864.             0   \n",
       "17                        Irving, Washington  1783-1859.             0   \n",
       "18                     Jones, Susan Carleton       1869-             0   \n",
       "19       Lytton, Edward Bulwer Lytton, Baron  1803-1873.             0   \n",
       "20                         Campbell, Michael       1924-             0   \n",
       "21                              Glyn, Elinor  1864-1943.             0   \n",
       "22                     Fenn, George Manville  1831-1909.             0   \n",
       "23                           Alcock, Deborah  1835-1913.             0   \n",
       "24           Sellassie, Berhane Mariam Sahle       1936-             0   \n",
       "25          Andersen, H. C. (Hans Christian)  1805-1875.             0   \n",
       "26                            Kessel, Joseph  1898-1979.             0   \n",
       "27                            Ohnet, Georges  1848-1918.             0   \n",
       "28                                       NaN         NaN             0   \n",
       "29                             Eliot, George  1819-1880.             0   \n",
       "...                                      ...         ...           ...   \n",
       "138107                            Hall, Rich       1954-          2009   \n",
       "138108                     Bacigalupi, Paolo         NaN          2009   \n",
       "138109                           Tyler, Anne         NaN          2009   \n",
       "138110                       Kureishi, Hanif         NaN          2009   \n",
       "138111  Wodehouse, P. G., (Pelham Grenville)  1881-1975.          2009   \n",
       "138112                                   NaN         NaN          2010   \n",
       "138113                Stowe, Harriet Beecher  1811-1896.          2010   \n",
       "138114                       Falconer, Lanoe  1848-1908.          2010   \n",
       "138115                          Fevre, Ralph       1955-          2010   \n",
       "138116                                   NaN         NaN          2010   \n",
       "138117                         Gordon, Jaimy       1944-          2010   \n",
       "138118                     Bukowski, Charles         NaN          2010   \n",
       "138119                           Pitts, J. A         NaN          2010   \n",
       "138120                                   NaN         NaN          2010   \n",
       "138121                           Dosa, David         NaN          2010   \n",
       "138122                            Atta, Sefi         NaN          2010   \n",
       "138123           Hacikyan, A. J. (Agop Jack)       1931-          2010   \n",
       "138124         Martin, S. R (Sennie Rudolph)       1935-          2010   \n",
       "138125                          Enev, Dei͡an       1960-          2010   \n",
       "138126                       Krysov, Vasiliy         NaN          2010   \n",
       "138127                         Zaidan, Jurji         NaN          2010   \n",
       "138128                            May, Peter       1951-          2010   \n",
       "138129                                   NaN         NaN          2010   \n",
       "138130                       Bear, Elizabeth         NaN          2010   \n",
       "138131                                   NaN         NaN          2010   \n",
       "138132                                   NaN         NaN          2010   \n",
       "138133      Wison, Steven E. (Steven Eugene)       1951-          2011   \n",
       "138134                        Jeon, Heecheon         NaN          2011   \n",
       "138135         Wells, H. G. (Herbert George)  1866-1946.          2011   \n",
       "138136                         Davis, John A     d.1897.          2013   \n",
       "\n",
       "        latestcomp datetype startdate enddate  \\\n",
       "0             2100        |      ||||    ||||   \n",
       "1             2100        n                     \n",
       "2             1870        n                     \n",
       "3             1911        n                     \n",
       "4             1911        n                     \n",
       "5             1903        n                     \n",
       "6             1967        n                     \n",
       "7             1925        n                     \n",
       "8             1931        n                     \n",
       "9             2100        n                     \n",
       "10            2100        n                     \n",
       "11            1872        n                     \n",
       "12            2100                              \n",
       "13            1940        n                     \n",
       "14            1900        n                     \n",
       "15            1889        n                     \n",
       "16            1864        n                     \n",
       "17            1859        n                     \n",
       "18            2100        n                     \n",
       "19            1873        n                     \n",
       "20            2100        n                     \n",
       "21            1943        n                     \n",
       "22            1909        n                     \n",
       "23            1913        n                     \n",
       "24            2100        n      ||||           \n",
       "25            1875        |      ||||           \n",
       "26            1979        |      ||||    ||||   \n",
       "27            1918        n      ||||           \n",
       "28            2100        s      19uu           \n",
       "29            1880        n                     \n",
       "...            ...      ...       ...     ...   \n",
       "138107        2009        s      2009           \n",
       "138108        2009        s      2009           \n",
       "138109        2009        s      2009           \n",
       "138110        2008        r      2009    2008   \n",
       "138111        1909        r      2009    1909   \n",
       "138112        2010        s      2010           \n",
       "138113        1852        r      2010    1852   \n",
       "138114        1908        s      2010           \n",
       "138115        2010        s      2010           \n",
       "138116        2010        s      2010           \n",
       "138117        2010        s      2010           \n",
       "138118        2010        s      2010           \n",
       "138119        2010        s      2010           \n",
       "138120        2010        s      2010           \n",
       "138121        2010        s      2010           \n",
       "138122        2010        s      2010           \n",
       "138123        2010        s      2010           \n",
       "138124        2010        s      2010           \n",
       "138125        2010        t      2010    2010   \n",
       "138126        2010        s      2010           \n",
       "138127        1906        r      2010    1906   \n",
       "138128        2010        s      2010           \n",
       "138129        2010        s      2010           \n",
       "138130        2010        s      2010           \n",
       "138131        2010        s      2010           \n",
       "138132        1918        r      2010    1918   \n",
       "138133        2011        s      2011           \n",
       "138134        2011        s      2011           \n",
       "138135        1901        r      2011    1901   \n",
       "138136        1880        r      2013    1880   \n",
       "\n",
       "                                                  imprint  \\\n",
       "0                          Thomas Y. Crowell company|1945   \n",
       "1              Port Washington, N.Y.|Ashley Books|197-?].   \n",
       "2                 New York|The American news company|n.d.   \n",
       "3                          New York|Dodd, Mead & co.|n.d.   \n",
       "4                          New York|Dodd, Mead & co.|n.d.   \n",
       "5                                New York|A. L. Burt|n.d.   \n",
       "6                            London|Hutchinson & co.|n.d.   \n",
       "7                             New York|J. S. Ogilvie|n.d.   \n",
       "8                       New York|T. Y. Crowell & co.|n.d.   \n",
       "9                        New York|Optimus print. co.|n.d.   \n",
       "10                                   London|E. Stock|n.d.   \n",
       "11              London and Edinburgh|Gall and Inglis|n.d.   \n",
       "12                   Quezon City|New Day Publishers|l983.   \n",
       "13                      New York|E. P. Dutton & con.|n.d.   \n",
       "14                   Philadelphia|H. T. Coates & co.|n.d.   \n",
       "15                                            London|n.d.   \n",
       "16           London|New York, [etc.|T. Nelson & sons|n.d.   \n",
       "17                           New York|A. L. Burt co.|n.d.   \n",
       "18                                              n.p.|n.d.   \n",
       "19                    New York|Syndicate trading co.|n.d.   \n",
       "20                                New York|Orion P.|n. d.   \n",
       "21                New York|Boston|H. M. Caldwell co.|n.d.   \n",
       "22      London|New York [etc.|Cassell, Petter, Galpin ...   \n",
       "23                                      London|Unwin|n.d.   \n",
       "24                                                    NaN   \n",
       "25                                                    NaN   \n",
       "26                             New York|Knopf|1962 [c1961   \n",
       "27               New York|G. W. Dillingham company c1910.   \n",
       "28                         Philadelphia|G. W. Jacobs|19--   \n",
       "29                       Boston|Small, Maynard & co.|n.d.   \n",
       "...                                                   ...   \n",
       "138107                                London|Abacus|2009.   \n",
       "138108             San Francisco|Night Shade Books|c2009.   \n",
       "138109           New York|Random House Large Print|c2009.   \n",
       "138110                                 London|Faber|2009.   \n",
       "138111  Place of publication not identified|publisher ...   \n",
       "138112                  Boston|Cheng & Tsui Company|2010.   \n",
       "138113                  New York|W.W. Norton & Co.|c2010.   \n",
       "138114                    Bethesda|Academica Press|c2010.   \n",
       "138115  Basingstoke [England|New York|Palgrave Macmill...   \n",
       "138116  Ann Arbor, Mich.|Scholars' Facsimiles & Reprin...   \n",
       "138117              Kingston, N.Y.|McPherson & Co.|c2010.   \n",
       "138118                   San Francisco|City Lights|c2010.   \n",
       "138119                                 New York|Tor|2010.   \n",
       "138120                  Berkeley, CA|Ulysses Press|c2010.   \n",
       "138121                           New York|Hyperion|c2010.   \n",
       "138122           Northampton, Mass.|Interlink Books|2010.   \n",
       "138123           Northampton, Mass.|Interlink Books|2010.   \n",
       "138124        Logan, UT|Utah State University Press|2010.   \n",
       "138125               London|Portobello Books|2010, ©2010.   \n",
       "138126                Barnsley|Pen & Sword Military|2010.   \n",
       "138127               Bethesda, MD|Zaidan Foundation|2010.   \n",
       "138128            Scottsdale, AZ|Poisoned Pen Press|2010.   \n",
       "138129                Edmond, Okla.|Gondwana Press|c2010.   \n",
       "138130                Burton, MI|Subterranean Press|2010.   \n",
       "138131                    Dinas Powys, Wales|Honno|c2010.   \n",
       "138132     Ann Arbor|University Of Michigan Library|2010.   \n",
       "138133                   Cleveland, Ohio|H-G Books|c2011.   \n",
       "138134                         New York|Peter Lang|c2011.   \n",
       "138135  La Vergne, TN|Nabu Public Domain Reprints|2011?].   \n",
       "138136                                                NaN   \n",
       "\n",
       "               ...          instances allcopiesofwork copiesin25yrs enumcron  \\\n",
       "0              ...                  1               1             1      NaN   \n",
       "1              ...                  1               1             1      NaN   \n",
       "2              ...                  1               1             1      NaN   \n",
       "3              ...                  1               1             1      NaN   \n",
       "4              ...                  1               1             1      NaN   \n",
       "5              ...                  1               1             1      NaN   \n",
       "6              ...                  1               1             1      NaN   \n",
       "7              ...                  1               1             1      NaN   \n",
       "8              ...                  1               1             1      NaN   \n",
       "9              ...                  1               1             1      NaN   \n",
       "10             ...                  1               1             1      NaN   \n",
       "11             ...                  2               2             2      NaN   \n",
       "12             ...                  2               2             2      NaN   \n",
       "13             ...                  1               1             1      NaN   \n",
       "14             ...                  1               1             1      NaN   \n",
       "15             ...                  1               1             1      NaN   \n",
       "16             ...                  1               1             1      NaN   \n",
       "17             ...                  1               1             1      NaN   \n",
       "18             ...                  1               1             1      NaN   \n",
       "19             ...                  1               1             1      NaN   \n",
       "20             ...                  1               1             1      NaN   \n",
       "21             ...                  1               1             1      NaN   \n",
       "22             ...                  1               1             1      NaN   \n",
       "23             ...                  1               1             1      NaN   \n",
       "24             ...                  1               1             1      NaN   \n",
       "25             ...                  1               1             1      NaN   \n",
       "26             ...                  1               1             1      NaN   \n",
       "27             ...                  1               1             1      NaN   \n",
       "28             ...                  1               1             1      NaN   \n",
       "29             ...                  1               1             1      v.1   \n",
       "...            ...                ...             ...           ...      ...   \n",
       "138107         ...                  1               1             1      NaN   \n",
       "138108         ...                  1               1             1      NaN   \n",
       "138109         ...                  1               1             1      NaN   \n",
       "138110         ...                  1               1             1      NaN   \n",
       "138111         ...                  1               1             1      NaN   \n",
       "138112         ...                  1               1             1      NaN   \n",
       "138113         ...                  1               1             1      NaN   \n",
       "138114         ...                  1               1             1      NaN   \n",
       "138115         ...                  1               1             1      NaN   \n",
       "138116         ...                  1               1             1      NaN   \n",
       "138117         ...                  1               1             1      NaN   \n",
       "138118         ...                  1               1             1      NaN   \n",
       "138119         ...                  1               1             1      NaN   \n",
       "138120         ...                  1               1             1      NaN   \n",
       "138121         ...                  1               1             1      NaN   \n",
       "138122         ...                  1               1             1      NaN   \n",
       "138123         ...                  1               1             1      NaN   \n",
       "138124         ...                  1               1             1      NaN   \n",
       "138125         ...                  1               1             1      NaN   \n",
       "138126         ...                  1               1             1      NaN   \n",
       "138127         ...                  1               1             1      NaN   \n",
       "138128         ...                  1               1             1      NaN   \n",
       "138129         ...                  1               1             1      NaN   \n",
       "138130         ...                  1               1             1      NaN   \n",
       "138131         ...                  1               1             1      NaN   \n",
       "138132         ...                  1               1             1      NaN   \n",
       "138133         ...                  1               1             1      NaN   \n",
       "138134         ...                  1               1             1      NaN   \n",
       "138135         ...                  1               1             1      NaN   \n",
       "138136         ...                  1               1             1      v.4   \n",
       "\n",
       "       volnum                                              title  parttitle  \\\n",
       "0         NaN     Guerrilla wife | $c: [by] Louise Reid Spencer.        NaN   \n",
       "1         NaN  The suburbs : | a novel / | $c: by Robert H. B...        NaN   \n",
       "2         NaN  Edwin Drood. | $c: By Charles Dickens. With il...        NaN   \n",
       "3         NaN                   Carola, | $c: by Hesba Stretton.        NaN   \n",
       "4         NaN          In prison & out. | $c: By Hesba Stretton.        NaN   \n",
       "5         NaN   Donovan. | A novel, | $c: by Edna Lyall [pseud.]        NaN   \n",
       "6         NaN  Lady Lilith, | a novel: Beong the first part o...        NaN   \n",
       "7         NaN    Beatrice | [a novel] | $c: by H. Rider Haggard.        NaN   \n",
       "8         NaN  Little Peter: | a Christmas morality for child...        NaN   \n",
       "9         NaN  A yellow aster : | a novel / | $c: by Iota [ps...        NaN   \n",
       "10        NaN  Prince Madog, | discoverer of America; a legen...        NaN   \n",
       "11        NaN  Rambles among the Indians of the Rocky Mountai...        NaN   \n",
       "12        NaN                                   House of images.        NaN   \n",
       "13        NaN   The god in the thicket, | $c: by C. E. Lawrence.        NaN   \n",
       "14        NaN  The vicissitudes of Bessie Fairfax: | a novel,...        NaN   \n",
       "15        NaN                     Happy hours at Wynford Grange.        NaN   \n",
       "16        NaN  The great stone face | & other stories, | $c: ...        NaN   \n",
       "17        NaN  The Alhambra; | tales & sketches of the Moors ...        NaN   \n",
       "18        NaN                                   The lame priest.        NaN   \n",
       "19        NaN     A strange story, | y Sir Edward Bulwer Lytton.        NaN   \n",
       "20        NaN                                       Peter Perry.        NaN   \n",
       "21        NaN        Visits of Elizabeth | $c: [by] Elinor Glyn.        NaN   \n",
       "22        NaN  Adventures of working men. | $c: By G. Manvill...        NaN   \n",
       "23        NaN  The Roman students; | or, on the wings of the ...        NaN   \n",
       "24        NaN     Shinega's village; | scenes of Ethiopian life.        NaN   \n",
       "25        NaN  Andersen's fairy tales; il. by Elizaveth MacKi...        NaN   \n",
       "26        NaN  The road back; | a report on Alcoholics Anonym...        NaN   \n",
       "27        NaN                                      The red flag,        NaN   \n",
       "28        NaN  Aucassin and Nicolette / | $c: [translated by]...        NaN   \n",
       "29        1.0                       The works of George Eliot...        NaN   \n",
       "...       ...                                                ...        ...   \n",
       "138107    NaN            Magnificent bastards / | $c: Rich Hall.        NaN   \n",
       "138108    NaN          The windup girl / | $c: Paolo Bacigalupi.        NaN   \n",
       "138109    NaN  Noah's compass : | a novel / | $c: by Anne Tyler.        NaN   \n",
       "138110    NaN      Something to tell you / | $c: Hanif Kureishi.        NaN   \n",
       "138111    NaN  Leave it to Psmith : | also published as Mike ...        NaN   \n",
       "138112    NaN  Another kind of paradise : | short stories fro...        NaN   \n",
       "138113    NaN  Uncle Tom's cabin : | authoritative text, back...        NaN   \n",
       "138114    NaN  The collected stories of Lanoe Falconer / | $c...        NaN   \n",
       "138115    NaN  Dead white men and other important people : | ...        NaN   \n",
       "138116    NaN  The first female detectives : | The female det...        NaN   \n",
       "138117    NaN  Lord of misrule : | a novel / | $c: by Jaimy G...        NaN   \n",
       "138118    NaN  Absence of the hero : | uncollected stories an...        NaN   \n",
       "138119    NaN              Black blade blues / | $c: J.A. Pitts.        NaN   \n",
       "138120    NaN  The dead that walk : | zombie stories / | $c: ...        NaN   \n",
       "138121    NaN  Making rounds with Oscar : | the extraordinary...        NaN   \n",
       "138122    NaN      News from home : | stories / | $c: Sefi Atta.        NaN   \n",
       "138123    NaN  A summer without dawn / | $c: Agop J. Hacikyan...        NaN   \n",
       "138124    NaN  Natural-born proud : | a revery / | $c: S.R. M...        NaN   \n",
       "138125    NaN  Circus Bulgaria / | $c: Deyan Enev ; translate...        NaN   \n",
       "138126    NaN  Panzer destroyer : | memoirs of a Red Army tan...        NaN   \n",
       "138127    NaN  The caliph's sister : | Harun al-Rashid and th...        NaN   \n",
       "138128    NaN                  Virtually dead / | $c: Peter May.        NaN   \n",
       "138129    NaN  Lost on Route 66 : | tales from the Mother Roa...        NaN   \n",
       "138130    NaN   Bone and jewel creatures / | $c: Elizabeth Bear.        NaN   \n",
       "138131    NaN  Cut on the bias : | stories about women and th...        NaN   \n",
       "138132    NaN  Six plays of the yiddish theatre / | $c: [tran...        NaN   \n",
       "138133    NaN  The ghosts of Anatolia : | an epic journey to ...        NaN   \n",
       "138134    NaN  Subjectivity of différance : | a poiesis of de...        NaN   \n",
       "138135    NaN   Certain personal matters / | $c: by H. G. Wells.        NaN   \n",
       "138136    4.0  Qing guo nu li : | fu ren Zhongguo fu nü sheng...        NaN   \n",
       "\n",
       "       earlyedition                                         shorttitle  \\\n",
       "0              True                                     Guerrilla wife   \n",
       "1              True                              The suburbs : a novel   \n",
       "2              True                                        Edwin Drood   \n",
       "3              True                                             Carola   \n",
       "4              True                                    In prison & out   \n",
       "5              True                                   Donovan. A novel   \n",
       "6              True  Lady Lilith, a novel: Beong the first part of ...   \n",
       "7              True                                 Beatrice [a novel]   \n",
       "8              True  Little Peter: a Christmas morality for childre...   \n",
       "9              True                           A yellow aster : a novel   \n",
       "10             True  Prince Madog, discoverer of America; a legenda...   \n",
       "11             True  Rambles among the Indians of the Rocky Mountai...   \n",
       "12             True                                    House of images   \n",
       "13             True                             The god in the thicket   \n",
       "14             True        The vicissitudes of Bessie Fairfax: a novel   \n",
       "15             True                      Happy hours at Wynford Grange   \n",
       "16             True               The great stone face & other stories   \n",
       "17             True  The Alhambra; tales & sketches of the Moors & ...   \n",
       "18             True                                    The lame priest   \n",
       "19             True        A strange story, y Sir Edward Bulwer Lytton   \n",
       "20             True                                        Peter Perry   \n",
       "21             True                                Visits of Elizabeth   \n",
       "22             True                          Adventures of working men   \n",
       "23             True  The Roman students; or, on the wings of the mo...   \n",
       "24             True        Shinega's village; scenes of Ethiopian life   \n",
       "25             True  Andersen's fairy tales; il. by Elizaveth MacKi...   \n",
       "26             True    The road back; a report on Alcoholics Anonymous   \n",
       "27             True                                       The red flag   \n",
       "28             True                             Aucassin and Nicolette   \n",
       "29             True                          The works of George Eliot   \n",
       "...             ...                                                ...   \n",
       "138107         True                               Magnificent bastards   \n",
       "138108         True                                    The windup girl   \n",
       "138109         True                           Noah's compass : a novel   \n",
       "138110         True                              Something to tell you   \n",
       "138111        False  Leave it to Psmith : also published as Mike an...   \n",
       "138112         True  Another kind of paradise : short stories from ...   \n",
       "138113        False  Uncle Tom's cabin : authoritative text, backgr...   \n",
       "138114        False            The collected stories of Lanoe Falconer   \n",
       "138115         True  Dead white men and other important people : so...   \n",
       "138116         True  The first female detectives : The female detec...   \n",
       "138117         True                          Lord of misrule : a novel   \n",
       "138118         True  Absence of the hero : uncollected stories and ...   \n",
       "138119         True                                  Black blade blues   \n",
       "138120         True                The dead that walk : zombie stories   \n",
       "138121         True  Making rounds with Oscar : the extraordinary g...   \n",
       "138122         True                           News from home : stories   \n",
       "138123         True                              A summer without dawn   \n",
       "138124         True                      Natural-born proud : a revery   \n",
       "138125         True                                    Circus Bulgaria   \n",
       "138126         True  Panzer destroyer : memoirs of a Red Army tank ...   \n",
       "138127        False  The caliph's sister : Harun al-Rashid and the ...   \n",
       "138128         True                                     Virtually dead   \n",
       "138129         True      Lost on Route 66 : tales from the Mother Road   \n",
       "138130         True                           Bone and jewel creatures   \n",
       "138131         True  Cut on the bias : stories about women and the ...   \n",
       "138132        False                   Six plays of the yiddish theatre   \n",
       "138133         True  The ghosts of Anatolia : an epic journey to fo...   \n",
       "138134         True  Subjectivity of différance : a poiesis of deco...   \n",
       "138135        False                           Certain personal matters   \n",
       "138136        False  Qing guo nu li : fu ren Zhongguo fu nü sheng h...   \n",
       "\n",
       "                       htid  \n",
       "0        mdp.39015031913893  \n",
       "1        mdp.39015003936864  \n",
       "2        mdp.39015068342305  \n",
       "3        mdp.39015055066586  \n",
       "4        mdp.39015055066594  \n",
       "5        mdp.39015063543394  \n",
       "6        mdp.39015059414725  \n",
       "7        mdp.39015063920006  \n",
       "8        mdp.39015035876971  \n",
       "9        mdp.39015010208315  \n",
       "10       mdp.39015063549854  \n",
       "11              uc1.$b69324  \n",
       "12             uc1.b3451041  \n",
       "13       mdp.39015063933132  \n",
       "14       mdp.39015063945813  \n",
       "15       mdp.39015063542487  \n",
       "16       mdp.39015031235263  \n",
       "17       mdp.39015019204547  \n",
       "18       mdp.39015067177587  \n",
       "19       mdp.39015049809208  \n",
       "20       mdp.39015008721394  \n",
       "21       mdp.39015063548997  \n",
       "22       mdp.39015063918372  \n",
       "23       mdp.39015063521184  \n",
       "24       mdp.39015065157607  \n",
       "25       mdp.39015008280904  \n",
       "26       mdp.39015067298763  \n",
       "27       mdp.39015065802277  \n",
       "28       coo.31924027270119  \n",
       "29       mdp.39015061285808  \n",
       "...                     ...  \n",
       "138107     pst.000067591329  \n",
       "138108     pst.000067168613  \n",
       "138109     pst.000066834076  \n",
       "138110   mdp.39015078813063  \n",
       "138111  umn.31951d03149712s  \n",
       "138112   mdp.39015080826830  \n",
       "138113   mdp.39015084272098  \n",
       "138114     pst.000067016303  \n",
       "138115   mdp.39076002877624  \n",
       "138116   mdp.39015087049980  \n",
       "138117   mdp.39076002964257  \n",
       "138118     pst.000067890415  \n",
       "138119     pst.000067809509  \n",
       "138120     pst.000068100971  \n",
       "138121     pst.000067844821  \n",
       "138122     pst.000068289799  \n",
       "138123   mdp.39076002873672  \n",
       "138124   usu.39060017689927  \n",
       "138125   inu.30000127741159  \n",
       "138126   inu.30000127026270  \n",
       "138127   mdp.39015090475339  \n",
       "138128     pst.000067599691  \n",
       "138129     pst.000068314842  \n",
       "138130     pst.000068304621  \n",
       "138131     pst.000067832682  \n",
       "138132  umn.31951d030369342  \n",
       "138133   mdp.39076002906829  \n",
       "138134   inu.30000127716409  \n",
       "138135   ien.35556042103887  \n",
       "138136   mdp.39015092163339  \n",
       "\n",
       "[138137 rows x 29 columns]"
      ]
     },
     "execution_count": 5,
     "metadata": {},
     "output_type": "execute_result"
    }
   ],
   "source": [
    "underwood['htid'] = [volid.replace(\"+\",\":\").replace(\"=\", \"/\") for volid in underwood['docid']]\n",
    "underwood"
   ]
  },
  {
   "cell_type": "markdown",
   "metadata": {
    "deletable": true,
    "editable": true
   },
   "source": [
    "Now we make a list of what we're looking for: it is 138137 volumes of English language fiction."
   ]
  },
  {
   "cell_type": "code",
   "execution_count": 6,
   "metadata": {
    "collapsed": false,
    "deletable": true,
    "editable": true
   },
   "outputs": [
    {
     "data": {
      "text/plain": [
       "138137"
      ]
     },
     "execution_count": 6,
     "metadata": {},
     "output_type": "execute_result"
    }
   ],
   "source": [
    "looking_for = set(underwood['htid'])\n",
    "len(looking_for)"
   ]
  },
  {
   "cell_type": "markdown",
   "metadata": {
    "deletable": true,
    "editable": true
   },
   "source": [
    "Now I use the SRP library two build to files; one the existing file to read, and one a new file to write to. I'm not going to use half-precision vectors to store the final outputs; this means we'll be wasting some space at the expense of simplicity for the final output."
   ]
  },
  {
   "cell_type": "code",
   "execution_count": 7,
   "metadata": {
    "collapsed": true,
    "deletable": true,
    "editable": true
   },
   "outputs": [],
   "source": [
    "full_hathi_set = SRP.Vector_file(full_vector_file_location, precision = 2)\n",
    "\n",
    "fiction_set = SRP.Vector_file(new_vector_file_location, dims = full_hathi_set.dims, mode = \"w\")"
   ]
  },
  {
   "cell_type": "markdown",
   "metadata": {
    "deletable": true,
    "editable": true
   },
   "source": [
    "It's pretty easy to iterate through the original file and add new ones, but may take a while: most of the code below just prints updates.\n",
    "\n",
    "Once this is done, we've created an extract of the full Hathi set."
   ]
  },
  {
   "cell_type": "code",
   "execution_count": 8,
   "metadata": {
    "collapsed": false,
    "deletable": true,
    "editable": true
   },
   "outputs": [
    {
     "name": "stdout",
     "output_type": "stream",
     "text": [
      "10000 written out of 138137\n",
      "20000 written out of 138137\n",
      "30000 written out of 138137\n",
      "40000 written out of 138137\n",
      "50000 written out of 138137\n",
      "60000 written out of 138137\n",
      "70000 written out of 138137\n",
      "80000 written out of 138137\n",
      "90000 written out of 138137\n",
      "100000 written out of 138137\n",
      "110000 written out of 138137\n",
      "120000 written out of 138137\n",
      "130000 written out of 138137\n",
      "137150 written out of 138137\n"
     ]
    }
   ],
   "source": [
    "written = 0\n",
    "\n",
    "for (id, row) in full_hathi_set:\n",
    "    if id in looking_for:\n",
    "        fiction_set.add_row(id, row)\n",
    "        written += 1\n",
    "        if written % 10000 == 0:\n",
    "            print (\"{} written out of {}\".format(written, len(looking_for)))\n",
    "# you MUST close files after writing or they will be corrupted.\n",
    "fiction_set.close()\n",
    "print (\"{} written out of {}\".format(written, len(looking_for)))"
   ]
  },
  {
   "cell_type": "markdown",
   "metadata": {
    "deletable": true,
    "editable": true
   },
   "source": [
    "Not every file is matched--about .75% (1000 out of 138,000) have gone missing. But this gives a good enough way to explore the set without even downloading the original EF files."
   ]
  },
  {
   "cell_type": "markdown",
   "metadata": {
    "deletable": true,
    "editable": true
   },
   "source": [
    "# Finding typical fiction\n",
    "\n",
    "Let's do a funny little experiment: finding  typical works of fiction. The first step is to load the fiction set into a matrix we can hold in memory. The `to_matrix` argument of a vector file gives us a dict that has two properties: 'names' (which gives all the identifier codes) and 'matrix' (which represents the full set as a matrix in SRP space."
   ]
  },
  {
   "cell_type": "code",
   "execution_count": 9,
   "metadata": {
    "collapsed": false,
    "deletable": true,
    "editable": true
   },
   "outputs": [],
   "source": [
    "fiction_set = SRP.Vector_file(new_vector_file_location).to_matrix()"
   ]
  },
  {
   "cell_type": "markdown",
   "metadata": {
    "deletable": true,
    "editable": true
   },
   "source": [
    "Now I'll use numpy to normalize the full matrix to unit length. I've gotten in the habit of using Einstein notation for this kind of matrix operation after reading [this great blog post](https://rockt.github.io/2018/04/30/einsum), but all it's really doing is normalizing each row against the L2-norm--that is, making each vector unit length. This means that book length won't affect our clustering."
   ]
  },
  {
   "cell_type": "code",
   "execution_count": 10,
   "metadata": {
    "collapsed": false,
    "deletable": true,
    "editable": true
   },
   "outputs": [],
   "source": [
    "import numpy as np\n",
    "mat = fiction_set['matrix']\n",
    "rownorms = 1 / np.linalg.norm(mat, axis=1)\n",
    "normalized = np.einsum('ij,i->ij', mat, rownorms)"
   ]
  },
  {
   "cell_type": "code",
   "execution_count": 11,
   "metadata": {
    "collapsed": false,
    "deletable": true,
    "editable": true
   },
   "outputs": [],
   "source": [
    "mean = np.mean(normalized, axis=0)\n",
    "# Dot product on unit vectors is cosine similarity.\n",
    "dist_from_mean = np.dot(normalized, mean)\n",
    "top_matches = np.argpartition(-dist_from_mean, 10)[:10]"
   ]
  },
  {
   "cell_type": "markdown",
   "metadata": {
    "deletable": true,
    "editable": true
   },
   "source": [
    "Now, we can look at the typical works of fiction in the Hathi Trust:"
   ]
  },
  {
   "cell_type": "code",
   "execution_count": 12,
   "metadata": {
    "collapsed": false,
    "deletable": true,
    "editable": true
   },
   "outputs": [
    {
     "name": "stdout",
     "output_type": "stream",
     "text": [
      "0.733444333076477 mdp.39015028485996\n",
      "0.7314298152923584 nyp.33433075742001\n",
      "0.7332363724708557 nyp.33433076065550\n",
      "0.7302396297454834 nyp.33433076065568\n",
      "0.7281640768051147 mdp.39015002130204\n",
      "0.7286748290061951 nyp.33433074888904\n",
      "0.728473424911499 wu.89098004476\n",
      "0.7302240133285522 nyp.33433075873269\n",
      "0.7286484241485596 uc1.b3607824\n",
      "0.7281256318092346 mdp.39015068363236\n"
     ]
    }
   ],
   "source": [
    "for m in top_matches:\n",
    "    print(\"{} {}\".format(dist_from_mean[m], fiction_set['names'][m]))\n",
    "    \n"
   ]
  },
  {
   "cell_type": "markdown",
   "metadata": {
    "deletable": true,
    "editable": true
   },
   "source": [
    "Hmm... Ids aren't very helpful. Here's some code to pretty print Hathi documents."
   ]
  },
  {
   "cell_type": "code",
   "execution_count": 231,
   "metadata": {
    "collapsed": false,
    "deletable": true,
    "editable": true
   },
   "outputs": [
    {
     "data": {
      "text/html": [
       "<li><a href=https://babel.hathitrust.org/cgi/pt?id=mdp.39015028485996>b\"Femmes de Sicle : stories from the '90s : women writing at the end of two centuries /\" (1992)</a><br>0.73344433</li>"
      ],
      "text/plain": [
       "<IPython.core.display.HTML object>"
      ]
     },
     "metadata": {},
     "output_type": "display_data"
    },
    {
     "data": {
      "text/html": [
       "<li><a href=https://babel.hathitrust.org/cgi/pt?id=nyp.33433075742001>b'Out of the night.' (1910)</a><br>0.7314298</li>"
      ],
      "text/plain": [
       "<IPython.core.display.HTML object>"
      ]
     },
     "metadata": {},
     "output_type": "display_data"
    },
    {
     "data": {
      "text/html": [
       "<li><a href=https://babel.hathitrust.org/cgi/pt?id=nyp.33433076065550>b'The royal Americans,' (1910)</a><br>0.7332364</li>"
      ],
      "text/plain": [
       "<IPython.core.display.HTML object>"
      ]
     },
     "metadata": {},
     "output_type": "display_data"
    },
    {
     "data": {
      "text/html": [
       "<li><a href=https://babel.hathitrust.org/cgi/pt?id=nyp.33433076065568>b'Edith Bonham /' (1917)</a><br>0.7302396</li>"
      ],
      "text/plain": [
       "<IPython.core.display.HTML object>"
      ]
     },
     "metadata": {},
     "output_type": "display_data"
    },
    {
     "data": {
      "text/html": [
       "<li><a href=https://babel.hathitrust.org/cgi/pt?id=mdp.39015002130204>b'Walk in dread; twelve classic eerie tales.' (1972)</a><br>0.7281641</li>"
      ],
      "text/plain": [
       "<IPython.core.display.HTML object>"
      ]
     },
     "metadata": {},
     "output_type": "display_data"
    },
    {
     "data": {
      "text/html": [
       "<li><a href=https://babel.hathitrust.org/cgi/pt?id=nyp.33433074888904>b\"Dora's defiance.\" (1894)</a><br>0.7286748</li>"
      ],
      "text/plain": [
       "<IPython.core.display.HTML object>"
      ]
     },
     "metadata": {},
     "output_type": "display_data"
    },
    {
     "data": {
      "text/html": [
       "<li><a href=https://babel.hathitrust.org/cgi/pt?id=wu.89098004476>b'The strongest master /' (1902)</a><br>0.7284734</li>"
      ],
      "text/plain": [
       "<IPython.core.display.HTML object>"
      ]
     },
     "metadata": {},
     "output_type": "display_data"
    },
    {
     "data": {
      "text/html": [
       "<li><a href=https://babel.hathitrust.org/cgi/pt?id=nyp.33433075873269>b'The Blackberry pickers /' (1912)</a><br>0.730224</li>"
      ],
      "text/plain": [
       "<IPython.core.display.HTML object>"
      ]
     },
     "metadata": {},
     "output_type": "display_data"
    },
    {
     "data": {
      "text/html": [
       "<li><a href=https://babel.hathitrust.org/cgi/pt?id=uc1.b3607824>b'Stories from the Literary review.' (1969)</a><br>0.7286484</li>"
      ],
      "text/plain": [
       "<IPython.core.display.HTML object>"
      ]
     },
     "metadata": {},
     "output_type": "display_data"
    },
    {
     "data": {
      "text/html": [
       "<li><a href=https://babel.hathitrust.org/cgi/pt?id=mdp.39015068363236>b'The Famous story magazine;' (1925)</a><br>0.72812563</li>"
      ],
      "text/plain": [
       "<IPython.core.display.HTML object>"
      ]
     },
     "metadata": {},
     "output_type": "display_data"
    }
   ],
   "source": [
    "from urllib.request import urlopen\n",
    "import ujson as json\n",
    "from IPython.display import display, HTML\n",
    "\n",
    "#hathi_cache = {}\n",
    "\n",
    "def jsonify(id, force = False):\n",
    "    global hathi_cache\n",
    "    if id in hathi_cache and not force:\n",
    "        return hathi_cache[id]\n",
    "    sons = urlopen(\"http://catalog.hathitrust.org/api/volumes/brief/htid/%s.json\" % id.replace(\"+\",\":\").replace(\"=\",\"/\")).read()\n",
    "    hathi_cache[id] = json.loads(sons.decode())\n",
    "    return hathi_cache[id]\n",
    "\n",
    "def descend(record):\n",
    "    # Parse a hathi API call response.\n",
    "    a = record['records']\n",
    "    return a[list(a.keys())[0]]\n",
    "\n",
    "class Printable_Hathi():\n",
    "    def __init__(self, htid, text):\n",
    "        self.htid = htid\n",
    "        self.desc = descend(jsonify(htid))\n",
    "        self.text = text\n",
    "        \n",
    "    def _repr_html_(self):\n",
    "        self.desc['url'] = u\"https://babel.hathitrust.org/cgi/pt?id=\" + self.htid\n",
    "        output_string = \"<li><a href={}>{} ({})</a><br>{}</li>\".format(\n",
    "                self.desc['url'],self.desc['titles'][0].encode(\"ascii\",\"ignore\"), self.desc['publishDates'][0], self.text)\n",
    "        return output_string\n",
    "    \n",
    "    def title(self):\n",
    "        return self.desc['title']\n",
    "    \n",
    "for m in top_matches:\n",
    "    display(HTML(Printable_Hathi(fiction_set['names'][m], str(dist_from_mean[m]))._repr_html_()))\n",
    "    \n"
   ]
  },
  {
   "cell_type": "markdown",
   "metadata": {
    "collapsed": false,
    "deletable": true,
    "editable": true
   },
   "source": [
    "# K-means clustering of fiction\n",
    "\n",
    "The overall most typical fiction isn't interesting. But it's easy to use any standard matrix operations\n",
    "on this space to start to delve into things like genre.\n",
    "\n",
    "For example: we can use kmeans clustering to create 30 groups of books, and then look at the books closest the the centers of each of them. Since we're normalizing to the unit sphere, I use spherical k-means; using regular k-means can produce strange effects."
   ]
  },
  {
   "cell_type": "code",
   "execution_count": null,
   "metadata": {
    "collapsed": true
   },
   "outputs": [],
   "source": [
    "from spherecluster import SphericalKMeans\n",
    "\n",
    "skm = SphericalKMeans(n_clusters=35, random_state = 1, verbose = 1)\n",
    "skm.fit(normalized)\n"
   ]
  },
  {
   "cell_type": "markdown",
   "metadata": {
    "deletable": true,
    "editable": true
   },
   "source": [
    "# Demonstration clusters\n",
    "\n",
    "Some of these clusters are nonsense. But some are pretty good! Rather than look at the middle of the cluster, I'll randomly pull five-ten books from each cluster and see if they make sense."
   ]
  },
  {
   "cell_type": "code",
   "execution_count": 235,
   "metadata": {
    "collapsed": false,
    "deletable": true,
    "editable": true
   },
   "outputs": [
    {
     "data": {
      "text/html": [
       "<li><a href=https://babel.hathitrust.org/cgi/pt?id=mdp.39015038102524>b'Collected short stories /' (1996)</a><br></li>"
      ],
      "text/plain": [
       "<__main__.Printable_Hathi at 0x7f08c5b345c0>"
      ]
     },
     "metadata": {},
     "output_type": "display_data"
    },
    {
     "data": {
      "text/html": [
       "<li><a href=https://babel.hathitrust.org/cgi/pt?id=uc1.b4376073>b'An American omnibus.' (1933)</a><br></li>"
      ],
      "text/plain": [
       "<__main__.Printable_Hathi at 0x7f08c5b345c0>"
      ]
     },
     "metadata": {},
     "output_type": "display_data"
    },
    {
     "data": {
      "text/html": [
       "<li><a href=https://babel.hathitrust.org/cgi/pt?id=mdp.39015014756285>b'The magic of Xanth /' (1981)</a><br></li>"
      ],
      "text/plain": [
       "<__main__.Printable_Hathi at 0x7f08c5b345c0>"
      ]
     },
     "metadata": {},
     "output_type": "display_data"
    },
    {
     "data": {
      "text/html": [
       "<li><a href=https://babel.hathitrust.org/cgi/pt?id=mdp.39015060029512>b'The black chalice /' (2000)</a><br></li>"
      ],
      "text/plain": [
       "<__main__.Printable_Hathi at 0x7f08c5b345c0>"
      ]
     },
     "metadata": {},
     "output_type": "display_data"
    },
    {
     "data": {
      "text/html": [
       "<li><a href=https://babel.hathitrust.org/cgi/pt?id=inu.30000109821292>b'We the underpeople /' (2006)</a><br></li>"
      ],
      "text/plain": [
       "<__main__.Printable_Hathi at 0x7f08c5b345c0>"
      ]
     },
     "metadata": {},
     "output_type": "display_data"
    }
   ],
   "source": [
    "import random\n",
    "def kmeans_cluster(x, n = 5):\n",
    "    matches = [fiction_set['names'][i] for i in range(len(fiction_set['names'])) if skm.labels_[i]==x]\n",
    "    random.seed(1)\n",
    "    sample = random.sample(matches, n)\n",
    "    for htid in sample:\n",
    "        try:\n",
    "            display(Printable_Hathi(htid, \"\"))\n",
    "        except IndexError:\n",
    "            pass\n",
    "kmeans_cluster(3)"
   ]
  },
  {
   "cell_type": "code",
   "execution_count": null,
   "metadata": {
    "collapsed": false,
    "deletable": true,
    "editable": true
   },
   "outputs": [],
   "source": [
    "\n"
   ]
  },
  {
   "cell_type": "markdown",
   "metadata": {
    "deletable": true,
    "editable": true
   },
   "source": [
    "## Cluster 0: The Old British Novel."
   ]
  },
  {
   "cell_type": "code",
   "execution_count": 237,
   "metadata": {
    "collapsed": false,
    "deletable": true,
    "editable": true
   },
   "outputs": [
    {
     "data": {
      "text/html": [
       "<li><a href=https://babel.hathitrust.org/cgi/pt?id=mdp.39015059376536>b'The New British novelist; comprising works by the most popular and fashionable writers of the present day ...' (1830)</a><br></li>"
      ],
      "text/plain": [
       "<__main__.Printable_Hathi at 0x7f08c5b34940>"
      ]
     },
     "metadata": {},
     "output_type": "display_data"
    },
    {
     "data": {
      "text/html": [
       "<li><a href=https://babel.hathitrust.org/cgi/pt?id=uc1.b3322059>b'Our town; or, Rough sketches of character, manners, & c.' (1834)</a><br></li>"
      ],
      "text/plain": [
       "<__main__.Printable_Hathi at 0x7f08c5b34940>"
      ]
     },
     "metadata": {},
     "output_type": "display_data"
    },
    {
     "data": {
      "text/html": [
       "<li><a href=https://babel.hathitrust.org/cgi/pt?id=uc1.b3550025>b'The Shepherd of the Pyrenees.' (1827)</a><br></li>"
      ],
      "text/plain": [
       "<__main__.Printable_Hathi at 0x7f08c5b34940>"
      ]
     },
     "metadata": {},
     "output_type": "display_data"
    },
    {
     "data": {
      "text/html": [
       "<li><a href=https://babel.hathitrust.org/cgi/pt?id=nyp.33433081859419>b'The novels of Maria Edgeworth, in twelve volumes.' (1893)</a><br></li>"
      ],
      "text/plain": [
       "<__main__.Printable_Hathi at 0x7f08c5b34940>"
      ]
     },
     "metadata": {},
     "output_type": "display_data"
    },
    {
     "data": {
      "text/html": [
       "<li><a href=https://babel.hathitrust.org/cgi/pt?id=njp.32101065197491>b'Salmagundi : second series /' (1820)</a><br></li>"
      ],
      "text/plain": [
       "<__main__.Printable_Hathi at 0x7f08c5b34940>"
      ]
     },
     "metadata": {},
     "output_type": "display_data"
    },
    {
     "data": {
      "text/html": [
       "<li><a href=https://babel.hathitrust.org/cgi/pt?id=mdp.39015012849298>b'The Gulistan, or, Rose garden /' (1865)</a><br></li>"
      ],
      "text/plain": [
       "<__main__.Printable_Hathi at 0x7f08c5b34940>"
      ]
     },
     "metadata": {},
     "output_type": "display_data"
    },
    {
     "data": {
      "text/html": [
       "<li><a href=https://babel.hathitrust.org/cgi/pt?id=uc2.ark:/13960/t5k932x32>b'The novels of Laurence Sterne' (1873)</a><br></li>"
      ],
      "text/plain": [
       "<__main__.Printable_Hathi at 0x7f08c5b34940>"
      ]
     },
     "metadata": {},
     "output_type": "display_data"
    },
    {
     "data": {
      "text/html": [
       "<li><a href=https://babel.hathitrust.org/cgi/pt?id=mdp.39015085382995>b'Weikefei mu shi zhuan : fu Han wen shi yi = The vicar of Wakefield /' (1911)</a><br></li>"
      ],
      "text/plain": [
       "<__main__.Printable_Hathi at 0x7f08c5b34940>"
      ]
     },
     "metadata": {},
     "output_type": "display_data"
    },
    {
     "data": {
      "text/html": [
       "<li><a href=https://babel.hathitrust.org/cgi/pt?id=mdp.39015002712571>b'Letters from Sir Charles Grandison,' (1895)</a><br></li>"
      ],
      "text/plain": [
       "<__main__.Printable_Hathi at 0x7f08c5b34940>"
      ]
     },
     "metadata": {},
     "output_type": "display_data"
    },
    {
     "data": {
      "text/html": [
       "<li><a href=https://babel.hathitrust.org/cgi/pt?id=mdp.39015078548297>b'The novels of Daniel De Foe ...' (1809)</a><br></li>"
      ],
      "text/plain": [
       "<__main__.Printable_Hathi at 0x7f08c5b34940>"
      ]
     },
     "metadata": {},
     "output_type": "display_data"
    }
   ],
   "source": [
    "kmeans_cluster(0, 10)\n"
   ]
  },
  {
   "cell_type": "code",
   "execution_count": null,
   "metadata": {
    "collapsed": true,
    "deletable": true,
    "editable": true
   },
   "outputs": [],
   "source": []
  },
  {
   "cell_type": "markdown",
   "metadata": {
    "deletable": true,
    "editable": true
   },
   "source": [
    "## Cluster 2: Modern women's stories"
   ]
  },
  {
   "cell_type": "code",
   "execution_count": 239,
   "metadata": {
    "collapsed": false,
    "deletable": true,
    "editable": true
   },
   "outputs": [
    {
     "data": {
      "text/html": [
       "<li><a href=https://babel.hathitrust.org/cgi/pt?id=mdp.39015048900651>b'Body blows /' (1986)</a><br></li>"
      ],
      "text/plain": [
       "<__main__.Printable_Hathi at 0x7f08c5b37080>"
      ]
     },
     "metadata": {},
     "output_type": "display_data"
    },
    {
     "data": {
      "text/html": [
       "<li><a href=https://babel.hathitrust.org/cgi/pt?id=mdp.39015040739149>b'Creek walk and other stories /' (1996)</a><br></li>"
      ],
      "text/plain": [
       "<__main__.Printable_Hathi at 0x7f08c5b37080>"
      ]
     },
     "metadata": {},
     "output_type": "display_data"
    },
    {
     "data": {
      "text/html": [
       "<li><a href=https://babel.hathitrust.org/cgi/pt?id=mdp.39015015512240>b'Ordinary time : a novel /' (1989)</a><br></li>"
      ],
      "text/plain": [
       "<__main__.Printable_Hathi at 0x7f08c5b37080>"
      ]
     },
     "metadata": {},
     "output_type": "display_data"
    },
    {
     "data": {
      "text/html": [
       "<li><a href=https://babel.hathitrust.org/cgi/pt?id=mdp.39015012199629>b'Chroma : stories /' (1987)</a><br></li>"
      ],
      "text/plain": [
       "<__main__.Printable_Hathi at 0x7f08c5b37080>"
      ]
     },
     "metadata": {},
     "output_type": "display_data"
    },
    {
     "data": {
      "text/html": [
       "<li><a href=https://babel.hathitrust.org/cgi/pt?id=mdp.39015048746989>b'Hurry home : novella and short stories /' (1999)</a><br></li>"
      ],
      "text/plain": [
       "<__main__.Printable_Hathi at 0x7f08c5b37080>"
      ]
     },
     "metadata": {},
     "output_type": "display_data"
    },
    {
     "data": {
      "text/html": [
       "<li><a href=https://babel.hathitrust.org/cgi/pt?id=mdp.39015022273125>b'The book of during /' (1991)</a><br></li>"
      ],
      "text/plain": [
       "<__main__.Printable_Hathi at 0x7f08c5b37080>"
      ]
     },
     "metadata": {},
     "output_type": "display_data"
    },
    {
     "data": {
      "text/html": [
       "<li><a href=https://babel.hathitrust.org/cgi/pt?id=inu.39000001351548>b'More stately mansions : a story /' (1987)</a><br></li>"
      ],
      "text/plain": [
       "<__main__.Printable_Hathi at 0x7f08c5b37080>"
      ]
     },
     "metadata": {},
     "output_type": "display_data"
    },
    {
     "data": {
      "text/html": [
       "<li><a href=https://babel.hathitrust.org/cgi/pt?id=mdp.39015064749099>b'The long dry /' (2006)</a><br></li>"
      ],
      "text/plain": [
       "<__main__.Printable_Hathi at 0x7f08c5b37080>"
      ]
     },
     "metadata": {},
     "output_type": "display_data"
    },
    {
     "data": {
      "text/html": [
       "<li><a href=https://babel.hathitrust.org/cgi/pt?id=uc1.b3688282>b'Too far to walk' (1966)</a><br></li>"
      ],
      "text/plain": [
       "<__main__.Printable_Hathi at 0x7f08c5b37080>"
      ]
     },
     "metadata": {},
     "output_type": "display_data"
    },
    {
     "data": {
      "text/html": [
       "<li><a href=https://babel.hathitrust.org/cgi/pt?id=mdp.39015041028039>b'Breathe something nice : stories /' (1997)</a><br></li>"
      ],
      "text/plain": [
       "<__main__.Printable_Hathi at 0x7f08c5b37080>"
      ]
     },
     "metadata": {},
     "output_type": "display_data"
    }
   ],
   "source": [
    "kmeans_cluster(2, 10)\n"
   ]
  },
  {
   "cell_type": "markdown",
   "metadata": {
    "deletable": true,
    "editable": true
   },
   "source": [
    "## Cluster 4: War stories?"
   ]
  },
  {
   "cell_type": "code",
   "execution_count": 241,
   "metadata": {
    "collapsed": false,
    "deletable": true,
    "editable": true
   },
   "outputs": [
    {
     "data": {
      "text/html": [
       "<li><a href=https://babel.hathitrust.org/cgi/pt?id=uc1.b3810808>b'Europa in limbo' (1937)</a><br></li>"
      ],
      "text/plain": [
       "<__main__.Printable_Hathi at 0x7f08c5f04c88>"
      ]
     },
     "metadata": {},
     "output_type": "display_data"
    },
    {
     "data": {
      "text/html": [
       "<li><a href=https://babel.hathitrust.org/cgi/pt?id=inu.32000013321965>b'... In China now.' (1941)</a><br></li>"
      ],
      "text/plain": [
       "<__main__.Printable_Hathi at 0x7f08c5f04c88>"
      ]
     },
     "metadata": {},
     "output_type": "display_data"
    },
    {
     "data": {
      "text/html": [
       "<li><a href=https://babel.hathitrust.org/cgi/pt?id=mdp.49015002637412>b'Normandy : a novel /' (1995)</a><br></li>"
      ],
      "text/plain": [
       "<__main__.Printable_Hathi at 0x7f08c5f04c88>"
      ]
     },
     "metadata": {},
     "output_type": "display_data"
    },
    {
     "data": {
      "text/html": [
       "<li><a href=https://babel.hathitrust.org/cgi/pt?id=uc1.$b104051>b'Red ravage : a novel of the experiences of an American in the Philippines /' (1953)</a><br></li>"
      ],
      "text/plain": [
       "<__main__.Printable_Hathi at 0x7f08c5f04c88>"
      ]
     },
     "metadata": {},
     "output_type": "display_data"
    },
    {
     "data": {
      "text/html": [
       "<li><a href=https://babel.hathitrust.org/cgi/pt?id=mdp.39015027912156>b'The Battle of Cape Esperance; encounter at Guadalcanal.' (1968)</a><br></li>"
      ],
      "text/plain": [
       "<__main__.Printable_Hathi at 0x7f08c5f04c88>"
      ]
     },
     "metadata": {},
     "output_type": "display_data"
    },
    {
     "data": {
      "text/html": [
       "<li><a href=https://babel.hathitrust.org/cgi/pt?id=coo.31924022149037>b'The novels and stories of Richard Harding Davis ...' (1916)</a><br></li>"
      ],
      "text/plain": [
       "<__main__.Printable_Hathi at 0x7f08c5f04c88>"
      ]
     },
     "metadata": {},
     "output_type": "display_data"
    },
    {
     "data": {
      "text/html": [
       "<li><a href=https://babel.hathitrust.org/cgi/pt?id=uc2.ark:/13960/t1xd0x036>b'The book of the Grenvilles /' (1921)</a><br></li>"
      ],
      "text/plain": [
       "<__main__.Printable_Hathi at 0x7f08c5f04c88>"
      ]
     },
     "metadata": {},
     "output_type": "display_data"
    },
    {
     "data": {
      "text/html": [
       "<li><a href=https://babel.hathitrust.org/cgi/pt?id=loc.ark:/13960/t5n87xg98>b'Anecdotes of the great war, gathered from European sources, ' (1916)</a><br></li>"
      ],
      "text/plain": [
       "<__main__.Printable_Hathi at 0x7f08c5f04c88>"
      ]
     },
     "metadata": {},
     "output_type": "display_data"
    },
    {
     "data": {
      "text/html": [
       "<li><a href=https://babel.hathitrust.org/cgi/pt?id=nyp.33433082547864>b'The boy allies under the sea, or, The vanishing submarines /' (1916)</a><br></li>"
      ],
      "text/plain": [
       "<__main__.Printable_Hathi at 0x7f08c5f04c88>"
      ]
     },
     "metadata": {},
     "output_type": "display_data"
    },
    {
     "data": {
      "text/html": [
       "<li><a href=https://babel.hathitrust.org/cgi/pt?id=pst.000024875127>b\"A winter's tale : the wreck of the Florizel /\" (1976)</a><br></li>"
      ],
      "text/plain": [
       "<__main__.Printable_Hathi at 0x7f08c5f04c88>"
      ]
     },
     "metadata": {},
     "output_type": "display_data"
    }
   ],
   "source": [
    "kmeans_cluster(4, 10)\n"
   ]
  },
  {
   "cell_type": "markdown",
   "metadata": {
    "deletable": true,
    "editable": true
   },
   "source": [
    "## Cluster 9: Science Fiction"
   ]
  },
  {
   "cell_type": "code",
   "execution_count": 247,
   "metadata": {
    "collapsed": false,
    "deletable": true,
    "editable": true
   },
   "outputs": [
    {
     "data": {
      "text/html": [
       "<li><a href=https://babel.hathitrust.org/cgi/pt?id=uc1.$b803329>b'It never rains in Los Angeles.' (1970)</a><br></li>"
      ],
      "text/plain": [
       "<__main__.Printable_Hathi at 0x7f08c5b34cf8>"
      ]
     },
     "metadata": {},
     "output_type": "display_data"
    },
    {
     "data": {
      "text/html": [
       "<li><a href=https://babel.hathitrust.org/cgi/pt?id=mdp.39015070756740>b'The elves of Cintra /' (2007)</a><br></li>"
      ],
      "text/plain": [
       "<__main__.Printable_Hathi at 0x7f08c5b34cf8>"
      ]
     },
     "metadata": {},
     "output_type": "display_data"
    },
    {
     "data": {
      "text/html": [
       "<li><a href=https://babel.hathitrust.org/cgi/pt?id=mdp.39015031233433>b'Grips; or, Efforts to revive the host' (1972)</a><br></li>"
      ],
      "text/plain": [
       "<__main__.Printable_Hathi at 0x7f08c5b34cf8>"
      ]
     },
     "metadata": {},
     "output_type": "display_data"
    },
    {
     "data": {
      "text/html": [
       "<li><a href=https://babel.hathitrust.org/cgi/pt?id=mdp.39015005216281>b'The star treasure; a science fiction novel.' (1971)</a><br></li>"
      ],
      "text/plain": [
       "<__main__.Printable_Hathi at 0x7f08c5b34cf8>"
      ]
     },
     "metadata": {},
     "output_type": "display_data"
    },
    {
     "data": {
      "text/html": [
       "<li><a href=https://babel.hathitrust.org/cgi/pt?id=uc1.b3158708>b'Eternal wind' (1975)</a><br></li>"
      ],
      "text/plain": [
       "<__main__.Printable_Hathi at 0x7f08c5b34cf8>"
      ]
     },
     "metadata": {},
     "output_type": "display_data"
    },
    {
     "data": {
      "text/html": [
       "<li><a href=https://babel.hathitrust.org/cgi/pt?id=mdp.39015073818554>b'The chronicles of Amber /' (1972)</a><br></li>"
      ],
      "text/plain": [
       "<__main__.Printable_Hathi at 0x7f08c5b34cf8>"
      ]
     },
     "metadata": {},
     "output_type": "display_data"
    },
    {
     "data": {
      "text/html": [
       "<li><a href=https://babel.hathitrust.org/cgi/pt?id=pst.000015473615>b'This is the way the world ends : a novel /' (1989)</a><br></li>"
      ],
      "text/plain": [
       "<__main__.Printable_Hathi at 0x7f08c5b34cf8>"
      ]
     },
     "metadata": {},
     "output_type": "display_data"
    },
    {
     "data": {
      "text/html": [
       "<li><a href=https://babel.hathitrust.org/cgi/pt?id=mdp.49015000676602>b'Bedlam : short stories /' (1981)</a><br></li>"
      ],
      "text/plain": [
       "<__main__.Printable_Hathi at 0x7f08c5b34cf8>"
      ]
     },
     "metadata": {},
     "output_type": "display_data"
    },
    {
     "data": {
      "text/html": [
       "<li><a href=https://babel.hathitrust.org/cgi/pt?id=osu.32435059312066>b'The house that stood still /' (1960)</a><br></li>"
      ],
      "text/plain": [
       "<__main__.Printable_Hathi at 0x7f08c5b34cf8>"
      ]
     },
     "metadata": {},
     "output_type": "display_data"
    },
    {
     "data": {
      "text/html": [
       "<li><a href=https://babel.hathitrust.org/cgi/pt?id=mdp.39015052398834>b'Picnic on Nearside /' (1980)</a><br></li>"
      ],
      "text/plain": [
       "<__main__.Printable_Hathi at 0x7f08c5b34cf8>"
      ]
     },
     "metadata": {},
     "output_type": "display_data"
    }
   ],
   "source": [
    "kmeans_cluster(9, 10)\n"
   ]
  },
  {
   "cell_type": "markdown",
   "metadata": {
    "deletable": true,
    "editable": true
   },
   "source": [
    "## Cluster 14: This isn't fiction!"
   ]
  },
  {
   "cell_type": "code",
   "execution_count": 249,
   "metadata": {
    "collapsed": false,
    "deletable": true,
    "editable": true
   },
   "outputs": [
    {
     "data": {
      "text/html": [
       "<li><a href=https://babel.hathitrust.org/cgi/pt?id=coo.31924001071467>b'Dimension theory ... A lecture given at the Galois institute of mathematics at Long Island university.' (1936)</a><br></li>"
      ],
      "text/plain": [
       "<__main__.Printable_Hathi at 0x7f08c612b828>"
      ]
     },
     "metadata": {},
     "output_type": "display_data"
    },
    {
     "data": {
      "text/html": [
       "<li><a href=https://babel.hathitrust.org/cgi/pt?id=uc1.$b53420>b'The pit-dwellers of Hokkaido and Ainu place-names considered /' (1925)</a><br></li>"
      ],
      "text/plain": [
       "<__main__.Printable_Hathi at 0x7f08c612b828>"
      ]
     },
     "metadata": {},
     "output_type": "display_data"
    },
    {
     "data": {
      "text/html": [
       "<li><a href=https://babel.hathitrust.org/cgi/pt?id=loc.ark:/13960/t2h713457>b'A bullet from the battle-field of Mission Ridge,' (1895)</a><br></li>"
      ],
      "text/plain": [
       "<__main__.Printable_Hathi at 0x7f08c612b828>"
      ]
     },
     "metadata": {},
     "output_type": "display_data"
    },
    {
     "data": {
      "text/html": [
       "<li><a href=https://babel.hathitrust.org/cgi/pt?id=pst.000007602818>b'Lilias yoga and you /' (1976)</a><br></li>"
      ],
      "text/plain": [
       "<__main__.Printable_Hathi at 0x7f08c612b828>"
      ]
     },
     "metadata": {},
     "output_type": "display_data"
    },
    {
     "data": {
      "text/html": [
       "<li><a href=https://babel.hathitrust.org/cgi/pt?id=mdp.39015030009701>b'The rock tombs of El Amarna ...' (1903)</a><br></li>"
      ],
      "text/plain": [
       "<__main__.Printable_Hathi at 0x7f08c612b828>"
      ]
     },
     "metadata": {},
     "output_type": "display_data"
    },
    {
     "data": {
      "text/html": [
       "<li><a href=https://babel.hathitrust.org/cgi/pt?id=inu.30000097815553>b'Our places and ourselves /' (1974)</a><br></li>"
      ],
      "text/plain": [
       "<__main__.Printable_Hathi at 0x7f08c612b828>"
      ]
     },
     "metadata": {},
     "output_type": "display_data"
    },
    {
     "data": {
      "text/html": [
       "<li><a href=https://babel.hathitrust.org/cgi/pt?id=uc1.31822020598355>b'An introduction to the study of fishes /' (1993)</a><br></li>"
      ],
      "text/plain": [
       "<__main__.Printable_Hathi at 0x7f08c612b828>"
      ]
     },
     "metadata": {},
     "output_type": "display_data"
    },
    {
     "data": {
      "text/html": [
       "<li><a href=https://babel.hathitrust.org/cgi/pt?id=pst.000046270405>b'Windows on science :  active learning for young children /' (1988)</a><br></li>"
      ],
      "text/plain": [
       "<__main__.Printable_Hathi at 0x7f08c612b828>"
      ]
     },
     "metadata": {},
     "output_type": "display_data"
    },
    {
     "data": {
      "text/html": [
       "<li><a href=https://babel.hathitrust.org/cgi/pt?id=mdp.39015017666705>b'Thai traditional games & sports /' (1986)</a><br></li>"
      ],
      "text/plain": [
       "<__main__.Printable_Hathi at 0x7f08c612b828>"
      ]
     },
     "metadata": {},
     "output_type": "display_data"
    },
    {
     "data": {
      "text/html": [
       "<li><a href=https://babel.hathitrust.org/cgi/pt?id=wu.89043235761>b'A history of tropical medicine; based on the Fitzpatrick lectures delivered before the Royal College of Physicians of London, 1937-38,' (1939)</a><br></li>"
      ],
      "text/plain": [
       "<__main__.Printable_Hathi at 0x7f08c612b828>"
      ]
     },
     "metadata": {},
     "output_type": "display_data"
    }
   ],
   "source": [
    "kmeans_cluster(14, 10)\n"
   ]
  },
  {
   "cell_type": "markdown",
   "metadata": {
    "deletable": true,
    "editable": true
   },
   "source": [
    "## Cluster 15: The 18th century tale"
   ]
  },
  {
   "cell_type": "code",
   "execution_count": 250,
   "metadata": {
    "collapsed": false,
    "deletable": true,
    "editable": true
   },
   "outputs": [
    {
     "data": {
      "text/html": [
       "<li><a href=https://babel.hathitrust.org/cgi/pt?id=uc2.ark:/13960/t50g3jc0p>b'A description of Millenium Hall, and the country adjacent : together with the characters of the inhabitants, and such historical anecdotes and reflections, as may excite in the reader proper sentiments of humanity, and lead the mind to the love of virtue /' (1762)</a><br></li>"
      ],
      "text/plain": [
       "<__main__.Printable_Hathi at 0x7f08c6133a58>"
      ]
     },
     "metadata": {},
     "output_type": "display_data"
    },
    {
     "data": {
      "text/html": [
       "<li><a href=https://babel.hathitrust.org/cgi/pt?id=nnc1.0037112007>b'The life and entertaining adventures of Mr. Cleveland; natural son of Oliver Cromwell,' (1760)</a><br></li>"
      ],
      "text/plain": [
       "<__main__.Printable_Hathi at 0x7f0921f5b780>"
      ]
     },
     "metadata": {},
     "output_type": "display_data"
    },
    {
     "data": {
      "text/html": [
       "<li><a href=https://babel.hathitrust.org/cgi/pt?id=nyp.33433074913355>b'A simple story. In four volumes.' (1791)</a><br></li>"
      ],
      "text/plain": [
       "<__main__.Printable_Hathi at 0x7f0921f5b780>"
      ]
     },
     "metadata": {},
     "output_type": "display_data"
    },
    {
     "data": {
      "text/html": [
       "<li><a href=https://babel.hathitrust.org/cgi/pt?id=dul1.ark:/13960/t4hm5zs2h>b'The history of Jemmy and Jenny Jessamy : in three volumes /' (1753)</a><br></li>"
      ],
      "text/plain": [
       "<__main__.Printable_Hathi at 0x7f0921f5b780>"
      ]
     },
     "metadata": {},
     "output_type": "display_data"
    },
    {
     "data": {
      "text/html": [
       "<li><a href=https://babel.hathitrust.org/cgi/pt?id=hvd.hn2hec>b'Lucinda, or, Virtue triumphant : a moral tale /' (1801)</a><br></li>"
      ],
      "text/plain": [
       "<__main__.Printable_Hathi at 0x7f0921f5b780>"
      ]
     },
     "metadata": {},
     "output_type": "display_data"
    }
   ],
   "source": [
    "kmeans_cluster(15)\n"
   ]
  },
  {
   "cell_type": "markdown",
   "metadata": {
    "deletable": true,
    "editable": true
   },
   "source": [
    "## Cluster 18: This is pretty weird.\n",
    "\n",
    "Based on proximity to the center I though this was straight modern fantasy--instead it seems to be something that spans the romance and some "
   ]
  },
  {
   "cell_type": "code",
   "execution_count": 252,
   "metadata": {
    "collapsed": false,
    "deletable": true,
    "editable": true
   },
   "outputs": [
    {
     "data": {
      "text/html": [
       "<li><a href=https://babel.hathitrust.org/cgi/pt?id=mdp.39015062269264>b'Light through the mist; quairains based on maxims and apothegms found in Aboth (the Fathers)' (1950)</a><br></li>"
      ],
      "text/plain": [
       "<__main__.Printable_Hathi at 0x7f0921f5b780>"
      ]
     },
     "metadata": {},
     "output_type": "display_data"
    },
    {
     "data": {
      "text/html": [
       "<li><a href=https://babel.hathitrust.org/cgi/pt?id=uc2.ark:/13960/t6930qn3x>b'The Italian novelists /' (1901)</a><br></li>"
      ],
      "text/plain": [
       "<__main__.Printable_Hathi at 0x7f0921f5b780>"
      ]
     },
     "metadata": {},
     "output_type": "display_data"
    },
    {
     "data": {
      "text/html": [
       "<li><a href=https://babel.hathitrust.org/cgi/pt?id=uc2.ark:/13960/t2g73914b>b'Shakespeare jest-books : reprints of the early and very rare jest-books supposed to have been used by Shakespeare /' (1864)</a><br></li>"
      ],
      "text/plain": [
       "<__main__.Printable_Hathi at 0x7f0921f5b780>"
      ]
     },
     "metadata": {},
     "output_type": "display_data"
    },
    {
     "data": {
      "text/html": [
       "<li><a href=https://babel.hathitrust.org/cgi/pt?id=uc1.b4334398>b'Great books of the Western World /' (1952)</a><br></li>"
      ],
      "text/plain": [
       "<__main__.Printable_Hathi at 0x7f0921f5b780>"
      ]
     },
     "metadata": {},
     "output_type": "display_data"
    },
    {
     "data": {
      "text/html": [
       "<li><a href=https://babel.hathitrust.org/cgi/pt?id=mdp.39015041904213>b'Sidonia the sorceress, the supposed destroyer of the whole reigning ducal house of Pomerania,' (1894)</a><br></li>"
      ],
      "text/plain": [
       "<__main__.Printable_Hathi at 0x7f0921f5b780>"
      ]
     },
     "metadata": {},
     "output_type": "display_data"
    },
    {
     "data": {
      "text/html": [
       "<li><a href=https://babel.hathitrust.org/cgi/pt?id=uc1.b4284368>b'The life and complete works in prose and verse of Robert Greene /' (1964)</a><br></li>"
      ],
      "text/plain": [
       "<__main__.Printable_Hathi at 0x7f0921f5b780>"
      ]
     },
     "metadata": {},
     "output_type": "display_data"
    },
    {
     "data": {
      "text/html": [
       "<li><a href=https://babel.hathitrust.org/cgi/pt?id=uc2.ark:/13960/t6f18w32x>b'The book of the duke of true lovers.' (1908)</a><br></li>"
      ],
      "text/plain": [
       "<__main__.Printable_Hathi at 0x7f0921f5b780>"
      ]
     },
     "metadata": {},
     "output_type": "display_data"
    },
    {
     "data": {
      "text/html": [
       "<li><a href=https://babel.hathitrust.org/cgi/pt?id=uc1.b4110108>b'The prose works of Sir Philip Sidney.' (1962)</a><br></li>"
      ],
      "text/plain": [
       "<__main__.Printable_Hathi at 0x7f0921f5b780>"
      ]
     },
     "metadata": {},
     "output_type": "display_data"
    },
    {
     "data": {
      "text/html": [
       "<li><a href=https://babel.hathitrust.org/cgi/pt?id=umn.319510020200029>b'Hypnerotomachia.' (1969)</a><br></li>"
      ],
      "text/plain": [
       "<__main__.Printable_Hathi at 0x7f0921f5b780>"
      ]
     },
     "metadata": {},
     "output_type": "display_data"
    },
    {
     "data": {
      "text/html": [
       "<li><a href=https://babel.hathitrust.org/cgi/pt?id=uc2.ark:/13960/t3dz0bf8t>b'Border lances : a romance of the northern marches in the reign of Edward the Third /' (1886)</a><br></li>"
      ],
      "text/plain": [
       "<__main__.Printable_Hathi at 0x7f0921f5b780>"
      ]
     },
     "metadata": {},
     "output_type": "display_data"
    }
   ],
   "source": [
    "kmeans_cluster(18, 10)\n"
   ]
  },
  {
   "cell_type": "markdown",
   "metadata": {
    "deletable": true,
    "editable": true
   },
   "source": [
    "## Cluster 21: Stories from the post-colonial Commonwealth? \n",
    "\n",
    "Mostly, Nigerian, Indian, Trinidadian fiction from 1970-200"
   ]
  },
  {
   "cell_type": "code",
   "execution_count": 254,
   "metadata": {
    "collapsed": false,
    "deletable": true,
    "editable": true
   },
   "outputs": [
    {
     "data": {
      "text/html": [
       "<li><a href=https://babel.hathitrust.org/cgi/pt?id=mdp.39015023978250>b'The defamed alley : a novel /' (1977)</a><br></li>"
      ],
      "text/plain": [
       "<__main__.Printable_Hathi at 0x7f08c5b36588>"
      ]
     },
     "metadata": {},
     "output_type": "display_data"
    },
    {
     "data": {
      "text/html": [
       "<li><a href=https://babel.hathitrust.org/cgi/pt?id=uc1.b3799976>b'The breaker of combs and scissors /' (1985)</a><br></li>"
      ],
      "text/plain": [
       "<__main__.Printable_Hathi at 0x7f08c5b36588>"
      ]
     },
     "metadata": {},
     "output_type": "display_data"
    },
    {
     "data": {
      "text/html": [
       "<li><a href=https://babel.hathitrust.org/cgi/pt?id=inu.30000067168520>b'Achachakolo : the sorrows of Mgboyibo : a romance /' (1990)</a><br></li>"
      ],
      "text/plain": [
       "<__main__.Printable_Hathi at 0x7f08c5b36588>"
      ]
     },
     "metadata": {},
     "output_type": "display_data"
    },
    {
     "data": {
      "text/html": [
       "<li><a href=https://babel.hathitrust.org/cgi/pt?id=mdp.39015029977736>b'The Cord & other stories /' (1992)</a><br></li>"
      ],
      "text/plain": [
       "<__main__.Printable_Hathi at 0x7f08c5b36588>"
      ]
     },
     "metadata": {},
     "output_type": "display_data"
    },
    {
     "data": {
      "text/html": [
       "<li><a href=https://babel.hathitrust.org/cgi/pt?id=inu.30000109359764>b'The triple clan /' (2004)</a><br></li>"
      ],
      "text/plain": [
       "<__main__.Printable_Hathi at 0x7f08c5b36588>"
      ]
     },
     "metadata": {},
     "output_type": "display_data"
    },
    {
     "data": {
      "text/html": [
       "<li><a href=https://babel.hathitrust.org/cgi/pt?id=mdp.39015025378947>b'Selected short stories /' (1991)</a><br></li>"
      ],
      "text/plain": [
       "<__main__.Printable_Hathi at 0x7f08c5b36588>"
      ]
     },
     "metadata": {},
     "output_type": "display_data"
    },
    {
     "data": {
      "text/html": [
       "<li><a href=https://babel.hathitrust.org/cgi/pt?id=inu.32000009854151>b'The half-brothers /' (1974)</a><br></li>"
      ],
      "text/plain": [
       "<__main__.Printable_Hathi at 0x7f08c5b36588>"
      ]
     },
     "metadata": {},
     "output_type": "display_data"
    },
    {
     "data": {
      "text/html": [
       "<li><a href=https://babel.hathitrust.org/cgi/pt?id=mdp.39015052765206>b'A story of true love : a translation of an Urdu novel Samrhae naykie (Reward of kindness) /' (2000)</a><br></li>"
      ],
      "text/plain": [
       "<__main__.Printable_Hathi at 0x7f08c5b36588>"
      ]
     },
     "metadata": {},
     "output_type": "display_data"
    },
    {
     "data": {
      "text/html": [
       "<li><a href=https://babel.hathitrust.org/cgi/pt?id=mdp.39015028445024>b'Contemporary Indian short stories in English /' (1991)</a><br></li>"
      ],
      "text/plain": [
       "<__main__.Printable_Hathi at 0x7f08c5b36588>"
      ]
     },
     "metadata": {},
     "output_type": "display_data"
    },
    {
     "data": {
      "text/html": [
       "<li><a href=https://babel.hathitrust.org/cgi/pt?id=pst.000023082847>b'The story of a single woman /' (1992)</a><br></li>"
      ],
      "text/plain": [
       "<__main__.Printable_Hathi at 0x7f08c5b36588>"
      ]
     },
     "metadata": {},
     "output_type": "display_data"
    }
   ],
   "source": [
    "kmeans_cluster(21, 10)\n"
   ]
  },
  {
   "cell_type": "markdown",
   "metadata": {
    "deletable": true,
    "editable": true
   },
   "source": [
    "## Cluster 25: Folk tales"
   ]
  },
  {
   "cell_type": "code",
   "execution_count": 259,
   "metadata": {
    "collapsed": false,
    "deletable": true,
    "editable": true
   },
   "outputs": [
    {
     "data": {
      "text/html": [
       "<li><a href=https://babel.hathitrust.org/cgi/pt?id=mdp.39015013285609>b'Through golden windows.' (1958)</a><br></li>"
      ],
      "text/plain": [
       "<__main__.Printable_Hathi at 0x7f0922cd6b70>"
      ]
     },
     "metadata": {},
     "output_type": "display_data"
    },
    {
     "data": {
      "text/html": [
       "<li><a href=https://babel.hathitrust.org/cgi/pt?id=wu.89007385289>b'Bannertail; the story of a graysquirrel,' (1922)</a><br></li>"
      ],
      "text/plain": [
       "<__main__.Printable_Hathi at 0x7f0922cd6b70>"
      ]
     },
     "metadata": {},
     "output_type": "display_data"
    },
    {
     "data": {
      "text/html": [
       "<li><a href=https://babel.hathitrust.org/cgi/pt?id=inu.30000036592388>b'The maiden who rose from the sea and other Finnish folk tales /' (1992)</a><br></li>"
      ],
      "text/plain": [
       "<__main__.Printable_Hathi at 0x7f0922cd6b70>"
      ]
     },
     "metadata": {},
     "output_type": "display_data"
    },
    {
     "data": {
      "text/html": [
       "<li><a href=https://babel.hathitrust.org/cgi/pt?id=inu.30000056307501>b'Tales of the tepee /' (1998)</a><br></li>"
      ],
      "text/plain": [
       "<__main__.Printable_Hathi at 0x7f0922cd6b70>"
      ]
     },
     "metadata": {},
     "output_type": "display_data"
    },
    {
     "data": {
      "text/html": [
       "<li><a href=https://babel.hathitrust.org/cgi/pt?id=inu.30000004005785>b'Stories of Serra East /' (1985)</a><br></li>"
      ],
      "text/plain": [
       "<__main__.Printable_Hathi at 0x7f0922cd6b70>"
      ]
     },
     "metadata": {},
     "output_type": "display_data"
    }
   ],
   "source": [
    "kmeans_cluster(25)\n"
   ]
  },
  {
   "cell_type": "markdown",
   "metadata": {
    "deletable": true,
    "editable": true
   },
   "source": [
    "## Cluster 26: The hip-hop noir novel\n",
    "\n",
    "Isn't it helpful when the metadata defines the cluster! Honestly, I don't know exactly what this is; it seems to be a certain form of brisk American modern novel that bridges cops (*Under the Color of Law)*, technology (*JPod*) and gay erotica (*Brother Stud*). "
   ]
  },
  {
   "cell_type": "code",
   "execution_count": 261,
   "metadata": {
    "collapsed": false,
    "deletable": true,
    "editable": true
   },
   "outputs": [
    {
     "data": {
      "text/html": [
       "<li><a href=https://babel.hathitrust.org/cgi/pt?id=uc1.32106018647310>b'The dying ground : a hip-hop noir novel /' (2001)</a><br></li>"
      ],
      "text/plain": [
       "<__main__.Printable_Hathi at 0x7f08c5b1e470>"
      ]
     },
     "metadata": {},
     "output_type": "display_data"
    },
    {
     "data": {
      "text/html": [
       "<li><a href=https://babel.hathitrust.org/cgi/pt?id=mdp.39015073377296>b'Brother stud /' (1979)</a><br></li>"
      ],
      "text/plain": [
       "<__main__.Printable_Hathi at 0x7f08c5b1e470>"
      ]
     },
     "metadata": {},
     "output_type": "display_data"
    },
    {
     "data": {
      "text/html": [
       "<li><a href=https://babel.hathitrust.org/cgi/pt?id=mdp.39015080890075>b'Maneuvers /' (2009)</a><br></li>"
      ],
      "text/plain": [
       "<__main__.Printable_Hathi at 0x7f08c5b1e470>"
      ]
     },
     "metadata": {},
     "output_type": "display_data"
    },
    {
     "data": {
      "text/html": [
       "<li><a href=https://babel.hathitrust.org/cgi/pt?id=uc1.32106014480880>b'In the beginning /' (1997)</a><br></li>"
      ],
      "text/plain": [
       "<__main__.Printable_Hathi at 0x7f08c5b1e470>"
      ]
     },
     "metadata": {},
     "output_type": "display_data"
    },
    {
     "data": {
      "text/html": [
       "<li><a href=https://babel.hathitrust.org/cgi/pt?id=mdp.39015064701256>b'JPod : a novel /' (2006)</a><br></li>"
      ],
      "text/plain": [
       "<__main__.Printable_Hathi at 0x7f08c5b1e470>"
      ]
     },
     "metadata": {},
     "output_type": "display_data"
    },
    {
     "data": {
      "text/html": [
       "<li><a href=https://babel.hathitrust.org/cgi/pt?id=mdp.39015034414261>b\"From Potter's field /\" (1995)</a><br></li>"
      ],
      "text/plain": [
       "<__main__.Printable_Hathi at 0x7f08c5b1e470>"
      ]
     },
     "metadata": {},
     "output_type": "display_data"
    },
    {
     "data": {
      "text/html": [
       "<li><a href=https://babel.hathitrust.org/cgi/pt?id=mdp.39015020828839>b'Necessary objects.' (1973)</a><br></li>"
      ],
      "text/plain": [
       "<__main__.Printable_Hathi at 0x7f08c5b1e470>"
      ]
     },
     "metadata": {},
     "output_type": "display_data"
    },
    {
     "data": {
      "text/html": [
       "<li><a href=https://babel.hathitrust.org/cgi/pt?id=uc1.b4351593>b'8 monologs /' (1980)</a><br></li>"
      ],
      "text/plain": [
       "<__main__.Printable_Hathi at 0x7f08c5b1e470>"
      ]
     },
     "metadata": {},
     "output_type": "display_data"
    },
    {
     "data": {
      "text/html": [
       "<li><a href=https://babel.hathitrust.org/cgi/pt?id=mdp.39015078810036>b'The weight of heaven : a novel /' (2009)</a><br></li>"
      ],
      "text/plain": [
       "<__main__.Printable_Hathi at 0x7f08c5b1e470>"
      ]
     },
     "metadata": {},
     "output_type": "display_data"
    },
    {
     "data": {
      "text/html": [
       "<li><a href=https://babel.hathitrust.org/cgi/pt?id=mdp.39015056181830>b'Under the color of law : a Kevin Kearney novel /' (2001)</a><br></li>"
      ],
      "text/plain": [
       "<__main__.Printable_Hathi at 0x7f08c5b1e470>"
      ]
     },
     "metadata": {},
     "output_type": "display_data"
    }
   ],
   "source": [
    "kmeans_cluster(26, 10)\n"
   ]
  },
  {
   "cell_type": "markdown",
   "metadata": {
    "deletable": true,
    "editable": true
   },
   "source": [
    "## Cluster 28: The Imperial Romance."
   ]
  },
  {
   "cell_type": "code",
   "execution_count": 264,
   "metadata": {
    "collapsed": false,
    "deletable": true,
    "editable": true
   },
   "outputs": [
    {
     "data": {
      "text/html": [
       "<li><a href=https://babel.hathitrust.org/cgi/pt?id=pst.000011179887>b'The new Bethlehem /' (1935)</a><br></li>"
      ],
      "text/plain": [
       "<__main__.Printable_Hathi at 0x7f08c5b344e0>"
      ]
     },
     "metadata": {},
     "output_type": "display_data"
    },
    {
     "data": {
      "text/html": [
       "<li><a href=https://babel.hathitrust.org/cgi/pt?id=nyp.33433073356473>b'The Cossacks : a tale of the Caucasus in 1852 /' (1878)</a><br></li>"
      ],
      "text/plain": [
       "<__main__.Printable_Hathi at 0x7f08c5b344e0>"
      ]
     },
     "metadata": {},
     "output_type": "display_data"
    },
    {
     "data": {
      "text/html": [
       "<li><a href=https://babel.hathitrust.org/cgi/pt?id=pst.000019683003>b'The house of prayer /' (1958)</a><br></li>"
      ],
      "text/plain": [
       "<__main__.Printable_Hathi at 0x7f08c5b344e0>"
      ]
     },
     "metadata": {},
     "output_type": "display_data"
    },
    {
     "data": {
      "text/html": [
       "<li><a href=https://babel.hathitrust.org/cgi/pt?id=uc1.$b56510>b'The sky but not the heart; a novel' (1936)</a><br></li>"
      ],
      "text/plain": [
       "<__main__.Printable_Hathi at 0x7f08c5b344e0>"
      ]
     },
     "metadata": {},
     "output_type": "display_data"
    },
    {
     "data": {
      "text/html": [
       "<li><a href=https://babel.hathitrust.org/cgi/pt?id=umn.319510020277183>b'The doctor and the dragon : a tragi-comedy of British India.' (1947)</a><br></li>"
      ],
      "text/plain": [
       "<__main__.Printable_Hathi at 0x7f08c5b344e0>"
      ]
     },
     "metadata": {},
     "output_type": "display_data"
    },
    {
     "data": {
      "text/html": [
       "<li><a href=https://babel.hathitrust.org/cgi/pt?id=nyp.33433074939590>b'Masters of the wheat-lands /' (1910)</a><br></li>"
      ],
      "text/plain": [
       "<__main__.Printable_Hathi at 0x7f08c5b344e0>"
      ]
     },
     "metadata": {},
     "output_type": "display_data"
    },
    {
     "data": {
      "text/html": [
       "<li><a href=https://babel.hathitrust.org/cgi/pt?id=mdp.49015002137876>b'The collected works of Rudyard Kipling.' (1970)</a><br></li>"
      ],
      "text/plain": [
       "<__main__.Printable_Hathi at 0x7f08c5b344e0>"
      ]
     },
     "metadata": {},
     "output_type": "display_data"
    },
    {
     "data": {
      "text/html": [
       "<li><a href=https://babel.hathitrust.org/cgi/pt?id=pst.000002498188>b'Concluding; a novel.' (1948)</a><br></li>"
      ],
      "text/plain": [
       "<__main__.Printable_Hathi at 0x7f08c5b344e0>"
      ]
     },
     "metadata": {},
     "output_type": "display_data"
    },
    {
     "data": {
      "text/html": [
       "<li><a href=https://babel.hathitrust.org/cgi/pt?id=uc2.ark:/13960/t6057s29k>b'News from the duchy.' (1913)</a><br></li>"
      ],
      "text/plain": [
       "<__main__.Printable_Hathi at 0x7f08c5b344e0>"
      ]
     },
     "metadata": {},
     "output_type": "display_data"
    },
    {
     "data": {
      "text/html": [
       "<li><a href=https://babel.hathitrust.org/cgi/pt?id=mdp.39015066710131>b'The works of Rudyard Kipling ...' (1899)</a><br></li>"
      ],
      "text/plain": [
       "<__main__.Printable_Hathi at 0x7f08c5b344e0>"
      ]
     },
     "metadata": {},
     "output_type": "display_data"
    }
   ],
   "source": [
    "kmeans_cluster(28, 10)\n"
   ]
  },
  {
   "cell_type": "markdown",
   "metadata": {
    "deletable": true,
    "editable": true
   },
   "source": [
    "## Cluster 30: More Scifi/fantasy."
   ]
  },
  {
   "cell_type": "code",
   "execution_count": 267,
   "metadata": {
    "collapsed": false,
    "deletable": true,
    "editable": true
   },
   "outputs": [
    {
     "data": {
      "text/html": [
       "<li><a href=https://babel.hathitrust.org/cgi/pt?id=mdp.39015069158932>b\"Rod Serling's triple w: witches, warlocks, and werewolves : a collection /\" (1963)</a><br></li>"
      ],
      "text/plain": [
       "<__main__.Printable_Hathi at 0x7f08c5b27be0>"
      ]
     },
     "metadata": {},
     "output_type": "display_data"
    },
    {
     "data": {
      "text/html": [
       "<li><a href=https://babel.hathitrust.org/cgi/pt?id=inu.39000001027940>b'Tart is the apple; a novel.' (1973)</a><br></li>"
      ],
      "text/plain": [
       "<__main__.Printable_Hathi at 0x7f08c5b27be0>"
      ]
     },
     "metadata": {},
     "output_type": "display_data"
    },
    {
     "data": {
      "text/html": [
       "<li><a href=https://babel.hathitrust.org/cgi/pt?id=mdp.39015030945797>b'Mostly womenfolk and a man or two : a collection /' (1976)</a><br></li>"
      ],
      "text/plain": [
       "<__main__.Printable_Hathi at 0x7f08c5b27be0>"
      ]
     },
     "metadata": {},
     "output_type": "display_data"
    },
    {
     "data": {
      "text/html": [
       "<li><a href=https://babel.hathitrust.org/cgi/pt?id=mdp.39015010824095>b'Two serious ladies.' (1965)</a><br></li>"
      ],
      "text/plain": [
       "<__main__.Printable_Hathi at 0x7f08c5b27be0>"
      ]
     },
     "metadata": {},
     "output_type": "display_data"
    },
    {
     "data": {
      "text/html": [
       "<li><a href=https://babel.hathitrust.org/cgi/pt?id=uc1.$b807537>b'The land of lost content' (1970)</a><br></li>"
      ],
      "text/plain": [
       "<__main__.Printable_Hathi at 0x7f08c5b27be0>"
      ]
     },
     "metadata": {},
     "output_type": "display_data"
    },
    {
     "data": {
      "text/html": [
       "<li><a href=https://babel.hathitrust.org/cgi/pt?id=uc1.$b63751>b'Sam.' (1939)</a><br></li>"
      ],
      "text/plain": [
       "<__main__.Printable_Hathi at 0x7f08c5b27be0>"
      ]
     },
     "metadata": {},
     "output_type": "display_data"
    },
    {
     "data": {
      "text/html": [
       "<li><a href=https://babel.hathitrust.org/cgi/pt?id=uc2.ark:/13960/t8nc5ts38>b'Molly make-believe.' (1910)</a><br></li>"
      ],
      "text/plain": [
       "<__main__.Printable_Hathi at 0x7f08c5b27be0>"
      ]
     },
     "metadata": {},
     "output_type": "display_data"
    },
    {
     "data": {
      "text/html": [
       "<li><a href=https://babel.hathitrust.org/cgi/pt?id=uc1.$b87206>b'Temporary address: Reno,' (1941)</a><br></li>"
      ],
      "text/plain": [
       "<__main__.Printable_Hathi at 0x7f08c5b27be0>"
      ]
     },
     "metadata": {},
     "output_type": "display_data"
    },
    {
     "data": {
      "text/html": [
       "<li><a href=https://babel.hathitrust.org/cgi/pt?id=uc1.b3346325>b'Wisteria Cottage.' (1948)</a><br></li>"
      ],
      "text/plain": [
       "<__main__.Printable_Hathi at 0x7f08c5b27be0>"
      ]
     },
     "metadata": {},
     "output_type": "display_data"
    },
    {
     "data": {
      "text/html": [
       "<li><a href=https://babel.hathitrust.org/cgi/pt?id=mdp.39015040713144>b'Life strokes : blood on the moon and other stories /' (1996)</a><br></li>"
      ],
      "text/plain": [
       "<__main__.Printable_Hathi at 0x7f08c5b27be0>"
      ]
     },
     "metadata": {},
     "output_type": "display_data"
    }
   ],
   "source": [
    "kmeans_cluster(30, 10)\n"
   ]
  },
  {
   "cell_type": "markdown",
   "metadata": {
    "deletable": true,
    "editable": true
   },
   "source": [
    "# All Clusters\n",
    "\n",
    "For reference, 5 random texts from all 30 clusters, with no attempt to label.\n",
    "All clusters: top 5."
   ]
  },
  {
   "cell_type": "code",
   "execution_count": 271,
   "metadata": {
    "collapsed": false,
    "deletable": true,
    "editable": true,
    "scrolled": false
   },
   "outputs": [
    {
     "name": "stdout",
     "output_type": "stream",
     "text": [
      "~~~~~~~~~~~~~~~~~~~~~~~~~~~~~~~~~~~~~~~~~~~~~~~~~~~~~~~~~~~~~~~~~~~~~~~~~~~~~~~~~~~~~~~~~~~~~~~~~~~~\n",
      "CLUSTER 0\n",
      "~~~~~~~~~~~~~~~~~~~~~~~~~~~~~~~~~~~~~~~~~~~~~~~~~~~~~~~~~~~~~~~~~~~~~~~~~~~~~~~~~~~~~~~~~~~~~~~~~~~~\n"
     ]
    },
    {
     "data": {
      "text/html": [
       "<li><a href=https://babel.hathitrust.org/cgi/pt?id=mdp.39015059376536>b'The New British novelist; comprising works by the most popular and fashionable writers of the present day ...' (1830)</a><br></li>"
      ],
      "text/plain": [
       "<__main__.Printable_Hathi at 0x7f08c5ac20f0>"
      ]
     },
     "metadata": {},
     "output_type": "display_data"
    },
    {
     "data": {
      "text/html": [
       "<li><a href=https://babel.hathitrust.org/cgi/pt?id=uc1.b3322059>b'Our town; or, Rough sketches of character, manners, & c.' (1834)</a><br></li>"
      ],
      "text/plain": [
       "<__main__.Printable_Hathi at 0x7f08c5ac20f0>"
      ]
     },
     "metadata": {},
     "output_type": "display_data"
    },
    {
     "data": {
      "text/html": [
       "<li><a href=https://babel.hathitrust.org/cgi/pt?id=uc1.b3550025>b'The Shepherd of the Pyrenees.' (1827)</a><br></li>"
      ],
      "text/plain": [
       "<__main__.Printable_Hathi at 0x7f08c5ac20f0>"
      ]
     },
     "metadata": {},
     "output_type": "display_data"
    },
    {
     "data": {
      "text/html": [
       "<li><a href=https://babel.hathitrust.org/cgi/pt?id=nyp.33433081859419>b'The novels of Maria Edgeworth, in twelve volumes.' (1893)</a><br></li>"
      ],
      "text/plain": [
       "<__main__.Printable_Hathi at 0x7f08c5ac20f0>"
      ]
     },
     "metadata": {},
     "output_type": "display_data"
    },
    {
     "data": {
      "text/html": [
       "<li><a href=https://babel.hathitrust.org/cgi/pt?id=njp.32101065197491>b'Salmagundi : second series /' (1820)</a><br></li>"
      ],
      "text/plain": [
       "<__main__.Printable_Hathi at 0x7f08c5ac20f0>"
      ]
     },
     "metadata": {},
     "output_type": "display_data"
    },
    {
     "name": "stdout",
     "output_type": "stream",
     "text": [
      "~~~~~~~~~~~~~~~~~~~~~~~~~~~~~~~~~~~~~~~~~~~~~~~~~~~~~~~~~~~~~~~~~~~~~~~~~~~~~~~~~~~~~~~~~~~~~~~~~~~~\n",
      "CLUSTER 1\n",
      "~~~~~~~~~~~~~~~~~~~~~~~~~~~~~~~~~~~~~~~~~~~~~~~~~~~~~~~~~~~~~~~~~~~~~~~~~~~~~~~~~~~~~~~~~~~~~~~~~~~~\n"
     ]
    },
    {
     "data": {
      "text/html": [
       "<li><a href=https://babel.hathitrust.org/cgi/pt?id=nyp.33433075768949>b'With the Grand army to Moscow. An historical novel.' (1900)</a><br></li>"
      ],
      "text/plain": [
       "<__main__.Printable_Hathi at 0x7f08c5ac2ef0>"
      ]
     },
     "metadata": {},
     "output_type": "display_data"
    },
    {
     "data": {
      "text/html": [
       "<li><a href=https://babel.hathitrust.org/cgi/pt?id=uc1.b3321847>b'Contarini Fleming, and Alroy : two romances /' (1850)</a><br></li>"
      ],
      "text/plain": [
       "<__main__.Printable_Hathi at 0x7f08c5ac2ef0>"
      ]
     },
     "metadata": {},
     "output_type": "display_data"
    },
    {
     "data": {
      "text/html": [
       "<li><a href=https://babel.hathitrust.org/cgi/pt?id=uiuo.ark:/13960/t4pk11c53>b'De Montfort, or, The old English nobleman /' (1842)</a><br></li>"
      ],
      "text/plain": [
       "<__main__.Printable_Hathi at 0x7f08c5ac2ef0>"
      ]
     },
     "metadata": {},
     "output_type": "display_data"
    },
    {
     "data": {
      "text/html": [
       "<li><a href=https://babel.hathitrust.org/cgi/pt?id=hvd.hwadvf>b'Waverley novels.' (1829)</a><br></li>"
      ],
      "text/plain": [
       "<__main__.Printable_Hathi at 0x7f08c5ac2ef0>"
      ]
     },
     "metadata": {},
     "output_type": "display_data"
    },
    {
     "data": {
      "text/html": [
       "<li><a href=https://babel.hathitrust.org/cgi/pt?id=uc2.ark:/13960/t1gh9cr0d>b'Miss Fairfax of Virginia; a romance of love and adventure under the Palmettos,' (1899)</a><br></li>"
      ],
      "text/plain": [
       "<__main__.Printable_Hathi at 0x7f08c5ac2ef0>"
      ]
     },
     "metadata": {},
     "output_type": "display_data"
    },
    {
     "name": "stdout",
     "output_type": "stream",
     "text": [
      "~~~~~~~~~~~~~~~~~~~~~~~~~~~~~~~~~~~~~~~~~~~~~~~~~~~~~~~~~~~~~~~~~~~~~~~~~~~~~~~~~~~~~~~~~~~~~~~~~~~~\n",
      "CLUSTER 2\n",
      "~~~~~~~~~~~~~~~~~~~~~~~~~~~~~~~~~~~~~~~~~~~~~~~~~~~~~~~~~~~~~~~~~~~~~~~~~~~~~~~~~~~~~~~~~~~~~~~~~~~~\n"
     ]
    },
    {
     "data": {
      "text/html": [
       "<li><a href=https://babel.hathitrust.org/cgi/pt?id=mdp.39015048900651>b'Body blows /' (1986)</a><br></li>"
      ],
      "text/plain": [
       "<__main__.Printable_Hathi at 0x7f08c5aca710>"
      ]
     },
     "metadata": {},
     "output_type": "display_data"
    },
    {
     "data": {
      "text/html": [
       "<li><a href=https://babel.hathitrust.org/cgi/pt?id=mdp.39015040739149>b'Creek walk and other stories /' (1996)</a><br></li>"
      ],
      "text/plain": [
       "<__main__.Printable_Hathi at 0x7f08c5ac2e48>"
      ]
     },
     "metadata": {},
     "output_type": "display_data"
    },
    {
     "data": {
      "text/html": [
       "<li><a href=https://babel.hathitrust.org/cgi/pt?id=mdp.39015015512240>b'Ordinary time : a novel /' (1989)</a><br></li>"
      ],
      "text/plain": [
       "<__main__.Printable_Hathi at 0x7f08c5ac2e48>"
      ]
     },
     "metadata": {},
     "output_type": "display_data"
    },
    {
     "data": {
      "text/html": [
       "<li><a href=https://babel.hathitrust.org/cgi/pt?id=mdp.39015012199629>b'Chroma : stories /' (1987)</a><br></li>"
      ],
      "text/plain": [
       "<__main__.Printable_Hathi at 0x7f08c5ac2e48>"
      ]
     },
     "metadata": {},
     "output_type": "display_data"
    },
    {
     "data": {
      "text/html": [
       "<li><a href=https://babel.hathitrust.org/cgi/pt?id=mdp.39015048746989>b'Hurry home : novella and short stories /' (1999)</a><br></li>"
      ],
      "text/plain": [
       "<__main__.Printable_Hathi at 0x7f08c5ac2e48>"
      ]
     },
     "metadata": {},
     "output_type": "display_data"
    },
    {
     "name": "stdout",
     "output_type": "stream",
     "text": [
      "~~~~~~~~~~~~~~~~~~~~~~~~~~~~~~~~~~~~~~~~~~~~~~~~~~~~~~~~~~~~~~~~~~~~~~~~~~~~~~~~~~~~~~~~~~~~~~~~~~~~\n",
      "CLUSTER 3\n",
      "~~~~~~~~~~~~~~~~~~~~~~~~~~~~~~~~~~~~~~~~~~~~~~~~~~~~~~~~~~~~~~~~~~~~~~~~~~~~~~~~~~~~~~~~~~~~~~~~~~~~\n"
     ]
    },
    {
     "data": {
      "text/html": [
       "<li><a href=https://babel.hathitrust.org/cgi/pt?id=mdp.39015038102524>b'Collected short stories /' (1996)</a><br></li>"
      ],
      "text/plain": [
       "<__main__.Printable_Hathi at 0x7f08c5aca898>"
      ]
     },
     "metadata": {},
     "output_type": "display_data"
    },
    {
     "data": {
      "text/html": [
       "<li><a href=https://babel.hathitrust.org/cgi/pt?id=uc1.b4376073>b'An American omnibus.' (1933)</a><br></li>"
      ],
      "text/plain": [
       "<__main__.Printable_Hathi at 0x7f08c5ac2ef0>"
      ]
     },
     "metadata": {},
     "output_type": "display_data"
    },
    {
     "data": {
      "text/html": [
       "<li><a href=https://babel.hathitrust.org/cgi/pt?id=mdp.39015014756285>b'The magic of Xanth /' (1981)</a><br></li>"
      ],
      "text/plain": [
       "<__main__.Printable_Hathi at 0x7f08c5ac2ef0>"
      ]
     },
     "metadata": {},
     "output_type": "display_data"
    },
    {
     "data": {
      "text/html": [
       "<li><a href=https://babel.hathitrust.org/cgi/pt?id=mdp.39015060029512>b'The black chalice /' (2000)</a><br></li>"
      ],
      "text/plain": [
       "<__main__.Printable_Hathi at 0x7f08c5ac2ef0>"
      ]
     },
     "metadata": {},
     "output_type": "display_data"
    },
    {
     "data": {
      "text/html": [
       "<li><a href=https://babel.hathitrust.org/cgi/pt?id=inu.30000109821292>b'We the underpeople /' (2006)</a><br></li>"
      ],
      "text/plain": [
       "<__main__.Printable_Hathi at 0x7f08c5ac2ef0>"
      ]
     },
     "metadata": {},
     "output_type": "display_data"
    },
    {
     "name": "stdout",
     "output_type": "stream",
     "text": [
      "~~~~~~~~~~~~~~~~~~~~~~~~~~~~~~~~~~~~~~~~~~~~~~~~~~~~~~~~~~~~~~~~~~~~~~~~~~~~~~~~~~~~~~~~~~~~~~~~~~~~\n",
      "CLUSTER 4\n",
      "~~~~~~~~~~~~~~~~~~~~~~~~~~~~~~~~~~~~~~~~~~~~~~~~~~~~~~~~~~~~~~~~~~~~~~~~~~~~~~~~~~~~~~~~~~~~~~~~~~~~\n"
     ]
    },
    {
     "data": {
      "text/html": [
       "<li><a href=https://babel.hathitrust.org/cgi/pt?id=uc1.b3810808>b'Europa in limbo' (1937)</a><br></li>"
      ],
      "text/plain": [
       "<__main__.Printable_Hathi at 0x7f08c5aca6a0>"
      ]
     },
     "metadata": {},
     "output_type": "display_data"
    },
    {
     "data": {
      "text/html": [
       "<li><a href=https://babel.hathitrust.org/cgi/pt?id=inu.32000013321965>b'... In China now.' (1941)</a><br></li>"
      ],
      "text/plain": [
       "<__main__.Printable_Hathi at 0x7f08c5ac2e48>"
      ]
     },
     "metadata": {},
     "output_type": "display_data"
    },
    {
     "data": {
      "text/html": [
       "<li><a href=https://babel.hathitrust.org/cgi/pt?id=mdp.49015002637412>b'Normandy : a novel /' (1995)</a><br></li>"
      ],
      "text/plain": [
       "<__main__.Printable_Hathi at 0x7f08c5ac2e48>"
      ]
     },
     "metadata": {},
     "output_type": "display_data"
    },
    {
     "data": {
      "text/html": [
       "<li><a href=https://babel.hathitrust.org/cgi/pt?id=uc1.$b104051>b'Red ravage : a novel of the experiences of an American in the Philippines /' (1953)</a><br></li>"
      ],
      "text/plain": [
       "<__main__.Printable_Hathi at 0x7f08c5ac2e48>"
      ]
     },
     "metadata": {},
     "output_type": "display_data"
    },
    {
     "data": {
      "text/html": [
       "<li><a href=https://babel.hathitrust.org/cgi/pt?id=mdp.39015027912156>b'The Battle of Cape Esperance; encounter at Guadalcanal.' (1968)</a><br></li>"
      ],
      "text/plain": [
       "<__main__.Printable_Hathi at 0x7f08c5ac2e48>"
      ]
     },
     "metadata": {},
     "output_type": "display_data"
    },
    {
     "name": "stdout",
     "output_type": "stream",
     "text": [
      "~~~~~~~~~~~~~~~~~~~~~~~~~~~~~~~~~~~~~~~~~~~~~~~~~~~~~~~~~~~~~~~~~~~~~~~~~~~~~~~~~~~~~~~~~~~~~~~~~~~~\n",
      "CLUSTER 5\n",
      "~~~~~~~~~~~~~~~~~~~~~~~~~~~~~~~~~~~~~~~~~~~~~~~~~~~~~~~~~~~~~~~~~~~~~~~~~~~~~~~~~~~~~~~~~~~~~~~~~~~~\n"
     ]
    },
    {
     "data": {
      "text/html": [
       "<li><a href=https://babel.hathitrust.org/cgi/pt?id=mdp.39015028870882>b'Minimax : a novel /' (1991)</a><br></li>"
      ],
      "text/plain": [
       "<__main__.Printable_Hathi at 0x7f08c5aca668>"
      ]
     },
     "metadata": {},
     "output_type": "display_data"
    },
    {
     "data": {
      "text/html": [
       "<li><a href=https://babel.hathitrust.org/cgi/pt?id=uc1.$b106194>b'Behind the mirror.' (1955)</a><br></li>"
      ],
      "text/plain": [
       "<__main__.Printable_Hathi at 0x7f08c5ac2ef0>"
      ]
     },
     "metadata": {},
     "output_type": "display_data"
    },
    {
     "data": {
      "text/html": [
       "<li><a href=https://babel.hathitrust.org/cgi/pt?id=uc1.b4390013>b'The Soviet character : short stories ; [translated from the Russian].' (1987)</a><br></li>"
      ],
      "text/plain": [
       "<__main__.Printable_Hathi at 0x7f08c5ac2ef0>"
      ]
     },
     "metadata": {},
     "output_type": "display_data"
    },
    {
     "data": {
      "text/html": [
       "<li><a href=https://babel.hathitrust.org/cgi/pt?id=nyp.33433074791058>b'The mystery of the hated man and then some /' (1916)</a><br></li>"
      ],
      "text/plain": [
       "<__main__.Printable_Hathi at 0x7f08c5ac2ef0>"
      ]
     },
     "metadata": {},
     "output_type": "display_data"
    },
    {
     "data": {
      "text/html": [
       "<li><a href=https://babel.hathitrust.org/cgi/pt?id=uc1.$b236286>b'Night by my witness : a novel /' (1952)</a><br></li>"
      ],
      "text/plain": [
       "<__main__.Printable_Hathi at 0x7f08c5ac2ef0>"
      ]
     },
     "metadata": {},
     "output_type": "display_data"
    },
    {
     "name": "stdout",
     "output_type": "stream",
     "text": [
      "~~~~~~~~~~~~~~~~~~~~~~~~~~~~~~~~~~~~~~~~~~~~~~~~~~~~~~~~~~~~~~~~~~~~~~~~~~~~~~~~~~~~~~~~~~~~~~~~~~~~\n",
      "CLUSTER 6\n",
      "~~~~~~~~~~~~~~~~~~~~~~~~~~~~~~~~~~~~~~~~~~~~~~~~~~~~~~~~~~~~~~~~~~~~~~~~~~~~~~~~~~~~~~~~~~~~~~~~~~~~\n"
     ]
    },
    {
     "data": {
      "text/html": [
       "<li><a href=https://babel.hathitrust.org/cgi/pt?id=uc2.ark:/13960/t2f76951h>b'Works.' (1880)</a><br></li>"
      ],
      "text/plain": [
       "<__main__.Printable_Hathi at 0x7f08c5ac2ef0>"
      ]
     },
     "metadata": {},
     "output_type": "display_data"
    },
    {
     "data": {
      "text/html": [
       "<li><a href=https://babel.hathitrust.org/cgi/pt?id=mdp.39015055590288>b'The home and the world,' (1919)</a><br></li>"
      ],
      "text/plain": [
       "<__main__.Printable_Hathi at 0x7f08c5ac2ef0>"
      ]
     },
     "metadata": {},
     "output_type": "display_data"
    },
    {
     "data": {
      "text/html": [
       "<li><a href=https://babel.hathitrust.org/cgi/pt?id=uc2.ark:/13960/t3hx16445>b'A gentleman player; his adventures on a secret mission for Queen Elizabeth,' (1899)</a><br></li>"
      ],
      "text/plain": [
       "<__main__.Printable_Hathi at 0x7f08c5ac2ef0>"
      ]
     },
     "metadata": {},
     "output_type": "display_data"
    },
    {
     "data": {
      "text/html": [
       "<li><a href=https://babel.hathitrust.org/cgi/pt?id=uc2.ark:/13960/t09w0g118>b'Masters of the world /' (1888)</a><br></li>"
      ],
      "text/plain": [
       "<__main__.Printable_Hathi at 0x7f08c5ac2ef0>"
      ]
     },
     "metadata": {},
     "output_type": "display_data"
    },
    {
     "data": {
      "text/html": [
       "<li><a href=https://babel.hathitrust.org/cgi/pt?id=nyp.33433074875224>b'The glorious rascal (Pretty maids all in a row)' (1915)</a><br></li>"
      ],
      "text/plain": [
       "<__main__.Printable_Hathi at 0x7f08c5ac2ef0>"
      ]
     },
     "metadata": {},
     "output_type": "display_data"
    },
    {
     "name": "stdout",
     "output_type": "stream",
     "text": [
      "~~~~~~~~~~~~~~~~~~~~~~~~~~~~~~~~~~~~~~~~~~~~~~~~~~~~~~~~~~~~~~~~~~~~~~~~~~~~~~~~~~~~~~~~~~~~~~~~~~~~\n",
      "CLUSTER 7\n",
      "~~~~~~~~~~~~~~~~~~~~~~~~~~~~~~~~~~~~~~~~~~~~~~~~~~~~~~~~~~~~~~~~~~~~~~~~~~~~~~~~~~~~~~~~~~~~~~~~~~~~\n"
     ]
    },
    {
     "data": {
      "text/html": [
       "<li><a href=https://babel.hathitrust.org/cgi/pt?id=nyp.33433074851258>b'Wessex tales : that is to say The three strangers ; A tradition of eighteen hundred and four ; The melancholy Hussar ; The withered arm ; Fellow-townsmen ; Interlopers at the Knap ; The distracted preacher /' (1912)</a><br></li>"
      ],
      "text/plain": [
       "<__main__.Printable_Hathi at 0x7f08c5acf2e8>"
      ]
     },
     "metadata": {},
     "output_type": "display_data"
    },
    {
     "data": {
      "text/html": [
       "<li><a href=https://babel.hathitrust.org/cgi/pt?id=uiuo.ark:/13960/t0bv84p5k>b'Lena, or, The silent woman /' (1852)</a><br></li>"
      ],
      "text/plain": [
       "<__main__.Printable_Hathi at 0x7f08c5acf2e8>"
      ]
     },
     "metadata": {},
     "output_type": "display_data"
    },
    {
     "data": {
      "text/html": [
       "<li><a href=https://babel.hathitrust.org/cgi/pt?id=inu.32000007188222>b'The two guardians : or, Home in this world /' (1869)</a><br></li>"
      ],
      "text/plain": [
       "<__main__.Printable_Hathi at 0x7f08c5acc438>"
      ]
     },
     "metadata": {},
     "output_type": "display_data"
    },
    {
     "data": {
      "text/html": [
       "<li><a href=https://babel.hathitrust.org/cgi/pt?id=mdp.39015063547668>b'Robert Orange, being a continuation of the history of Robert Orange, M. P., and a sequel to The school for saints,' (1900)</a><br></li>"
      ],
      "text/plain": [
       "<__main__.Printable_Hathi at 0x7f08c5acc438>"
      ]
     },
     "metadata": {},
     "output_type": "display_data"
    },
    {
     "data": {
      "text/html": [
       "<li><a href=https://babel.hathitrust.org/cgi/pt?id=mdp.39015030727682>b'A south-sea siren.' (1970)</a><br></li>"
      ],
      "text/plain": [
       "<__main__.Printable_Hathi at 0x7f08c5acc438>"
      ]
     },
     "metadata": {},
     "output_type": "display_data"
    },
    {
     "name": "stdout",
     "output_type": "stream",
     "text": [
      "~~~~~~~~~~~~~~~~~~~~~~~~~~~~~~~~~~~~~~~~~~~~~~~~~~~~~~~~~~~~~~~~~~~~~~~~~~~~~~~~~~~~~~~~~~~~~~~~~~~~\n",
      "CLUSTER 8\n",
      "~~~~~~~~~~~~~~~~~~~~~~~~~~~~~~~~~~~~~~~~~~~~~~~~~~~~~~~~~~~~~~~~~~~~~~~~~~~~~~~~~~~~~~~~~~~~~~~~~~~~\n"
     ]
    },
    {
     "data": {
      "text/html": [
       "<li><a href=https://babel.hathitrust.org/cgi/pt?id=nc01.ark:/13960/t9f48335q>b'What answer?' (1868)</a><br></li>"
      ],
      "text/plain": [
       "<__main__.Printable_Hathi at 0x7f08c5acc438>"
      ]
     },
     "metadata": {},
     "output_type": "display_data"
    },
    {
     "data": {
      "text/html": [
       "<li><a href=https://babel.hathitrust.org/cgi/pt?id=uc2.ark:/13960/t2h70896n>b\"Walter Sherwood's probation; or, Cool head and warm heart,\" (1898)</a><br></li>"
      ],
      "text/plain": [
       "<__main__.Printable_Hathi at 0x7f08c5acc438>"
      ]
     },
     "metadata": {},
     "output_type": "display_data"
    },
    {
     "data": {
      "text/html": [
       "<li><a href=https://babel.hathitrust.org/cgi/pt?id=nyp.33433074878251>b'Octavia, the octoroon,' (1900)</a><br></li>"
      ],
      "text/plain": [
       "<__main__.Printable_Hathi at 0x7f08c5acc438>"
      ]
     },
     "metadata": {},
     "output_type": "display_data"
    },
    {
     "data": {
      "text/html": [
       "<li><a href=https://babel.hathitrust.org/cgi/pt?id=uc2.ark:/13960/t9d50gk23>b'The lash  /' (1909)</a><br></li>"
      ],
      "text/plain": [
       "<__main__.Printable_Hathi at 0x7f08c5acc438>"
      ]
     },
     "metadata": {},
     "output_type": "display_data"
    },
    {
     "data": {
      "text/html": [
       "<li><a href=https://babel.hathitrust.org/cgi/pt?id=uc2.ark:/13960/t6xw49t75>b'The knight-errant : a novel of to-day /' (1911)</a><br></li>"
      ],
      "text/plain": [
       "<__main__.Printable_Hathi at 0x7f08c5acc438>"
      ]
     },
     "metadata": {},
     "output_type": "display_data"
    },
    {
     "name": "stdout",
     "output_type": "stream",
     "text": [
      "~~~~~~~~~~~~~~~~~~~~~~~~~~~~~~~~~~~~~~~~~~~~~~~~~~~~~~~~~~~~~~~~~~~~~~~~~~~~~~~~~~~~~~~~~~~~~~~~~~~~\n",
      "CLUSTER 9\n",
      "~~~~~~~~~~~~~~~~~~~~~~~~~~~~~~~~~~~~~~~~~~~~~~~~~~~~~~~~~~~~~~~~~~~~~~~~~~~~~~~~~~~~~~~~~~~~~~~~~~~~\n"
     ]
    },
    {
     "data": {
      "text/html": [
       "<li><a href=https://babel.hathitrust.org/cgi/pt?id=uc1.$b803329>b'It never rains in Los Angeles.' (1970)</a><br></li>"
      ],
      "text/plain": [
       "<__main__.Printable_Hathi at 0x7f08c5acc438>"
      ]
     },
     "metadata": {},
     "output_type": "display_data"
    },
    {
     "data": {
      "text/html": [
       "<li><a href=https://babel.hathitrust.org/cgi/pt?id=mdp.39015070756740>b'The elves of Cintra /' (2007)</a><br></li>"
      ],
      "text/plain": [
       "<__main__.Printable_Hathi at 0x7f08c5acc438>"
      ]
     },
     "metadata": {},
     "output_type": "display_data"
    },
    {
     "data": {
      "text/html": [
       "<li><a href=https://babel.hathitrust.org/cgi/pt?id=mdp.39015031233433>b'Grips; or, Efforts to revive the host' (1972)</a><br></li>"
      ],
      "text/plain": [
       "<__main__.Printable_Hathi at 0x7f08c5acc438>"
      ]
     },
     "metadata": {},
     "output_type": "display_data"
    },
    {
     "data": {
      "text/html": [
       "<li><a href=https://babel.hathitrust.org/cgi/pt?id=mdp.39015005216281>b'The star treasure; a science fiction novel.' (1971)</a><br></li>"
      ],
      "text/plain": [
       "<__main__.Printable_Hathi at 0x7f08c5acc438>"
      ]
     },
     "metadata": {},
     "output_type": "display_data"
    },
    {
     "data": {
      "text/html": [
       "<li><a href=https://babel.hathitrust.org/cgi/pt?id=uc1.b3158708>b'Eternal wind' (1975)</a><br></li>"
      ],
      "text/plain": [
       "<__main__.Printable_Hathi at 0x7f08c5acc438>"
      ]
     },
     "metadata": {},
     "output_type": "display_data"
    },
    {
     "name": "stdout",
     "output_type": "stream",
     "text": [
      "~~~~~~~~~~~~~~~~~~~~~~~~~~~~~~~~~~~~~~~~~~~~~~~~~~~~~~~~~~~~~~~~~~~~~~~~~~~~~~~~~~~~~~~~~~~~~~~~~~~~\n",
      "CLUSTER 10\n",
      "~~~~~~~~~~~~~~~~~~~~~~~~~~~~~~~~~~~~~~~~~~~~~~~~~~~~~~~~~~~~~~~~~~~~~~~~~~~~~~~~~~~~~~~~~~~~~~~~~~~~\n"
     ]
    },
    {
     "data": {
      "text/html": [
       "<li><a href=https://babel.hathitrust.org/cgi/pt?id=nyp.33433076021595>b'Married in haste /' (1870)</a><br></li>"
      ],
      "text/plain": [
       "<__main__.Printable_Hathi at 0x7f08c5ad1080>"
      ]
     },
     "metadata": {},
     "output_type": "display_data"
    },
    {
     "data": {
      "text/html": [
       "<li><a href=https://babel.hathitrust.org/cgi/pt?id=mdp.39015024877857>b\"L'arrabiata and other tales,\" (1867)</a><br></li>"
      ],
      "text/plain": [
       "<__main__.Printable_Hathi at 0x7f08c5ad1080>"
      ]
     },
     "metadata": {},
     "output_type": "display_data"
    },
    {
     "data": {
      "text/html": [
       "<li><a href=https://babel.hathitrust.org/cgi/pt?id=uiuo.ark:/13960/t6c258k0c>b'Not while she lives : a novel /' (1870)</a><br></li>"
      ],
      "text/plain": [
       "<__main__.Printable_Hathi at 0x7f08c5ad1080>"
      ]
     },
     "metadata": {},
     "output_type": "display_data"
    },
    {
     "data": {
      "text/html": [
       "<li><a href=https://babel.hathitrust.org/cgi/pt?id=njp.32101068174703>b'A crown from the spear /' (1872)</a><br></li>"
      ],
      "text/plain": [
       "<__main__.Printable_Hathi at 0x7f08c5ad1080>"
      ]
     },
     "metadata": {},
     "output_type": "display_data"
    },
    {
     "data": {
      "text/html": [
       "<li><a href=https://babel.hathitrust.org/cgi/pt?id=njp.32101069186383>b'Clip her wing; or, let her soar. A novel.' (1889)</a><br></li>"
      ],
      "text/plain": [
       "<__main__.Printable_Hathi at 0x7f08c5ad1080>"
      ]
     },
     "metadata": {},
     "output_type": "display_data"
    },
    {
     "name": "stdout",
     "output_type": "stream",
     "text": [
      "~~~~~~~~~~~~~~~~~~~~~~~~~~~~~~~~~~~~~~~~~~~~~~~~~~~~~~~~~~~~~~~~~~~~~~~~~~~~~~~~~~~~~~~~~~~~~~~~~~~~\n",
      "CLUSTER 11\n",
      "~~~~~~~~~~~~~~~~~~~~~~~~~~~~~~~~~~~~~~~~~~~~~~~~~~~~~~~~~~~~~~~~~~~~~~~~~~~~~~~~~~~~~~~~~~~~~~~~~~~~\n"
     ]
    },
    {
     "data": {
      "text/html": [
       "<li><a href=https://babel.hathitrust.org/cgi/pt?id=loc.ark:/13960/t2f76g630>b'Willie and his papa, and the rest of the family,' (1901)</a><br></li>"
      ],
      "text/plain": [
       "<__main__.Printable_Hathi at 0x7f08c5ad1c18>"
      ]
     },
     "metadata": {},
     "output_type": "display_data"
    },
    {
     "data": {
      "text/html": [
       "<li><a href=https://babel.hathitrust.org/cgi/pt?id=uc1.b4101900>b'Red Rooster;' (1950)</a><br></li>"
      ],
      "text/plain": [
       "<__main__.Printable_Hathi at 0x7f08c5ad1c18>"
      ]
     },
     "metadata": {},
     "output_type": "display_data"
    },
    {
     "data": {
      "text/html": [
       "<li><a href=https://babel.hathitrust.org/cgi/pt?id=mdp.39076002719958>b'Tales of a poultry farm,' (1904)</a><br></li>"
      ],
      "text/plain": [
       "<__main__.Printable_Hathi at 0x7f08c5ad1c18>"
      ]
     },
     "metadata": {},
     "output_type": "display_data"
    },
    {
     "data": {
      "text/html": [
       "<li><a href=https://babel.hathitrust.org/cgi/pt?id=nyp.33433082523774>b'The chickens of fowl farm; a story.' (1898)</a><br></li>"
      ],
      "text/plain": [
       "<__main__.Printable_Hathi at 0x7f08c5ad1c18>"
      ]
     },
     "metadata": {},
     "output_type": "display_data"
    },
    {
     "data": {
      "text/html": [
       "<li><a href=https://babel.hathitrust.org/cgi/pt?id=mdp.39076006982578>b'Willy is my brother.' (1963)</a><br></li>"
      ],
      "text/plain": [
       "<__main__.Printable_Hathi at 0x7f08c5ad1c18>"
      ]
     },
     "metadata": {},
     "output_type": "display_data"
    },
    {
     "name": "stdout",
     "output_type": "stream",
     "text": [
      "~~~~~~~~~~~~~~~~~~~~~~~~~~~~~~~~~~~~~~~~~~~~~~~~~~~~~~~~~~~~~~~~~~~~~~~~~~~~~~~~~~~~~~~~~~~~~~~~~~~~\n",
      "CLUSTER 12\n",
      "~~~~~~~~~~~~~~~~~~~~~~~~~~~~~~~~~~~~~~~~~~~~~~~~~~~~~~~~~~~~~~~~~~~~~~~~~~~~~~~~~~~~~~~~~~~~~~~~~~~~\n"
     ]
    },
    {
     "data": {
      "text/html": [
       "<li><a href=https://babel.hathitrust.org/cgi/pt?id=osu.32435059733964>b'Two sought adventure : exploits of Fafhrd and the Gray Mouser /' (1957)</a><br></li>"
      ],
      "text/plain": [
       "<__main__.Printable_Hathi at 0x7f08c5ad1c18>"
      ]
     },
     "metadata": {},
     "output_type": "display_data"
    },
    {
     "data": {
      "text/html": [
       "<li><a href=https://babel.hathitrust.org/cgi/pt?id=mdp.39015063154507>b'Flight of the seventh moon : the teaching of the shields /' (1985)</a><br></li>"
      ],
      "text/plain": [
       "<__main__.Printable_Hathi at 0x7f08c5ad1c18>"
      ]
     },
     "metadata": {},
     "output_type": "display_data"
    },
    {
     "data": {
      "text/html": [
       "<li><a href=https://babel.hathitrust.org/cgi/pt?id=mdp.39015032324264>b'The song of Jed Smith,' (1941)</a><br></li>"
      ],
      "text/plain": [
       "<__main__.Printable_Hathi at 0x7f08c5ad1c18>"
      ]
     },
     "metadata": {},
     "output_type": "display_data"
    },
    {
     "data": {
      "text/html": [
       "<li><a href=https://babel.hathitrust.org/cgi/pt?id=mdp.39076006915370>b'Huasipungo.' (1962)</a><br></li>"
      ],
      "text/plain": [
       "<__main__.Printable_Hathi at 0x7f08c5ad1c18>"
      ]
     },
     "metadata": {},
     "output_type": "display_data"
    },
    {
     "data": {
      "text/html": [
       "<li><a href=https://babel.hathitrust.org/cgi/pt?id=uc2.ark:/13960/t40r9nm2s>b'The haunters of the silences; a book of animal life,' (1907)</a><br></li>"
      ],
      "text/plain": [
       "<__main__.Printable_Hathi at 0x7f08c5adc550>"
      ]
     },
     "metadata": {},
     "output_type": "display_data"
    },
    {
     "name": "stdout",
     "output_type": "stream",
     "text": [
      "~~~~~~~~~~~~~~~~~~~~~~~~~~~~~~~~~~~~~~~~~~~~~~~~~~~~~~~~~~~~~~~~~~~~~~~~~~~~~~~~~~~~~~~~~~~~~~~~~~~~\n",
      "CLUSTER 13\n",
      "~~~~~~~~~~~~~~~~~~~~~~~~~~~~~~~~~~~~~~~~~~~~~~~~~~~~~~~~~~~~~~~~~~~~~~~~~~~~~~~~~~~~~~~~~~~~~~~~~~~~\n"
     ]
    },
    {
     "data": {
      "text/html": [
       "<li><a href=https://babel.hathitrust.org/cgi/pt?id=pst.000030348394>b'Stories by foreign authors.' (1970)</a><br></li>"
      ],
      "text/plain": [
       "<__main__.Printable_Hathi at 0x7f08c5adaac8>"
      ]
     },
     "metadata": {},
     "output_type": "display_data"
    },
    {
     "data": {
      "text/html": [
       "<li><a href=https://babel.hathitrust.org/cgi/pt?id=mdp.39076005189555>b'Gloria; a novel.' (1974)</a><br></li>"
      ],
      "text/plain": [
       "<__main__.Printable_Hathi at 0x7f08c5adaac8>"
      ]
     },
     "metadata": {},
     "output_type": "display_data"
    },
    {
     "data": {
      "text/html": [
       "<li><a href=https://babel.hathitrust.org/cgi/pt?id=nyp.33433075819635>b'Love the avenger.' (1869)</a><br></li>"
      ],
      "text/plain": [
       "<__main__.Printable_Hathi at 0x7f08c5adaac8>"
      ]
     },
     "metadata": {},
     "output_type": "display_data"
    },
    {
     "data": {
      "text/html": [
       "<li><a href=https://babel.hathitrust.org/cgi/pt?id=coo.31924088397629>b'The novels complete and unabridged of Victor Hugo.' (1902)</a><br></li>"
      ],
      "text/plain": [
       "<__main__.Printable_Hathi at 0x7f08c5adaac8>"
      ]
     },
     "metadata": {},
     "output_type": "display_data"
    },
    {
     "data": {
      "text/html": [
       "<li><a href=https://babel.hathitrust.org/cgi/pt?id=uc2.ark:/13960/t80k2883z>b'Novels by Paul de Kock.' (1903)</a><br></li>"
      ],
      "text/plain": [
       "<__main__.Printable_Hathi at 0x7f08c5adaac8>"
      ]
     },
     "metadata": {},
     "output_type": "display_data"
    },
    {
     "name": "stdout",
     "output_type": "stream",
     "text": [
      "~~~~~~~~~~~~~~~~~~~~~~~~~~~~~~~~~~~~~~~~~~~~~~~~~~~~~~~~~~~~~~~~~~~~~~~~~~~~~~~~~~~~~~~~~~~~~~~~~~~~\n",
      "CLUSTER 14\n",
      "~~~~~~~~~~~~~~~~~~~~~~~~~~~~~~~~~~~~~~~~~~~~~~~~~~~~~~~~~~~~~~~~~~~~~~~~~~~~~~~~~~~~~~~~~~~~~~~~~~~~\n"
     ]
    },
    {
     "data": {
      "text/html": [
       "<li><a href=https://babel.hathitrust.org/cgi/pt?id=coo.31924001071467>b'Dimension theory ... A lecture given at the Galois institute of mathematics at Long Island university.' (1936)</a><br></li>"
      ],
      "text/plain": [
       "<__main__.Printable_Hathi at 0x7f08c5adaac8>"
      ]
     },
     "metadata": {},
     "output_type": "display_data"
    },
    {
     "data": {
      "text/html": [
       "<li><a href=https://babel.hathitrust.org/cgi/pt?id=uc1.$b53420>b'The pit-dwellers of Hokkaido and Ainu place-names considered /' (1925)</a><br></li>"
      ],
      "text/plain": [
       "<__main__.Printable_Hathi at 0x7f08c5adaac8>"
      ]
     },
     "metadata": {},
     "output_type": "display_data"
    },
    {
     "data": {
      "text/html": [
       "<li><a href=https://babel.hathitrust.org/cgi/pt?id=loc.ark:/13960/t2h713457>b'A bullet from the battle-field of Mission Ridge,' (1895)</a><br></li>"
      ],
      "text/plain": [
       "<__main__.Printable_Hathi at 0x7f08c5adaac8>"
      ]
     },
     "metadata": {},
     "output_type": "display_data"
    },
    {
     "data": {
      "text/html": [
       "<li><a href=https://babel.hathitrust.org/cgi/pt?id=pst.000007602818>b'Lilias yoga and you /' (1976)</a><br></li>"
      ],
      "text/plain": [
       "<__main__.Printable_Hathi at 0x7f08c5adaac8>"
      ]
     },
     "metadata": {},
     "output_type": "display_data"
    },
    {
     "data": {
      "text/html": [
       "<li><a href=https://babel.hathitrust.org/cgi/pt?id=mdp.39015030009701>b'The rock tombs of El Amarna ...' (1903)</a><br></li>"
      ],
      "text/plain": [
       "<__main__.Printable_Hathi at 0x7f08c5adaac8>"
      ]
     },
     "metadata": {},
     "output_type": "display_data"
    },
    {
     "name": "stdout",
     "output_type": "stream",
     "text": [
      "~~~~~~~~~~~~~~~~~~~~~~~~~~~~~~~~~~~~~~~~~~~~~~~~~~~~~~~~~~~~~~~~~~~~~~~~~~~~~~~~~~~~~~~~~~~~~~~~~~~~\n",
      "CLUSTER 15\n",
      "~~~~~~~~~~~~~~~~~~~~~~~~~~~~~~~~~~~~~~~~~~~~~~~~~~~~~~~~~~~~~~~~~~~~~~~~~~~~~~~~~~~~~~~~~~~~~~~~~~~~\n"
     ]
    },
    {
     "data": {
      "text/html": [
       "<li><a href=https://babel.hathitrust.org/cgi/pt?id=uc2.ark:/13960/t50g3jc0p>b'A description of Millenium Hall, and the country adjacent : together with the characters of the inhabitants, and such historical anecdotes and reflections, as may excite in the reader proper sentiments of humanity, and lead the mind to the love of virtue /' (1762)</a><br></li>"
      ],
      "text/plain": [
       "<__main__.Printable_Hathi at 0x7f08c5a6d438>"
      ]
     },
     "metadata": {},
     "output_type": "display_data"
    },
    {
     "data": {
      "text/html": [
       "<li><a href=https://babel.hathitrust.org/cgi/pt?id=nnc1.0037112007>b'The life and entertaining adventures of Mr. Cleveland; natural son of Oliver Cromwell,' (1760)</a><br></li>"
      ],
      "text/plain": [
       "<__main__.Printable_Hathi at 0x7f08c5a6d438>"
      ]
     },
     "metadata": {},
     "output_type": "display_data"
    },
    {
     "data": {
      "text/html": [
       "<li><a href=https://babel.hathitrust.org/cgi/pt?id=nyp.33433074913355>b'A simple story. In four volumes.' (1791)</a><br></li>"
      ],
      "text/plain": [
       "<__main__.Printable_Hathi at 0x7f08c5a6d438>"
      ]
     },
     "metadata": {},
     "output_type": "display_data"
    },
    {
     "data": {
      "text/html": [
       "<li><a href=https://babel.hathitrust.org/cgi/pt?id=dul1.ark:/13960/t4hm5zs2h>b'The history of Jemmy and Jenny Jessamy : in three volumes /' (1753)</a><br></li>"
      ],
      "text/plain": [
       "<__main__.Printable_Hathi at 0x7f08c5a6d438>"
      ]
     },
     "metadata": {},
     "output_type": "display_data"
    },
    {
     "data": {
      "text/html": [
       "<li><a href=https://babel.hathitrust.org/cgi/pt?id=hvd.hn2hec>b'Lucinda, or, Virtue triumphant : a moral tale /' (1801)</a><br></li>"
      ],
      "text/plain": [
       "<__main__.Printable_Hathi at 0x7f08c5a6d438>"
      ]
     },
     "metadata": {},
     "output_type": "display_data"
    },
    {
     "name": "stdout",
     "output_type": "stream",
     "text": [
      "~~~~~~~~~~~~~~~~~~~~~~~~~~~~~~~~~~~~~~~~~~~~~~~~~~~~~~~~~~~~~~~~~~~~~~~~~~~~~~~~~~~~~~~~~~~~~~~~~~~~\n",
      "CLUSTER 16\n",
      "~~~~~~~~~~~~~~~~~~~~~~~~~~~~~~~~~~~~~~~~~~~~~~~~~~~~~~~~~~~~~~~~~~~~~~~~~~~~~~~~~~~~~~~~~~~~~~~~~~~~\n"
     ]
    },
    {
     "data": {
      "text/html": [
       "<li><a href=https://babel.hathitrust.org/cgi/pt?id=uc1.32106008747328>b'The Lesbian reader /' (1975)</a><br></li>"
      ],
      "text/plain": [
       "<__main__.Printable_Hathi at 0x7f08c5adc550>"
      ]
     },
     "metadata": {},
     "output_type": "display_data"
    },
    {
     "data": {
      "text/html": [
       "<li><a href=https://babel.hathitrust.org/cgi/pt?id=uc2.ark:/13960/t3319tq14>b'The right knock : a story /' (1889)</a><br></li>"
      ],
      "text/plain": [
       "<__main__.Printable_Hathi at 0x7f08c5adc550>"
      ]
     },
     "metadata": {},
     "output_type": "display_data"
    },
    {
     "data": {
      "text/html": [
       "<li><a href=https://babel.hathitrust.org/cgi/pt?id=uiuo.ark:/13960/t3jw8rg1f>b\"A Country curate's autobiography, or, Passages of a life without a living. 1\" (1836)</a><br></li>"
      ],
      "text/plain": [
       "<__main__.Printable_Hathi at 0x7f08c5adc550>"
      ]
     },
     "metadata": {},
     "output_type": "display_data"
    },
    {
     "data": {
      "text/html": [
       "<li><a href=https://babel.hathitrust.org/cgi/pt?id=pst.000062910897>b'Eastern wisdom for your soul : 111 meditations for everyday enlightenment /' (2007)</a><br></li>"
      ],
      "text/plain": [
       "<__main__.Printable_Hathi at 0x7f08c5adc550>"
      ]
     },
     "metadata": {},
     "output_type": "display_data"
    },
    {
     "data": {
      "text/html": [
       "<li><a href=https://babel.hathitrust.org/cgi/pt?id=mdp.39015052821371>b'The writings of William Gilmore Simms. Centennial edition.' (1969)</a><br></li>"
      ],
      "text/plain": [
       "<__main__.Printable_Hathi at 0x7f08c5adc550>"
      ]
     },
     "metadata": {},
     "output_type": "display_data"
    },
    {
     "name": "stdout",
     "output_type": "stream",
     "text": [
      "~~~~~~~~~~~~~~~~~~~~~~~~~~~~~~~~~~~~~~~~~~~~~~~~~~~~~~~~~~~~~~~~~~~~~~~~~~~~~~~~~~~~~~~~~~~~~~~~~~~~\n",
      "CLUSTER 17\n",
      "~~~~~~~~~~~~~~~~~~~~~~~~~~~~~~~~~~~~~~~~~~~~~~~~~~~~~~~~~~~~~~~~~~~~~~~~~~~~~~~~~~~~~~~~~~~~~~~~~~~~\n"
     ]
    },
    {
     "data": {
      "text/html": [
       "<li><a href=https://babel.hathitrust.org/cgi/pt?id=nyp.33433074950548>b'Tales and novels,' (1836)</a><br></li>"
      ],
      "text/plain": [
       "<__main__.Printable_Hathi at 0x7f08c5adaac8>"
      ]
     },
     "metadata": {},
     "output_type": "display_data"
    },
    {
     "data": {
      "text/html": [
       "<li><a href=https://babel.hathitrust.org/cgi/pt?id=uva.x004613945>b'Sir Ralph Esher:' (1850)</a><br></li>"
      ],
      "text/plain": [
       "<__main__.Printable_Hathi at 0x7f08c5adaac8>"
      ]
     },
     "metadata": {},
     "output_type": "display_data"
    },
    {
     "data": {
      "text/html": [
       "<li><a href=https://babel.hathitrust.org/cgi/pt?id=nyp.33433075906291>b'A woman-hater. A novel.' (1877)</a><br></li>"
      ],
      "text/plain": [
       "<__main__.Printable_Hathi at 0x7f08c5adaac8>"
      ]
     },
     "metadata": {},
     "output_type": "display_data"
    },
    {
     "data": {
      "text/html": [
       "<li><a href=https://babel.hathitrust.org/cgi/pt?id=mdp.39015063931029>b'Getting on: a tale of modern English life ...' (1860)</a><br></li>"
      ],
      "text/plain": [
       "<__main__.Printable_Hathi at 0x7f08c5adaac8>"
      ]
     },
     "metadata": {},
     "output_type": "display_data"
    },
    {
     "data": {
      "text/html": [
       "<li><a href=https://babel.hathitrust.org/cgi/pt?id=mdp.39015000599715>b'The tales of Henry James.' (1973)</a><br></li>"
      ],
      "text/plain": [
       "<__main__.Printable_Hathi at 0x7f08c5a7cb00>"
      ]
     },
     "metadata": {},
     "output_type": "display_data"
    },
    {
     "name": "stdout",
     "output_type": "stream",
     "text": [
      "~~~~~~~~~~~~~~~~~~~~~~~~~~~~~~~~~~~~~~~~~~~~~~~~~~~~~~~~~~~~~~~~~~~~~~~~~~~~~~~~~~~~~~~~~~~~~~~~~~~~\n",
      "CLUSTER 18\n",
      "~~~~~~~~~~~~~~~~~~~~~~~~~~~~~~~~~~~~~~~~~~~~~~~~~~~~~~~~~~~~~~~~~~~~~~~~~~~~~~~~~~~~~~~~~~~~~~~~~~~~\n"
     ]
    },
    {
     "data": {
      "text/html": [
       "<li><a href=https://babel.hathitrust.org/cgi/pt?id=mdp.39015062269264>b'Light through the mist; quairains based on maxims and apothegms found in Aboth (the Fathers)' (1950)</a><br></li>"
      ],
      "text/plain": [
       "<__main__.Printable_Hathi at 0x7f08c5a71e48>"
      ]
     },
     "metadata": {},
     "output_type": "display_data"
    },
    {
     "data": {
      "text/html": [
       "<li><a href=https://babel.hathitrust.org/cgi/pt?id=uc2.ark:/13960/t6930qn3x>b'The Italian novelists /' (1901)</a><br></li>"
      ],
      "text/plain": [
       "<__main__.Printable_Hathi at 0x7f08c5a71e48>"
      ]
     },
     "metadata": {},
     "output_type": "display_data"
    },
    {
     "data": {
      "text/html": [
       "<li><a href=https://babel.hathitrust.org/cgi/pt?id=uc2.ark:/13960/t2g73914b>b'Shakespeare jest-books : reprints of the early and very rare jest-books supposed to have been used by Shakespeare /' (1864)</a><br></li>"
      ],
      "text/plain": [
       "<__main__.Printable_Hathi at 0x7f08c5a71e48>"
      ]
     },
     "metadata": {},
     "output_type": "display_data"
    },
    {
     "data": {
      "text/html": [
       "<li><a href=https://babel.hathitrust.org/cgi/pt?id=uc1.b4334398>b'Great books of the Western World /' (1952)</a><br></li>"
      ],
      "text/plain": [
       "<__main__.Printable_Hathi at 0x7f08c5a71e48>"
      ]
     },
     "metadata": {},
     "output_type": "display_data"
    },
    {
     "data": {
      "text/html": [
       "<li><a href=https://babel.hathitrust.org/cgi/pt?id=mdp.39015041904213>b'Sidonia the sorceress, the supposed destroyer of the whole reigning ducal house of Pomerania,' (1894)</a><br></li>"
      ],
      "text/plain": [
       "<__main__.Printable_Hathi at 0x7f08c5a71e48>"
      ]
     },
     "metadata": {},
     "output_type": "display_data"
    },
    {
     "name": "stdout",
     "output_type": "stream",
     "text": [
      "~~~~~~~~~~~~~~~~~~~~~~~~~~~~~~~~~~~~~~~~~~~~~~~~~~~~~~~~~~~~~~~~~~~~~~~~~~~~~~~~~~~~~~~~~~~~~~~~~~~~\n",
      "CLUSTER 19\n",
      "~~~~~~~~~~~~~~~~~~~~~~~~~~~~~~~~~~~~~~~~~~~~~~~~~~~~~~~~~~~~~~~~~~~~~~~~~~~~~~~~~~~~~~~~~~~~~~~~~~~~\n"
     ]
    },
    {
     "data": {
      "text/html": [
       "<li><a href=https://babel.hathitrust.org/cgi/pt?id=mdp.39015081382700>b\"Mrs. Andrew Johnson Jones' handmaid /\" (1912)</a><br></li>"
      ],
      "text/plain": [
       "<__main__.Printable_Hathi at 0x7f08c5a71cf8>"
      ]
     },
     "metadata": {},
     "output_type": "display_data"
    },
    {
     "data": {
      "text/html": [
       "<li><a href=https://babel.hathitrust.org/cgi/pt?id=uc2.ark:/13960/t88g8hg8p>b'Across the campus : a story of college life /' (1899)</a><br></li>"
      ],
      "text/plain": [
       "<__main__.Printable_Hathi at 0x7f08c5a71cf8>"
      ]
     },
     "metadata": {},
     "output_type": "display_data"
    },
    {
     "data": {
      "text/html": [
       "<li><a href=https://babel.hathitrust.org/cgi/pt?id=nyp.33433082524392>b'Jane Allen : center,' (1920)</a><br></li>"
      ],
      "text/plain": [
       "<__main__.Printable_Hathi at 0x7f08c5a71cf8>"
      ]
     },
     "metadata": {},
     "output_type": "display_data"
    },
    {
     "data": {
      "text/html": [
       "<li><a href=https://babel.hathitrust.org/cgi/pt?id=mdp.39015002972886>b'My mother and I,' (1917)</a><br></li>"
      ],
      "text/plain": [
       "<__main__.Printable_Hathi at 0x7f08c5a71cf8>"
      ]
     },
     "metadata": {},
     "output_type": "display_data"
    },
    {
     "data": {
      "text/html": [
       "<li><a href=https://babel.hathitrust.org/cgi/pt?id=nyp.33433076026131>b'Ten old maids: and five of them were wise, and five of them were foolish. A novel.' (1874)</a><br></li>"
      ],
      "text/plain": [
       "<__main__.Printable_Hathi at 0x7f08c5a71cf8>"
      ]
     },
     "metadata": {},
     "output_type": "display_data"
    },
    {
     "name": "stdout",
     "output_type": "stream",
     "text": [
      "~~~~~~~~~~~~~~~~~~~~~~~~~~~~~~~~~~~~~~~~~~~~~~~~~~~~~~~~~~~~~~~~~~~~~~~~~~~~~~~~~~~~~~~~~~~~~~~~~~~~\n",
      "CLUSTER 20\n",
      "~~~~~~~~~~~~~~~~~~~~~~~~~~~~~~~~~~~~~~~~~~~~~~~~~~~~~~~~~~~~~~~~~~~~~~~~~~~~~~~~~~~~~~~~~~~~~~~~~~~~\n"
     ]
    },
    {
     "data": {
      "text/html": [
       "<li><a href=https://babel.hathitrust.org/cgi/pt?id=uc2.ark:/13960/t8hd7qx3p>b'The Dippers /' (1920)</a><br></li>"
      ],
      "text/plain": [
       "<__main__.Printable_Hathi at 0x7f08c5a71e48>"
      ]
     },
     "metadata": {},
     "output_type": "display_data"
    },
    {
     "data": {
      "text/html": [
       "<li><a href=https://babel.hathitrust.org/cgi/pt?id=uc2.ark:/13960/t8cf9mc0p>b'I fasten a bracelet /' (1911)</a><br></li>"
      ],
      "text/plain": [
       "<__main__.Printable_Hathi at 0x7f08c5a71e48>"
      ]
     },
     "metadata": {},
     "output_type": "display_data"
    },
    {
     "data": {
      "text/html": [
       "<li><a href=https://babel.hathitrust.org/cgi/pt?id=uc2.ark:/13960/t08w39d0g>b'The Carleton case,' (1910)</a><br></li>"
      ],
      "text/plain": [
       "<__main__.Printable_Hathi at 0x7f08c5a71e48>"
      ]
     },
     "metadata": {},
     "output_type": "display_data"
    },
    {
     "data": {
      "text/html": [
       "<li><a href=https://babel.hathitrust.org/cgi/pt?id=mdp.39015020087329>b'Faraway island,' (1941)</a><br></li>"
      ],
      "text/plain": [
       "<__main__.Printable_Hathi at 0x7f08c5a71e48>"
      ]
     },
     "metadata": {},
     "output_type": "display_data"
    },
    {
     "data": {
      "text/html": [
       "<li><a href=https://babel.hathitrust.org/cgi/pt?id=nyp.33433074875778>b'What next? /' (1921)</a><br></li>"
      ],
      "text/plain": [
       "<__main__.Printable_Hathi at 0x7f08c5a71e48>"
      ]
     },
     "metadata": {},
     "output_type": "display_data"
    },
    {
     "name": "stdout",
     "output_type": "stream",
     "text": [
      "~~~~~~~~~~~~~~~~~~~~~~~~~~~~~~~~~~~~~~~~~~~~~~~~~~~~~~~~~~~~~~~~~~~~~~~~~~~~~~~~~~~~~~~~~~~~~~~~~~~~\n",
      "CLUSTER 21\n",
      "~~~~~~~~~~~~~~~~~~~~~~~~~~~~~~~~~~~~~~~~~~~~~~~~~~~~~~~~~~~~~~~~~~~~~~~~~~~~~~~~~~~~~~~~~~~~~~~~~~~~\n"
     ]
    },
    {
     "data": {
      "text/html": [
       "<li><a href=https://babel.hathitrust.org/cgi/pt?id=mdp.39015023978250>b'The defamed alley : a novel /' (1977)</a><br></li>"
      ],
      "text/plain": [
       "<__main__.Printable_Hathi at 0x7f08c5a71f28>"
      ]
     },
     "metadata": {},
     "output_type": "display_data"
    },
    {
     "data": {
      "text/html": [
       "<li><a href=https://babel.hathitrust.org/cgi/pt?id=uc1.b3799976>b'The breaker of combs and scissors /' (1985)</a><br></li>"
      ],
      "text/plain": [
       "<__main__.Printable_Hathi at 0x7f08c5a71f28>"
      ]
     },
     "metadata": {},
     "output_type": "display_data"
    },
    {
     "data": {
      "text/html": [
       "<li><a href=https://babel.hathitrust.org/cgi/pt?id=inu.30000067168520>b'Achachakolo : the sorrows of Mgboyibo : a romance /' (1990)</a><br></li>"
      ],
      "text/plain": [
       "<__main__.Printable_Hathi at 0x7f08c5a71f28>"
      ]
     },
     "metadata": {},
     "output_type": "display_data"
    },
    {
     "data": {
      "text/html": [
       "<li><a href=https://babel.hathitrust.org/cgi/pt?id=mdp.39015029977736>b'The Cord & other stories /' (1992)</a><br></li>"
      ],
      "text/plain": [
       "<__main__.Printable_Hathi at 0x7f08c5a71f28>"
      ]
     },
     "metadata": {},
     "output_type": "display_data"
    },
    {
     "data": {
      "text/html": [
       "<li><a href=https://babel.hathitrust.org/cgi/pt?id=inu.30000109359764>b'The triple clan /' (2004)</a><br></li>"
      ],
      "text/plain": [
       "<__main__.Printable_Hathi at 0x7f08c5a71f28>"
      ]
     },
     "metadata": {},
     "output_type": "display_data"
    },
    {
     "name": "stdout",
     "output_type": "stream",
     "text": [
      "~~~~~~~~~~~~~~~~~~~~~~~~~~~~~~~~~~~~~~~~~~~~~~~~~~~~~~~~~~~~~~~~~~~~~~~~~~~~~~~~~~~~~~~~~~~~~~~~~~~~\n",
      "CLUSTER 22\n",
      "~~~~~~~~~~~~~~~~~~~~~~~~~~~~~~~~~~~~~~~~~~~~~~~~~~~~~~~~~~~~~~~~~~~~~~~~~~~~~~~~~~~~~~~~~~~~~~~~~~~~\n"
     ]
    },
    {
     "data": {
      "text/html": [
       "<li><a href=https://babel.hathitrust.org/cgi/pt?id=uc2.ark:/13960/t5p844k98>b'Mrs. Raffles; being the adventures of an amateur crackswoman.' (1905)</a><br></li>"
      ],
      "text/plain": [
       "<__main__.Printable_Hathi at 0x7f08c5ada4e0>"
      ]
     },
     "metadata": {},
     "output_type": "display_data"
    },
    {
     "data": {
      "text/html": [
       "<li><a href=https://babel.hathitrust.org/cgi/pt?id=mdp.39015054096352>b'I like it here, a novel.' (1958)</a><br></li>"
      ],
      "text/plain": [
       "<__main__.Printable_Hathi at 0x7f08c5a71e48>"
      ]
     },
     "metadata": {},
     "output_type": "display_data"
    },
    {
     "data": {
      "text/html": [
       "<li><a href=https://babel.hathitrust.org/cgi/pt?id=mdp.39015047557338>b'The book of lies /' (1999)</a><br></li>"
      ],
      "text/plain": [
       "<__main__.Printable_Hathi at 0x7f08c5ada4e0>"
      ]
     },
     "metadata": {},
     "output_type": "display_data"
    },
    {
     "data": {
      "text/html": [
       "<li><a href=https://babel.hathitrust.org/cgi/pt?id=uc1.$b807387>b'The impostor.' (1970)</a><br></li>"
      ],
      "text/plain": [
       "<__main__.Printable_Hathi at 0x7f08c5ada4e0>"
      ]
     },
     "metadata": {},
     "output_type": "display_data"
    },
    {
     "data": {
      "text/html": [
       "<li><a href=https://babel.hathitrust.org/cgi/pt?id=uc1.$b675920>b'I was Cicero /' (1962)</a><br></li>"
      ],
      "text/plain": [
       "<__main__.Printable_Hathi at 0x7f08c5ada4e0>"
      ]
     },
     "metadata": {},
     "output_type": "display_data"
    },
    {
     "name": "stdout",
     "output_type": "stream",
     "text": [
      "~~~~~~~~~~~~~~~~~~~~~~~~~~~~~~~~~~~~~~~~~~~~~~~~~~~~~~~~~~~~~~~~~~~~~~~~~~~~~~~~~~~~~~~~~~~~~~~~~~~~\n",
      "CLUSTER 23\n",
      "~~~~~~~~~~~~~~~~~~~~~~~~~~~~~~~~~~~~~~~~~~~~~~~~~~~~~~~~~~~~~~~~~~~~~~~~~~~~~~~~~~~~~~~~~~~~~~~~~~~~\n"
     ]
    },
    {
     "data": {
      "text/html": [
       "<li><a href=https://babel.hathitrust.org/cgi/pt?id=uc2.ark:/13960/t9862hm6r>b'London homes, including The murder hole; The drowning dragoon; The priest and the curate; Lady Mary Pierrepoint; and Frank Vansittart.' (1853)</a><br></li>"
      ],
      "text/plain": [
       "<__main__.Printable_Hathi at 0x7f08c5a71f28>"
      ]
     },
     "metadata": {},
     "output_type": "display_data"
    },
    {
     "data": {
      "text/html": [
       "<li><a href=https://babel.hathitrust.org/cgi/pt?id=uc2.ark:/13960/t8cf9mc15>b\"Travels of a lady's maid,\" (1908)</a><br></li>"
      ],
      "text/plain": [
       "<__main__.Printable_Hathi at 0x7f08c5a71f28>"
      ]
     },
     "metadata": {},
     "output_type": "display_data"
    },
    {
     "data": {
      "text/html": [
       "<li><a href=https://babel.hathitrust.org/cgi/pt?id=nyp.33433081991675>b'Stories of American life; by American writers.' (1830)</a><br></li>"
      ],
      "text/plain": [
       "<__main__.Printable_Hathi at 0x7f08c5a71f28>"
      ]
     },
     "metadata": {},
     "output_type": "display_data"
    },
    {
     "data": {
      "text/html": [
       "<li><a href=https://babel.hathitrust.org/cgi/pt?id=uiuo.ark:/13960/t9k36449n>b'The unkind word, and other stories. 1' (1870)</a><br></li>"
      ],
      "text/plain": [
       "<__main__.Printable_Hathi at 0x7f08c5a71f28>"
      ]
     },
     "metadata": {},
     "output_type": "display_data"
    },
    {
     "data": {
      "text/html": [
       "<li><a href=https://babel.hathitrust.org/cgi/pt?id=mdp.39015010692658>b'Early memories for the children.' (1895)</a><br></li>"
      ],
      "text/plain": [
       "<__main__.Printable_Hathi at 0x7f08c5a71f28>"
      ]
     },
     "metadata": {},
     "output_type": "display_data"
    },
    {
     "name": "stdout",
     "output_type": "stream",
     "text": [
      "~~~~~~~~~~~~~~~~~~~~~~~~~~~~~~~~~~~~~~~~~~~~~~~~~~~~~~~~~~~~~~~~~~~~~~~~~~~~~~~~~~~~~~~~~~~~~~~~~~~~\n",
      "CLUSTER 24\n",
      "~~~~~~~~~~~~~~~~~~~~~~~~~~~~~~~~~~~~~~~~~~~~~~~~~~~~~~~~~~~~~~~~~~~~~~~~~~~~~~~~~~~~~~~~~~~~~~~~~~~~\n"
     ]
    },
    {
     "data": {
      "text/html": [
       "<li><a href=https://babel.hathitrust.org/cgi/pt?id=uc1.$b15025>b'The passionate heart;' (1953)</a><br></li>"
      ],
      "text/plain": [
       "<__main__.Printable_Hathi at 0x7f08c5ada4e0>"
      ]
     },
     "metadata": {},
     "output_type": "display_data"
    },
    {
     "data": {
      "text/html": [
       "<li><a href=https://babel.hathitrust.org/cgi/pt?id=mdp.39015048843117>b'Anas Nin reader.' (1973)</a><br></li>"
      ],
      "text/plain": [
       "<__main__.Printable_Hathi at 0x7f08c5a71e48>"
      ]
     },
     "metadata": {},
     "output_type": "display_data"
    },
    {
     "data": {
      "text/html": [
       "<li><a href=https://babel.hathitrust.org/cgi/pt?id=uc1.b4362258>b'The modern Polish mind, an anthology.' (1963)</a><br></li>"
      ],
      "text/plain": [
       "<__main__.Printable_Hathi at 0x7f08c5ada4e0>"
      ]
     },
     "metadata": {},
     "output_type": "display_data"
    },
    {
     "data": {
      "text/html": [
       "<li><a href=https://babel.hathitrust.org/cgi/pt?id=mdp.39015065640396>b'The norther (El norte).' (1968)</a><br></li>"
      ],
      "text/plain": [
       "<__main__.Printable_Hathi at 0x7f08c5ada4e0>"
      ]
     },
     "metadata": {},
     "output_type": "display_data"
    },
    {
     "data": {
      "text/html": [
       "<li><a href=https://babel.hathitrust.org/cgi/pt?id=uc1.$b318382>b'A lesson in love,' (1932)</a><br></li>"
      ],
      "text/plain": [
       "<__main__.Printable_Hathi at 0x7f08c5ada4e0>"
      ]
     },
     "metadata": {},
     "output_type": "display_data"
    },
    {
     "name": "stdout",
     "output_type": "stream",
     "text": [
      "~~~~~~~~~~~~~~~~~~~~~~~~~~~~~~~~~~~~~~~~~~~~~~~~~~~~~~~~~~~~~~~~~~~~~~~~~~~~~~~~~~~~~~~~~~~~~~~~~~~~\n",
      "CLUSTER 25\n",
      "~~~~~~~~~~~~~~~~~~~~~~~~~~~~~~~~~~~~~~~~~~~~~~~~~~~~~~~~~~~~~~~~~~~~~~~~~~~~~~~~~~~~~~~~~~~~~~~~~~~~\n"
     ]
    },
    {
     "data": {
      "text/html": [
       "<li><a href=https://babel.hathitrust.org/cgi/pt?id=mdp.39015013285609>b'Through golden windows.' (1958)</a><br></li>"
      ],
      "text/plain": [
       "<__main__.Printable_Hathi at 0x7f08c5adab00>"
      ]
     },
     "metadata": {},
     "output_type": "display_data"
    },
    {
     "data": {
      "text/html": [
       "<li><a href=https://babel.hathitrust.org/cgi/pt?id=wu.89007385289>b'Bannertail; the story of a graysquirrel,' (1922)</a><br></li>"
      ],
      "text/plain": [
       "<__main__.Printable_Hathi at 0x7f08c5adab00>"
      ]
     },
     "metadata": {},
     "output_type": "display_data"
    },
    {
     "data": {
      "text/html": [
       "<li><a href=https://babel.hathitrust.org/cgi/pt?id=inu.30000036592388>b'The maiden who rose from the sea and other Finnish folk tales /' (1992)</a><br></li>"
      ],
      "text/plain": [
       "<__main__.Printable_Hathi at 0x7f08c5adab00>"
      ]
     },
     "metadata": {},
     "output_type": "display_data"
    },
    {
     "data": {
      "text/html": [
       "<li><a href=https://babel.hathitrust.org/cgi/pt?id=inu.30000056307501>b'Tales of the tepee /' (1998)</a><br></li>"
      ],
      "text/plain": [
       "<__main__.Printable_Hathi at 0x7f08c5adab00>"
      ]
     },
     "metadata": {},
     "output_type": "display_data"
    },
    {
     "data": {
      "text/html": [
       "<li><a href=https://babel.hathitrust.org/cgi/pt?id=inu.30000004005785>b'Stories of Serra East /' (1985)</a><br></li>"
      ],
      "text/plain": [
       "<__main__.Printable_Hathi at 0x7f08c5adab00>"
      ]
     },
     "metadata": {},
     "output_type": "display_data"
    },
    {
     "name": "stdout",
     "output_type": "stream",
     "text": [
      "~~~~~~~~~~~~~~~~~~~~~~~~~~~~~~~~~~~~~~~~~~~~~~~~~~~~~~~~~~~~~~~~~~~~~~~~~~~~~~~~~~~~~~~~~~~~~~~~~~~~\n",
      "CLUSTER 26\n",
      "~~~~~~~~~~~~~~~~~~~~~~~~~~~~~~~~~~~~~~~~~~~~~~~~~~~~~~~~~~~~~~~~~~~~~~~~~~~~~~~~~~~~~~~~~~~~~~~~~~~~\n"
     ]
    },
    {
     "data": {
      "text/html": [
       "<li><a href=https://babel.hathitrust.org/cgi/pt?id=uc1.32106018647310>b'The dying ground : a hip-hop noir novel /' (2001)</a><br></li>"
      ],
      "text/plain": [
       "<__main__.Printable_Hathi at 0x7f08c5ada5c0>"
      ]
     },
     "metadata": {},
     "output_type": "display_data"
    },
    {
     "data": {
      "text/html": [
       "<li><a href=https://babel.hathitrust.org/cgi/pt?id=mdp.39015073377296>b'Brother stud /' (1979)</a><br></li>"
      ],
      "text/plain": [
       "<__main__.Printable_Hathi at 0x7f08c5ada5c0>"
      ]
     },
     "metadata": {},
     "output_type": "display_data"
    },
    {
     "data": {
      "text/html": [
       "<li><a href=https://babel.hathitrust.org/cgi/pt?id=mdp.39015080890075>b'Maneuvers /' (2009)</a><br></li>"
      ],
      "text/plain": [
       "<__main__.Printable_Hathi at 0x7f08c5ada5c0>"
      ]
     },
     "metadata": {},
     "output_type": "display_data"
    },
    {
     "data": {
      "text/html": [
       "<li><a href=https://babel.hathitrust.org/cgi/pt?id=uc1.32106014480880>b'In the beginning /' (1997)</a><br></li>"
      ],
      "text/plain": [
       "<__main__.Printable_Hathi at 0x7f08c5ada5c0>"
      ]
     },
     "metadata": {},
     "output_type": "display_data"
    },
    {
     "data": {
      "text/html": [
       "<li><a href=https://babel.hathitrust.org/cgi/pt?id=mdp.39015064701256>b'JPod : a novel /' (2006)</a><br></li>"
      ],
      "text/plain": [
       "<__main__.Printable_Hathi at 0x7f08c5ada5c0>"
      ]
     },
     "metadata": {},
     "output_type": "display_data"
    },
    {
     "name": "stdout",
     "output_type": "stream",
     "text": [
      "~~~~~~~~~~~~~~~~~~~~~~~~~~~~~~~~~~~~~~~~~~~~~~~~~~~~~~~~~~~~~~~~~~~~~~~~~~~~~~~~~~~~~~~~~~~~~~~~~~~~\n",
      "CLUSTER 27\n",
      "~~~~~~~~~~~~~~~~~~~~~~~~~~~~~~~~~~~~~~~~~~~~~~~~~~~~~~~~~~~~~~~~~~~~~~~~~~~~~~~~~~~~~~~~~~~~~~~~~~~~\n"
     ]
    },
    {
     "data": {
      "text/html": [
       "<li><a href=https://babel.hathitrust.org/cgi/pt?id=uc2.ark:/13960/t0000492f>b'The tales of old Liverpool.' (1886)</a><br></li>"
      ],
      "text/plain": [
       "<__main__.Printable_Hathi at 0x7f08c5ada7f0>"
      ]
     },
     "metadata": {},
     "output_type": "display_data"
    },
    {
     "data": {
      "text/html": [
       "<li><a href=https://babel.hathitrust.org/cgi/pt?id=uc2.ark:/13960/t2c827g0f>b'The stolen child. A tale of the town, founded on a certain interesting fact.' (1833)</a><br></li>"
      ],
      "text/plain": [
       "<__main__.Printable_Hathi at 0x7f08c5ada7f0>"
      ]
     },
     "metadata": {},
     "output_type": "display_data"
    },
    {
     "data": {
      "text/html": [
       "<li><a href=https://babel.hathitrust.org/cgi/pt?id=uva.x001173718>b'Flowers of the forest.' (1857)</a><br></li>"
      ],
      "text/plain": [
       "<__main__.Printable_Hathi at 0x7f08c5ada7f0>"
      ]
     },
     "metadata": {},
     "output_type": "display_data"
    },
    {
     "data": {
      "text/html": [
       "<li><a href=https://babel.hathitrust.org/cgi/pt?id=nyp.33433034409916>b'A memoir of Jane Austen.' (1871)</a><br></li>"
      ],
      "text/plain": [
       "<__main__.Printable_Hathi at 0x7f08c5ada7f0>"
      ]
     },
     "metadata": {},
     "output_type": "display_data"
    },
    {
     "data": {
      "text/html": [
       "<li><a href=https://babel.hathitrust.org/cgi/pt?id=uiuo.ark:/13960/t4qj82s7g>b'Lodore /' (1835)</a><br></li>"
      ],
      "text/plain": [
       "<__main__.Printable_Hathi at 0x7f08c5ada7f0>"
      ]
     },
     "metadata": {},
     "output_type": "display_data"
    },
    {
     "name": "stdout",
     "output_type": "stream",
     "text": [
      "~~~~~~~~~~~~~~~~~~~~~~~~~~~~~~~~~~~~~~~~~~~~~~~~~~~~~~~~~~~~~~~~~~~~~~~~~~~~~~~~~~~~~~~~~~~~~~~~~~~~\n",
      "CLUSTER 28\n",
      "~~~~~~~~~~~~~~~~~~~~~~~~~~~~~~~~~~~~~~~~~~~~~~~~~~~~~~~~~~~~~~~~~~~~~~~~~~~~~~~~~~~~~~~~~~~~~~~~~~~~\n"
     ]
    },
    {
     "data": {
      "text/html": [
       "<li><a href=https://babel.hathitrust.org/cgi/pt?id=pst.000011179887>b'The new Bethlehem /' (1935)</a><br></li>"
      ],
      "text/plain": [
       "<__main__.Printable_Hathi at 0x7f08c5a71f28>"
      ]
     },
     "metadata": {},
     "output_type": "display_data"
    },
    {
     "data": {
      "text/html": [
       "<li><a href=https://babel.hathitrust.org/cgi/pt?id=nyp.33433073356473>b'The Cossacks : a tale of the Caucasus in 1852 /' (1878)</a><br></li>"
      ],
      "text/plain": [
       "<__main__.Printable_Hathi at 0x7f08c5a71f28>"
      ]
     },
     "metadata": {},
     "output_type": "display_data"
    },
    {
     "data": {
      "text/html": [
       "<li><a href=https://babel.hathitrust.org/cgi/pt?id=pst.000019683003>b'The house of prayer /' (1958)</a><br></li>"
      ],
      "text/plain": [
       "<__main__.Printable_Hathi at 0x7f08c5a71f28>"
      ]
     },
     "metadata": {},
     "output_type": "display_data"
    },
    {
     "data": {
      "text/html": [
       "<li><a href=https://babel.hathitrust.org/cgi/pt?id=uc1.$b56510>b'The sky but not the heart; a novel' (1936)</a><br></li>"
      ],
      "text/plain": [
       "<__main__.Printable_Hathi at 0x7f08c5a71f28>"
      ]
     },
     "metadata": {},
     "output_type": "display_data"
    },
    {
     "data": {
      "text/html": [
       "<li><a href=https://babel.hathitrust.org/cgi/pt?id=umn.319510020277183>b'The doctor and the dragon : a tragi-comedy of British India.' (1947)</a><br></li>"
      ],
      "text/plain": [
       "<__main__.Printable_Hathi at 0x7f08c5a71f28>"
      ]
     },
     "metadata": {},
     "output_type": "display_data"
    },
    {
     "name": "stdout",
     "output_type": "stream",
     "text": [
      "~~~~~~~~~~~~~~~~~~~~~~~~~~~~~~~~~~~~~~~~~~~~~~~~~~~~~~~~~~~~~~~~~~~~~~~~~~~~~~~~~~~~~~~~~~~~~~~~~~~~\n",
      "CLUSTER 29\n",
      "~~~~~~~~~~~~~~~~~~~~~~~~~~~~~~~~~~~~~~~~~~~~~~~~~~~~~~~~~~~~~~~~~~~~~~~~~~~~~~~~~~~~~~~~~~~~~~~~~~~~\n"
     ]
    },
    {
     "data": {
      "text/html": [
       "<li><a href=https://babel.hathitrust.org/cgi/pt?id=umn.31951d00527924v>b\"Ballantyne's novelist's library.\" (1821)</a><br></li>"
      ],
      "text/plain": [
       "<__main__.Printable_Hathi at 0x7f08c5a71e48>"
      ]
     },
     "metadata": {},
     "output_type": "display_data"
    },
    {
     "data": {
      "text/html": [
       "<li><a href=https://babel.hathitrust.org/cgi/pt?id=mdp.39015078564468>b'The works of Jonathan Swift ... Carefully selected: with a biography of the author,' (1871)</a><br></li>"
      ],
      "text/plain": [
       "<__main__.Printable_Hathi at 0x7f08c5a71e48>"
      ]
     },
     "metadata": {},
     "output_type": "display_data"
    },
    {
     "data": {
      "text/html": [
       "<li><a href=https://babel.hathitrust.org/cgi/pt?id=nyp.33433076093990>b'Select works of Henry Fielding... With a memoir of the life of the author,' (1832)</a><br></li>"
      ],
      "text/plain": [
       "<__main__.Printable_Hathi at 0x7f08c5a71e48>"
      ]
     },
     "metadata": {},
     "output_type": "display_data"
    },
    {
     "data": {
      "text/html": [
       "<li><a href=https://babel.hathitrust.org/cgi/pt?id=pst.000027995006>b'Memoirs . . . : The life & opinions of Tristram Shandy. A sentimental journey. Selected sermons and letters /' (1950)</a><br></li>"
      ],
      "text/plain": [
       "<__main__.Printable_Hathi at 0x7f08c5a71e48>"
      ]
     },
     "metadata": {},
     "output_type": "display_data"
    },
    {
     "data": {
      "text/html": [
       "<li><a href=https://babel.hathitrust.org/cgi/pt?id=njp.32101023512468>b'[The works of J. Fenimore Cooper].' (1876)</a><br></li>"
      ],
      "text/plain": [
       "<__main__.Printable_Hathi at 0x7f08c5a71e48>"
      ]
     },
     "metadata": {},
     "output_type": "display_data"
    }
   ],
   "source": [
    "for i in range(30):\n",
    "    print(\"~\"*100)\n",
    "    print (\"CLUSTER {}\".format(i))\n",
    "    print(\"~\"*100)\n",
    "    kmeans_cluster(i)\n"
   ]
  },
  {
   "cell_type": "code",
   "execution_count": null,
   "metadata": {
    "collapsed": true,
    "deletable": true,
    "editable": true
   },
   "outputs": [],
   "source": []
  }
 ],
 "metadata": {
  "kernelspec": {
   "display_name": "Python 3",
   "language": "python",
   "name": "python3"
  },
  "language_info": {
   "codemirror_mode": {
    "name": "ipython",
    "version": 3
   },
   "file_extension": ".py",
   "mimetype": "text/x-python",
   "name": "python",
   "nbconvert_exporter": "python",
   "pygments_lexer": "ipython3",
   "version": "3.5.2"
  }
 },
 "nbformat": 4,
 "nbformat_minor": 2
}
