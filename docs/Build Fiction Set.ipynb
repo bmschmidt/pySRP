{
 "cells": [
  {
   "cell_type": "markdown",
   "metadata": {
    "deletable": true,
    "editable": true
   },
   "source": [
    "# Extracting and exploring a subset of the Hathi Library\n",
    "\n",
    "This notebook shows how to build a subset of the full SRP Hathi Corpus for a topic of interest.\n",
    "\n",
    "It then performs some basic clustering to see what's in the set.\n",
    "\n",
    "First, some basic imports, plus the SRP module."
   ]
  },
  {
   "cell_type": "code",
   "execution_count": 2,
   "metadata": {
    "collapsed": true,
    "deletable": true,
    "editable": true
   },
   "outputs": [],
   "source": [
    "import SRP\n",
    "import pandas as pd\n",
    "import os\n",
    "import numpy as np\n",
    "import sys"
   ]
  },
  {
   "cell_type": "markdown",
   "metadata": {
    "deletable": true,
    "editable": true
   },
   "source": [
    "Next, I define a few variables relating to where vector files are located. This will change from application to application: since the full SRP binary files are several gigabytes, I don't include in them in the repositories.\n",
    "\n",
    "If you do this for a different set, you'll either want to build up a copy of the full Hathi set from the various parts in the Northeastern repository; **or** just use the half-precision features on Zenodo, that at 11GB are reasonable to download as a single file."
   ]
  },
  {
   "cell_type": "code",
   "execution_count": 3,
   "metadata": {
    "collapsed": true,
    "deletable": true,
    "editable": true
   },
   "outputs": [],
   "source": [
    "full_vector_file_location = \"/home/bschmidt/vector_models/ht-640d-half-precision.bin\"\n",
    "\n",
    "new_vector_file_location = \"underwood.bin\""
   ]
  },
  {
   "cell_type": "markdown",
   "metadata": {
    "deletable": true,
    "editable": true
   },
   "source": [
    "We're building a new smaller corpus based on Ted Underwood's English fiction dataset, used for his [Cultural Analytics article](http://doi.org/10.22148/16.019) (DOI: 10.22148/16.019) with David Bamman and Sabrina Lee. The same steps could be used with any CSV file that has an HTID column. This is pretty big as such sets go--about 100,000 books. But it's still less than 1% of all of Hathi, and so much easier to analyze than the whole thing.\n"
   ]
  },
  {
   "cell_type": "code",
   "execution_count": 4,
   "metadata": {
    "collapsed": false,
    "deletable": true,
    "editable": true
   },
   "outputs": [
    {
     "name": "stderr",
     "output_type": "stream",
     "text": [
      "/home/bschmidt/.local/lib/python3.5/site-packages/IPython/core/interactiveshell.py:2683: DtypeWarning: Columns (7) have mixed types. Specify dtype option on import or set low_memory=False.\n",
      "  interactivity=interactivity, compiler=compiler, result=result)\n"
     ]
    }
   ],
   "source": [
    "underwood = pd.read_csv(\"https://raw.githubusercontent.com/tedunderwood/noveltmmeta/master/workmeta.tsv\", sep=\"\\t\")"
   ]
  },
  {
   "cell_type": "markdown",
   "metadata": {
    "deletable": true,
    "editable": true
   },
   "source": [
    "Here's what this looks like. We're going to use the 'HTID' column here and match it in the SRP features. Sometimes htids are normalized to not have URL-unsafe characters.\n"
   ]
  },
  {
   "cell_type": "code",
   "execution_count": 5,
   "metadata": {
    "collapsed": false,
    "deletable": true,
    "editable": true
   },
   "outputs": [
    {
     "data": {
      "text/html": [
       "<div>\n",
       "<style>\n",
       "    .dataframe thead tr:only-child th {\n",
       "        text-align: right;\n",
       "    }\n",
       "\n",
       "    .dataframe thead th {\n",
       "        text-align: left;\n",
       "    }\n",
       "\n",
       "    .dataframe tbody tr th {\n",
       "        vertical-align: top;\n",
       "    }\n",
       "</style>\n",
       "<table border=\"1\" class=\"dataframe\">\n",
       "  <thead>\n",
       "    <tr style=\"text-align: right;\">\n",
       "      <th></th>\n",
       "      <th>docid</th>\n",
       "      <th>oldauthor</th>\n",
       "      <th>author</th>\n",
       "      <th>authordate</th>\n",
       "      <th>inferreddate</th>\n",
       "      <th>latestcomp</th>\n",
       "      <th>datetype</th>\n",
       "      <th>startdate</th>\n",
       "      <th>enddate</th>\n",
       "      <th>imprint</th>\n",
       "      <th>...</th>\n",
       "      <th>instances</th>\n",
       "      <th>allcopiesofwork</th>\n",
       "      <th>copiesin25yrs</th>\n",
       "      <th>enumcron</th>\n",
       "      <th>volnum</th>\n",
       "      <th>title</th>\n",
       "      <th>parttitle</th>\n",
       "      <th>earlyedition</th>\n",
       "      <th>shorttitle</th>\n",
       "      <th>htid</th>\n",
       "    </tr>\n",
       "  </thead>\n",
       "  <tbody>\n",
       "    <tr>\n",
       "      <th>0</th>\n",
       "      <td>mdp.39015031913893</td>\n",
       "      <td>Spencer, Louise Reid</td>\n",
       "      <td>Spencer, Louise Reid</td>\n",
       "      <td>NaN</td>\n",
       "      <td>0</td>\n",
       "      <td>2100</td>\n",
       "      <td>|</td>\n",
       "      <td>||||</td>\n",
       "      <td>||||</td>\n",
       "      <td>Thomas Y. Crowell company|1945</td>\n",
       "      <td>...</td>\n",
       "      <td>1</td>\n",
       "      <td>1</td>\n",
       "      <td>1</td>\n",
       "      <td>NaN</td>\n",
       "      <td>NaN</td>\n",
       "      <td>Guerrilla wife | $c: [by] Louise Reid Spencer.</td>\n",
       "      <td>NaN</td>\n",
       "      <td>True</td>\n",
       "      <td>Guerrilla wife</td>\n",
       "      <td>mdp.39015031913893</td>\n",
       "    </tr>\n",
       "    <tr>\n",
       "      <th>1</th>\n",
       "      <td>mdp.39015003936864</td>\n",
       "      <td>Baker, Robert H</td>\n",
       "      <td>Baker, Robert H</td>\n",
       "      <td>NaN</td>\n",
       "      <td>0</td>\n",
       "      <td>2100</td>\n",
       "      <td>n</td>\n",
       "      <td></td>\n",
       "      <td></td>\n",
       "      <td>Port Washington, N.Y.|Ashley Books|197-?].</td>\n",
       "      <td>...</td>\n",
       "      <td>1</td>\n",
       "      <td>1</td>\n",
       "      <td>1</td>\n",
       "      <td>NaN</td>\n",
       "      <td>NaN</td>\n",
       "      <td>The suburbs : | a novel / | $c: by Robert H. B...</td>\n",
       "      <td>NaN</td>\n",
       "      <td>True</td>\n",
       "      <td>The suburbs : a novel</td>\n",
       "      <td>mdp.39015003936864</td>\n",
       "    </tr>\n",
       "    <tr>\n",
       "      <th>2</th>\n",
       "      <td>mdp.39015068342305</td>\n",
       "      <td>Dickens, Charles</td>\n",
       "      <td>Dickens, Charles</td>\n",
       "      <td>1812-1870.</td>\n",
       "      <td>0</td>\n",
       "      <td>1870</td>\n",
       "      <td>n</td>\n",
       "      <td></td>\n",
       "      <td></td>\n",
       "      <td>New York|The American news company|n.d.</td>\n",
       "      <td>...</td>\n",
       "      <td>1</td>\n",
       "      <td>1</td>\n",
       "      <td>1</td>\n",
       "      <td>NaN</td>\n",
       "      <td>NaN</td>\n",
       "      <td>Edwin Drood. | $c: By Charles Dickens. With il...</td>\n",
       "      <td>NaN</td>\n",
       "      <td>True</td>\n",
       "      <td>Edwin Drood</td>\n",
       "      <td>mdp.39015068342305</td>\n",
       "    </tr>\n",
       "    <tr>\n",
       "      <th>3</th>\n",
       "      <td>mdp.39015055066586</td>\n",
       "      <td>Stretton, Hesba</td>\n",
       "      <td>Stretton, Hesba</td>\n",
       "      <td>1832-1911.</td>\n",
       "      <td>0</td>\n",
       "      <td>1911</td>\n",
       "      <td>n</td>\n",
       "      <td></td>\n",
       "      <td></td>\n",
       "      <td>New York|Dodd, Mead &amp; co.|n.d.</td>\n",
       "      <td>...</td>\n",
       "      <td>1</td>\n",
       "      <td>1</td>\n",
       "      <td>1</td>\n",
       "      <td>NaN</td>\n",
       "      <td>NaN</td>\n",
       "      <td>Carola, | $c: by Hesba Stretton.</td>\n",
       "      <td>NaN</td>\n",
       "      <td>True</td>\n",
       "      <td>Carola</td>\n",
       "      <td>mdp.39015055066586</td>\n",
       "    </tr>\n",
       "    <tr>\n",
       "      <th>4</th>\n",
       "      <td>mdp.39015055066594</td>\n",
       "      <td>Stretton,Hesba</td>\n",
       "      <td>Stretton, Hesba</td>\n",
       "      <td>1832-1911.</td>\n",
       "      <td>0</td>\n",
       "      <td>1911</td>\n",
       "      <td>n</td>\n",
       "      <td></td>\n",
       "      <td></td>\n",
       "      <td>New York|Dodd, Mead &amp; co.|n.d.</td>\n",
       "      <td>...</td>\n",
       "      <td>1</td>\n",
       "      <td>1</td>\n",
       "      <td>1</td>\n",
       "      <td>NaN</td>\n",
       "      <td>NaN</td>\n",
       "      <td>In prison &amp; out. | $c: By Hesba Stretton.</td>\n",
       "      <td>NaN</td>\n",
       "      <td>True</td>\n",
       "      <td>In prison &amp; out</td>\n",
       "      <td>mdp.39015055066594</td>\n",
       "    </tr>\n",
       "    <tr>\n",
       "      <th>5</th>\n",
       "      <td>mdp.39015063543394</td>\n",
       "      <td>Lyall, Edna</td>\n",
       "      <td>Lyall, Edna</td>\n",
       "      <td>1857-1903.</td>\n",
       "      <td>0</td>\n",
       "      <td>1903</td>\n",
       "      <td>n</td>\n",
       "      <td></td>\n",
       "      <td></td>\n",
       "      <td>New York|A. L. Burt|n.d.</td>\n",
       "      <td>...</td>\n",
       "      <td>1</td>\n",
       "      <td>1</td>\n",
       "      <td>1</td>\n",
       "      <td>NaN</td>\n",
       "      <td>NaN</td>\n",
       "      <td>Donovan. | A novel, | $c: by Edna Lyall [pseud.]</td>\n",
       "      <td>NaN</td>\n",
       "      <td>True</td>\n",
       "      <td>Donovan. A novel</td>\n",
       "      <td>mdp.39015063543394</td>\n",
       "    </tr>\n",
       "    <tr>\n",
       "      <th>6</th>\n",
       "      <td>mdp.39015059414725</td>\n",
       "      <td>McKenna, Stephen</td>\n",
       "      <td>McKenna, Stephen</td>\n",
       "      <td>1888-1967.</td>\n",
       "      <td>0</td>\n",
       "      <td>1967</td>\n",
       "      <td>n</td>\n",
       "      <td></td>\n",
       "      <td></td>\n",
       "      <td>London|Hutchinson &amp; co.|n.d.</td>\n",
       "      <td>...</td>\n",
       "      <td>1</td>\n",
       "      <td>1</td>\n",
       "      <td>1</td>\n",
       "      <td>NaN</td>\n",
       "      <td>NaN</td>\n",
       "      <td>Lady Lilith, | a novel: Beong the first part o...</td>\n",
       "      <td>NaN</td>\n",
       "      <td>True</td>\n",
       "      <td>Lady Lilith, a novel: Beong the first part of ...</td>\n",
       "      <td>mdp.39015059414725</td>\n",
       "    </tr>\n",
       "    <tr>\n",
       "      <th>7</th>\n",
       "      <td>mdp.39015063920006</td>\n",
       "      <td>Haggard, H. Rider (Henry Rider)</td>\n",
       "      <td>Haggard, H. Rider (Henry Rider)</td>\n",
       "      <td>1856-1925.</td>\n",
       "      <td>0</td>\n",
       "      <td>1925</td>\n",
       "      <td>n</td>\n",
       "      <td></td>\n",
       "      <td></td>\n",
       "      <td>New York|J. S. Ogilvie|n.d.</td>\n",
       "      <td>...</td>\n",
       "      <td>1</td>\n",
       "      <td>1</td>\n",
       "      <td>1</td>\n",
       "      <td>NaN</td>\n",
       "      <td>NaN</td>\n",
       "      <td>Beatrice | [a novel] | $c: by H. Rider Haggard.</td>\n",
       "      <td>NaN</td>\n",
       "      <td>True</td>\n",
       "      <td>Beatrice [a novel]</td>\n",
       "      <td>mdp.39015063920006</td>\n",
       "    </tr>\n",
       "    <tr>\n",
       "      <th>8</th>\n",
       "      <td>mdp.39015035876971</td>\n",
       "      <td>Malet, Lucas</td>\n",
       "      <td>Malet, Lucas</td>\n",
       "      <td>1852-1931.</td>\n",
       "      <td>0</td>\n",
       "      <td>1931</td>\n",
       "      <td>n</td>\n",
       "      <td></td>\n",
       "      <td></td>\n",
       "      <td>New York|T. Y. Crowell &amp; co.|n.d.</td>\n",
       "      <td>...</td>\n",
       "      <td>1</td>\n",
       "      <td>1</td>\n",
       "      <td>1</td>\n",
       "      <td>NaN</td>\n",
       "      <td>NaN</td>\n",
       "      <td>Little Peter: | a Christmas morality for child...</td>\n",
       "      <td>NaN</td>\n",
       "      <td>True</td>\n",
       "      <td>Little Peter: a Christmas morality for childre...</td>\n",
       "      <td>mdp.39015035876971</td>\n",
       "    </tr>\n",
       "    <tr>\n",
       "      <th>9</th>\n",
       "      <td>mdp.39015010208315</td>\n",
       "      <td>Caffyn, Mannington, Mrs</td>\n",
       "      <td>Caffyn, Mannington, Mrs</td>\n",
       "      <td>NaN</td>\n",
       "      <td>0</td>\n",
       "      <td>2100</td>\n",
       "      <td>n</td>\n",
       "      <td></td>\n",
       "      <td></td>\n",
       "      <td>New York|Optimus print. co.|n.d.</td>\n",
       "      <td>...</td>\n",
       "      <td>1</td>\n",
       "      <td>1</td>\n",
       "      <td>1</td>\n",
       "      <td>NaN</td>\n",
       "      <td>NaN</td>\n",
       "      <td>A yellow aster : | a novel / | $c: by Iota [ps...</td>\n",
       "      <td>NaN</td>\n",
       "      <td>True</td>\n",
       "      <td>A yellow aster : a novel</td>\n",
       "      <td>mdp.39015010208315</td>\n",
       "    </tr>\n",
       "    <tr>\n",
       "      <th>10</th>\n",
       "      <td>mdp.39015063549854</td>\n",
       "      <td>Dane, Joan</td>\n",
       "      <td>Dane, Joan</td>\n",
       "      <td>NaN</td>\n",
       "      <td>0</td>\n",
       "      <td>2100</td>\n",
       "      <td>n</td>\n",
       "      <td></td>\n",
       "      <td></td>\n",
       "      <td>London|E. Stock|n.d.</td>\n",
       "      <td>...</td>\n",
       "      <td>1</td>\n",
       "      <td>1</td>\n",
       "      <td>1</td>\n",
       "      <td>NaN</td>\n",
       "      <td>NaN</td>\n",
       "      <td>Prince Madog, | discoverer of America; a legen...</td>\n",
       "      <td>NaN</td>\n",
       "      <td>True</td>\n",
       "      <td>Prince Madog, discoverer of America; a legenda...</td>\n",
       "      <td>mdp.39015063549854</td>\n",
       "    </tr>\n",
       "    <tr>\n",
       "      <th>11</th>\n",
       "      <td>uc1.$b69324</td>\n",
       "      <td>Catlin, George</td>\n",
       "      <td>Catlin, George</td>\n",
       "      <td>1796-1872.</td>\n",
       "      <td>0</td>\n",
       "      <td>1872</td>\n",
       "      <td>n</td>\n",
       "      <td></td>\n",
       "      <td></td>\n",
       "      <td>London and Edinburgh|Gall and Inglis|n.d.</td>\n",
       "      <td>...</td>\n",
       "      <td>2</td>\n",
       "      <td>2</td>\n",
       "      <td>2</td>\n",
       "      <td>NaN</td>\n",
       "      <td>NaN</td>\n",
       "      <td>Rambles among the Indians of the Rocky Mountai...</td>\n",
       "      <td>NaN</td>\n",
       "      <td>True</td>\n",
       "      <td>Rambles among the Indians of the Rocky Mountai...</td>\n",
       "      <td>uc1.$b69324</td>\n",
       "    </tr>\n",
       "    <tr>\n",
       "      <th>12</th>\n",
       "      <td>uc1.b3451041</td>\n",
       "      <td>Enriquez, Mig Alvarez</td>\n",
       "      <td>Enriquez, Mig Alvarez</td>\n",
       "      <td>NaN</td>\n",
       "      <td>0</td>\n",
       "      <td>2100</td>\n",
       "      <td></td>\n",
       "      <td></td>\n",
       "      <td></td>\n",
       "      <td>Quezon City|New Day Publishers|l983.</td>\n",
       "      <td>...</td>\n",
       "      <td>2</td>\n",
       "      <td>2</td>\n",
       "      <td>2</td>\n",
       "      <td>NaN</td>\n",
       "      <td>NaN</td>\n",
       "      <td>House of images.</td>\n",
       "      <td>NaN</td>\n",
       "      <td>True</td>\n",
       "      <td>House of images</td>\n",
       "      <td>uc1.b3451041</td>\n",
       "    </tr>\n",
       "    <tr>\n",
       "      <th>13</th>\n",
       "      <td>mdp.39015063933132</td>\n",
       "      <td>Lawrence, Charles Edward</td>\n",
       "      <td>Lawrence, Charles Edward</td>\n",
       "      <td>1870-1940.</td>\n",
       "      <td>0</td>\n",
       "      <td>1940</td>\n",
       "      <td>n</td>\n",
       "      <td></td>\n",
       "      <td></td>\n",
       "      <td>New York|E. P. Dutton &amp; con.|n.d.</td>\n",
       "      <td>...</td>\n",
       "      <td>1</td>\n",
       "      <td>1</td>\n",
       "      <td>1</td>\n",
       "      <td>NaN</td>\n",
       "      <td>NaN</td>\n",
       "      <td>The god in the thicket, | $c: by C. E. Lawrence.</td>\n",
       "      <td>NaN</td>\n",
       "      <td>True</td>\n",
       "      <td>The god in the thicket</td>\n",
       "      <td>mdp.39015063933132</td>\n",
       "    </tr>\n",
       "    <tr>\n",
       "      <th>14</th>\n",
       "      <td>mdp.39015063945813</td>\n",
       "      <td>Lee, Holme</td>\n",
       "      <td>Lee, Holme</td>\n",
       "      <td>1828-1900.</td>\n",
       "      <td>0</td>\n",
       "      <td>1900</td>\n",
       "      <td>n</td>\n",
       "      <td></td>\n",
       "      <td></td>\n",
       "      <td>Philadelphia|H. T. Coates &amp; co.|n.d.</td>\n",
       "      <td>...</td>\n",
       "      <td>1</td>\n",
       "      <td>1</td>\n",
       "      <td>1</td>\n",
       "      <td>NaN</td>\n",
       "      <td>NaN</td>\n",
       "      <td>The vicissitudes of Bessie Fairfax: | a novel,...</td>\n",
       "      <td>NaN</td>\n",
       "      <td>True</td>\n",
       "      <td>The vicissitudes of Bessie Fairfax: a novel</td>\n",
       "      <td>mdp.39015063945813</td>\n",
       "    </tr>\n",
       "    <tr>\n",
       "      <th>15</th>\n",
       "      <td>mdp.39015063542487</td>\n",
       "      <td>Bradley, Edward, Rev</td>\n",
       "      <td>Bradley, Edward, Rev</td>\n",
       "      <td>1827-1889.</td>\n",
       "      <td>0</td>\n",
       "      <td>1889</td>\n",
       "      <td>n</td>\n",
       "      <td></td>\n",
       "      <td></td>\n",
       "      <td>London|n.d.</td>\n",
       "      <td>...</td>\n",
       "      <td>1</td>\n",
       "      <td>1</td>\n",
       "      <td>1</td>\n",
       "      <td>NaN</td>\n",
       "      <td>NaN</td>\n",
       "      <td>Happy hours at Wynford Grange.</td>\n",
       "      <td>NaN</td>\n",
       "      <td>True</td>\n",
       "      <td>Happy hours at Wynford Grange</td>\n",
       "      <td>mdp.39015063542487</td>\n",
       "    </tr>\n",
       "    <tr>\n",
       "      <th>16</th>\n",
       "      <td>mdp.39015031235263</td>\n",
       "      <td>Hawthorne, Nathaniel</td>\n",
       "      <td>Hawthorne, Nathaniel</td>\n",
       "      <td>1804-1864.</td>\n",
       "      <td>0</td>\n",
       "      <td>1864</td>\n",
       "      <td>n</td>\n",
       "      <td></td>\n",
       "      <td></td>\n",
       "      <td>London|New York, [etc.|T. Nelson &amp; sons|n.d.</td>\n",
       "      <td>...</td>\n",
       "      <td>1</td>\n",
       "      <td>1</td>\n",
       "      <td>1</td>\n",
       "      <td>NaN</td>\n",
       "      <td>NaN</td>\n",
       "      <td>The great stone face | &amp; other stories, | $c: ...</td>\n",
       "      <td>NaN</td>\n",
       "      <td>True</td>\n",
       "      <td>The great stone face &amp; other stories</td>\n",
       "      <td>mdp.39015031235263</td>\n",
       "    </tr>\n",
       "    <tr>\n",
       "      <th>17</th>\n",
       "      <td>mdp.39015019204547</td>\n",
       "      <td>Irving, Washington</td>\n",
       "      <td>Irving, Washington</td>\n",
       "      <td>1783-1859.</td>\n",
       "      <td>0</td>\n",
       "      <td>1859</td>\n",
       "      <td>n</td>\n",
       "      <td></td>\n",
       "      <td></td>\n",
       "      <td>New York|A. L. Burt co.|n.d.</td>\n",
       "      <td>...</td>\n",
       "      <td>1</td>\n",
       "      <td>1</td>\n",
       "      <td>1</td>\n",
       "      <td>NaN</td>\n",
       "      <td>NaN</td>\n",
       "      <td>The Alhambra; | tales &amp; sketches of the Moors ...</td>\n",
       "      <td>NaN</td>\n",
       "      <td>True</td>\n",
       "      <td>The Alhambra; tales &amp; sketches of the Moors &amp; ...</td>\n",
       "      <td>mdp.39015019204547</td>\n",
       "    </tr>\n",
       "    <tr>\n",
       "      <th>18</th>\n",
       "      <td>mdp.39015067177587</td>\n",
       "      <td>Jones, Susan Carleton</td>\n",
       "      <td>Jones, Susan Carleton</td>\n",
       "      <td>1869-</td>\n",
       "      <td>0</td>\n",
       "      <td>2100</td>\n",
       "      <td>n</td>\n",
       "      <td></td>\n",
       "      <td></td>\n",
       "      <td>n.p.|n.d.</td>\n",
       "      <td>...</td>\n",
       "      <td>1</td>\n",
       "      <td>1</td>\n",
       "      <td>1</td>\n",
       "      <td>NaN</td>\n",
       "      <td>NaN</td>\n",
       "      <td>The lame priest.</td>\n",
       "      <td>NaN</td>\n",
       "      <td>True</td>\n",
       "      <td>The lame priest</td>\n",
       "      <td>mdp.39015067177587</td>\n",
       "    </tr>\n",
       "    <tr>\n",
       "      <th>19</th>\n",
       "      <td>mdp.39015049809208</td>\n",
       "      <td>Lytton, Edward Bulwer Lytton, Baron</td>\n",
       "      <td>Lytton, Edward Bulwer Lytton, Baron</td>\n",
       "      <td>1803-1873.</td>\n",
       "      <td>0</td>\n",
       "      <td>1873</td>\n",
       "      <td>n</td>\n",
       "      <td></td>\n",
       "      <td></td>\n",
       "      <td>New York|Syndicate trading co.|n.d.</td>\n",
       "      <td>...</td>\n",
       "      <td>1</td>\n",
       "      <td>1</td>\n",
       "      <td>1</td>\n",
       "      <td>NaN</td>\n",
       "      <td>NaN</td>\n",
       "      <td>A strange story, | y Sir Edward Bulwer Lytton.</td>\n",
       "      <td>NaN</td>\n",
       "      <td>True</td>\n",
       "      <td>A strange story, y Sir Edward Bulwer Lytton</td>\n",
       "      <td>mdp.39015049809208</td>\n",
       "    </tr>\n",
       "    <tr>\n",
       "      <th>20</th>\n",
       "      <td>mdp.39015008721394</td>\n",
       "      <td>Campbell, Michael</td>\n",
       "      <td>Campbell, Michael</td>\n",
       "      <td>1924-</td>\n",
       "      <td>0</td>\n",
       "      <td>2100</td>\n",
       "      <td>n</td>\n",
       "      <td></td>\n",
       "      <td></td>\n",
       "      <td>New York|Orion P.|n. d.</td>\n",
       "      <td>...</td>\n",
       "      <td>1</td>\n",
       "      <td>1</td>\n",
       "      <td>1</td>\n",
       "      <td>NaN</td>\n",
       "      <td>NaN</td>\n",
       "      <td>Peter Perry.</td>\n",
       "      <td>NaN</td>\n",
       "      <td>True</td>\n",
       "      <td>Peter Perry</td>\n",
       "      <td>mdp.39015008721394</td>\n",
       "    </tr>\n",
       "    <tr>\n",
       "      <th>21</th>\n",
       "      <td>mdp.39015063548997</td>\n",
       "      <td>Glyn, Elinor</td>\n",
       "      <td>Glyn, Elinor</td>\n",
       "      <td>1864-1943.</td>\n",
       "      <td>0</td>\n",
       "      <td>1943</td>\n",
       "      <td>n</td>\n",
       "      <td></td>\n",
       "      <td></td>\n",
       "      <td>New York|Boston|H. M. Caldwell co.|n.d.</td>\n",
       "      <td>...</td>\n",
       "      <td>1</td>\n",
       "      <td>1</td>\n",
       "      <td>1</td>\n",
       "      <td>NaN</td>\n",
       "      <td>NaN</td>\n",
       "      <td>Visits of Elizabeth | $c: [by] Elinor Glyn.</td>\n",
       "      <td>NaN</td>\n",
       "      <td>True</td>\n",
       "      <td>Visits of Elizabeth</td>\n",
       "      <td>mdp.39015063548997</td>\n",
       "    </tr>\n",
       "    <tr>\n",
       "      <th>22</th>\n",
       "      <td>mdp.39015063918372</td>\n",
       "      <td>Fenn, George Manville</td>\n",
       "      <td>Fenn, George Manville</td>\n",
       "      <td>1831-1909.</td>\n",
       "      <td>0</td>\n",
       "      <td>1909</td>\n",
       "      <td>n</td>\n",
       "      <td></td>\n",
       "      <td></td>\n",
       "      <td>London|New York [etc.|Cassell, Petter, Galpin ...</td>\n",
       "      <td>...</td>\n",
       "      <td>1</td>\n",
       "      <td>1</td>\n",
       "      <td>1</td>\n",
       "      <td>NaN</td>\n",
       "      <td>NaN</td>\n",
       "      <td>Adventures of working men. | $c: By G. Manvill...</td>\n",
       "      <td>NaN</td>\n",
       "      <td>True</td>\n",
       "      <td>Adventures of working men</td>\n",
       "      <td>mdp.39015063918372</td>\n",
       "    </tr>\n",
       "    <tr>\n",
       "      <th>23</th>\n",
       "      <td>mdp.39015063521184</td>\n",
       "      <td>Alcock, Deborah</td>\n",
       "      <td>Alcock, Deborah</td>\n",
       "      <td>1835-1913.</td>\n",
       "      <td>0</td>\n",
       "      <td>1913</td>\n",
       "      <td>n</td>\n",
       "      <td></td>\n",
       "      <td></td>\n",
       "      <td>London|Unwin|n.d.</td>\n",
       "      <td>...</td>\n",
       "      <td>1</td>\n",
       "      <td>1</td>\n",
       "      <td>1</td>\n",
       "      <td>NaN</td>\n",
       "      <td>NaN</td>\n",
       "      <td>The Roman students; | or, on the wings of the ...</td>\n",
       "      <td>NaN</td>\n",
       "      <td>True</td>\n",
       "      <td>The Roman students; or, on the wings of the mo...</td>\n",
       "      <td>mdp.39015063521184</td>\n",
       "    </tr>\n",
       "    <tr>\n",
       "      <th>24</th>\n",
       "      <td>mdp.39015065157607</td>\n",
       "      <td>Sellassie, Berhane Mariam Sahle</td>\n",
       "      <td>Sellassie, Berhane Mariam Sahle</td>\n",
       "      <td>1936-</td>\n",
       "      <td>0</td>\n",
       "      <td>2100</td>\n",
       "      <td>n</td>\n",
       "      <td>||||</td>\n",
       "      <td></td>\n",
       "      <td>NaN</td>\n",
       "      <td>...</td>\n",
       "      <td>1</td>\n",
       "      <td>1</td>\n",
       "      <td>1</td>\n",
       "      <td>NaN</td>\n",
       "      <td>NaN</td>\n",
       "      <td>Shinega's village; | scenes of Ethiopian life.</td>\n",
       "      <td>NaN</td>\n",
       "      <td>True</td>\n",
       "      <td>Shinega's village; scenes of Ethiopian life</td>\n",
       "      <td>mdp.39015065157607</td>\n",
       "    </tr>\n",
       "    <tr>\n",
       "      <th>25</th>\n",
       "      <td>mdp.39015008280904</td>\n",
       "      <td>Andersen, H. C (Hans Christian)</td>\n",
       "      <td>Andersen, H. C. (Hans Christian)</td>\n",
       "      <td>1805-1875.</td>\n",
       "      <td>0</td>\n",
       "      <td>1875</td>\n",
       "      <td>|</td>\n",
       "      <td>||||</td>\n",
       "      <td></td>\n",
       "      <td>NaN</td>\n",
       "      <td>...</td>\n",
       "      <td>1</td>\n",
       "      <td>1</td>\n",
       "      <td>1</td>\n",
       "      <td>NaN</td>\n",
       "      <td>NaN</td>\n",
       "      <td>Andersen's fairy tales; il. by Elizaveth MacKi...</td>\n",
       "      <td>NaN</td>\n",
       "      <td>True</td>\n",
       "      <td>Andersen's fairy tales; il. by Elizaveth MacKi...</td>\n",
       "      <td>mdp.39015008280904</td>\n",
       "    </tr>\n",
       "    <tr>\n",
       "      <th>26</th>\n",
       "      <td>mdp.39015067298763</td>\n",
       "      <td>Kessel, Joseph</td>\n",
       "      <td>Kessel, Joseph</td>\n",
       "      <td>1898-1979.</td>\n",
       "      <td>0</td>\n",
       "      <td>1979</td>\n",
       "      <td>|</td>\n",
       "      <td>||||</td>\n",
       "      <td>||||</td>\n",
       "      <td>New York|Knopf|1962 [c1961</td>\n",
       "      <td>...</td>\n",
       "      <td>1</td>\n",
       "      <td>1</td>\n",
       "      <td>1</td>\n",
       "      <td>NaN</td>\n",
       "      <td>NaN</td>\n",
       "      <td>The road back; | a report on Alcoholics Anonym...</td>\n",
       "      <td>NaN</td>\n",
       "      <td>True</td>\n",
       "      <td>The road back; a report on Alcoholics Anonymous</td>\n",
       "      <td>mdp.39015067298763</td>\n",
       "    </tr>\n",
       "    <tr>\n",
       "      <th>27</th>\n",
       "      <td>mdp.39015065802277</td>\n",
       "      <td>Ohnet, Georges</td>\n",
       "      <td>Ohnet, Georges</td>\n",
       "      <td>1848-1918.</td>\n",
       "      <td>0</td>\n",
       "      <td>1918</td>\n",
       "      <td>n</td>\n",
       "      <td>||||</td>\n",
       "      <td></td>\n",
       "      <td>New York|G. W. Dillingham company c1910.</td>\n",
       "      <td>...</td>\n",
       "      <td>1</td>\n",
       "      <td>1</td>\n",
       "      <td>1</td>\n",
       "      <td>NaN</td>\n",
       "      <td>NaN</td>\n",
       "      <td>The red flag,</td>\n",
       "      <td>NaN</td>\n",
       "      <td>True</td>\n",
       "      <td>The red flag</td>\n",
       "      <td>mdp.39015065802277</td>\n",
       "    </tr>\n",
       "    <tr>\n",
       "      <th>28</th>\n",
       "      <td>coo.31924027270119</td>\n",
       "      <td>NaN</td>\n",
       "      <td>NaN</td>\n",
       "      <td>NaN</td>\n",
       "      <td>0</td>\n",
       "      <td>2100</td>\n",
       "      <td>s</td>\n",
       "      <td>19uu</td>\n",
       "      <td></td>\n",
       "      <td>Philadelphia|G. W. Jacobs|19--</td>\n",
       "      <td>...</td>\n",
       "      <td>1</td>\n",
       "      <td>1</td>\n",
       "      <td>1</td>\n",
       "      <td>NaN</td>\n",
       "      <td>NaN</td>\n",
       "      <td>Aucassin and Nicolette / | $c: [translated by]...</td>\n",
       "      <td>NaN</td>\n",
       "      <td>True</td>\n",
       "      <td>Aucassin and Nicolette</td>\n",
       "      <td>coo.31924027270119</td>\n",
       "    </tr>\n",
       "    <tr>\n",
       "      <th>29</th>\n",
       "      <td>mdp.39015061285808</td>\n",
       "      <td>Eliot, George</td>\n",
       "      <td>Eliot, George</td>\n",
       "      <td>1819-1880.</td>\n",
       "      <td>0</td>\n",
       "      <td>1880</td>\n",
       "      <td>n</td>\n",
       "      <td></td>\n",
       "      <td></td>\n",
       "      <td>Boston|Small, Maynard &amp; co.|n.d.</td>\n",
       "      <td>...</td>\n",
       "      <td>1</td>\n",
       "      <td>1</td>\n",
       "      <td>1</td>\n",
       "      <td>v.1</td>\n",
       "      <td>1.0</td>\n",
       "      <td>The works of George Eliot...</td>\n",
       "      <td>NaN</td>\n",
       "      <td>True</td>\n",
       "      <td>The works of George Eliot</td>\n",
       "      <td>mdp.39015061285808</td>\n",
       "    </tr>\n",
       "    <tr>\n",
       "      <th>...</th>\n",
       "      <td>...</td>\n",
       "      <td>...</td>\n",
       "      <td>...</td>\n",
       "      <td>...</td>\n",
       "      <td>...</td>\n",
       "      <td>...</td>\n",
       "      <td>...</td>\n",
       "      <td>...</td>\n",
       "      <td>...</td>\n",
       "      <td>...</td>\n",
       "      <td>...</td>\n",
       "      <td>...</td>\n",
       "      <td>...</td>\n",
       "      <td>...</td>\n",
       "      <td>...</td>\n",
       "      <td>...</td>\n",
       "      <td>...</td>\n",
       "      <td>...</td>\n",
       "      <td>...</td>\n",
       "      <td>...</td>\n",
       "      <td>...</td>\n",
       "    </tr>\n",
       "    <tr>\n",
       "      <th>138107</th>\n",
       "      <td>pst.000067591329</td>\n",
       "      <td>Hall, Rich</td>\n",
       "      <td>Hall, Rich</td>\n",
       "      <td>1954-</td>\n",
       "      <td>2009</td>\n",
       "      <td>2009</td>\n",
       "      <td>s</td>\n",
       "      <td>2009</td>\n",
       "      <td></td>\n",
       "      <td>London|Abacus|2009.</td>\n",
       "      <td>...</td>\n",
       "      <td>1</td>\n",
       "      <td>1</td>\n",
       "      <td>1</td>\n",
       "      <td>NaN</td>\n",
       "      <td>NaN</td>\n",
       "      <td>Magnificent bastards / | $c: Rich Hall.</td>\n",
       "      <td>NaN</td>\n",
       "      <td>True</td>\n",
       "      <td>Magnificent bastards</td>\n",
       "      <td>pst.000067591329</td>\n",
       "    </tr>\n",
       "    <tr>\n",
       "      <th>138108</th>\n",
       "      <td>pst.000067168613</td>\n",
       "      <td>Bacigalupi, Paolo</td>\n",
       "      <td>Bacigalupi, Paolo</td>\n",
       "      <td>NaN</td>\n",
       "      <td>2009</td>\n",
       "      <td>2009</td>\n",
       "      <td>s</td>\n",
       "      <td>2009</td>\n",
       "      <td></td>\n",
       "      <td>San Francisco|Night Shade Books|c2009.</td>\n",
       "      <td>...</td>\n",
       "      <td>1</td>\n",
       "      <td>1</td>\n",
       "      <td>1</td>\n",
       "      <td>NaN</td>\n",
       "      <td>NaN</td>\n",
       "      <td>The windup girl / | $c: Paolo Bacigalupi.</td>\n",
       "      <td>NaN</td>\n",
       "      <td>True</td>\n",
       "      <td>The windup girl</td>\n",
       "      <td>pst.000067168613</td>\n",
       "    </tr>\n",
       "    <tr>\n",
       "      <th>138109</th>\n",
       "      <td>pst.000066834076</td>\n",
       "      <td>Tyler, Anne</td>\n",
       "      <td>Tyler, Anne</td>\n",
       "      <td>NaN</td>\n",
       "      <td>2009</td>\n",
       "      <td>2009</td>\n",
       "      <td>s</td>\n",
       "      <td>2009</td>\n",
       "      <td></td>\n",
       "      <td>New York|Random House Large Print|c2009.</td>\n",
       "      <td>...</td>\n",
       "      <td>1</td>\n",
       "      <td>1</td>\n",
       "      <td>1</td>\n",
       "      <td>NaN</td>\n",
       "      <td>NaN</td>\n",
       "      <td>Noah's compass : | a novel / | $c: by Anne Tyler.</td>\n",
       "      <td>NaN</td>\n",
       "      <td>True</td>\n",
       "      <td>Noah's compass : a novel</td>\n",
       "      <td>pst.000066834076</td>\n",
       "    </tr>\n",
       "    <tr>\n",
       "      <th>138110</th>\n",
       "      <td>mdp.39015078813063</td>\n",
       "      <td>Kureishi, Hanif</td>\n",
       "      <td>Kureishi, Hanif</td>\n",
       "      <td>NaN</td>\n",
       "      <td>2009</td>\n",
       "      <td>2008</td>\n",
       "      <td>r</td>\n",
       "      <td>2009</td>\n",
       "      <td>2008</td>\n",
       "      <td>London|Faber|2009.</td>\n",
       "      <td>...</td>\n",
       "      <td>1</td>\n",
       "      <td>1</td>\n",
       "      <td>1</td>\n",
       "      <td>NaN</td>\n",
       "      <td>NaN</td>\n",
       "      <td>Something to tell you / | $c: Hanif Kureishi.</td>\n",
       "      <td>NaN</td>\n",
       "      <td>True</td>\n",
       "      <td>Something to tell you</td>\n",
       "      <td>mdp.39015078813063</td>\n",
       "    </tr>\n",
       "    <tr>\n",
       "      <th>138111</th>\n",
       "      <td>umn.31951d03149712s</td>\n",
       "      <td>Wodehouse, P. G. (Pelham Grenville)</td>\n",
       "      <td>Wodehouse, P. G., (Pelham Grenville)</td>\n",
       "      <td>1881-1975.</td>\n",
       "      <td>2009</td>\n",
       "      <td>1909</td>\n",
       "      <td>r</td>\n",
       "      <td>2009</td>\n",
       "      <td>1909</td>\n",
       "      <td>Place of publication not identified|publisher ...</td>\n",
       "      <td>...</td>\n",
       "      <td>1</td>\n",
       "      <td>1</td>\n",
       "      <td>1</td>\n",
       "      <td>NaN</td>\n",
       "      <td>NaN</td>\n",
       "      <td>Leave it to Psmith : | also published as Mike ...</td>\n",
       "      <td>NaN</td>\n",
       "      <td>False</td>\n",
       "      <td>Leave it to Psmith : also published as Mike an...</td>\n",
       "      <td>umn.31951d03149712s</td>\n",
       "    </tr>\n",
       "    <tr>\n",
       "      <th>138112</th>\n",
       "      <td>mdp.39015080826830</td>\n",
       "      <td>NaN</td>\n",
       "      <td>NaN</td>\n",
       "      <td>NaN</td>\n",
       "      <td>2010</td>\n",
       "      <td>2010</td>\n",
       "      <td>s</td>\n",
       "      <td>2010</td>\n",
       "      <td></td>\n",
       "      <td>Boston|Cheng &amp; Tsui Company|2010.</td>\n",
       "      <td>...</td>\n",
       "      <td>1</td>\n",
       "      <td>1</td>\n",
       "      <td>1</td>\n",
       "      <td>NaN</td>\n",
       "      <td>NaN</td>\n",
       "      <td>Another kind of paradise : | short stories fro...</td>\n",
       "      <td>NaN</td>\n",
       "      <td>True</td>\n",
       "      <td>Another kind of paradise : short stories from ...</td>\n",
       "      <td>mdp.39015080826830</td>\n",
       "    </tr>\n",
       "    <tr>\n",
       "      <th>138113</th>\n",
       "      <td>mdp.39015084272098</td>\n",
       "      <td>Stowe, Harriet Beecher</td>\n",
       "      <td>Stowe, Harriet Beecher</td>\n",
       "      <td>1811-1896.</td>\n",
       "      <td>2010</td>\n",
       "      <td>1852</td>\n",
       "      <td>r</td>\n",
       "      <td>2010</td>\n",
       "      <td>1852</td>\n",
       "      <td>New York|W.W. Norton &amp; Co.|c2010.</td>\n",
       "      <td>...</td>\n",
       "      <td>1</td>\n",
       "      <td>1</td>\n",
       "      <td>1</td>\n",
       "      <td>NaN</td>\n",
       "      <td>NaN</td>\n",
       "      <td>Uncle Tom's cabin : | authoritative text, back...</td>\n",
       "      <td>NaN</td>\n",
       "      <td>False</td>\n",
       "      <td>Uncle Tom's cabin : authoritative text, backgr...</td>\n",
       "      <td>mdp.39015084272098</td>\n",
       "    </tr>\n",
       "    <tr>\n",
       "      <th>138114</th>\n",
       "      <td>pst.000067016303</td>\n",
       "      <td>Falconer, Lanoe</td>\n",
       "      <td>Falconer, Lanoe</td>\n",
       "      <td>1848-1908.</td>\n",
       "      <td>2010</td>\n",
       "      <td>1908</td>\n",
       "      <td>s</td>\n",
       "      <td>2010</td>\n",
       "      <td></td>\n",
       "      <td>Bethesda|Academica Press|c2010.</td>\n",
       "      <td>...</td>\n",
       "      <td>1</td>\n",
       "      <td>1</td>\n",
       "      <td>1</td>\n",
       "      <td>NaN</td>\n",
       "      <td>NaN</td>\n",
       "      <td>The collected stories of Lanoe Falconer / | $c...</td>\n",
       "      <td>NaN</td>\n",
       "      <td>False</td>\n",
       "      <td>The collected stories of Lanoe Falconer</td>\n",
       "      <td>pst.000067016303</td>\n",
       "    </tr>\n",
       "    <tr>\n",
       "      <th>138115</th>\n",
       "      <td>mdp.39076002877624</td>\n",
       "      <td>Fevre, Ralph</td>\n",
       "      <td>Fevre, Ralph</td>\n",
       "      <td>1955-</td>\n",
       "      <td>2010</td>\n",
       "      <td>2010</td>\n",
       "      <td>s</td>\n",
       "      <td>2010</td>\n",
       "      <td></td>\n",
       "      <td>Basingstoke [England|New York|Palgrave Macmill...</td>\n",
       "      <td>...</td>\n",
       "      <td>1</td>\n",
       "      <td>1</td>\n",
       "      <td>1</td>\n",
       "      <td>NaN</td>\n",
       "      <td>NaN</td>\n",
       "      <td>Dead white men and other important people : | ...</td>\n",
       "      <td>NaN</td>\n",
       "      <td>True</td>\n",
       "      <td>Dead white men and other important people : so...</td>\n",
       "      <td>mdp.39076002877624</td>\n",
       "    </tr>\n",
       "    <tr>\n",
       "      <th>138116</th>\n",
       "      <td>mdp.39015087049980</td>\n",
       "      <td>NaN</td>\n",
       "      <td>NaN</td>\n",
       "      <td>NaN</td>\n",
       "      <td>2010</td>\n",
       "      <td>2010</td>\n",
       "      <td>s</td>\n",
       "      <td>2010</td>\n",
       "      <td></td>\n",
       "      <td>Ann Arbor, Mich.|Scholars' Facsimiles &amp; Reprin...</td>\n",
       "      <td>...</td>\n",
       "      <td>1</td>\n",
       "      <td>1</td>\n",
       "      <td>1</td>\n",
       "      <td>NaN</td>\n",
       "      <td>NaN</td>\n",
       "      <td>The first female detectives : | The female det...</td>\n",
       "      <td>NaN</td>\n",
       "      <td>True</td>\n",
       "      <td>The first female detectives : The female detec...</td>\n",
       "      <td>mdp.39015087049980</td>\n",
       "    </tr>\n",
       "    <tr>\n",
       "      <th>138117</th>\n",
       "      <td>mdp.39076002964257</td>\n",
       "      <td>Gordon, Jaimy</td>\n",
       "      <td>Gordon, Jaimy</td>\n",
       "      <td>1944-</td>\n",
       "      <td>2010</td>\n",
       "      <td>2010</td>\n",
       "      <td>s</td>\n",
       "      <td>2010</td>\n",
       "      <td></td>\n",
       "      <td>Kingston, N.Y.|McPherson &amp; Co.|c2010.</td>\n",
       "      <td>...</td>\n",
       "      <td>1</td>\n",
       "      <td>1</td>\n",
       "      <td>1</td>\n",
       "      <td>NaN</td>\n",
       "      <td>NaN</td>\n",
       "      <td>Lord of misrule : | a novel / | $c: by Jaimy G...</td>\n",
       "      <td>NaN</td>\n",
       "      <td>True</td>\n",
       "      <td>Lord of misrule : a novel</td>\n",
       "      <td>mdp.39076002964257</td>\n",
       "    </tr>\n",
       "    <tr>\n",
       "      <th>138118</th>\n",
       "      <td>pst.000067890415</td>\n",
       "      <td>Bukowski, Charles</td>\n",
       "      <td>Bukowski, Charles</td>\n",
       "      <td>NaN</td>\n",
       "      <td>2010</td>\n",
       "      <td>2010</td>\n",
       "      <td>s</td>\n",
       "      <td>2010</td>\n",
       "      <td></td>\n",
       "      <td>San Francisco|City Lights|c2010.</td>\n",
       "      <td>...</td>\n",
       "      <td>1</td>\n",
       "      <td>1</td>\n",
       "      <td>1</td>\n",
       "      <td>NaN</td>\n",
       "      <td>NaN</td>\n",
       "      <td>Absence of the hero : | uncollected stories an...</td>\n",
       "      <td>NaN</td>\n",
       "      <td>True</td>\n",
       "      <td>Absence of the hero : uncollected stories and ...</td>\n",
       "      <td>pst.000067890415</td>\n",
       "    </tr>\n",
       "    <tr>\n",
       "      <th>138119</th>\n",
       "      <td>pst.000067809509</td>\n",
       "      <td>Pitts, J. A</td>\n",
       "      <td>Pitts, J. A</td>\n",
       "      <td>NaN</td>\n",
       "      <td>2010</td>\n",
       "      <td>2010</td>\n",
       "      <td>s</td>\n",
       "      <td>2010</td>\n",
       "      <td></td>\n",
       "      <td>New York|Tor|2010.</td>\n",
       "      <td>...</td>\n",
       "      <td>1</td>\n",
       "      <td>1</td>\n",
       "      <td>1</td>\n",
       "      <td>NaN</td>\n",
       "      <td>NaN</td>\n",
       "      <td>Black blade blues / | $c: J.A. Pitts.</td>\n",
       "      <td>NaN</td>\n",
       "      <td>True</td>\n",
       "      <td>Black blade blues</td>\n",
       "      <td>pst.000067809509</td>\n",
       "    </tr>\n",
       "    <tr>\n",
       "      <th>138120</th>\n",
       "      <td>pst.000068100971</td>\n",
       "      <td>NaN</td>\n",
       "      <td>NaN</td>\n",
       "      <td>NaN</td>\n",
       "      <td>2010</td>\n",
       "      <td>2010</td>\n",
       "      <td>s</td>\n",
       "      <td>2010</td>\n",
       "      <td></td>\n",
       "      <td>Berkeley, CA|Ulysses Press|c2010.</td>\n",
       "      <td>...</td>\n",
       "      <td>1</td>\n",
       "      <td>1</td>\n",
       "      <td>1</td>\n",
       "      <td>NaN</td>\n",
       "      <td>NaN</td>\n",
       "      <td>The dead that walk : | zombie stories / | $c: ...</td>\n",
       "      <td>NaN</td>\n",
       "      <td>True</td>\n",
       "      <td>The dead that walk : zombie stories</td>\n",
       "      <td>pst.000068100971</td>\n",
       "    </tr>\n",
       "    <tr>\n",
       "      <th>138121</th>\n",
       "      <td>pst.000067844821</td>\n",
       "      <td>Dosa, David</td>\n",
       "      <td>Dosa, David</td>\n",
       "      <td>NaN</td>\n",
       "      <td>2010</td>\n",
       "      <td>2010</td>\n",
       "      <td>s</td>\n",
       "      <td>2010</td>\n",
       "      <td></td>\n",
       "      <td>New York|Hyperion|c2010.</td>\n",
       "      <td>...</td>\n",
       "      <td>1</td>\n",
       "      <td>1</td>\n",
       "      <td>1</td>\n",
       "      <td>NaN</td>\n",
       "      <td>NaN</td>\n",
       "      <td>Making rounds with Oscar : | the extraordinary...</td>\n",
       "      <td>NaN</td>\n",
       "      <td>True</td>\n",
       "      <td>Making rounds with Oscar : the extraordinary g...</td>\n",
       "      <td>pst.000067844821</td>\n",
       "    </tr>\n",
       "    <tr>\n",
       "      <th>138122</th>\n",
       "      <td>pst.000068289799</td>\n",
       "      <td>Atta, Sefi</td>\n",
       "      <td>Atta, Sefi</td>\n",
       "      <td>NaN</td>\n",
       "      <td>2010</td>\n",
       "      <td>2010</td>\n",
       "      <td>s</td>\n",
       "      <td>2010</td>\n",
       "      <td></td>\n",
       "      <td>Northampton, Mass.|Interlink Books|2010.</td>\n",
       "      <td>...</td>\n",
       "      <td>1</td>\n",
       "      <td>1</td>\n",
       "      <td>1</td>\n",
       "      <td>NaN</td>\n",
       "      <td>NaN</td>\n",
       "      <td>News from home : | stories / | $c: Sefi Atta.</td>\n",
       "      <td>NaN</td>\n",
       "      <td>True</td>\n",
       "      <td>News from home : stories</td>\n",
       "      <td>pst.000068289799</td>\n",
       "    </tr>\n",
       "    <tr>\n",
       "      <th>138123</th>\n",
       "      <td>mdp.39076002873672</td>\n",
       "      <td>Hacikyan, A. J. (Agop Jack)</td>\n",
       "      <td>Hacikyan, A. J. (Agop Jack)</td>\n",
       "      <td>1931-</td>\n",
       "      <td>2010</td>\n",
       "      <td>2010</td>\n",
       "      <td>s</td>\n",
       "      <td>2010</td>\n",
       "      <td></td>\n",
       "      <td>Northampton, Mass.|Interlink Books|2010.</td>\n",
       "      <td>...</td>\n",
       "      <td>1</td>\n",
       "      <td>1</td>\n",
       "      <td>1</td>\n",
       "      <td>NaN</td>\n",
       "      <td>NaN</td>\n",
       "      <td>A summer without dawn / | $c: Agop J. Hacikyan...</td>\n",
       "      <td>NaN</td>\n",
       "      <td>True</td>\n",
       "      <td>A summer without dawn</td>\n",
       "      <td>mdp.39076002873672</td>\n",
       "    </tr>\n",
       "    <tr>\n",
       "      <th>138124</th>\n",
       "      <td>usu.39060017689927</td>\n",
       "      <td>Martin, S. R (Sennie Rudolph)</td>\n",
       "      <td>Martin, S. R (Sennie Rudolph)</td>\n",
       "      <td>1935-</td>\n",
       "      <td>2010</td>\n",
       "      <td>2010</td>\n",
       "      <td>s</td>\n",
       "      <td>2010</td>\n",
       "      <td></td>\n",
       "      <td>Logan, UT|Utah State University Press|2010.</td>\n",
       "      <td>...</td>\n",
       "      <td>1</td>\n",
       "      <td>1</td>\n",
       "      <td>1</td>\n",
       "      <td>NaN</td>\n",
       "      <td>NaN</td>\n",
       "      <td>Natural-born proud : | a revery / | $c: S.R. M...</td>\n",
       "      <td>NaN</td>\n",
       "      <td>True</td>\n",
       "      <td>Natural-born proud : a revery</td>\n",
       "      <td>usu.39060017689927</td>\n",
       "    </tr>\n",
       "    <tr>\n",
       "      <th>138125</th>\n",
       "      <td>inu.30000127741159</td>\n",
       "      <td>Enev, Dei͡an</td>\n",
       "      <td>Enev, Dei͡an</td>\n",
       "      <td>1960-</td>\n",
       "      <td>2010</td>\n",
       "      <td>2010</td>\n",
       "      <td>t</td>\n",
       "      <td>2010</td>\n",
       "      <td>2010</td>\n",
       "      <td>London|Portobello Books|2010, ©2010.</td>\n",
       "      <td>...</td>\n",
       "      <td>1</td>\n",
       "      <td>1</td>\n",
       "      <td>1</td>\n",
       "      <td>NaN</td>\n",
       "      <td>NaN</td>\n",
       "      <td>Circus Bulgaria / | $c: Deyan Enev ; translate...</td>\n",
       "      <td>NaN</td>\n",
       "      <td>True</td>\n",
       "      <td>Circus Bulgaria</td>\n",
       "      <td>inu.30000127741159</td>\n",
       "    </tr>\n",
       "    <tr>\n",
       "      <th>138126</th>\n",
       "      <td>inu.30000127026270</td>\n",
       "      <td>Krysov, Vasiliy</td>\n",
       "      <td>Krysov, Vasiliy</td>\n",
       "      <td>NaN</td>\n",
       "      <td>2010</td>\n",
       "      <td>2010</td>\n",
       "      <td>s</td>\n",
       "      <td>2010</td>\n",
       "      <td></td>\n",
       "      <td>Barnsley|Pen &amp; Sword Military|2010.</td>\n",
       "      <td>...</td>\n",
       "      <td>1</td>\n",
       "      <td>1</td>\n",
       "      <td>1</td>\n",
       "      <td>NaN</td>\n",
       "      <td>NaN</td>\n",
       "      <td>Panzer destroyer : | memoirs of a Red Army tan...</td>\n",
       "      <td>NaN</td>\n",
       "      <td>True</td>\n",
       "      <td>Panzer destroyer : memoirs of a Red Army tank ...</td>\n",
       "      <td>inu.30000127026270</td>\n",
       "    </tr>\n",
       "    <tr>\n",
       "      <th>138127</th>\n",
       "      <td>mdp.39015090475339</td>\n",
       "      <td>Zaidan, Jurji</td>\n",
       "      <td>Zaidan, Jurji</td>\n",
       "      <td>NaN</td>\n",
       "      <td>2010</td>\n",
       "      <td>1906</td>\n",
       "      <td>r</td>\n",
       "      <td>2010</td>\n",
       "      <td>1906</td>\n",
       "      <td>Bethesda, MD|Zaidan Foundation|2010.</td>\n",
       "      <td>...</td>\n",
       "      <td>1</td>\n",
       "      <td>1</td>\n",
       "      <td>1</td>\n",
       "      <td>NaN</td>\n",
       "      <td>NaN</td>\n",
       "      <td>The caliph's sister : | Harun al-Rashid and th...</td>\n",
       "      <td>NaN</td>\n",
       "      <td>False</td>\n",
       "      <td>The caliph's sister : Harun al-Rashid and the ...</td>\n",
       "      <td>mdp.39015090475339</td>\n",
       "    </tr>\n",
       "    <tr>\n",
       "      <th>138128</th>\n",
       "      <td>pst.000067599691</td>\n",
       "      <td>May, Peter</td>\n",
       "      <td>May, Peter</td>\n",
       "      <td>1951-</td>\n",
       "      <td>2010</td>\n",
       "      <td>2010</td>\n",
       "      <td>s</td>\n",
       "      <td>2010</td>\n",
       "      <td></td>\n",
       "      <td>Scottsdale, AZ|Poisoned Pen Press|2010.</td>\n",
       "      <td>...</td>\n",
       "      <td>1</td>\n",
       "      <td>1</td>\n",
       "      <td>1</td>\n",
       "      <td>NaN</td>\n",
       "      <td>NaN</td>\n",
       "      <td>Virtually dead / | $c: Peter May.</td>\n",
       "      <td>NaN</td>\n",
       "      <td>True</td>\n",
       "      <td>Virtually dead</td>\n",
       "      <td>pst.000067599691</td>\n",
       "    </tr>\n",
       "    <tr>\n",
       "      <th>138129</th>\n",
       "      <td>pst.000068314842</td>\n",
       "      <td>NaN</td>\n",
       "      <td>NaN</td>\n",
       "      <td>NaN</td>\n",
       "      <td>2010</td>\n",
       "      <td>2010</td>\n",
       "      <td>s</td>\n",
       "      <td>2010</td>\n",
       "      <td></td>\n",
       "      <td>Edmond, Okla.|Gondwana Press|c2010.</td>\n",
       "      <td>...</td>\n",
       "      <td>1</td>\n",
       "      <td>1</td>\n",
       "      <td>1</td>\n",
       "      <td>NaN</td>\n",
       "      <td>NaN</td>\n",
       "      <td>Lost on Route 66 : | tales from the Mother Roa...</td>\n",
       "      <td>NaN</td>\n",
       "      <td>True</td>\n",
       "      <td>Lost on Route 66 : tales from the Mother Road</td>\n",
       "      <td>pst.000068314842</td>\n",
       "    </tr>\n",
       "    <tr>\n",
       "      <th>138130</th>\n",
       "      <td>pst.000068304621</td>\n",
       "      <td>Bear, Elizabeth</td>\n",
       "      <td>Bear, Elizabeth</td>\n",
       "      <td>NaN</td>\n",
       "      <td>2010</td>\n",
       "      <td>2010</td>\n",
       "      <td>s</td>\n",
       "      <td>2010</td>\n",
       "      <td></td>\n",
       "      <td>Burton, MI|Subterranean Press|2010.</td>\n",
       "      <td>...</td>\n",
       "      <td>1</td>\n",
       "      <td>1</td>\n",
       "      <td>1</td>\n",
       "      <td>NaN</td>\n",
       "      <td>NaN</td>\n",
       "      <td>Bone and jewel creatures / | $c: Elizabeth Bear.</td>\n",
       "      <td>NaN</td>\n",
       "      <td>True</td>\n",
       "      <td>Bone and jewel creatures</td>\n",
       "      <td>pst.000068304621</td>\n",
       "    </tr>\n",
       "    <tr>\n",
       "      <th>138131</th>\n",
       "      <td>pst.000067832682</td>\n",
       "      <td>NaN</td>\n",
       "      <td>NaN</td>\n",
       "      <td>NaN</td>\n",
       "      <td>2010</td>\n",
       "      <td>2010</td>\n",
       "      <td>s</td>\n",
       "      <td>2010</td>\n",
       "      <td></td>\n",
       "      <td>Dinas Powys, Wales|Honno|c2010.</td>\n",
       "      <td>...</td>\n",
       "      <td>1</td>\n",
       "      <td>1</td>\n",
       "      <td>1</td>\n",
       "      <td>NaN</td>\n",
       "      <td>NaN</td>\n",
       "      <td>Cut on the bias : | stories about women and th...</td>\n",
       "      <td>NaN</td>\n",
       "      <td>True</td>\n",
       "      <td>Cut on the bias : stories about women and the ...</td>\n",
       "      <td>pst.000067832682</td>\n",
       "    </tr>\n",
       "    <tr>\n",
       "      <th>138132</th>\n",
       "      <td>umn.31951d030369342</td>\n",
       "      <td>NaN</td>\n",
       "      <td>NaN</td>\n",
       "      <td>NaN</td>\n",
       "      <td>2010</td>\n",
       "      <td>1918</td>\n",
       "      <td>r</td>\n",
       "      <td>2010</td>\n",
       "      <td>1918</td>\n",
       "      <td>Ann Arbor|University Of Michigan Library|2010.</td>\n",
       "      <td>...</td>\n",
       "      <td>1</td>\n",
       "      <td>1</td>\n",
       "      <td>1</td>\n",
       "      <td>NaN</td>\n",
       "      <td>NaN</td>\n",
       "      <td>Six plays of the yiddish theatre / | $c: [tran...</td>\n",
       "      <td>NaN</td>\n",
       "      <td>False</td>\n",
       "      <td>Six plays of the yiddish theatre</td>\n",
       "      <td>umn.31951d030369342</td>\n",
       "    </tr>\n",
       "    <tr>\n",
       "      <th>138133</th>\n",
       "      <td>mdp.39076002906829</td>\n",
       "      <td>Wison, Steven E. (Steven Eugene)</td>\n",
       "      <td>Wison, Steven E. (Steven Eugene)</td>\n",
       "      <td>1951-</td>\n",
       "      <td>2011</td>\n",
       "      <td>2011</td>\n",
       "      <td>s</td>\n",
       "      <td>2011</td>\n",
       "      <td></td>\n",
       "      <td>Cleveland, Ohio|H-G Books|c2011.</td>\n",
       "      <td>...</td>\n",
       "      <td>1</td>\n",
       "      <td>1</td>\n",
       "      <td>1</td>\n",
       "      <td>NaN</td>\n",
       "      <td>NaN</td>\n",
       "      <td>The ghosts of Anatolia : | an epic journey to ...</td>\n",
       "      <td>NaN</td>\n",
       "      <td>True</td>\n",
       "      <td>The ghosts of Anatolia : an epic journey to fo...</td>\n",
       "      <td>mdp.39076002906829</td>\n",
       "    </tr>\n",
       "    <tr>\n",
       "      <th>138134</th>\n",
       "      <td>inu.30000127716409</td>\n",
       "      <td>Jeon, Heecheon</td>\n",
       "      <td>Jeon, Heecheon</td>\n",
       "      <td>NaN</td>\n",
       "      <td>2011</td>\n",
       "      <td>2011</td>\n",
       "      <td>s</td>\n",
       "      <td>2011</td>\n",
       "      <td></td>\n",
       "      <td>New York|Peter Lang|c2011.</td>\n",
       "      <td>...</td>\n",
       "      <td>1</td>\n",
       "      <td>1</td>\n",
       "      <td>1</td>\n",
       "      <td>NaN</td>\n",
       "      <td>NaN</td>\n",
       "      <td>Subjectivity of différance : | a poiesis of de...</td>\n",
       "      <td>NaN</td>\n",
       "      <td>True</td>\n",
       "      <td>Subjectivity of différance : a poiesis of deco...</td>\n",
       "      <td>inu.30000127716409</td>\n",
       "    </tr>\n",
       "    <tr>\n",
       "      <th>138135</th>\n",
       "      <td>ien.35556042103887</td>\n",
       "      <td>Wells, H. G. (Herbert George)</td>\n",
       "      <td>Wells, H. G. (Herbert George)</td>\n",
       "      <td>1866-1946.</td>\n",
       "      <td>2011</td>\n",
       "      <td>1901</td>\n",
       "      <td>r</td>\n",
       "      <td>2011</td>\n",
       "      <td>1901</td>\n",
       "      <td>La Vergne, TN|Nabu Public Domain Reprints|2011?].</td>\n",
       "      <td>...</td>\n",
       "      <td>1</td>\n",
       "      <td>1</td>\n",
       "      <td>1</td>\n",
       "      <td>NaN</td>\n",
       "      <td>NaN</td>\n",
       "      <td>Certain personal matters / | $c: by H. G. Wells.</td>\n",
       "      <td>NaN</td>\n",
       "      <td>False</td>\n",
       "      <td>Certain personal matters</td>\n",
       "      <td>ien.35556042103887</td>\n",
       "    </tr>\n",
       "    <tr>\n",
       "      <th>138136</th>\n",
       "      <td>mdp.39015092163339</td>\n",
       "      <td>Davis, John A</td>\n",
       "      <td>Davis, John A</td>\n",
       "      <td>d.1897.</td>\n",
       "      <td>2013</td>\n",
       "      <td>1880</td>\n",
       "      <td>r</td>\n",
       "      <td>2013</td>\n",
       "      <td>1880</td>\n",
       "      <td>NaN</td>\n",
       "      <td>...</td>\n",
       "      <td>1</td>\n",
       "      <td>1</td>\n",
       "      <td>1</td>\n",
       "      <td>v.4</td>\n",
       "      <td>4.0</td>\n",
       "      <td>Qing guo nu li : | fu ren Zhongguo fu nü sheng...</td>\n",
       "      <td>NaN</td>\n",
       "      <td>False</td>\n",
       "      <td>Qing guo nu li : fu ren Zhongguo fu nü sheng h...</td>\n",
       "      <td>mdp.39015092163339</td>\n",
       "    </tr>\n",
       "  </tbody>\n",
       "</table>\n",
       "<p>138137 rows × 29 columns</p>\n",
       "</div>"
      ],
      "text/plain": [
       "                      docid                            oldauthor  \\\n",
       "0        mdp.39015031913893                 Spencer, Louise Reid   \n",
       "1        mdp.39015003936864                      Baker, Robert H   \n",
       "2        mdp.39015068342305                     Dickens, Charles   \n",
       "3        mdp.39015055066586                      Stretton, Hesba   \n",
       "4        mdp.39015055066594                       Stretton,Hesba   \n",
       "5        mdp.39015063543394                          Lyall, Edna   \n",
       "6        mdp.39015059414725                     McKenna, Stephen   \n",
       "7        mdp.39015063920006      Haggard, H. Rider (Henry Rider)   \n",
       "8        mdp.39015035876971                         Malet, Lucas   \n",
       "9        mdp.39015010208315              Caffyn, Mannington, Mrs   \n",
       "10       mdp.39015063549854                           Dane, Joan   \n",
       "11              uc1.$b69324                       Catlin, George   \n",
       "12             uc1.b3451041                Enriquez, Mig Alvarez   \n",
       "13       mdp.39015063933132             Lawrence, Charles Edward   \n",
       "14       mdp.39015063945813                           Lee, Holme   \n",
       "15       mdp.39015063542487                 Bradley, Edward, Rev   \n",
       "16       mdp.39015031235263                 Hawthorne, Nathaniel   \n",
       "17       mdp.39015019204547                   Irving, Washington   \n",
       "18       mdp.39015067177587                Jones, Susan Carleton   \n",
       "19       mdp.39015049809208  Lytton, Edward Bulwer Lytton, Baron   \n",
       "20       mdp.39015008721394                    Campbell, Michael   \n",
       "21       mdp.39015063548997                         Glyn, Elinor   \n",
       "22       mdp.39015063918372                Fenn, George Manville   \n",
       "23       mdp.39015063521184                      Alcock, Deborah   \n",
       "24       mdp.39015065157607      Sellassie, Berhane Mariam Sahle   \n",
       "25       mdp.39015008280904      Andersen, H. C (Hans Christian)   \n",
       "26       mdp.39015067298763                       Kessel, Joseph   \n",
       "27       mdp.39015065802277                       Ohnet, Georges   \n",
       "28       coo.31924027270119                                  NaN   \n",
       "29       mdp.39015061285808                        Eliot, George   \n",
       "...                     ...                                  ...   \n",
       "138107     pst.000067591329                           Hall, Rich   \n",
       "138108     pst.000067168613                    Bacigalupi, Paolo   \n",
       "138109     pst.000066834076                          Tyler, Anne   \n",
       "138110   mdp.39015078813063                      Kureishi, Hanif   \n",
       "138111  umn.31951d03149712s  Wodehouse, P. G. (Pelham Grenville)   \n",
       "138112   mdp.39015080826830                                  NaN   \n",
       "138113   mdp.39015084272098               Stowe, Harriet Beecher   \n",
       "138114     pst.000067016303                      Falconer, Lanoe   \n",
       "138115   mdp.39076002877624                         Fevre, Ralph   \n",
       "138116   mdp.39015087049980                                  NaN   \n",
       "138117   mdp.39076002964257                        Gordon, Jaimy   \n",
       "138118     pst.000067890415                    Bukowski, Charles   \n",
       "138119     pst.000067809509                          Pitts, J. A   \n",
       "138120     pst.000068100971                                  NaN   \n",
       "138121     pst.000067844821                          Dosa, David   \n",
       "138122     pst.000068289799                           Atta, Sefi   \n",
       "138123   mdp.39076002873672          Hacikyan, A. J. (Agop Jack)   \n",
       "138124   usu.39060017689927        Martin, S. R (Sennie Rudolph)   \n",
       "138125   inu.30000127741159                         Enev, Dei͡an   \n",
       "138126   inu.30000127026270                      Krysov, Vasiliy   \n",
       "138127   mdp.39015090475339                        Zaidan, Jurji   \n",
       "138128     pst.000067599691                           May, Peter   \n",
       "138129     pst.000068314842                                  NaN   \n",
       "138130     pst.000068304621                      Bear, Elizabeth   \n",
       "138131     pst.000067832682                                  NaN   \n",
       "138132  umn.31951d030369342                                  NaN   \n",
       "138133   mdp.39076002906829     Wison, Steven E. (Steven Eugene)   \n",
       "138134   inu.30000127716409                       Jeon, Heecheon   \n",
       "138135   ien.35556042103887        Wells, H. G. (Herbert George)   \n",
       "138136   mdp.39015092163339                        Davis, John A   \n",
       "\n",
       "                                      author  authordate  inferreddate  \\\n",
       "0                       Spencer, Louise Reid         NaN             0   \n",
       "1                            Baker, Robert H         NaN             0   \n",
       "2                           Dickens, Charles  1812-1870.             0   \n",
       "3                            Stretton, Hesba  1832-1911.             0   \n",
       "4                            Stretton, Hesba  1832-1911.             0   \n",
       "5                                Lyall, Edna  1857-1903.             0   \n",
       "6                           McKenna, Stephen  1888-1967.             0   \n",
       "7            Haggard, H. Rider (Henry Rider)  1856-1925.             0   \n",
       "8                               Malet, Lucas  1852-1931.             0   \n",
       "9                    Caffyn, Mannington, Mrs         NaN             0   \n",
       "10                                Dane, Joan         NaN             0   \n",
       "11                            Catlin, George  1796-1872.             0   \n",
       "12                     Enriquez, Mig Alvarez         NaN             0   \n",
       "13                  Lawrence, Charles Edward  1870-1940.             0   \n",
       "14                                Lee, Holme  1828-1900.             0   \n",
       "15                      Bradley, Edward, Rev  1827-1889.             0   \n",
       "16                      Hawthorne, Nathaniel  1804-1864.             0   \n",
       "17                        Irving, Washington  1783-1859.             0   \n",
       "18                     Jones, Susan Carleton       1869-             0   \n",
       "19       Lytton, Edward Bulwer Lytton, Baron  1803-1873.             0   \n",
       "20                         Campbell, Michael       1924-             0   \n",
       "21                              Glyn, Elinor  1864-1943.             0   \n",
       "22                     Fenn, George Manville  1831-1909.             0   \n",
       "23                           Alcock, Deborah  1835-1913.             0   \n",
       "24           Sellassie, Berhane Mariam Sahle       1936-             0   \n",
       "25          Andersen, H. C. (Hans Christian)  1805-1875.             0   \n",
       "26                            Kessel, Joseph  1898-1979.             0   \n",
       "27                            Ohnet, Georges  1848-1918.             0   \n",
       "28                                       NaN         NaN             0   \n",
       "29                             Eliot, George  1819-1880.             0   \n",
       "...                                      ...         ...           ...   \n",
       "138107                            Hall, Rich       1954-          2009   \n",
       "138108                     Bacigalupi, Paolo         NaN          2009   \n",
       "138109                           Tyler, Anne         NaN          2009   \n",
       "138110                       Kureishi, Hanif         NaN          2009   \n",
       "138111  Wodehouse, P. G., (Pelham Grenville)  1881-1975.          2009   \n",
       "138112                                   NaN         NaN          2010   \n",
       "138113                Stowe, Harriet Beecher  1811-1896.          2010   \n",
       "138114                       Falconer, Lanoe  1848-1908.          2010   \n",
       "138115                          Fevre, Ralph       1955-          2010   \n",
       "138116                                   NaN         NaN          2010   \n",
       "138117                         Gordon, Jaimy       1944-          2010   \n",
       "138118                     Bukowski, Charles         NaN          2010   \n",
       "138119                           Pitts, J. A         NaN          2010   \n",
       "138120                                   NaN         NaN          2010   \n",
       "138121                           Dosa, David         NaN          2010   \n",
       "138122                            Atta, Sefi         NaN          2010   \n",
       "138123           Hacikyan, A. J. (Agop Jack)       1931-          2010   \n",
       "138124         Martin, S. R (Sennie Rudolph)       1935-          2010   \n",
       "138125                          Enev, Dei͡an       1960-          2010   \n",
       "138126                       Krysov, Vasiliy         NaN          2010   \n",
       "138127                         Zaidan, Jurji         NaN          2010   \n",
       "138128                            May, Peter       1951-          2010   \n",
       "138129                                   NaN         NaN          2010   \n",
       "138130                       Bear, Elizabeth         NaN          2010   \n",
       "138131                                   NaN         NaN          2010   \n",
       "138132                                   NaN         NaN          2010   \n",
       "138133      Wison, Steven E. (Steven Eugene)       1951-          2011   \n",
       "138134                        Jeon, Heecheon         NaN          2011   \n",
       "138135         Wells, H. G. (Herbert George)  1866-1946.          2011   \n",
       "138136                         Davis, John A     d.1897.          2013   \n",
       "\n",
       "        latestcomp datetype startdate enddate  \\\n",
       "0             2100        |      ||||    ||||   \n",
       "1             2100        n                     \n",
       "2             1870        n                     \n",
       "3             1911        n                     \n",
       "4             1911        n                     \n",
       "5             1903        n                     \n",
       "6             1967        n                     \n",
       "7             1925        n                     \n",
       "8             1931        n                     \n",
       "9             2100        n                     \n",
       "10            2100        n                     \n",
       "11            1872        n                     \n",
       "12            2100                              \n",
       "13            1940        n                     \n",
       "14            1900        n                     \n",
       "15            1889        n                     \n",
       "16            1864        n                     \n",
       "17            1859        n                     \n",
       "18            2100        n                     \n",
       "19            1873        n                     \n",
       "20            2100        n                     \n",
       "21            1943        n                     \n",
       "22            1909        n                     \n",
       "23            1913        n                     \n",
       "24            2100        n      ||||           \n",
       "25            1875        |      ||||           \n",
       "26            1979        |      ||||    ||||   \n",
       "27            1918        n      ||||           \n",
       "28            2100        s      19uu           \n",
       "29            1880        n                     \n",
       "...            ...      ...       ...     ...   \n",
       "138107        2009        s      2009           \n",
       "138108        2009        s      2009           \n",
       "138109        2009        s      2009           \n",
       "138110        2008        r      2009    2008   \n",
       "138111        1909        r      2009    1909   \n",
       "138112        2010        s      2010           \n",
       "138113        1852        r      2010    1852   \n",
       "138114        1908        s      2010           \n",
       "138115        2010        s      2010           \n",
       "138116        2010        s      2010           \n",
       "138117        2010        s      2010           \n",
       "138118        2010        s      2010           \n",
       "138119        2010        s      2010           \n",
       "138120        2010        s      2010           \n",
       "138121        2010        s      2010           \n",
       "138122        2010        s      2010           \n",
       "138123        2010        s      2010           \n",
       "138124        2010        s      2010           \n",
       "138125        2010        t      2010    2010   \n",
       "138126        2010        s      2010           \n",
       "138127        1906        r      2010    1906   \n",
       "138128        2010        s      2010           \n",
       "138129        2010        s      2010           \n",
       "138130        2010        s      2010           \n",
       "138131        2010        s      2010           \n",
       "138132        1918        r      2010    1918   \n",
       "138133        2011        s      2011           \n",
       "138134        2011        s      2011           \n",
       "138135        1901        r      2011    1901   \n",
       "138136        1880        r      2013    1880   \n",
       "\n",
       "                                                  imprint  \\\n",
       "0                          Thomas Y. Crowell company|1945   \n",
       "1              Port Washington, N.Y.|Ashley Books|197-?].   \n",
       "2                 New York|The American news company|n.d.   \n",
       "3                          New York|Dodd, Mead & co.|n.d.   \n",
       "4                          New York|Dodd, Mead & co.|n.d.   \n",
       "5                                New York|A. L. Burt|n.d.   \n",
       "6                            London|Hutchinson & co.|n.d.   \n",
       "7                             New York|J. S. Ogilvie|n.d.   \n",
       "8                       New York|T. Y. Crowell & co.|n.d.   \n",
       "9                        New York|Optimus print. co.|n.d.   \n",
       "10                                   London|E. Stock|n.d.   \n",
       "11              London and Edinburgh|Gall and Inglis|n.d.   \n",
       "12                   Quezon City|New Day Publishers|l983.   \n",
       "13                      New York|E. P. Dutton & con.|n.d.   \n",
       "14                   Philadelphia|H. T. Coates & co.|n.d.   \n",
       "15                                            London|n.d.   \n",
       "16           London|New York, [etc.|T. Nelson & sons|n.d.   \n",
       "17                           New York|A. L. Burt co.|n.d.   \n",
       "18                                              n.p.|n.d.   \n",
       "19                    New York|Syndicate trading co.|n.d.   \n",
       "20                                New York|Orion P.|n. d.   \n",
       "21                New York|Boston|H. M. Caldwell co.|n.d.   \n",
       "22      London|New York [etc.|Cassell, Petter, Galpin ...   \n",
       "23                                      London|Unwin|n.d.   \n",
       "24                                                    NaN   \n",
       "25                                                    NaN   \n",
       "26                             New York|Knopf|1962 [c1961   \n",
       "27               New York|G. W. Dillingham company c1910.   \n",
       "28                         Philadelphia|G. W. Jacobs|19--   \n",
       "29                       Boston|Small, Maynard & co.|n.d.   \n",
       "...                                                   ...   \n",
       "138107                                London|Abacus|2009.   \n",
       "138108             San Francisco|Night Shade Books|c2009.   \n",
       "138109           New York|Random House Large Print|c2009.   \n",
       "138110                                 London|Faber|2009.   \n",
       "138111  Place of publication not identified|publisher ...   \n",
       "138112                  Boston|Cheng & Tsui Company|2010.   \n",
       "138113                  New York|W.W. Norton & Co.|c2010.   \n",
       "138114                    Bethesda|Academica Press|c2010.   \n",
       "138115  Basingstoke [England|New York|Palgrave Macmill...   \n",
       "138116  Ann Arbor, Mich.|Scholars' Facsimiles & Reprin...   \n",
       "138117              Kingston, N.Y.|McPherson & Co.|c2010.   \n",
       "138118                   San Francisco|City Lights|c2010.   \n",
       "138119                                 New York|Tor|2010.   \n",
       "138120                  Berkeley, CA|Ulysses Press|c2010.   \n",
       "138121                           New York|Hyperion|c2010.   \n",
       "138122           Northampton, Mass.|Interlink Books|2010.   \n",
       "138123           Northampton, Mass.|Interlink Books|2010.   \n",
       "138124        Logan, UT|Utah State University Press|2010.   \n",
       "138125               London|Portobello Books|2010, ©2010.   \n",
       "138126                Barnsley|Pen & Sword Military|2010.   \n",
       "138127               Bethesda, MD|Zaidan Foundation|2010.   \n",
       "138128            Scottsdale, AZ|Poisoned Pen Press|2010.   \n",
       "138129                Edmond, Okla.|Gondwana Press|c2010.   \n",
       "138130                Burton, MI|Subterranean Press|2010.   \n",
       "138131                    Dinas Powys, Wales|Honno|c2010.   \n",
       "138132     Ann Arbor|University Of Michigan Library|2010.   \n",
       "138133                   Cleveland, Ohio|H-G Books|c2011.   \n",
       "138134                         New York|Peter Lang|c2011.   \n",
       "138135  La Vergne, TN|Nabu Public Domain Reprints|2011?].   \n",
       "138136                                                NaN   \n",
       "\n",
       "               ...          instances allcopiesofwork copiesin25yrs enumcron  \\\n",
       "0              ...                  1               1             1      NaN   \n",
       "1              ...                  1               1             1      NaN   \n",
       "2              ...                  1               1             1      NaN   \n",
       "3              ...                  1               1             1      NaN   \n",
       "4              ...                  1               1             1      NaN   \n",
       "5              ...                  1               1             1      NaN   \n",
       "6              ...                  1               1             1      NaN   \n",
       "7              ...                  1               1             1      NaN   \n",
       "8              ...                  1               1             1      NaN   \n",
       "9              ...                  1               1             1      NaN   \n",
       "10             ...                  1               1             1      NaN   \n",
       "11             ...                  2               2             2      NaN   \n",
       "12             ...                  2               2             2      NaN   \n",
       "13             ...                  1               1             1      NaN   \n",
       "14             ...                  1               1             1      NaN   \n",
       "15             ...                  1               1             1      NaN   \n",
       "16             ...                  1               1             1      NaN   \n",
       "17             ...                  1               1             1      NaN   \n",
       "18             ...                  1               1             1      NaN   \n",
       "19             ...                  1               1             1      NaN   \n",
       "20             ...                  1               1             1      NaN   \n",
       "21             ...                  1               1             1      NaN   \n",
       "22             ...                  1               1             1      NaN   \n",
       "23             ...                  1               1             1      NaN   \n",
       "24             ...                  1               1             1      NaN   \n",
       "25             ...                  1               1             1      NaN   \n",
       "26             ...                  1               1             1      NaN   \n",
       "27             ...                  1               1             1      NaN   \n",
       "28             ...                  1               1             1      NaN   \n",
       "29             ...                  1               1             1      v.1   \n",
       "...            ...                ...             ...           ...      ...   \n",
       "138107         ...                  1               1             1      NaN   \n",
       "138108         ...                  1               1             1      NaN   \n",
       "138109         ...                  1               1             1      NaN   \n",
       "138110         ...                  1               1             1      NaN   \n",
       "138111         ...                  1               1             1      NaN   \n",
       "138112         ...                  1               1             1      NaN   \n",
       "138113         ...                  1               1             1      NaN   \n",
       "138114         ...                  1               1             1      NaN   \n",
       "138115         ...                  1               1             1      NaN   \n",
       "138116         ...                  1               1             1      NaN   \n",
       "138117         ...                  1               1             1      NaN   \n",
       "138118         ...                  1               1             1      NaN   \n",
       "138119         ...                  1               1             1      NaN   \n",
       "138120         ...                  1               1             1      NaN   \n",
       "138121         ...                  1               1             1      NaN   \n",
       "138122         ...                  1               1             1      NaN   \n",
       "138123         ...                  1               1             1      NaN   \n",
       "138124         ...                  1               1             1      NaN   \n",
       "138125         ...                  1               1             1      NaN   \n",
       "138126         ...                  1               1             1      NaN   \n",
       "138127         ...                  1               1             1      NaN   \n",
       "138128         ...                  1               1             1      NaN   \n",
       "138129         ...                  1               1             1      NaN   \n",
       "138130         ...                  1               1             1      NaN   \n",
       "138131         ...                  1               1             1      NaN   \n",
       "138132         ...                  1               1             1      NaN   \n",
       "138133         ...                  1               1             1      NaN   \n",
       "138134         ...                  1               1             1      NaN   \n",
       "138135         ...                  1               1             1      NaN   \n",
       "138136         ...                  1               1             1      v.4   \n",
       "\n",
       "       volnum                                              title  parttitle  \\\n",
       "0         NaN     Guerrilla wife | $c: [by] Louise Reid Spencer.        NaN   \n",
       "1         NaN  The suburbs : | a novel / | $c: by Robert H. B...        NaN   \n",
       "2         NaN  Edwin Drood. | $c: By Charles Dickens. With il...        NaN   \n",
       "3         NaN                   Carola, | $c: by Hesba Stretton.        NaN   \n",
       "4         NaN          In prison & out. | $c: By Hesba Stretton.        NaN   \n",
       "5         NaN   Donovan. | A novel, | $c: by Edna Lyall [pseud.]        NaN   \n",
       "6         NaN  Lady Lilith, | a novel: Beong the first part o...        NaN   \n",
       "7         NaN    Beatrice | [a novel] | $c: by H. Rider Haggard.        NaN   \n",
       "8         NaN  Little Peter: | a Christmas morality for child...        NaN   \n",
       "9         NaN  A yellow aster : | a novel / | $c: by Iota [ps...        NaN   \n",
       "10        NaN  Prince Madog, | discoverer of America; a legen...        NaN   \n",
       "11        NaN  Rambles among the Indians of the Rocky Mountai...        NaN   \n",
       "12        NaN                                   House of images.        NaN   \n",
       "13        NaN   The god in the thicket, | $c: by C. E. Lawrence.        NaN   \n",
       "14        NaN  The vicissitudes of Bessie Fairfax: | a novel,...        NaN   \n",
       "15        NaN                     Happy hours at Wynford Grange.        NaN   \n",
       "16        NaN  The great stone face | & other stories, | $c: ...        NaN   \n",
       "17        NaN  The Alhambra; | tales & sketches of the Moors ...        NaN   \n",
       "18        NaN                                   The lame priest.        NaN   \n",
       "19        NaN     A strange story, | y Sir Edward Bulwer Lytton.        NaN   \n",
       "20        NaN                                       Peter Perry.        NaN   \n",
       "21        NaN        Visits of Elizabeth | $c: [by] Elinor Glyn.        NaN   \n",
       "22        NaN  Adventures of working men. | $c: By G. Manvill...        NaN   \n",
       "23        NaN  The Roman students; | or, on the wings of the ...        NaN   \n",
       "24        NaN     Shinega's village; | scenes of Ethiopian life.        NaN   \n",
       "25        NaN  Andersen's fairy tales; il. by Elizaveth MacKi...        NaN   \n",
       "26        NaN  The road back; | a report on Alcoholics Anonym...        NaN   \n",
       "27        NaN                                      The red flag,        NaN   \n",
       "28        NaN  Aucassin and Nicolette / | $c: [translated by]...        NaN   \n",
       "29        1.0                       The works of George Eliot...        NaN   \n",
       "...       ...                                                ...        ...   \n",
       "138107    NaN            Magnificent bastards / | $c: Rich Hall.        NaN   \n",
       "138108    NaN          The windup girl / | $c: Paolo Bacigalupi.        NaN   \n",
       "138109    NaN  Noah's compass : | a novel / | $c: by Anne Tyler.        NaN   \n",
       "138110    NaN      Something to tell you / | $c: Hanif Kureishi.        NaN   \n",
       "138111    NaN  Leave it to Psmith : | also published as Mike ...        NaN   \n",
       "138112    NaN  Another kind of paradise : | short stories fro...        NaN   \n",
       "138113    NaN  Uncle Tom's cabin : | authoritative text, back...        NaN   \n",
       "138114    NaN  The collected stories of Lanoe Falconer / | $c...        NaN   \n",
       "138115    NaN  Dead white men and other important people : | ...        NaN   \n",
       "138116    NaN  The first female detectives : | The female det...        NaN   \n",
       "138117    NaN  Lord of misrule : | a novel / | $c: by Jaimy G...        NaN   \n",
       "138118    NaN  Absence of the hero : | uncollected stories an...        NaN   \n",
       "138119    NaN              Black blade blues / | $c: J.A. Pitts.        NaN   \n",
       "138120    NaN  The dead that walk : | zombie stories / | $c: ...        NaN   \n",
       "138121    NaN  Making rounds with Oscar : | the extraordinary...        NaN   \n",
       "138122    NaN      News from home : | stories / | $c: Sefi Atta.        NaN   \n",
       "138123    NaN  A summer without dawn / | $c: Agop J. Hacikyan...        NaN   \n",
       "138124    NaN  Natural-born proud : | a revery / | $c: S.R. M...        NaN   \n",
       "138125    NaN  Circus Bulgaria / | $c: Deyan Enev ; translate...        NaN   \n",
       "138126    NaN  Panzer destroyer : | memoirs of a Red Army tan...        NaN   \n",
       "138127    NaN  The caliph's sister : | Harun al-Rashid and th...        NaN   \n",
       "138128    NaN                  Virtually dead / | $c: Peter May.        NaN   \n",
       "138129    NaN  Lost on Route 66 : | tales from the Mother Roa...        NaN   \n",
       "138130    NaN   Bone and jewel creatures / | $c: Elizabeth Bear.        NaN   \n",
       "138131    NaN  Cut on the bias : | stories about women and th...        NaN   \n",
       "138132    NaN  Six plays of the yiddish theatre / | $c: [tran...        NaN   \n",
       "138133    NaN  The ghosts of Anatolia : | an epic journey to ...        NaN   \n",
       "138134    NaN  Subjectivity of différance : | a poiesis of de...        NaN   \n",
       "138135    NaN   Certain personal matters / | $c: by H. G. Wells.        NaN   \n",
       "138136    4.0  Qing guo nu li : | fu ren Zhongguo fu nü sheng...        NaN   \n",
       "\n",
       "       earlyedition                                         shorttitle  \\\n",
       "0              True                                     Guerrilla wife   \n",
       "1              True                              The suburbs : a novel   \n",
       "2              True                                        Edwin Drood   \n",
       "3              True                                             Carola   \n",
       "4              True                                    In prison & out   \n",
       "5              True                                   Donovan. A novel   \n",
       "6              True  Lady Lilith, a novel: Beong the first part of ...   \n",
       "7              True                                 Beatrice [a novel]   \n",
       "8              True  Little Peter: a Christmas morality for childre...   \n",
       "9              True                           A yellow aster : a novel   \n",
       "10             True  Prince Madog, discoverer of America; a legenda...   \n",
       "11             True  Rambles among the Indians of the Rocky Mountai...   \n",
       "12             True                                    House of images   \n",
       "13             True                             The god in the thicket   \n",
       "14             True        The vicissitudes of Bessie Fairfax: a novel   \n",
       "15             True                      Happy hours at Wynford Grange   \n",
       "16             True               The great stone face & other stories   \n",
       "17             True  The Alhambra; tales & sketches of the Moors & ...   \n",
       "18             True                                    The lame priest   \n",
       "19             True        A strange story, y Sir Edward Bulwer Lytton   \n",
       "20             True                                        Peter Perry   \n",
       "21             True                                Visits of Elizabeth   \n",
       "22             True                          Adventures of working men   \n",
       "23             True  The Roman students; or, on the wings of the mo...   \n",
       "24             True        Shinega's village; scenes of Ethiopian life   \n",
       "25             True  Andersen's fairy tales; il. by Elizaveth MacKi...   \n",
       "26             True    The road back; a report on Alcoholics Anonymous   \n",
       "27             True                                       The red flag   \n",
       "28             True                             Aucassin and Nicolette   \n",
       "29             True                          The works of George Eliot   \n",
       "...             ...                                                ...   \n",
       "138107         True                               Magnificent bastards   \n",
       "138108         True                                    The windup girl   \n",
       "138109         True                           Noah's compass : a novel   \n",
       "138110         True                              Something to tell you   \n",
       "138111        False  Leave it to Psmith : also published as Mike an...   \n",
       "138112         True  Another kind of paradise : short stories from ...   \n",
       "138113        False  Uncle Tom's cabin : authoritative text, backgr...   \n",
       "138114        False            The collected stories of Lanoe Falconer   \n",
       "138115         True  Dead white men and other important people : so...   \n",
       "138116         True  The first female detectives : The female detec...   \n",
       "138117         True                          Lord of misrule : a novel   \n",
       "138118         True  Absence of the hero : uncollected stories and ...   \n",
       "138119         True                                  Black blade blues   \n",
       "138120         True                The dead that walk : zombie stories   \n",
       "138121         True  Making rounds with Oscar : the extraordinary g...   \n",
       "138122         True                           News from home : stories   \n",
       "138123         True                              A summer without dawn   \n",
       "138124         True                      Natural-born proud : a revery   \n",
       "138125         True                                    Circus Bulgaria   \n",
       "138126         True  Panzer destroyer : memoirs of a Red Army tank ...   \n",
       "138127        False  The caliph's sister : Harun al-Rashid and the ...   \n",
       "138128         True                                     Virtually dead   \n",
       "138129         True      Lost on Route 66 : tales from the Mother Road   \n",
       "138130         True                           Bone and jewel creatures   \n",
       "138131         True  Cut on the bias : stories about women and the ...   \n",
       "138132        False                   Six plays of the yiddish theatre   \n",
       "138133         True  The ghosts of Anatolia : an epic journey to fo...   \n",
       "138134         True  Subjectivity of différance : a poiesis of deco...   \n",
       "138135        False                           Certain personal matters   \n",
       "138136        False  Qing guo nu li : fu ren Zhongguo fu nü sheng h...   \n",
       "\n",
       "                       htid  \n",
       "0        mdp.39015031913893  \n",
       "1        mdp.39015003936864  \n",
       "2        mdp.39015068342305  \n",
       "3        mdp.39015055066586  \n",
       "4        mdp.39015055066594  \n",
       "5        mdp.39015063543394  \n",
       "6        mdp.39015059414725  \n",
       "7        mdp.39015063920006  \n",
       "8        mdp.39015035876971  \n",
       "9        mdp.39015010208315  \n",
       "10       mdp.39015063549854  \n",
       "11              uc1.$b69324  \n",
       "12             uc1.b3451041  \n",
       "13       mdp.39015063933132  \n",
       "14       mdp.39015063945813  \n",
       "15       mdp.39015063542487  \n",
       "16       mdp.39015031235263  \n",
       "17       mdp.39015019204547  \n",
       "18       mdp.39015067177587  \n",
       "19       mdp.39015049809208  \n",
       "20       mdp.39015008721394  \n",
       "21       mdp.39015063548997  \n",
       "22       mdp.39015063918372  \n",
       "23       mdp.39015063521184  \n",
       "24       mdp.39015065157607  \n",
       "25       mdp.39015008280904  \n",
       "26       mdp.39015067298763  \n",
       "27       mdp.39015065802277  \n",
       "28       coo.31924027270119  \n",
       "29       mdp.39015061285808  \n",
       "...                     ...  \n",
       "138107     pst.000067591329  \n",
       "138108     pst.000067168613  \n",
       "138109     pst.000066834076  \n",
       "138110   mdp.39015078813063  \n",
       "138111  umn.31951d03149712s  \n",
       "138112   mdp.39015080826830  \n",
       "138113   mdp.39015084272098  \n",
       "138114     pst.000067016303  \n",
       "138115   mdp.39076002877624  \n",
       "138116   mdp.39015087049980  \n",
       "138117   mdp.39076002964257  \n",
       "138118     pst.000067890415  \n",
       "138119     pst.000067809509  \n",
       "138120     pst.000068100971  \n",
       "138121     pst.000067844821  \n",
       "138122     pst.000068289799  \n",
       "138123   mdp.39076002873672  \n",
       "138124   usu.39060017689927  \n",
       "138125   inu.30000127741159  \n",
       "138126   inu.30000127026270  \n",
       "138127   mdp.39015090475339  \n",
       "138128     pst.000067599691  \n",
       "138129     pst.000068314842  \n",
       "138130     pst.000068304621  \n",
       "138131     pst.000067832682  \n",
       "138132  umn.31951d030369342  \n",
       "138133   mdp.39076002906829  \n",
       "138134   inu.30000127716409  \n",
       "138135   ien.35556042103887  \n",
       "138136   mdp.39015092163339  \n",
       "\n",
       "[138137 rows x 29 columns]"
      ]
     },
     "execution_count": 5,
     "metadata": {},
     "output_type": "execute_result"
    }
   ],
   "source": [
    "underwood['htid'] = [volid.replace(\"+\",\":\").replace(\"=\", \"/\") for volid in underwood['docid']]\n",
    "underwood"
   ]
  },
  {
   "cell_type": "markdown",
   "metadata": {
    "deletable": true,
    "editable": true
   },
   "source": [
    "Now we make a list of what we're looking for: it is 138137 volumes of English language fiction."
   ]
  },
  {
   "cell_type": "code",
   "execution_count": 6,
   "metadata": {
    "collapsed": false,
    "deletable": true,
    "editable": true
   },
   "outputs": [
    {
     "data": {
      "text/plain": [
       "138137"
      ]
     },
     "execution_count": 6,
     "metadata": {},
     "output_type": "execute_result"
    }
   ],
   "source": [
    "looking_for = set(underwood['htid'])\n",
    "len(looking_for)"
   ]
  },
  {
   "cell_type": "markdown",
   "metadata": {
    "deletable": true,
    "editable": true
   },
   "source": [
    "Now I use the SRP library two build to files; one the existing file to read, and one a new file to write to. I'm not going to use half-precision vectors to store the final outputs; this means we'll be wasting some space at the expense of simplicity for the final output."
   ]
  },
  {
   "cell_type": "code",
   "execution_count": 7,
   "metadata": {
    "collapsed": true,
    "deletable": true,
    "editable": true
   },
   "outputs": [],
   "source": [
    "full_hathi_set = SRP.Vector_file(full_vector_file_location, precision = 2)\n",
    "\n",
    "fiction_set = SRP.Vector_file(new_vector_file_location, dims = full_hathi_set.dims, mode = \"w\")"
   ]
  },
  {
   "cell_type": "markdown",
   "metadata": {
    "deletable": true,
    "editable": true
   },
   "source": [
    "It's pretty easy to iterate through the original file and add new ones, but may take a while: most of the code below just prints updates.\n",
    "\n",
    "Once this is done, we've created an extract of the full Hathi set."
   ]
  },
  {
   "cell_type": "code",
   "execution_count": 8,
   "metadata": {
    "collapsed": false,
    "deletable": true,
    "editable": true
   },
   "outputs": [
    {
     "name": "stdout",
     "output_type": "stream",
     "text": [
      "10000 written out of 138137\n",
      "20000 written out of 138137\n",
      "30000 written out of 138137\n",
      "40000 written out of 138137\n",
      "50000 written out of 138137\n",
      "60000 written out of 138137\n",
      "70000 written out of 138137\n",
      "80000 written out of 138137\n",
      "90000 written out of 138137\n",
      "100000 written out of 138137\n",
      "110000 written out of 138137\n",
      "120000 written out of 138137\n",
      "130000 written out of 138137\n",
      "137150 written out of 138137\n"
     ]
    }
   ],
   "source": [
    "written = 0\n",
    "\n",
    "for (id, row) in full_hathi_set:\n",
    "    if id in looking_for:\n",
    "        fiction_set.add_row(id, row)\n",
    "        written += 1\n",
    "        if written % 10000 == 0:\n",
    "            print (\"{} written out of {}\".format(written, len(looking_for)))\n",
    "# you MUST close files after writing or they will be corrupted.\n",
    "fiction_set.close()\n",
    "print (\"{} written out of {}\".format(written, len(looking_for)))"
   ]
  },
  {
   "cell_type": "markdown",
   "metadata": {
    "deletable": true,
    "editable": true
   },
   "source": [
    "Not every file is matched--about .75% (1000 out of 138,000) have gone missing. But this gives a good enough way to explore the set without even downloading the original EF files."
   ]
  },
  {
   "cell_type": "markdown",
   "metadata": {},
   "source": [
    "# Finding typical fiction\n",
    "\n",
    "Let's do a funny little experiment: finding  typical works of fiction. The first step is to load the fiction set into a matrix we can hold in memory. The `to_matrix` argument of a vector file gives us a dict that has two properties: 'names' (which gives all the identifier codes) and 'matrix' (which represents the full set as a matrix in SRP space."
   ]
  },
  {
   "cell_type": "code",
   "execution_count": 9,
   "metadata": {
    "collapsed": false,
    "deletable": true,
    "editable": true
   },
   "outputs": [],
   "source": [
    "fiction_set = SRP.Vector_file(new_vector_file_location).to_matrix()"
   ]
  },
  {
   "cell_type": "markdown",
   "metadata": {},
   "source": [
    "Now I'll use numpy to normalize the full matrix to unit length. I've gotten in the habit of using Einstein notation for this kind of matrix operation after reading [this great blog post](https://rockt.github.io/2018/04/30/einsum), but all it's really doing is normalizing each row against the L2-norm--that is, making each vector unit length. This means that book length won't affect our clustering."
   ]
  },
  {
   "cell_type": "code",
   "execution_count": 10,
   "metadata": {
    "collapsed": false,
    "deletable": true,
    "editable": true
   },
   "outputs": [],
   "source": [
    "import numpy as np\n",
    "mat = fiction_set['matrix']\n",
    "rownorms = 1 / np.linalg.norm(mat, axis=1)\n",
    "normalized = np.einsum('ij,i->ij', mat, rownorms)"
   ]
  },
  {
   "cell_type": "code",
   "execution_count": 11,
   "metadata": {
    "collapsed": false,
    "deletable": true,
    "editable": true
   },
   "outputs": [],
   "source": [
    "mean = np.mean(normalized, axis=0)\n",
    "# Dot product on unit vectors is cosine similarity.\n",
    "dist_from_mean = np.dot(normalized, mean)\n",
    "top_matches = np.argpartition(-dist_from_mean, 10)[:10]"
   ]
  },
  {
   "cell_type": "markdown",
   "metadata": {},
   "source": [
    "Now, we can look at the typical works of fiction in the Hathi Trust:"
   ]
  },
  {
   "cell_type": "code",
   "execution_count": 12,
   "metadata": {
    "collapsed": false,
    "deletable": true,
    "editable": true
   },
   "outputs": [
    {
     "name": "stdout",
     "output_type": "stream",
     "text": [
      "0.733444333076477 mdp.39015028485996\n",
      "0.7314298152923584 nyp.33433075742001\n",
      "0.7332363724708557 nyp.33433076065550\n",
      "0.7302396297454834 nyp.33433076065568\n",
      "0.7281640768051147 mdp.39015002130204\n",
      "0.7286748290061951 nyp.33433074888904\n",
      "0.728473424911499 wu.89098004476\n",
      "0.7302240133285522 nyp.33433075873269\n",
      "0.7286484241485596 uc1.b3607824\n",
      "0.7281256318092346 mdp.39015068363236\n"
     ]
    }
   ],
   "source": [
    "for m in top_matches:\n",
    "    print(\"{} {}\".format(dist_from_mean[m], fiction_set['names'][m]))\n",
    "    \n"
   ]
  },
  {
   "cell_type": "markdown",
   "metadata": {},
   "source": [
    "Hmm... Ids aren't very helpful. Here's some code to pretty print Hathi documents."
   ]
  },
  {
   "cell_type": "code",
   "execution_count": 231,
   "metadata": {
    "collapsed": false
   },
   "outputs": [
    {
     "data": {
      "text/html": [
       "<li><a href=https://babel.hathitrust.org/cgi/pt?id=mdp.39015028485996>b\"Femmes de Sicle : stories from the '90s : women writing at the end of two centuries /\" (1992)</a><br>0.73344433</li>"
      ],
      "text/plain": [
       "<IPython.core.display.HTML object>"
      ]
     },
     "metadata": {},
     "output_type": "display_data"
    },
    {
     "data": {
      "text/html": [
       "<li><a href=https://babel.hathitrust.org/cgi/pt?id=nyp.33433075742001>b'Out of the night.' (1910)</a><br>0.7314298</li>"
      ],
      "text/plain": [
       "<IPython.core.display.HTML object>"
      ]
     },
     "metadata": {},
     "output_type": "display_data"
    },
    {
     "data": {
      "text/html": [
       "<li><a href=https://babel.hathitrust.org/cgi/pt?id=nyp.33433076065550>b'The royal Americans,' (1910)</a><br>0.7332364</li>"
      ],
      "text/plain": [
       "<IPython.core.display.HTML object>"
      ]
     },
     "metadata": {},
     "output_type": "display_data"
    },
    {
     "data": {
      "text/html": [
       "<li><a href=https://babel.hathitrust.org/cgi/pt?id=nyp.33433076065568>b'Edith Bonham /' (1917)</a><br>0.7302396</li>"
      ],
      "text/plain": [
       "<IPython.core.display.HTML object>"
      ]
     },
     "metadata": {},
     "output_type": "display_data"
    },
    {
     "data": {
      "text/html": [
       "<li><a href=https://babel.hathitrust.org/cgi/pt?id=mdp.39015002130204>b'Walk in dread; twelve classic eerie tales.' (1972)</a><br>0.7281641</li>"
      ],
      "text/plain": [
       "<IPython.core.display.HTML object>"
      ]
     },
     "metadata": {},
     "output_type": "display_data"
    },
    {
     "data": {
      "text/html": [
       "<li><a href=https://babel.hathitrust.org/cgi/pt?id=nyp.33433074888904>b\"Dora's defiance.\" (1894)</a><br>0.7286748</li>"
      ],
      "text/plain": [
       "<IPython.core.display.HTML object>"
      ]
     },
     "metadata": {},
     "output_type": "display_data"
    },
    {
     "data": {
      "text/html": [
       "<li><a href=https://babel.hathitrust.org/cgi/pt?id=wu.89098004476>b'The strongest master /' (1902)</a><br>0.7284734</li>"
      ],
      "text/plain": [
       "<IPython.core.display.HTML object>"
      ]
     },
     "metadata": {},
     "output_type": "display_data"
    },
    {
     "data": {
      "text/html": [
       "<li><a href=https://babel.hathitrust.org/cgi/pt?id=nyp.33433075873269>b'The Blackberry pickers /' (1912)</a><br>0.730224</li>"
      ],
      "text/plain": [
       "<IPython.core.display.HTML object>"
      ]
     },
     "metadata": {},
     "output_type": "display_data"
    },
    {
     "data": {
      "text/html": [
       "<li><a href=https://babel.hathitrust.org/cgi/pt?id=uc1.b3607824>b'Stories from the Literary review.' (1969)</a><br>0.7286484</li>"
      ],
      "text/plain": [
       "<IPython.core.display.HTML object>"
      ]
     },
     "metadata": {},
     "output_type": "display_data"
    },
    {
     "data": {
      "text/html": [
       "<li><a href=https://babel.hathitrust.org/cgi/pt?id=mdp.39015068363236>b'The Famous story magazine;' (1925)</a><br>0.72812563</li>"
      ],
      "text/plain": [
       "<IPython.core.display.HTML object>"
      ]
     },
     "metadata": {},
     "output_type": "display_data"
    }
   ],
   "source": [
    "from urllib.request import urlopen\n",
    "import ujson as json\n",
    "from IPython.display import display, HTML\n",
    "\n",
    "#hathi_cache = {}\n",
    "\n",
    "def jsonify(id, force = False):\n",
    "    global hathi_cache\n",
    "    if id in hathi_cache and not force:\n",
    "        return hathi_cache[id]\n",
    "    sons = urlopen(\"http://catalog.hathitrust.org/api/volumes/brief/htid/%s.json\" % id.replace(\"+\",\":\").replace(\"=\",\"/\")).read()\n",
    "    hathi_cache[id] = json.loads(sons.decode())\n",
    "    return hathi_cache[id]\n",
    "\n",
    "def descend(record):\n",
    "    # Parse a hathi API call response.\n",
    "    a = record['records']\n",
    "    return a[list(a.keys())[0]]\n",
    "\n",
    "class Printable_Hathi():\n",
    "    def __init__(self, htid, text):\n",
    "        self.htid = htid\n",
    "        self.desc = descend(jsonify(htid))\n",
    "        self.text = text\n",
    "        \n",
    "    def _repr_html_(self):\n",
    "        self.desc['url'] = u\"https://babel.hathitrust.org/cgi/pt?id=\" + self.htid\n",
    "        output_string = \"<li><a href={}>{} ({})</a><br>{}</li>\".format(\n",
    "                self.desc['url'],self.desc['titles'][0].encode(\"ascii\",\"ignore\"), self.desc['publishDates'][0], self.text)\n",
    "        return output_string\n",
    "    \n",
    "    def title(self):\n",
    "        return self.desc['title']\n",
    "    \n",
    "for m in top_matches:\n",
    "    display(HTML(Printable_Hathi(fiction_set['names'][m], str(dist_from_mean[m]))._repr_html_()))\n",
    "    \n"
   ]
  },
  {
   "cell_type": "markdown",
   "metadata": {
    "collapsed": false,
    "deletable": true,
    "editable": true
   },
   "source": [
    "# K-means clustering of fiction\n",
    "\n",
    "The overall most typical fiction isn't interesting. But it's easy to use any standard matrix operations\n",
    "on this space to start to delve into things like genre.\n",
    "\n",
    "For example: we can use kmeans clustering to create 30 groups of books, and then look at the books closest the the centers of each of them. Since we're normalizing to the unit sphere, I use spherical k-means; using regular k-means can produce strange effects."
   ]
  },
  {
   "cell_type": "code",
   "execution_count": 165,
   "metadata": {
    "collapsed": false
   },
   "outputs": [
    {
     "name": "stdout",
     "output_type": "stream",
     "text": [
      "Initialization complete\n",
      "Iteration  0, inertia 70366.184\n",
      "Iteration  1, inertia 47270.581\n",
      "Iteration  2, inertia 46759.732\n",
      "Iteration  3, inertia 46601.818\n",
      "Iteration  4, inertia 46521.973\n",
      "Iteration  5, inertia 46465.767\n",
      "Iteration  6, inertia 46420.961\n",
      "Iteration  7, inertia 46382.983\n",
      "Iteration  8, inertia 46346.700\n",
      "Iteration  9, inertia 46304.741\n",
      "Iteration 10, inertia 46258.121\n",
      "Iteration 11, inertia 46231.777\n",
      "Iteration 12, inertia 46218.336\n",
      "Iteration 13, inertia 46208.435\n",
      "Iteration 14, inertia 46200.697\n",
      "Iteration 15, inertia 46194.130\n",
      "Iteration 16, inertia 46188.158\n",
      "Iteration 17, inertia 46182.594\n",
      "Iteration 18, inertia 46177.522\n",
      "Iteration 19, inertia 46173.467\n",
      "Iteration 20, inertia 46169.943\n",
      "Iteration 21, inertia 46166.838\n",
      "Iteration 22, inertia 46164.477\n",
      "Iteration 23, inertia 46162.533\n",
      "Iteration 24, inertia 46160.999\n",
      "Iteration 25, inertia 46159.839\n",
      "Iteration 26, inertia 46158.947\n",
      "Iteration 27, inertia 46158.244\n",
      "Iteration 28, inertia 46157.674\n",
      "Iteration 29, inertia 46157.211\n",
      "Iteration 30, inertia 46156.805\n",
      "Iteration 31, inertia 46156.475\n",
      "Iteration 32, inertia 46156.183\n",
      "Iteration 33, inertia 46155.940\n",
      "Iteration 34, inertia 46155.720\n",
      "Iteration 35, inertia 46155.507\n",
      "Iteration 36, inertia 46155.300\n",
      "Iteration 37, inertia 46155.126\n",
      "Iteration 38, inertia 46154.973\n",
      "Iteration 39, inertia 46154.835\n",
      "Iteration 40, inertia 46154.717\n",
      "Iteration 41, inertia 46154.609\n",
      "Iteration 42, inertia 46154.530\n",
      "Iteration 43, inertia 46154.430\n",
      "Iteration 44, inertia 46154.346\n",
      "Iteration 45, inertia 46154.259\n",
      "Iteration 46, inertia 46154.155\n",
      "Iteration 47, inertia 46154.051\n",
      "Iteration 48, inertia 46153.959\n",
      "Iteration 49, inertia 46153.870\n",
      "Iteration 50, inertia 46153.787\n",
      "Iteration 51, inertia 46153.706\n",
      "Iteration 52, inertia 46153.633\n",
      "Iteration 53, inertia 46153.576\n",
      "Iteration 54, inertia 46153.528\n",
      "Iteration 55, inertia 46153.482\n",
      "Iteration 56, inertia 46153.453\n",
      "Iteration 57, inertia 46153.415\n",
      "Iteration 58, inertia 46153.380\n",
      "Iteration 59, inertia 46153.329\n",
      "Iteration 60, inertia 46153.273\n",
      "Iteration 61, inertia 46153.234\n",
      "Iteration 62, inertia 46153.184\n",
      "Iteration 63, inertia 46153.142\n",
      "Iteration 64, inertia 46153.111\n",
      "Iteration 65, inertia 46153.067\n",
      "Iteration 66, inertia 46153.025\n",
      "Iteration 67, inertia 46152.982\n",
      "Iteration 68, inertia 46152.943\n",
      "Iteration 69, inertia 46152.922\n",
      "Iteration 70, inertia 46152.898\n",
      "Iteration 71, inertia 46152.866\n",
      "Iteration 72, inertia 46152.841\n",
      "Iteration 73, inertia 46152.817\n",
      "Iteration 74, inertia 46152.800\n",
      "Iteration 75, inertia 46152.773\n",
      "Iteration 76, inertia 46152.754\n",
      "Iteration 77, inertia 46152.747\n",
      "Iteration 78, inertia 46152.730\n",
      "Iteration 79, inertia 46152.716\n",
      "Iteration 80, inertia 46152.709\n",
      "Iteration 81, inertia 46152.696\n",
      "Iteration 82, inertia 46152.678\n",
      "Iteration 83, inertia 46152.662\n",
      "Iteration 84, inertia 46152.642\n",
      "Iteration 85, inertia 46152.630\n",
      "Iteration 86, inertia 46152.617\n",
      "Iteration 87, inertia 46152.610\n",
      "Iteration 88, inertia 46152.604\n",
      "Iteration 89, inertia 46152.599\n",
      "Iteration 90, inertia 46152.593\n",
      "Iteration 91, inertia 46152.591\n",
      "Iteration 92, inertia 46152.583\n",
      "Iteration 93, inertia 46152.583\n",
      "Iteration 94, inertia 46152.580\n",
      "Iteration 95, inertia 46152.577\n",
      "Iteration 96, inertia 46152.576\n",
      "Iteration 97, inertia 46152.573\n",
      "Iteration 98, inertia 46152.568\n",
      "Iteration 99, inertia 46152.561\n",
      "Iteration 100, inertia 46152.559\n",
      "Iteration 101, inertia 46152.552\n",
      "Iteration 102, inertia 46152.549\n",
      "Iteration 103, inertia 46152.540\n",
      "Iteration 104, inertia 46152.541\n",
      "Iteration 105, inertia 46152.532\n",
      "Iteration 106, inertia 46152.524\n",
      "Iteration 107, inertia 46152.526\n",
      "Iteration 108, inertia 46152.516\n",
      "Iteration 109, inertia 46152.513\n",
      "Iteration 110, inertia 46152.504\n",
      "Iteration 111, inertia 46152.494\n",
      "Iteration 112, inertia 46152.483\n",
      "Iteration 113, inertia 46152.474\n",
      "Iteration 114, inertia 46152.462\n",
      "Iteration 115, inertia 46152.444\n",
      "Iteration 116, inertia 46152.424\n",
      "Iteration 117, inertia 46152.398\n",
      "Iteration 118, inertia 46152.380\n",
      "Iteration 119, inertia 46152.362\n",
      "Iteration 120, inertia 46152.341\n",
      "Iteration 121, inertia 46152.309\n",
      "Iteration 122, inertia 46152.287\n",
      "Iteration 123, inertia 46152.267\n",
      "Iteration 124, inertia 46152.254\n",
      "Iteration 125, inertia 46152.244\n",
      "Iteration 126, inertia 46152.236\n",
      "Iteration 127, inertia 46152.227\n",
      "Iteration 128, inertia 46152.213\n",
      "Iteration 129, inertia 46152.204\n",
      "Iteration 130, inertia 46152.199\n",
      "Iteration 131, inertia 46152.183\n",
      "Iteration 132, inertia 46152.170\n",
      "Iteration 133, inertia 46152.157\n",
      "Iteration 134, inertia 46152.138\n",
      "Iteration 135, inertia 46152.117\n",
      "Iteration 136, inertia 46152.093\n",
      "Iteration 137, inertia 46152.058\n",
      "Iteration 138, inertia 46152.025\n",
      "Iteration 139, inertia 46151.998\n",
      "Iteration 140, inertia 46151.962\n",
      "Iteration 141, inertia 46151.944\n",
      "Iteration 142, inertia 46151.924\n",
      "Iteration 143, inertia 46151.910\n",
      "Iteration 144, inertia 46151.893\n",
      "Iteration 145, inertia 46151.882\n",
      "Iteration 146, inertia 46151.870\n",
      "Iteration 147, inertia 46151.855\n",
      "Iteration 148, inertia 46151.846\n",
      "Iteration 149, inertia 46151.837\n",
      "Iteration 150, inertia 46151.822\n",
      "Iteration 151, inertia 46151.822\n",
      "Iteration 152, inertia 46151.819\n",
      "Iteration 153, inertia 46151.808\n",
      "Iteration 154, inertia 46151.806\n",
      "Iteration 155, inertia 46151.801\n",
      "Iteration 156, inertia 46151.793\n",
      "Iteration 157, inertia 46151.785\n",
      "Iteration 158, inertia 46151.774\n",
      "Iteration 159, inertia 46151.775\n",
      "Iteration 160, inertia 46151.770\n",
      "Iteration 161, inertia 46151.760\n",
      "Iteration 162, inertia 46151.759\n",
      "Iteration 163, inertia 46151.751\n",
      "Iteration 164, inertia 46151.751\n",
      "Iteration 165, inertia 46151.749\n",
      "Iteration 166, inertia 46151.743\n",
      "Iteration 167, inertia 46151.745\n",
      "Iteration 168, inertia 46151.740\n",
      "Iteration 169, inertia 46151.738\n",
      "Iteration 170, inertia 46151.734\n",
      "Iteration 171, inertia 46151.732\n",
      "Iteration 172, inertia 46151.733\n",
      "Iteration 173, inertia 46151.730\n",
      "Iteration 174, inertia 46151.729\n",
      "Iteration 175, inertia 46151.727\n",
      "Iteration 176, inertia 46151.726\n",
      "Iteration 177, inertia 46151.724\n",
      "Iteration 178, inertia 46151.724\n",
      "Iteration 179, inertia 46151.719\n",
      "Iteration 180, inertia 46151.718\n",
      "Iteration 181, inertia 46151.717\n",
      "Iteration 182, inertia 46151.720\n",
      "Iteration 183, inertia 46151.716\n",
      "Iteration 184, inertia 46151.719\n",
      "Iteration 185, inertia 46151.717\n",
      "Iteration 186, inertia 46151.718\n",
      "Iteration 187, inertia 46151.715\n",
      "Iteration 188, inertia 46151.713\n",
      "Iteration 189, inertia 46151.711\n",
      "Iteration 190, inertia 46151.709\n",
      "Iteration 191, inertia 46151.710\n",
      "Iteration 192, inertia 46151.710\n",
      "Iteration 193, inertia 46151.712\n",
      "Converged at iteration 193: center shift 5.386385e-08 within tolerance 5.447187e-08\n",
      "Initialization complete\n",
      "Iteration  0, inertia 71606.463\n",
      "Iteration  1, inertia 47312.030\n",
      "Iteration  2, inertia 46740.226\n",
      "Iteration  3, inertia 46570.688\n",
      "Iteration  4, inertia 46471.106\n",
      "Iteration  5, inertia 46401.593\n",
      "Iteration  6, inertia 46354.203\n",
      "Iteration  7, inertia 46316.992\n",
      "Iteration  8, inertia 46288.377\n",
      "Iteration  9, inertia 46266.410\n",
      "Iteration 10, inertia 46248.341\n",
      "Iteration 11, inertia 46233.916\n",
      "Iteration 12, inertia 46222.767\n",
      "Iteration 13, inertia 46213.778\n",
      "Iteration 14, inertia 46206.376\n",
      "Iteration 15, inertia 46199.863\n",
      "Iteration 16, inertia 46194.384\n",
      "Iteration 17, inertia 46189.880\n",
      "Iteration 18, inertia 46186.012\n",
      "Iteration 19, inertia 46182.543\n",
      "Iteration 20, inertia 46179.374\n",
      "Iteration 21, inertia 46176.554\n",
      "Iteration 22, inertia 46173.851\n",
      "Iteration 23, inertia 46171.221\n",
      "Iteration 24, inertia 46168.610\n",
      "Iteration 25, inertia 46166.258\n",
      "Iteration 26, inertia 46163.992\n",
      "Iteration 27, inertia 46161.702\n",
      "Iteration 28, inertia 46159.541\n",
      "Iteration 29, inertia 46157.343\n",
      "Iteration 30, inertia 46155.395\n",
      "Iteration 31, inertia 46153.419\n",
      "Iteration 32, inertia 46151.585\n",
      "Iteration 33, inertia 46149.827\n",
      "Iteration 34, inertia 46148.156\n",
      "Iteration 35, inertia 46146.760\n",
      "Iteration 36, inertia 46145.634\n",
      "Iteration 37, inertia 46144.712\n",
      "Iteration 38, inertia 46143.923\n",
      "Iteration 39, inertia 46143.233\n",
      "Iteration 40, inertia 46142.605\n",
      "Iteration 41, inertia 46142.057\n",
      "Iteration 42, inertia 46141.529\n",
      "Iteration 43, inertia 46141.057\n",
      "Iteration 44, inertia 46140.614\n",
      "Iteration 45, inertia 46140.165\n",
      "Iteration 46, inertia 46139.764\n",
      "Iteration 47, inertia 46139.385\n",
      "Iteration 48, inertia 46138.973\n",
      "Iteration 49, inertia 46138.566\n",
      "Iteration 50, inertia 46138.192\n",
      "Iteration 51, inertia 46137.839\n",
      "Iteration 52, inertia 46137.468\n",
      "Iteration 53, inertia 46137.098\n",
      "Iteration 54, inertia 46136.722\n",
      "Iteration 55, inertia 46136.374\n",
      "Iteration 56, inertia 46136.037\n",
      "Iteration 57, inertia 46135.668\n",
      "Iteration 58, inertia 46135.305\n",
      "Iteration 59, inertia 46134.943\n",
      "Iteration 60, inertia 46134.559\n",
      "Iteration 61, inertia 46134.077\n",
      "Iteration 62, inertia 46133.541\n",
      "Iteration 63, inertia 46133.003\n",
      "Iteration 64, inertia 46132.484\n",
      "Iteration 65, inertia 46131.921\n",
      "Iteration 66, inertia 46131.387\n",
      "Iteration 67, inertia 46130.913\n",
      "Iteration 68, inertia 46130.501\n",
      "Iteration 69, inertia 46130.063\n",
      "Iteration 70, inertia 46129.611\n",
      "Iteration 71, inertia 46129.194\n",
      "Iteration 72, inertia 46128.808\n",
      "Iteration 73, inertia 46128.433\n",
      "Iteration 74, inertia 46128.072\n",
      "Iteration 75, inertia 46127.770\n",
      "Iteration 76, inertia 46127.471\n",
      "Iteration 77, inertia 46127.169\n",
      "Iteration 78, inertia 46126.899\n",
      "Iteration 79, inertia 46126.625\n",
      "Iteration 80, inertia 46126.384\n",
      "Iteration 81, inertia 46126.162\n",
      "Iteration 82, inertia 46125.944\n",
      "Iteration 83, inertia 46125.756\n",
      "Iteration 84, inertia 46125.571\n",
      "Iteration 85, inertia 46125.350\n",
      "Iteration 86, inertia 46125.115\n",
      "Iteration 87, inertia 46124.886\n",
      "Iteration 88, inertia 46124.605\n",
      "Iteration 89, inertia 46124.346\n",
      "Iteration 90, inertia 46124.070\n",
      "Iteration 91, inertia 46123.773\n",
      "Iteration 92, inertia 46123.459\n",
      "Iteration 93, inertia 46123.156\n",
      "Iteration 94, inertia 46122.850\n",
      "Iteration 95, inertia 46122.590\n",
      "Iteration 96, inertia 46122.293\n",
      "Iteration 97, inertia 46121.979\n",
      "Iteration 98, inertia 46121.719\n",
      "Iteration 99, inertia 46121.468\n",
      "Iteration 100, inertia 46121.220\n",
      "Iteration 101, inertia 46121.001\n",
      "Iteration 102, inertia 46120.818\n",
      "Iteration 103, inertia 46120.639\n",
      "Iteration 104, inertia 46120.451\n",
      "Iteration 105, inertia 46120.243\n",
      "Iteration 106, inertia 46120.063\n",
      "Iteration 107, inertia 46119.896\n",
      "Iteration 108, inertia 46119.719\n",
      "Iteration 109, inertia 46119.548\n",
      "Iteration 110, inertia 46119.383\n",
      "Iteration 111, inertia 46119.189\n",
      "Iteration 112, inertia 46119.018\n",
      "Iteration 113, inertia 46118.851\n",
      "Iteration 114, inertia 46118.670\n",
      "Iteration 115, inertia 46118.523\n",
      "Iteration 116, inertia 46118.401\n",
      "Iteration 117, inertia 46118.290\n",
      "Iteration 118, inertia 46118.187\n",
      "Iteration 119, inertia 46118.088\n",
      "Iteration 120, inertia 46117.973\n",
      "Iteration 121, inertia 46117.859\n",
      "Iteration 122, inertia 46117.748\n",
      "Iteration 123, inertia 46117.609\n",
      "Iteration 124, inertia 46117.484\n",
      "Iteration 125, inertia 46117.367\n",
      "Iteration 126, inertia 46117.252\n",
      "Iteration 127, inertia 46117.128\n",
      "Iteration 128, inertia 46117.027\n",
      "Iteration 129, inertia 46116.930\n",
      "Iteration 130, inertia 46116.842\n",
      "Iteration 131, inertia 46116.772\n",
      "Iteration 132, inertia 46116.700\n",
      "Iteration 133, inertia 46116.653\n",
      "Iteration 134, inertia 46116.590\n",
      "Iteration 135, inertia 46116.540\n",
      "Iteration 136, inertia 46116.489\n",
      "Iteration 137, inertia 46116.442\n",
      "Iteration 138, inertia 46116.396\n",
      "Iteration 139, inertia 46116.362\n",
      "Iteration 140, inertia 46116.331\n",
      "Iteration 141, inertia 46116.305\n",
      "Iteration 142, inertia 46116.283\n",
      "Iteration 143, inertia 46116.262\n",
      "Iteration 144, inertia 46116.239\n",
      "Iteration 145, inertia 46116.212\n",
      "Iteration 146, inertia 46116.196\n",
      "Iteration 147, inertia 46116.174\n",
      "Iteration 148, inertia 46116.157\n",
      "Iteration 149, inertia 46116.142\n",
      "Iteration 150, inertia 46116.133\n",
      "Iteration 151, inertia 46116.130\n",
      "Iteration 152, inertia 46116.123\n",
      "Iteration 153, inertia 46116.117\n",
      "Iteration 154, inertia 46116.106\n",
      "Iteration 155, inertia 46116.104\n",
      "Iteration 156, inertia 46116.101\n",
      "Iteration 157, inertia 46116.096\n",
      "Iteration 158, inertia 46116.087\n",
      "Iteration 159, inertia 46116.079\n",
      "Iteration 160, inertia 46116.058\n",
      "Iteration 161, inertia 46116.053\n",
      "Iteration 162, inertia 46116.039\n",
      "Iteration 163, inertia 46116.021\n",
      "Iteration 164, inertia 46116.014\n",
      "Iteration 165, inertia 46116.013\n",
      "Iteration 166, inertia 46116.000\n",
      "Iteration 167, inertia 46115.992\n",
      "Iteration 168, inertia 46115.986\n",
      "Iteration 169, inertia 46115.986\n",
      "Iteration 170, inertia 46115.983\n",
      "Iteration 171, inertia 46115.979\n",
      "Iteration 172, inertia 46115.975\n",
      "Iteration 173, inertia 46115.964\n",
      "Iteration 174, inertia 46115.959\n",
      "Iteration 175, inertia 46115.951\n",
      "Iteration 176, inertia 46115.941\n",
      "Iteration 177, inertia 46115.940\n",
      "Iteration 178, inertia 46115.933\n",
      "Iteration 179, inertia 46115.926\n",
      "Iteration 180, inertia 46115.922\n",
      "Iteration 181, inertia 46115.922\n",
      "Iteration 182, inertia 46115.917\n",
      "Iteration 183, inertia 46115.918\n",
      "Iteration 184, inertia 46115.917\n",
      "Iteration 185, inertia 46115.916\n",
      "Iteration 186, inertia 46115.914\n",
      "Iteration 187, inertia 46115.907\n",
      "Iteration 188, inertia 46115.908\n",
      "Iteration 189, inertia 46115.906\n",
      "Converged at iteration 189: center shift 5.136021e-08 within tolerance 5.447187e-08\n",
      "Initialization complete\n",
      "Iteration  0, inertia 70268.411\n",
      "Iteration  1, inertia 47251.267\n",
      "Iteration  2, inertia 46729.103\n",
      "Iteration  3, inertia 46526.479\n",
      "Iteration  4, inertia 46413.404\n",
      "Iteration  5, inertia 46351.157\n",
      "Iteration  6, inertia 46311.066\n",
      "Iteration  7, inertia 46282.343\n",
      "Iteration  8, inertia 46261.625\n",
      "Iteration  9, inertia 46246.686\n",
      "Iteration 10, inertia 46235.507\n",
      "Iteration 11, inertia 46227.157\n",
      "Iteration 12, inertia 46220.603\n",
      "Iteration 13, inertia 46215.075\n",
      "Iteration 14, inertia 46209.994\n",
      "Iteration 15, inertia 46205.134\n",
      "Iteration 16, inertia 46200.144\n",
      "Iteration 17, inertia 46194.617\n",
      "Iteration 18, inertia 46188.983\n",
      "Iteration 19, inertia 46183.562\n",
      "Iteration 20, inertia 46178.320\n",
      "Iteration 21, inertia 46173.188\n",
      "Iteration 22, inertia 46168.059\n",
      "Iteration 23, inertia 46162.612\n",
      "Iteration 24, inertia 46157.725\n",
      "Iteration 25, inertia 46153.417\n",
      "Iteration 26, inertia 46149.943\n",
      "Iteration 27, inertia 46146.937\n",
      "Iteration 28, inertia 46144.310\n",
      "Iteration 29, inertia 46142.351\n",
      "Iteration 30, inertia 46140.909\n",
      "Iteration 31, inertia 46139.810\n",
      "Iteration 32, inertia 46138.882\n",
      "Iteration 33, inertia 46138.072\n",
      "Iteration 34, inertia 46137.378\n",
      "Iteration 35, inertia 46136.752\n",
      "Iteration 36, inertia 46136.147\n",
      "Iteration 37, inertia 46135.557\n",
      "Iteration 38, inertia 46134.955\n",
      "Iteration 39, inertia 46134.437\n",
      "Iteration 40, inertia 46133.915\n",
      "Iteration 41, inertia 46133.451\n",
      "Iteration 42, inertia 46133.005\n",
      "Iteration 43, inertia 46132.518\n",
      "Iteration 44, inertia 46131.926\n",
      "Iteration 45, inertia 46131.257\n",
      "Iteration 46, inertia 46130.592\n",
      "Iteration 47, inertia 46129.858\n",
      "Iteration 48, inertia 46129.088\n",
      "Iteration 49, inertia 46128.172\n",
      "Iteration 50, inertia 46127.285\n",
      "Iteration 51, inertia 46126.401\n",
      "Iteration 52, inertia 46125.504\n",
      "Iteration 53, inertia 46124.527\n",
      "Iteration 54, inertia 46123.493\n",
      "Iteration 55, inertia 46122.464\n",
      "Iteration 56, inertia 46121.314\n",
      "Iteration 57, inertia 46120.044\n",
      "Iteration 58, inertia 46118.740\n",
      "Iteration 59, inertia 46117.316\n",
      "Iteration 60, inertia 46115.857\n",
      "Iteration 61, inertia 46114.426\n",
      "Iteration 62, inertia 46112.960\n",
      "Iteration 63, inertia 46111.543\n",
      "Iteration 64, inertia 46110.340\n",
      "Iteration 65, inertia 46109.227\n",
      "Iteration 66, inertia 46108.224\n",
      "Iteration 67, inertia 46107.356\n",
      "Iteration 68, inertia 46106.684\n",
      "Iteration 69, inertia 46106.071\n",
      "Iteration 70, inertia 46105.536\n",
      "Iteration 71, inertia 46105.080\n",
      "Iteration 72, inertia 46104.653\n",
      "Iteration 73, inertia 46104.237\n",
      "Iteration 74, inertia 46103.859\n",
      "Iteration 75, inertia 46103.557\n",
      "Iteration 76, inertia 46103.269\n",
      "Iteration 77, inertia 46102.980\n",
      "Iteration 78, inertia 46102.697\n",
      "Iteration 79, inertia 46102.420\n",
      "Iteration 80, inertia 46102.153\n",
      "Iteration 81, inertia 46101.909\n",
      "Iteration 82, inertia 46101.679\n",
      "Iteration 83, inertia 46101.450\n",
      "Iteration 84, inertia 46101.210\n",
      "Iteration 85, inertia 46100.951\n",
      "Iteration 86, inertia 46100.673\n",
      "Iteration 87, inertia 46100.394\n",
      "Iteration 88, inertia 46100.126\n",
      "Iteration 89, inertia 46099.904\n",
      "Iteration 90, inertia 46099.700\n",
      "Iteration 91, inertia 46099.528\n",
      "Iteration 92, inertia 46099.360\n",
      "Iteration 93, inertia 46099.213\n",
      "Iteration 94, inertia 46099.050\n",
      "Iteration 95, inertia 46098.899\n",
      "Iteration 96, inertia 46098.726\n",
      "Iteration 97, inertia 46098.562\n",
      "Iteration 98, inertia 46098.422\n",
      "Iteration 99, inertia 46098.294\n",
      "Iteration 100, inertia 46098.178\n",
      "Iteration 101, inertia 46098.064\n",
      "Iteration 102, inertia 46097.946\n",
      "Iteration 103, inertia 46097.843\n",
      "Iteration 104, inertia 46097.742\n",
      "Iteration 105, inertia 46097.641\n",
      "Iteration 106, inertia 46097.525\n",
      "Iteration 107, inertia 46097.423\n",
      "Iteration 108, inertia 46097.327\n",
      "Iteration 109, inertia 46097.238\n",
      "Iteration 110, inertia 46097.160\n",
      "Iteration 111, inertia 46097.092\n",
      "Iteration 112, inertia 46097.036\n",
      "Iteration 113, inertia 46096.970\n",
      "Iteration 114, inertia 46096.921\n",
      "Iteration 115, inertia 46096.869\n",
      "Iteration 116, inertia 46096.822\n",
      "Iteration 117, inertia 46096.782\n",
      "Iteration 118, inertia 46096.731\n",
      "Iteration 119, inertia 46096.683\n",
      "Iteration 120, inertia 46096.644\n",
      "Iteration 121, inertia 46096.604\n",
      "Iteration 122, inertia 46096.578\n",
      "Iteration 123, inertia 46096.554\n",
      "Iteration 124, inertia 46096.529\n",
      "Iteration 125, inertia 46096.499\n",
      "Iteration 126, inertia 46096.472\n",
      "Iteration 127, inertia 46096.449\n",
      "Iteration 128, inertia 46096.424\n",
      "Iteration 129, inertia 46096.406\n",
      "Iteration 130, inertia 46096.388\n",
      "Iteration 131, inertia 46096.368\n",
      "Iteration 132, inertia 46096.357\n",
      "Iteration 133, inertia 46096.342\n",
      "Iteration 134, inertia 46096.328\n",
      "Iteration 135, inertia 46096.319\n",
      "Iteration 136, inertia 46096.308\n",
      "Iteration 137, inertia 46096.300\n",
      "Iteration 138, inertia 46096.294\n",
      "Iteration 139, inertia 46096.291\n",
      "Iteration 140, inertia 46096.283\n",
      "Iteration 141, inertia 46096.281\n",
      "Iteration 142, inertia 46096.273\n",
      "Iteration 143, inertia 46096.271\n",
      "Iteration 144, inertia 46096.271\n",
      "Iteration 145, inertia 46096.270\n",
      "Iteration 146, inertia 46096.263\n",
      "Iteration 147, inertia 46096.264\n",
      "Iteration 148, inertia 46096.261\n",
      "Iteration 149, inertia 46096.252\n",
      "Iteration 150, inertia 46096.246\n",
      "Iteration 151, inertia 46096.237\n",
      "Iteration 152, inertia 46096.237\n",
      "Iteration 153, inertia 46096.230\n",
      "Iteration 154, inertia 46096.223\n",
      "Iteration 155, inertia 46096.216\n",
      "Iteration 156, inertia 46096.213\n",
      "Iteration 157, inertia 46096.205\n",
      "Iteration 158, inertia 46096.198\n",
      "Iteration 159, inertia 46096.189\n",
      "Iteration 160, inertia 46096.188\n",
      "Iteration 161, inertia 46096.182\n",
      "Iteration 162, inertia 46096.184\n",
      "Converged at iteration 162: center shift 0.000000e+00 within tolerance 5.447187e-08\n",
      "Initialization complete\n",
      "Iteration  0, inertia 70769.497\n",
      "Iteration  1, inertia 47178.308\n",
      "Iteration  2, inertia 46672.443\n",
      "Iteration  3, inertia 46520.974\n",
      "Iteration  4, inertia 46426.110\n",
      "Iteration  5, inertia 46357.471\n",
      "Iteration  6, inertia 46310.675\n",
      "Iteration  7, inertia 46277.242\n",
      "Iteration  8, inertia 46251.420\n",
      "Iteration  9, inertia 46230.181\n",
      "Iteration 10, inertia 46212.913\n",
      "Iteration 11, inertia 46199.204\n",
      "Iteration 12, inertia 46187.557\n",
      "Iteration 13, inertia 46177.744\n",
      "Iteration 14, inertia 46169.893\n",
      "Iteration 15, inertia 46163.188\n",
      "Iteration 16, inertia 46157.329\n",
      "Iteration 17, inertia 46152.175\n",
      "Iteration 18, inertia 46147.632\n",
      "Iteration 19, inertia 46143.775\n",
      "Iteration 20, inertia 46140.921\n",
      "Iteration 21, inertia 46138.659\n",
      "Iteration 22, inertia 46136.712\n",
      "Iteration 23, inertia 46134.896\n",
      "Iteration 24, inertia 46133.212\n",
      "Iteration 25, inertia 46131.680\n",
      "Iteration 26, inertia 46130.348\n",
      "Iteration 27, inertia 46129.256\n",
      "Iteration 28, inertia 46128.335\n",
      "Iteration 29, inertia 46127.535\n",
      "Iteration 30, inertia 46126.826\n",
      "Iteration 31, inertia 46126.156\n",
      "Iteration 32, inertia 46125.502\n",
      "Iteration 33, inertia 46124.897\n",
      "Iteration 34, inertia 46124.369\n",
      "Iteration 35, inertia 46123.896\n",
      "Iteration 36, inertia 46123.419\n",
      "Iteration 37, inertia 46122.958\n",
      "Iteration 38, inertia 46122.517\n",
      "Iteration 39, inertia 46122.034\n",
      "Iteration 40, inertia 46121.552\n",
      "Iteration 41, inertia 46121.122\n",
      "Iteration 42, inertia 46120.715\n",
      "Iteration 43, inertia 46120.298\n",
      "Iteration 44, inertia 46119.855\n",
      "Iteration 45, inertia 46119.450\n",
      "Iteration 46, inertia 46119.080\n",
      "Iteration 47, inertia 46118.711\n",
      "Iteration 48, inertia 46118.325\n",
      "Iteration 49, inertia 46117.866\n",
      "Iteration 50, inertia 46117.267\n",
      "Iteration 51, inertia 46116.626\n",
      "Iteration 52, inertia 46116.000\n",
      "Iteration 53, inertia 46115.378\n",
      "Iteration 54, inertia 46114.771\n",
      "Iteration 55, inertia 46114.159\n",
      "Iteration 56, inertia 46113.613\n",
      "Iteration 57, inertia 46113.146\n",
      "Iteration 58, inertia 46112.717\n",
      "Iteration 59, inertia 46112.338\n",
      "Iteration 60, inertia 46112.021\n",
      "Iteration 61, inertia 46111.735\n",
      "Iteration 62, inertia 46111.473\n",
      "Iteration 63, inertia 46111.226\n",
      "Iteration 64, inertia 46110.996\n",
      "Iteration 65, inertia 46110.795\n",
      "Iteration 66, inertia 46110.615\n",
      "Iteration 67, inertia 46110.442\n",
      "Iteration 68, inertia 46110.283\n",
      "Iteration 69, inertia 46110.137\n",
      "Iteration 70, inertia 46109.993\n",
      "Iteration 71, inertia 46109.868\n",
      "Iteration 72, inertia 46109.754\n",
      "Iteration 73, inertia 46109.635\n",
      "Iteration 74, inertia 46109.522\n",
      "Iteration 75, inertia 46109.393\n",
      "Iteration 76, inertia 46109.245\n",
      "Iteration 77, inertia 46109.088\n",
      "Iteration 78, inertia 46108.931\n",
      "Iteration 79, inertia 46108.771\n",
      "Iteration 80, inertia 46108.624\n",
      "Iteration 81, inertia 46108.507\n",
      "Iteration 82, inertia 46108.411\n",
      "Iteration 83, inertia 46108.307\n",
      "Iteration 84, inertia 46108.203\n",
      "Iteration 85, inertia 46108.102\n",
      "Iteration 86, inertia 46108.010\n",
      "Iteration 87, inertia 46107.939\n",
      "Iteration 88, inertia 46107.858\n",
      "Iteration 89, inertia 46107.784\n",
      "Iteration 90, inertia 46107.708\n",
      "Iteration 91, inertia 46107.614\n",
      "Iteration 92, inertia 46107.516\n",
      "Iteration 93, inertia 46107.422\n",
      "Iteration 94, inertia 46107.326\n",
      "Iteration 95, inertia 46107.230\n",
      "Iteration 96, inertia 46107.146\n",
      "Iteration 97, inertia 46107.063\n",
      "Iteration 98, inertia 46106.992\n",
      "Iteration 99, inertia 46106.920\n",
      "Iteration 100, inertia 46106.858\n",
      "Iteration 101, inertia 46106.801\n",
      "Iteration 102, inertia 46106.754\n",
      "Iteration 103, inertia 46106.698\n",
      "Iteration 104, inertia 46106.653\n",
      "Iteration 105, inertia 46106.604\n",
      "Iteration 106, inertia 46106.567\n",
      "Iteration 107, inertia 46106.517\n",
      "Iteration 108, inertia 46106.468\n",
      "Iteration 109, inertia 46106.432\n",
      "Iteration 110, inertia 46106.394\n",
      "Iteration 111, inertia 46106.352\n",
      "Iteration 112, inertia 46106.316\n",
      "Iteration 113, inertia 46106.284\n",
      "Iteration 114, inertia 46106.253\n",
      "Iteration 115, inertia 46106.227\n",
      "Iteration 116, inertia 46106.201\n",
      "Iteration 117, inertia 46106.177\n",
      "Iteration 118, inertia 46106.160\n",
      "Iteration 119, inertia 46106.139\n",
      "Iteration 120, inertia 46106.122\n",
      "Iteration 121, inertia 46106.111\n",
      "Iteration 122, inertia 46106.100\n",
      "Iteration 123, inertia 46106.092\n",
      "Iteration 124, inertia 46106.078\n",
      "Iteration 125, inertia 46106.069\n",
      "Iteration 126, inertia 46106.054\n",
      "Iteration 127, inertia 46106.041\n",
      "Iteration 128, inertia 46106.036\n",
      "Iteration 129, inertia 46106.024\n",
      "Iteration 130, inertia 46106.025\n",
      "Iteration 131, inertia 46106.018\n",
      "Iteration 132, inertia 46106.012\n",
      "Iteration 133, inertia 46106.012\n",
      "Iteration 134, inertia 46106.006\n",
      "Iteration 135, inertia 46106.003\n",
      "Iteration 136, inertia 46105.995\n",
      "Iteration 137, inertia 46105.993\n",
      "Iteration 138, inertia 46105.989\n",
      "Iteration 139, inertia 46105.991\n",
      "Iteration 140, inertia 46105.988\n",
      "Iteration 141, inertia 46105.986\n",
      "Iteration 142, inertia 46105.981\n",
      "Iteration 143, inertia 46105.977\n",
      "Iteration 144, inertia 46105.979\n",
      "Iteration 145, inertia 46105.972\n",
      "Iteration 146, inertia 46105.970\n",
      "Iteration 147, inertia 46105.969\n",
      "Iteration 148, inertia 46105.961\n",
      "Iteration 149, inertia 46105.961\n",
      "Iteration 150, inertia 46105.960\n",
      "Iteration 151, inertia 46105.959\n",
      "Iteration 152, inertia 46105.955\n",
      "Iteration 153, inertia 46105.953\n",
      "Iteration 154, inertia 46105.955\n",
      "Iteration 155, inertia 46105.954\n",
      "Iteration 156, inertia 46105.953\n",
      "Iteration 157, inertia 46105.953\n",
      "Iteration 158, inertia 46105.955\n",
      "Iteration 159, inertia 46105.950\n",
      "Iteration 160, inertia 46105.949\n",
      "Iteration 161, inertia 46105.946\n",
      "Iteration 162, inertia 46105.946\n",
      "Iteration 163, inertia 46105.941\n",
      "Iteration 164, inertia 46105.940\n",
      "Iteration 165, inertia 46105.933\n",
      "Iteration 166, inertia 46105.932\n",
      "Iteration 167, inertia 46105.926\n",
      "Iteration 168, inertia 46105.926\n",
      "Iteration 169, inertia 46105.926\n",
      "Iteration 170, inertia 46105.915\n",
      "Iteration 171, inertia 46105.918\n",
      "Iteration 172, inertia 46105.913\n",
      "Iteration 173, inertia 46105.910\n",
      "Iteration 174, inertia 46105.909\n",
      "Iteration 175, inertia 46105.903\n",
      "Iteration 176, inertia 46105.902\n",
      "Iteration 177, inertia 46105.899\n",
      "Iteration 178, inertia 46105.896\n",
      "Iteration 179, inertia 46105.895\n",
      "Converged at iteration 179: center shift 0.000000e+00 within tolerance 5.447187e-08\n",
      "Initialization complete\n",
      "Iteration  0, inertia 70346.555\n",
      "Iteration  1, inertia 47488.554\n",
      "Iteration  2, inertia 46815.883\n",
      "Iteration  3, inertia 46531.404\n",
      "Iteration  4, inertia 46408.431\n",
      "Iteration  5, inertia 46356.496\n",
      "Iteration  6, inertia 46325.434\n",
      "Iteration  7, inertia 46303.629\n",
      "Iteration  8, inertia 46286.244\n",
      "Iteration  9, inertia 46271.413\n",
      "Iteration 10, inertia 46258.992\n",
      "Iteration 11, inertia 46249.231\n",
      "Iteration 12, inertia 46241.679\n",
      "Iteration 13, inertia 46235.304\n",
      "Iteration 14, inertia 46230.121\n",
      "Iteration 15, inertia 46225.659\n",
      "Iteration 16, inertia 46221.763\n",
      "Iteration 17, inertia 46218.224\n",
      "Iteration 18, inertia 46215.088\n",
      "Iteration 19, inertia 46212.292\n",
      "Iteration 20, inertia 46209.635\n",
      "Iteration 21, inertia 46207.137\n",
      "Iteration 22, inertia 46204.663\n",
      "Iteration 23, inertia 46202.176\n",
      "Iteration 24, inertia 46199.917\n",
      "Iteration 25, inertia 46197.665\n",
      "Iteration 26, inertia 46195.420\n",
      "Iteration 27, inertia 46193.327\n",
      "Iteration 28, inertia 46191.477\n",
      "Iteration 29, inertia 46189.826\n",
      "Iteration 30, inertia 46188.452\n",
      "Iteration 31, inertia 46187.338\n",
      "Iteration 32, inertia 46186.413\n",
      "Iteration 33, inertia 46185.554\n",
      "Iteration 34, inertia 46184.737\n",
      "Iteration 35, inertia 46183.999\n",
      "Iteration 36, inertia 46183.226\n",
      "Iteration 37, inertia 46182.452\n",
      "Iteration 38, inertia 46181.667\n",
      "Iteration 39, inertia 46180.906\n",
      "Iteration 40, inertia 46180.153\n",
      "Iteration 41, inertia 46179.399\n",
      "Iteration 42, inertia 46178.618\n",
      "Iteration 43, inertia 46177.712\n",
      "Iteration 44, inertia 46176.740\n",
      "Iteration 45, inertia 46175.841\n",
      "Iteration 46, inertia 46174.939\n",
      "Iteration 47, inertia 46173.892\n",
      "Iteration 48, inertia 46172.823\n",
      "Iteration 49, inertia 46171.827\n",
      "Iteration 50, inertia 46170.913\n",
      "Iteration 51, inertia 46170.184\n",
      "Iteration 52, inertia 46169.625\n",
      "Iteration 53, inertia 46169.123\n",
      "Iteration 54, inertia 46168.666\n",
      "Iteration 55, inertia 46168.229\n",
      "Iteration 56, inertia 46167.785\n",
      "Iteration 57, inertia 46167.370\n",
      "Iteration 58, inertia 46166.894\n",
      "Iteration 59, inertia 46166.423\n",
      "Iteration 60, inertia 46165.937\n",
      "Iteration 61, inertia 46165.538\n",
      "Iteration 62, inertia 46165.171\n",
      "Iteration 63, inertia 46164.861\n",
      "Iteration 64, inertia 46164.629\n",
      "Iteration 65, inertia 46164.423\n",
      "Iteration 66, inertia 46164.265\n",
      "Iteration 67, inertia 46164.079\n",
      "Iteration 68, inertia 46163.897\n",
      "Iteration 69, inertia 46163.711\n",
      "Iteration 70, inertia 46163.497\n",
      "Iteration 71, inertia 46163.267\n",
      "Iteration 72, inertia 46163.088\n",
      "Iteration 73, inertia 46162.948\n",
      "Iteration 74, inertia 46162.846\n",
      "Iteration 75, inertia 46162.757\n",
      "Iteration 76, inertia 46162.665\n",
      "Iteration 77, inertia 46162.575\n",
      "Iteration 78, inertia 46162.495\n",
      "Iteration 79, inertia 46162.425\n",
      "Iteration 80, inertia 46162.349\n",
      "Iteration 81, inertia 46162.273\n",
      "Iteration 82, inertia 46162.197\n",
      "Iteration 83, inertia 46162.109\n",
      "Iteration 84, inertia 46162.029\n",
      "Iteration 85, inertia 46161.931\n",
      "Iteration 86, inertia 46161.841\n",
      "Iteration 87, inertia 46161.749\n",
      "Iteration 88, inertia 46161.658\n",
      "Iteration 89, inertia 46161.561\n",
      "Iteration 90, inertia 46161.456\n",
      "Iteration 91, inertia 46161.344\n",
      "Iteration 92, inertia 46161.228\n",
      "Iteration 93, inertia 46161.114\n",
      "Iteration 94, inertia 46161.001\n",
      "Iteration 95, inertia 46160.910\n",
      "Iteration 96, inertia 46160.831\n",
      "Iteration 97, inertia 46160.745\n",
      "Iteration 98, inertia 46160.673\n",
      "Iteration 99, inertia 46160.577\n",
      "Iteration 100, inertia 46160.465\n",
      "Iteration 101, inertia 46160.328\n",
      "Iteration 102, inertia 46160.183\n",
      "Iteration 103, inertia 46160.027\n",
      "Iteration 104, inertia 46159.906\n",
      "Iteration 105, inertia 46159.788\n",
      "Iteration 106, inertia 46159.679\n",
      "Iteration 107, inertia 46159.566\n",
      "Iteration 108, inertia 46159.448\n",
      "Iteration 109, inertia 46159.341\n",
      "Iteration 110, inertia 46159.226\n",
      "Iteration 111, inertia 46159.102\n",
      "Iteration 112, inertia 46158.966\n",
      "Iteration 113, inertia 46158.847\n",
      "Iteration 114, inertia 46158.710\n",
      "Iteration 115, inertia 46158.584\n",
      "Iteration 116, inertia 46158.464\n",
      "Iteration 117, inertia 46158.338\n",
      "Iteration 118, inertia 46158.214\n",
      "Iteration 119, inertia 46158.099\n",
      "Iteration 120, inertia 46157.988\n",
      "Iteration 121, inertia 46157.871\n",
      "Iteration 122, inertia 46157.738\n",
      "Iteration 123, inertia 46157.618\n",
      "Iteration 124, inertia 46157.497\n",
      "Iteration 125, inertia 46157.379\n",
      "Iteration 126, inertia 46157.273\n",
      "Iteration 127, inertia 46157.189\n",
      "Iteration 128, inertia 46157.108\n",
      "Iteration 129, inertia 46157.034\n",
      "Iteration 130, inertia 46156.974\n",
      "Iteration 131, inertia 46156.917\n",
      "Iteration 132, inertia 46156.866\n",
      "Iteration 133, inertia 46156.819\n",
      "Iteration 134, inertia 46156.769\n",
      "Iteration 135, inertia 46156.716\n",
      "Iteration 136, inertia 46156.673\n",
      "Iteration 137, inertia 46156.630\n",
      "Iteration 138, inertia 46156.589\n",
      "Iteration 139, inertia 46156.538\n",
      "Iteration 140, inertia 46156.498\n",
      "Iteration 141, inertia 46156.450\n",
      "Iteration 142, inertia 46156.416\n",
      "Iteration 143, inertia 46156.373\n",
      "Iteration 144, inertia 46156.337\n",
      "Iteration 145, inertia 46156.296\n",
      "Iteration 146, inertia 46156.246\n",
      "Iteration 147, inertia 46156.209\n",
      "Iteration 148, inertia 46156.172\n",
      "Iteration 149, inertia 46156.126\n",
      "Iteration 150, inertia 46156.087\n",
      "Iteration 151, inertia 46156.048\n",
      "Iteration 152, inertia 46156.015\n",
      "Iteration 153, inertia 46155.974\n",
      "Iteration 154, inertia 46155.945\n",
      "Iteration 155, inertia 46155.914\n",
      "Iteration 156, inertia 46155.881\n",
      "Iteration 157, inertia 46155.851\n",
      "Iteration 158, inertia 46155.808\n",
      "Iteration 159, inertia 46155.763\n",
      "Iteration 160, inertia 46155.726\n",
      "Iteration 161, inertia 46155.684\n",
      "Iteration 162, inertia 46155.630\n",
      "Iteration 163, inertia 46155.586\n",
      "Iteration 164, inertia 46155.549\n",
      "Iteration 165, inertia 46155.518\n",
      "Iteration 166, inertia 46155.484\n",
      "Iteration 167, inertia 46155.455\n",
      "Iteration 168, inertia 46155.429\n",
      "Iteration 169, inertia 46155.406\n",
      "Iteration 170, inertia 46155.379\n",
      "Iteration 171, inertia 46155.356\n",
      "Iteration 172, inertia 46155.336\n",
      "Iteration 173, inertia 46155.318\n",
      "Iteration 174, inertia 46155.293\n",
      "Iteration 175, inertia 46155.273\n",
      "Iteration 176, inertia 46155.253\n",
      "Iteration 177, inertia 46155.224\n",
      "Iteration 178, inertia 46155.203\n",
      "Iteration 179, inertia 46155.187\n",
      "Iteration 180, inertia 46155.169\n",
      "Iteration 181, inertia 46155.151\n",
      "Iteration 182, inertia 46155.137\n",
      "Iteration 183, inertia 46155.125\n",
      "Iteration 184, inertia 46155.106\n",
      "Iteration 185, inertia 46155.099\n",
      "Iteration 186, inertia 46155.087\n",
      "Iteration 187, inertia 46155.083\n",
      "Iteration 188, inertia 46155.071\n",
      "Iteration 189, inertia 46155.063\n",
      "Iteration 190, inertia 46155.051\n",
      "Iteration 191, inertia 46155.043\n",
      "Iteration 192, inertia 46155.024\n",
      "Iteration 193, inertia 46155.005\n",
      "Iteration 194, inertia 46154.983\n",
      "Iteration 195, inertia 46154.963\n",
      "Iteration 196, inertia 46154.940\n",
      "Iteration 197, inertia 46154.911\n",
      "Iteration 198, inertia 46154.878\n",
      "Iteration 199, inertia 46154.837\n",
      "Iteration 200, inertia 46154.795\n",
      "Iteration 201, inertia 46154.758\n",
      "Iteration 202, inertia 46154.730\n",
      "Iteration 203, inertia 46154.703\n",
      "Iteration 204, inertia 46154.679\n",
      "Iteration 205, inertia 46154.652\n",
      "Iteration 206, inertia 46154.625\n",
      "Iteration 207, inertia 46154.601\n",
      "Iteration 208, inertia 46154.584\n",
      "Iteration 209, inertia 46154.559\n",
      "Iteration 210, inertia 46154.535\n",
      "Iteration 211, inertia 46154.519\n",
      "Iteration 212, inertia 46154.498\n",
      "Iteration 213, inertia 46154.479\n",
      "Iteration 214, inertia 46154.471\n",
      "Iteration 215, inertia 46154.453\n",
      "Iteration 216, inertia 46154.445\n",
      "Iteration 217, inertia 46154.440\n",
      "Iteration 218, inertia 46154.428\n",
      "Iteration 219, inertia 46154.416\n",
      "Iteration 220, inertia 46154.408\n",
      "Iteration 221, inertia 46154.400\n",
      "Iteration 222, inertia 46154.391\n",
      "Iteration 223, inertia 46154.378\n",
      "Iteration 224, inertia 46154.369\n",
      "Iteration 225, inertia 46154.358\n",
      "Iteration 226, inertia 46154.340\n",
      "Iteration 227, inertia 46154.327\n",
      "Iteration 228, inertia 46154.320\n",
      "Iteration 229, inertia 46154.306\n",
      "Iteration 230, inertia 46154.301\n",
      "Iteration 231, inertia 46154.289\n",
      "Iteration 232, inertia 46154.280\n",
      "Iteration 233, inertia 46154.268\n",
      "Iteration 234, inertia 46154.261\n",
      "Iteration 235, inertia 46154.252\n",
      "Iteration 236, inertia 46154.246\n",
      "Iteration 237, inertia 46154.231\n",
      "Iteration 238, inertia 46154.217\n",
      "Iteration 239, inertia 46154.211\n",
      "Iteration 240, inertia 46154.204\n",
      "Iteration 241, inertia 46154.200\n",
      "Iteration 242, inertia 46154.183\n",
      "Iteration 243, inertia 46154.177\n",
      "Iteration 244, inertia 46154.167\n",
      "Iteration 245, inertia 46154.157\n",
      "Iteration 246, inertia 46154.146\n",
      "Iteration 247, inertia 46154.128\n",
      "Iteration 248, inertia 46154.110\n",
      "Iteration 249, inertia 46154.104\n",
      "Iteration 250, inertia 46154.098\n",
      "Iteration 251, inertia 46154.083\n",
      "Iteration 252, inertia 46154.073\n",
      "Iteration 253, inertia 46154.066\n",
      "Iteration 254, inertia 46154.056\n",
      "Iteration 255, inertia 46154.050\n",
      "Iteration 256, inertia 46154.044\n",
      "Iteration 257, inertia 46154.035\n",
      "Iteration 258, inertia 46154.026\n",
      "Iteration 259, inertia 46154.014\n",
      "Iteration 260, inertia 46154.009\n",
      "Iteration 261, inertia 46154.005\n",
      "Iteration 262, inertia 46153.992\n",
      "Iteration 263, inertia 46153.981\n",
      "Iteration 264, inertia 46153.982\n",
      "Iteration 265, inertia 46153.974\n",
      "Iteration 266, inertia 46153.970\n",
      "Iteration 267, inertia 46153.968\n",
      "Iteration 268, inertia 46153.960\n",
      "Iteration 269, inertia 46153.956\n",
      "Iteration 270, inertia 46153.955\n",
      "Iteration 271, inertia 46153.953\n",
      "Iteration 272, inertia 46153.948\n",
      "Iteration 273, inertia 46153.951\n",
      "Iteration 274, inertia 46153.947\n",
      "Iteration 275, inertia 46153.950\n",
      "Iteration 276, inertia 46153.950\n",
      "Iteration 277, inertia 46153.949\n",
      "Iteration 278, inertia 46153.945\n",
      "Iteration 279, inertia 46153.944\n",
      "Iteration 280, inertia 46153.942\n",
      "Iteration 281, inertia 46153.939\n",
      "Iteration 282, inertia 46153.939\n",
      "Iteration 283, inertia 46153.935\n",
      "Iteration 284, inertia 46153.935\n",
      "Iteration 285, inertia 46153.931\n",
      "Iteration 286, inertia 46153.929\n",
      "Iteration 287, inertia 46153.926\n",
      "Iteration 288, inertia 46153.925\n",
      "Iteration 289, inertia 46153.925\n",
      "Iteration 290, inertia 46153.930\n",
      "Iteration 291, inertia 46153.928\n",
      "Iteration 292, inertia 46153.928\n",
      "Iteration 293, inertia 46153.924\n",
      "Iteration 294, inertia 46153.924\n",
      "Iteration 295, inertia 46153.919\n",
      "Iteration 296, inertia 46153.918\n",
      "Iteration 297, inertia 46153.918\n",
      "Converged at iteration 297: center shift 3.053492e-08 within tolerance 5.447187e-08\n",
      "Initialization complete\n",
      "Iteration  0, inertia 70062.556\n",
      "Iteration  1, inertia 47276.605\n",
      "Iteration  2, inertia 46658.904\n",
      "Iteration  3, inertia 46485.223\n",
      "Iteration  4, inertia 46388.874\n",
      "Iteration  5, inertia 46332.748\n",
      "Iteration  6, inertia 46291.755\n",
      "Iteration  7, inertia 46262.527\n",
      "Iteration  8, inertia 46240.350\n",
      "Iteration  9, inertia 46224.139\n",
      "Iteration 10, inertia 46211.863\n",
      "Iteration 11, inertia 46202.116\n",
      "Iteration 12, inertia 46194.292\n",
      "Iteration 13, inertia 46188.016\n",
      "Iteration 14, inertia 46182.719\n",
      "Iteration 15, inertia 46178.220\n",
      "Iteration 16, inertia 46174.856\n",
      "Iteration 17, inertia 46171.709\n",
      "Iteration 18, inertia 46168.881\n",
      "Iteration 19, inertia 46166.178\n",
      "Iteration 20, inertia 46163.691\n",
      "Iteration 21, inertia 46161.362\n",
      "Iteration 22, inertia 46159.196\n",
      "Iteration 23, inertia 46157.057\n",
      "Iteration 24, inertia 46155.105\n",
      "Iteration 25, inertia 46153.493\n",
      "Iteration 26, inertia 46152.023\n",
      "Iteration 27, inertia 46150.558\n",
      "Iteration 28, inertia 46149.198\n",
      "Iteration 29, inertia 46147.933\n",
      "Iteration 30, inertia 46146.602\n",
      "Iteration 31, inertia 46145.207\n",
      "Iteration 32, inertia 46143.973\n",
      "Iteration 33, inertia 46142.762\n",
      "Iteration 34, inertia 46141.640\n",
      "Iteration 35, inertia 46140.573\n",
      "Iteration 36, inertia 46139.488\n",
      "Iteration 37, inertia 46138.436\n",
      "Iteration 38, inertia 46137.411\n",
      "Iteration 39, inertia 46136.434\n",
      "Iteration 40, inertia 46135.469\n",
      "Iteration 41, inertia 46134.455\n",
      "Iteration 42, inertia 46133.481\n",
      "Iteration 43, inertia 46132.415\n",
      "Iteration 44, inertia 46131.284\n",
      "Iteration 45, inertia 46130.050\n",
      "Iteration 46, inertia 46128.556\n",
      "Iteration 47, inertia 46126.762\n",
      "Iteration 48, inertia 46124.953\n",
      "Iteration 49, inertia 46123.418\n",
      "Iteration 50, inertia 46122.050\n",
      "Iteration 51, inertia 46120.780\n",
      "Iteration 52, inertia 46119.661\n",
      "Iteration 53, inertia 46118.580\n",
      "Iteration 54, inertia 46117.712\n",
      "Iteration 55, inertia 46116.969\n",
      "Iteration 56, inertia 46116.271\n",
      "Iteration 57, inertia 46115.604\n",
      "Iteration 58, inertia 46114.998\n",
      "Iteration 59, inertia 46114.392\n",
      "Iteration 60, inertia 46113.810\n",
      "Iteration 61, inertia 46113.171\n",
      "Iteration 62, inertia 46112.475\n",
      "Iteration 63, inertia 46111.757\n",
      "Iteration 64, inertia 46110.931\n",
      "Iteration 65, inertia 46110.032\n",
      "Iteration 66, inertia 46109.089\n",
      "Iteration 67, inertia 46108.092\n",
      "Iteration 68, inertia 46107.064\n",
      "Iteration 69, inertia 46106.155\n",
      "Iteration 70, inertia 46105.413\n",
      "Iteration 71, inertia 46104.777\n",
      "Iteration 72, inertia 46104.285\n",
      "Iteration 73, inertia 46103.859\n",
      "Iteration 74, inertia 46103.517\n",
      "Iteration 75, inertia 46103.224\n",
      "Iteration 76, inertia 46103.008\n",
      "Iteration 77, inertia 46102.826\n",
      "Iteration 78, inertia 46102.662\n",
      "Iteration 79, inertia 46102.541\n",
      "Iteration 80, inertia 46102.446\n",
      "Iteration 81, inertia 46102.359\n",
      "Iteration 82, inertia 46102.311\n",
      "Iteration 83, inertia 46102.270\n",
      "Iteration 84, inertia 46102.213\n",
      "Iteration 85, inertia 46102.163\n",
      "Iteration 86, inertia 46102.110\n",
      "Iteration 87, inertia 46102.076\n",
      "Iteration 88, inertia 46102.056\n",
      "Iteration 89, inertia 46102.026\n",
      "Iteration 90, inertia 46101.999\n",
      "Iteration 91, inertia 46101.974\n",
      "Iteration 92, inertia 46101.957\n",
      "Iteration 93, inertia 46101.940\n",
      "Iteration 94, inertia 46101.922\n",
      "Iteration 95, inertia 46101.898\n",
      "Iteration 96, inertia 46101.873\n",
      "Iteration 97, inertia 46101.865\n",
      "Iteration 98, inertia 46101.854\n",
      "Iteration 99, inertia 46101.834\n",
      "Iteration 100, inertia 46101.828\n",
      "Iteration 101, inertia 46101.813\n",
      "Iteration 102, inertia 46101.802\n",
      "Iteration 103, inertia 46101.789\n",
      "Iteration 104, inertia 46101.791\n",
      "Iteration 105, inertia 46101.784\n",
      "Iteration 106, inertia 46101.777\n",
      "Iteration 107, inertia 46101.769\n",
      "Iteration 108, inertia 46101.762\n",
      "Iteration 109, inertia 46101.764\n",
      "Iteration 110, inertia 46101.759\n",
      "Iteration 111, inertia 46101.752\n",
      "Iteration 112, inertia 46101.752\n",
      "Iteration 113, inertia 46101.751\n",
      "Iteration 114, inertia 46101.748\n",
      "Iteration 115, inertia 46101.745\n",
      "Iteration 116, inertia 46101.746\n",
      "Iteration 117, inertia 46101.743\n",
      "Iteration 118, inertia 46101.747\n",
      "Iteration 119, inertia 46101.746\n",
      "Iteration 120, inertia 46101.745\n",
      "Converged at iteration 120: center shift 2.074523e-08 within tolerance 5.447187e-08\n",
      "Initialization complete\n",
      "Iteration  0, inertia 69868.633\n",
      "Iteration  1, inertia 47400.452\n",
      "Iteration  2, inertia 46774.906\n",
      "Iteration  3, inertia 46570.969\n",
      "Iteration  4, inertia 46457.669\n",
      "Iteration  5, inertia 46371.819\n",
      "Iteration  6, inertia 46305.020\n",
      "Iteration  7, inertia 46261.653\n",
      "Iteration  8, inertia 46229.772\n",
      "Iteration  9, inertia 46204.953\n",
      "Iteration 10, inertia 46183.140\n",
      "Iteration 11, inertia 46166.712\n",
      "Iteration 12, inertia 46155.643\n",
      "Iteration 13, inertia 46147.658\n",
      "Iteration 14, inertia 46141.421\n",
      "Iteration 15, inertia 46136.557\n",
      "Iteration 16, inertia 46132.673\n",
      "Iteration 17, inertia 46129.482\n",
      "Iteration 18, inertia 46126.682\n",
      "Iteration 19, inertia 46124.367\n",
      "Iteration 20, inertia 46122.384\n",
      "Iteration 21, inertia 46120.725\n",
      "Iteration 22, inertia 46119.444\n",
      "Iteration 23, inertia 46118.282\n",
      "Iteration 24, inertia 46117.293\n",
      "Iteration 25, inertia 46116.492\n",
      "Iteration 26, inertia 46115.647\n",
      "Iteration 27, inertia 46114.814\n",
      "Iteration 28, inertia 46113.990\n",
      "Iteration 29, inertia 46113.035\n",
      "Iteration 30, inertia 46112.066\n",
      "Iteration 31, inertia 46111.020\n",
      "Iteration 32, inertia 46110.101\n",
      "Iteration 33, inertia 46109.234\n",
      "Iteration 34, inertia 46108.415\n",
      "Iteration 35, inertia 46107.600\n",
      "Iteration 36, inertia 46106.758\n",
      "Iteration 37, inertia 46105.954\n",
      "Iteration 38, inertia 46105.099\n",
      "Iteration 39, inertia 46104.245\n",
      "Iteration 40, inertia 46103.440\n",
      "Iteration 41, inertia 46102.625\n",
      "Iteration 42, inertia 46101.873\n",
      "Iteration 43, inertia 46101.130\n",
      "Iteration 44, inertia 46100.419\n",
      "Iteration 45, inertia 46099.737\n",
      "Iteration 46, inertia 46099.129\n",
      "Iteration 47, inertia 46098.637\n",
      "Iteration 48, inertia 46098.223\n",
      "Iteration 49, inertia 46097.871\n",
      "Iteration 50, inertia 46097.570\n",
      "Iteration 51, inertia 46097.279\n",
      "Iteration 52, inertia 46097.041\n",
      "Iteration 53, inertia 46096.857\n",
      "Iteration 54, inertia 46096.705\n",
      "Iteration 55, inertia 46096.575\n",
      "Iteration 56, inertia 46096.446\n",
      "Iteration 57, inertia 46096.332\n",
      "Iteration 58, inertia 46096.209\n",
      "Iteration 59, inertia 46096.110\n",
      "Iteration 60, inertia 46096.030\n",
      "Iteration 61, inertia 46095.972\n",
      "Iteration 62, inertia 46095.915\n",
      "Iteration 63, inertia 46095.861\n",
      "Iteration 64, inertia 46095.807\n",
      "Iteration 65, inertia 46095.750\n",
      "Iteration 66, inertia 46095.696\n",
      "Iteration 67, inertia 46095.654\n",
      "Iteration 68, inertia 46095.629\n",
      "Iteration 69, inertia 46095.599\n",
      "Iteration 70, inertia 46095.573\n",
      "Iteration 71, inertia 46095.565\n",
      "Iteration 72, inertia 46095.544\n",
      "Iteration 73, inertia 46095.525\n",
      "Iteration 74, inertia 46095.508\n",
      "Iteration 75, inertia 46095.487\n",
      "Iteration 76, inertia 46095.474\n",
      "Iteration 77, inertia 46095.455\n",
      "Iteration 78, inertia 46095.432\n",
      "Iteration 79, inertia 46095.418\n",
      "Iteration 80, inertia 46095.399\n",
      "Iteration 81, inertia 46095.394\n",
      "Iteration 82, inertia 46095.380\n",
      "Iteration 83, inertia 46095.369\n",
      "Iteration 84, inertia 46095.358\n",
      "Iteration 85, inertia 46095.357\n",
      "Iteration 86, inertia 46095.346\n",
      "Iteration 87, inertia 46095.337\n",
      "Iteration 88, inertia 46095.326\n",
      "Iteration 89, inertia 46095.312\n",
      "Iteration 90, inertia 46095.296\n",
      "Iteration 91, inertia 46095.280\n",
      "Iteration 92, inertia 46095.268\n",
      "Iteration 93, inertia 46095.251\n",
      "Iteration 94, inertia 46095.236\n",
      "Iteration 95, inertia 46095.209\n",
      "Iteration 96, inertia 46095.187\n",
      "Iteration 97, inertia 46095.177\n",
      "Iteration 98, inertia 46095.157\n",
      "Iteration 99, inertia 46095.147\n",
      "Iteration 100, inertia 46095.133\n",
      "Iteration 101, inertia 46095.122\n",
      "Iteration 102, inertia 46095.109\n",
      "Iteration 103, inertia 46095.104\n",
      "Iteration 104, inertia 46095.099\n",
      "Iteration 105, inertia 46095.092\n",
      "Iteration 106, inertia 46095.088\n",
      "Iteration 107, inertia 46095.078\n",
      "Iteration 108, inertia 46095.075\n",
      "Iteration 109, inertia 46095.071\n",
      "Iteration 110, inertia 46095.070\n",
      "Iteration 111, inertia 46095.069\n",
      "Iteration 112, inertia 46095.064\n",
      "Iteration 113, inertia 46095.063\n",
      "Iteration 114, inertia 46095.062\n",
      "Iteration 115, inertia 46095.057\n",
      "Iteration 116, inertia 46095.054\n",
      "Iteration 117, inertia 46095.056\n",
      "Iteration 118, inertia 46095.049\n",
      "Iteration 119, inertia 46095.051\n",
      "Iteration 120, inertia 46095.051\n",
      "Iteration 121, inertia 46095.052\n",
      "Iteration 122, inertia 46095.047\n",
      "Iteration 123, inertia 46095.046\n",
      "Iteration 124, inertia 46095.045\n",
      "Iteration 125, inertia 46095.042\n",
      "Converged at iteration 125: center shift 0.000000e+00 within tolerance 5.447187e-08\n",
      "Initialization complete\n",
      "Iteration  0, inertia 70526.691\n",
      "Iteration  1, inertia 47462.501\n",
      "Iteration  2, inertia 46864.232\n",
      "Iteration  3, inertia 46652.833\n",
      "Iteration  4, inertia 46539.958\n",
      "Iteration  5, inertia 46458.484\n",
      "Iteration  6, inertia 46408.068\n",
      "Iteration  7, inertia 46375.464\n",
      "Iteration  8, inertia 46349.220\n",
      "Iteration  9, inertia 46325.506\n",
      "Iteration 10, inertia 46302.295\n",
      "Iteration 11, inertia 46281.267\n",
      "Iteration 12, inertia 46261.848\n",
      "Iteration 13, inertia 46242.296\n",
      "Iteration 14, inertia 46225.281\n",
      "Iteration 15, inertia 46213.246\n",
      "Iteration 16, inertia 46202.533\n",
      "Iteration 17, inertia 46193.230\n",
      "Iteration 18, inertia 46185.064\n",
      "Iteration 19, inertia 46178.267\n",
      "Iteration 20, inertia 46173.076\n",
      "Iteration 21, inertia 46169.000\n",
      "Iteration 22, inertia 46165.805\n",
      "Iteration 23, inertia 46163.453\n",
      "Iteration 24, inertia 46161.476\n",
      "Iteration 25, inertia 46159.886\n",
      "Iteration 26, inertia 46158.467\n",
      "Iteration 27, inertia 46157.164\n",
      "Iteration 28, inertia 46155.925\n",
      "Iteration 29, inertia 46154.760\n",
      "Iteration 30, inertia 46153.661\n",
      "Iteration 31, inertia 46152.653\n",
      "Iteration 32, inertia 46151.682\n",
      "Iteration 33, inertia 46150.650\n",
      "Iteration 34, inertia 46149.549\n",
      "Iteration 35, inertia 46148.456\n",
      "Iteration 36, inertia 46147.343\n",
      "Iteration 37, inertia 46146.240\n",
      "Iteration 38, inertia 46145.280\n",
      "Iteration 39, inertia 46144.486\n",
      "Iteration 40, inertia 46143.800\n",
      "Iteration 41, inertia 46143.220\n",
      "Iteration 42, inertia 46142.670\n",
      "Iteration 43, inertia 46142.145\n",
      "Iteration 44, inertia 46141.675\n",
      "Iteration 45, inertia 46141.218\n",
      "Iteration 46, inertia 46140.807\n",
      "Iteration 47, inertia 46140.332\n",
      "Iteration 48, inertia 46139.834\n",
      "Iteration 49, inertia 46139.313\n",
      "Iteration 50, inertia 46138.804\n",
      "Iteration 51, inertia 46138.342\n",
      "Iteration 52, inertia 46137.822\n",
      "Iteration 53, inertia 46137.322\n",
      "Iteration 54, inertia 46136.835\n",
      "Iteration 55, inertia 46136.325\n",
      "Iteration 56, inertia 46135.865\n",
      "Iteration 57, inertia 46135.380\n",
      "Iteration 58, inertia 46134.857\n",
      "Iteration 59, inertia 46134.323\n",
      "Iteration 60, inertia 46133.873\n",
      "Iteration 61, inertia 46133.549\n",
      "Iteration 62, inertia 46133.246\n",
      "Iteration 63, inertia 46132.968\n",
      "Iteration 64, inertia 46132.668\n",
      "Iteration 65, inertia 46132.393\n",
      "Iteration 66, inertia 46132.133\n",
      "Iteration 67, inertia 46131.923\n",
      "Iteration 68, inertia 46131.751\n",
      "Iteration 69, inertia 46131.590\n",
      "Iteration 70, inertia 46131.437\n",
      "Iteration 71, inertia 46131.297\n",
      "Iteration 72, inertia 46131.167\n",
      "Iteration 73, inertia 46131.049\n",
      "Iteration 74, inertia 46130.925\n",
      "Iteration 75, inertia 46130.815\n",
      "Iteration 76, inertia 46130.719\n",
      "Iteration 77, inertia 46130.629\n",
      "Iteration 78, inertia 46130.542\n",
      "Iteration 79, inertia 46130.468\n",
      "Iteration 80, inertia 46130.392\n",
      "Iteration 81, inertia 46130.308\n",
      "Iteration 82, inertia 46130.228\n",
      "Iteration 83, inertia 46130.154\n",
      "Iteration 84, inertia 46130.081\n",
      "Iteration 85, inertia 46130.003\n",
      "Iteration 86, inertia 46129.924\n",
      "Iteration 87, inertia 46129.855\n",
      "Iteration 88, inertia 46129.790\n",
      "Iteration 89, inertia 46129.728\n",
      "Iteration 90, inertia 46129.668\n",
      "Iteration 91, inertia 46129.613\n",
      "Iteration 92, inertia 46129.552\n",
      "Iteration 93, inertia 46129.483\n",
      "Iteration 94, inertia 46129.409\n",
      "Iteration 95, inertia 46129.333\n",
      "Iteration 96, inertia 46129.261\n",
      "Iteration 97, inertia 46129.187\n",
      "Iteration 98, inertia 46129.117\n",
      "Iteration 99, inertia 46129.050\n",
      "Iteration 100, inertia 46128.975\n",
      "Iteration 101, inertia 46128.883\n",
      "Iteration 102, inertia 46128.778\n",
      "Iteration 103, inertia 46128.678\n",
      "Iteration 104, inertia 46128.564\n",
      "Iteration 105, inertia 46128.441\n",
      "Iteration 106, inertia 46128.325\n",
      "Iteration 107, inertia 46128.189\n",
      "Iteration 108, inertia 46128.067\n",
      "Iteration 109, inertia 46127.937\n",
      "Iteration 110, inertia 46127.814\n",
      "Iteration 111, inertia 46127.687\n",
      "Iteration 112, inertia 46127.573\n",
      "Iteration 113, inertia 46127.456\n",
      "Iteration 114, inertia 46127.348\n",
      "Iteration 115, inertia 46127.241\n",
      "Iteration 116, inertia 46127.143\n",
      "Iteration 117, inertia 46127.053\n",
      "Iteration 118, inertia 46126.958\n",
      "Iteration 119, inertia 46126.874\n",
      "Iteration 120, inertia 46126.808\n",
      "Iteration 121, inertia 46126.728\n",
      "Iteration 122, inertia 46126.644\n",
      "Iteration 123, inertia 46126.547\n",
      "Iteration 124, inertia 46126.442\n",
      "Iteration 125, inertia 46126.339\n",
      "Iteration 126, inertia 46126.252\n",
      "Iteration 127, inertia 46126.178\n",
      "Iteration 128, inertia 46126.105\n",
      "Iteration 129, inertia 46126.016\n",
      "Iteration 130, inertia 46125.920\n",
      "Iteration 131, inertia 46125.830\n",
      "Iteration 132, inertia 46125.739\n",
      "Iteration 133, inertia 46125.644\n",
      "Iteration 134, inertia 46125.551\n",
      "Iteration 135, inertia 46125.453\n",
      "Iteration 136, inertia 46125.361\n",
      "Iteration 137, inertia 46125.280\n",
      "Iteration 138, inertia 46125.207\n",
      "Iteration 139, inertia 46125.128\n",
      "Iteration 140, inertia 46125.045\n",
      "Iteration 141, inertia 46124.967\n",
      "Iteration 142, inertia 46124.906\n",
      "Iteration 143, inertia 46124.857\n",
      "Iteration 144, inertia 46124.816\n",
      "Iteration 145, inertia 46124.772\n",
      "Iteration 146, inertia 46124.736\n",
      "Iteration 147, inertia 46124.696\n",
      "Iteration 148, inertia 46124.665\n",
      "Iteration 149, inertia 46124.635\n",
      "Iteration 150, inertia 46124.603\n",
      "Iteration 151, inertia 46124.589\n",
      "Iteration 152, inertia 46124.556\n",
      "Iteration 153, inertia 46124.549\n",
      "Iteration 154, inertia 46124.529\n",
      "Iteration 155, inertia 46124.505\n",
      "Iteration 156, inertia 46124.483\n",
      "Iteration 157, inertia 46124.471\n",
      "Iteration 158, inertia 46124.452\n",
      "Iteration 159, inertia 46124.440\n",
      "Iteration 160, inertia 46124.430\n",
      "Iteration 161, inertia 46124.416\n",
      "Iteration 162, inertia 46124.409\n",
      "Iteration 163, inertia 46124.390\n",
      "Iteration 164, inertia 46124.386\n",
      "Iteration 165, inertia 46124.378\n",
      "Iteration 166, inertia 46124.373\n",
      "Iteration 167, inertia 46124.369\n",
      "Iteration 168, inertia 46124.371\n",
      "Iteration 169, inertia 46124.362\n",
      "Iteration 170, inertia 46124.362\n",
      "Iteration 171, inertia 46124.360\n",
      "Iteration 172, inertia 46124.361\n",
      "Iteration 173, inertia 46124.362\n",
      "Iteration 174, inertia 46124.359\n",
      "Iteration 175, inertia 46124.356\n",
      "Iteration 176, inertia 46124.353\n",
      "Iteration 177, inertia 46124.351\n",
      "Iteration 178, inertia 46124.351\n",
      "Iteration 179, inertia 46124.351\n",
      "Iteration 180, inertia 46124.350\n",
      "Iteration 181, inertia 46124.350\n",
      "Iteration 182, inertia 46124.346\n",
      "Iteration 183, inertia 46124.348\n",
      "Iteration 184, inertia 46124.347\n",
      "Iteration 185, inertia 46124.343\n",
      "Iteration 186, inertia 46124.341\n",
      "Iteration 187, inertia 46124.344\n",
      "Iteration 188, inertia 46124.341\n",
      "Iteration 189, inertia 46124.344\n",
      "Iteration 190, inertia 46124.342\n",
      "Iteration 191, inertia 46124.341\n",
      "Iteration 192, inertia 46124.338\n",
      "Iteration 193, inertia 46124.341\n",
      "Iteration 194, inertia 46124.341\n",
      "Iteration 195, inertia 46124.337\n",
      "Iteration 196, inertia 46124.333\n",
      "Iteration 197, inertia 46124.336\n",
      "Iteration 198, inertia 46124.333\n",
      "Iteration 199, inertia 46124.331\n",
      "Iteration 200, inertia 46124.334\n",
      "Iteration 201, inertia 46124.334\n",
      "Iteration 202, inertia 46124.329\n",
      "Iteration 203, inertia 46124.330\n",
      "Iteration 204, inertia 46124.326\n",
      "Iteration 205, inertia 46124.326\n",
      "Iteration 206, inertia 46124.325\n",
      "Iteration 207, inertia 46124.326\n",
      "Iteration 208, inertia 46124.326\n",
      "Iteration 209, inertia 46124.328\n",
      "Iteration 210, inertia 46124.326\n",
      "Iteration 211, inertia 46124.323\n",
      "Iteration 212, inertia 46124.326\n",
      "Iteration 213, inertia 46124.327\n",
      "Converged at iteration 213: center shift 0.000000e+00 within tolerance 5.447187e-08\n",
      "Initialization complete\n",
      "Iteration  0, inertia 71578.819\n",
      "Iteration  1, inertia 47422.828\n",
      "Iteration  2, inertia 46849.532\n",
      "Iteration  3, inertia 46652.325\n",
      "Iteration  4, inertia 46507.481\n",
      "Iteration  5, inertia 46404.432\n",
      "Iteration  6, inertia 46344.228\n",
      "Iteration  7, inertia 46310.807\n",
      "Iteration  8, inertia 46292.716\n",
      "Iteration  9, inertia 46281.356\n",
      "Iteration 10, inertia 46272.733\n",
      "Iteration 11, inertia 46264.597\n",
      "Iteration 12, inertia 46255.728\n",
      "Iteration 13, inertia 46245.487\n",
      "Iteration 14, inertia 46235.664\n",
      "Iteration 15, inertia 46226.995\n",
      "Iteration 16, inertia 46218.757\n",
      "Iteration 17, inertia 46210.325\n",
      "Iteration 18, inertia 46203.106\n",
      "Iteration 19, inertia 46197.450\n",
      "Iteration 20, inertia 46192.994\n",
      "Iteration 21, inertia 46189.318\n",
      "Iteration 22, inertia 46185.764\n",
      "Iteration 23, inertia 46182.364\n",
      "Iteration 24, inertia 46179.353\n",
      "Iteration 25, inertia 46176.181\n",
      "Iteration 26, inertia 46173.121\n",
      "Iteration 27, inertia 46170.655\n",
      "Iteration 28, inertia 46168.604\n",
      "Iteration 29, inertia 46166.870\n",
      "Iteration 30, inertia 46165.386\n",
      "Iteration 31, inertia 46164.259\n",
      "Iteration 32, inertia 46163.273\n",
      "Iteration 33, inertia 46162.398\n",
      "Iteration 34, inertia 46161.592\n",
      "Iteration 35, inertia 46160.751\n",
      "Iteration 36, inertia 46159.909\n",
      "Iteration 37, inertia 46159.114\n",
      "Iteration 38, inertia 46158.414\n",
      "Iteration 39, inertia 46157.821\n",
      "Iteration 40, inertia 46157.286\n",
      "Iteration 41, inertia 46156.810\n",
      "Iteration 42, inertia 46156.381\n",
      "Iteration 43, inertia 46155.979\n",
      "Iteration 44, inertia 46155.584\n",
      "Iteration 45, inertia 46155.232\n",
      "Iteration 46, inertia 46154.955\n",
      "Iteration 47, inertia 46154.726\n",
      "Iteration 48, inertia 46154.544\n",
      "Iteration 49, inertia 46154.374\n",
      "Iteration 50, inertia 46154.214\n",
      "Iteration 51, inertia 46154.064\n",
      "Iteration 52, inertia 46153.901\n",
      "Iteration 53, inertia 46153.759\n",
      "Iteration 54, inertia 46153.639\n",
      "Iteration 55, inertia 46153.533\n",
      "Iteration 56, inertia 46153.422\n",
      "Iteration 57, inertia 46153.318\n",
      "Iteration 58, inertia 46153.226\n",
      "Iteration 59, inertia 46153.145\n",
      "Iteration 60, inertia 46153.051\n",
      "Iteration 61, inertia 46152.964\n",
      "Iteration 62, inertia 46152.887\n",
      "Iteration 63, inertia 46152.813\n",
      "Iteration 64, inertia 46152.740\n",
      "Iteration 65, inertia 46152.663\n",
      "Iteration 66, inertia 46152.593\n",
      "Iteration 67, inertia 46152.534\n",
      "Iteration 68, inertia 46152.484\n",
      "Iteration 69, inertia 46152.422\n",
      "Iteration 70, inertia 46152.372\n",
      "Iteration 71, inertia 46152.322\n",
      "Iteration 72, inertia 46152.279\n",
      "Iteration 73, inertia 46152.233\n",
      "Iteration 74, inertia 46152.195\n",
      "Iteration 75, inertia 46152.158\n",
      "Iteration 76, inertia 46152.122\n",
      "Iteration 77, inertia 46152.097\n",
      "Iteration 78, inertia 46152.063\n",
      "Iteration 79, inertia 46152.029\n",
      "Iteration 80, inertia 46151.991\n",
      "Iteration 81, inertia 46151.960\n",
      "Iteration 82, inertia 46151.922\n",
      "Iteration 83, inertia 46151.895\n",
      "Iteration 84, inertia 46151.858\n",
      "Iteration 85, inertia 46151.835\n",
      "Iteration 86, inertia 46151.809\n",
      "Iteration 87, inertia 46151.780\n",
      "Iteration 88, inertia 46151.753\n",
      "Iteration 89, inertia 46151.727\n",
      "Iteration 90, inertia 46151.691\n",
      "Iteration 91, inertia 46151.660\n",
      "Iteration 92, inertia 46151.622\n",
      "Iteration 93, inertia 46151.598\n",
      "Iteration 94, inertia 46151.570\n",
      "Iteration 95, inertia 46151.542\n",
      "Iteration 96, inertia 46151.525\n",
      "Iteration 97, inertia 46151.504\n",
      "Iteration 98, inertia 46151.480\n",
      "Iteration 99, inertia 46151.454\n",
      "Iteration 100, inertia 46151.429\n",
      "Iteration 101, inertia 46151.404\n",
      "Iteration 102, inertia 46151.381\n",
      "Iteration 103, inertia 46151.356\n",
      "Iteration 104, inertia 46151.326\n",
      "Iteration 105, inertia 46151.309\n",
      "Iteration 106, inertia 46151.273\n",
      "Iteration 107, inertia 46151.253\n",
      "Iteration 108, inertia 46151.225\n",
      "Iteration 109, inertia 46151.198\n",
      "Iteration 110, inertia 46151.170\n",
      "Iteration 111, inertia 46151.132\n",
      "Iteration 112, inertia 46151.087\n",
      "Iteration 113, inertia 46151.048\n",
      "Iteration 114, inertia 46151.001\n",
      "Iteration 115, inertia 46150.954\n",
      "Iteration 116, inertia 46150.891\n",
      "Iteration 117, inertia 46150.836\n",
      "Iteration 118, inertia 46150.777\n",
      "Iteration 119, inertia 46150.731\n",
      "Iteration 120, inertia 46150.695\n",
      "Iteration 121, inertia 46150.671\n",
      "Iteration 122, inertia 46150.651\n",
      "Iteration 123, inertia 46150.621\n",
      "Iteration 124, inertia 46150.600\n",
      "Iteration 125, inertia 46150.577\n",
      "Iteration 126, inertia 46150.544\n",
      "Iteration 127, inertia 46150.517\n",
      "Iteration 128, inertia 46150.485\n",
      "Iteration 129, inertia 46150.453\n",
      "Iteration 130, inertia 46150.430\n",
      "Iteration 131, inertia 46150.401\n",
      "Iteration 132, inertia 46150.370\n",
      "Iteration 133, inertia 46150.343\n",
      "Iteration 134, inertia 46150.329\n",
      "Iteration 135, inertia 46150.308\n",
      "Iteration 136, inertia 46150.287\n",
      "Iteration 137, inertia 46150.267\n",
      "Iteration 138, inertia 46150.252\n",
      "Iteration 139, inertia 46150.230\n",
      "Iteration 140, inertia 46150.205\n",
      "Iteration 141, inertia 46150.186\n",
      "Iteration 142, inertia 46150.152\n",
      "Iteration 143, inertia 46150.126\n",
      "Iteration 144, inertia 46150.103\n",
      "Iteration 145, inertia 46150.082\n",
      "Iteration 146, inertia 46150.059\n",
      "Iteration 147, inertia 46150.041\n",
      "Iteration 148, inertia 46150.021\n",
      "Iteration 149, inertia 46150.013\n",
      "Iteration 150, inertia 46150.006\n",
      "Iteration 151, inertia 46149.996\n",
      "Iteration 152, inertia 46149.984\n",
      "Iteration 153, inertia 46149.983\n",
      "Iteration 154, inertia 46149.973\n",
      "Iteration 155, inertia 46149.969\n",
      "Iteration 156, inertia 46149.964\n",
      "Iteration 157, inertia 46149.961\n",
      "Iteration 158, inertia 46149.957\n",
      "Iteration 159, inertia 46149.951\n",
      "Iteration 160, inertia 46149.951\n",
      "Iteration 161, inertia 46149.948\n",
      "Iteration 162, inertia 46149.943\n",
      "Iteration 163, inertia 46149.938\n",
      "Iteration 164, inertia 46149.940\n",
      "Iteration 165, inertia 46149.933\n",
      "Iteration 166, inertia 46149.933\n",
      "Iteration 167, inertia 46149.929\n",
      "Iteration 168, inertia 46149.923\n",
      "Iteration 169, inertia 46149.921\n",
      "Iteration 170, inertia 46149.920\n",
      "Iteration 171, inertia 46149.922\n",
      "Iteration 172, inertia 46149.913\n",
      "Iteration 173, inertia 46149.907\n",
      "Iteration 174, inertia 46149.904\n",
      "Iteration 175, inertia 46149.895\n",
      "Iteration 176, inertia 46149.895\n",
      "Iteration 177, inertia 46149.891\n",
      "Iteration 178, inertia 46149.887\n",
      "Iteration 179, inertia 46149.877\n",
      "Iteration 180, inertia 46149.870\n",
      "Iteration 181, inertia 46149.866\n",
      "Iteration 182, inertia 46149.858\n",
      "Iteration 183, inertia 46149.854\n",
      "Iteration 184, inertia 46149.850\n",
      "Iteration 185, inertia 46149.847\n",
      "Iteration 186, inertia 46149.840\n",
      "Iteration 187, inertia 46149.836\n",
      "Iteration 188, inertia 46149.827\n",
      "Iteration 189, inertia 46149.820\n",
      "Iteration 190, inertia 46149.808\n",
      "Iteration 191, inertia 46149.801\n",
      "Iteration 192, inertia 46149.791\n",
      "Iteration 193, inertia 46149.776\n",
      "Iteration 194, inertia 46149.761\n",
      "Iteration 195, inertia 46149.754\n",
      "Iteration 196, inertia 46149.742\n",
      "Iteration 197, inertia 46149.738\n",
      "Iteration 198, inertia 46149.724\n",
      "Iteration 199, inertia 46149.718\n",
      "Iteration 200, inertia 46149.718\n",
      "Iteration 201, inertia 46149.703\n",
      "Iteration 202, inertia 46149.684\n",
      "Iteration 203, inertia 46149.677\n",
      "Iteration 204, inertia 46149.666\n",
      "Iteration 205, inertia 46149.657\n",
      "Iteration 206, inertia 46149.646\n",
      "Iteration 207, inertia 46149.638\n",
      "Iteration 208, inertia 46149.629\n",
      "Iteration 209, inertia 46149.624\n",
      "Iteration 210, inertia 46149.616\n",
      "Iteration 211, inertia 46149.608\n",
      "Iteration 212, inertia 46149.601\n",
      "Iteration 213, inertia 46149.588\n",
      "Iteration 214, inertia 46149.586\n",
      "Iteration 215, inertia 46149.574\n",
      "Iteration 216, inertia 46149.568\n",
      "Iteration 217, inertia 46149.562\n",
      "Iteration 218, inertia 46149.559\n",
      "Iteration 219, inertia 46149.557\n",
      "Iteration 220, inertia 46149.553\n",
      "Iteration 221, inertia 46149.548\n",
      "Iteration 222, inertia 46149.548\n",
      "Iteration 223, inertia 46149.542\n",
      "Iteration 224, inertia 46149.542\n",
      "Iteration 225, inertia 46149.539\n",
      "Iteration 226, inertia 46149.535\n",
      "Iteration 227, inertia 46149.535\n",
      "Iteration 228, inertia 46149.532\n",
      "Iteration 229, inertia 46149.531\n",
      "Iteration 230, inertia 46149.529\n",
      "Iteration 231, inertia 46149.530\n",
      "Iteration 232, inertia 46149.528\n",
      "Iteration 233, inertia 46149.523\n",
      "Iteration 234, inertia 46149.525\n",
      "Iteration 235, inertia 46149.524\n",
      "Iteration 236, inertia 46149.521\n",
      "Iteration 237, inertia 46149.519\n",
      "Converged at iteration 237: center shift 1.922447e-08 within tolerance 5.447187e-08\n",
      "Initialization complete\n",
      "Iteration  0, inertia 70529.457\n",
      "Iteration  1, inertia 47402.567\n",
      "Iteration  2, inertia 46785.691\n",
      "Iteration  3, inertia 46588.776\n",
      "Iteration  4, inertia 46473.551\n",
      "Iteration  5, inertia 46407.499\n",
      "Iteration  6, inertia 46369.372\n",
      "Iteration  7, inertia 46339.089\n",
      "Iteration  8, inertia 46311.726\n",
      "Iteration  9, inertia 46293.202\n",
      "Iteration 10, inertia 46280.776\n",
      "Iteration 11, inertia 46270.362\n",
      "Iteration 12, inertia 46260.046\n",
      "Iteration 13, inertia 46248.519\n",
      "Iteration 14, inertia 46235.635\n",
      "Iteration 15, inertia 46222.553\n",
      "Iteration 16, inertia 46211.507\n",
      "Iteration 17, inertia 46203.582\n",
      "Iteration 18, inertia 46197.620\n",
      "Iteration 19, inertia 46193.046\n",
      "Iteration 20, inertia 46189.079\n",
      "Iteration 21, inertia 46185.532\n",
      "Iteration 22, inertia 46182.449\n",
      "Iteration 23, inertia 46179.674\n",
      "Iteration 24, inertia 46177.191\n",
      "Iteration 25, inertia 46175.031\n",
      "Iteration 26, inertia 46173.251\n",
      "Iteration 27, inertia 46171.740\n",
      "Iteration 28, inertia 46170.516\n",
      "Iteration 29, inertia 46169.573\n",
      "Iteration 30, inertia 46168.706\n",
      "Iteration 31, inertia 46167.863\n",
      "Iteration 32, inertia 46167.110\n",
      "Iteration 33, inertia 46166.485\n",
      "Iteration 34, inertia 46165.917\n",
      "Iteration 35, inertia 46165.376\n",
      "Iteration 36, inertia 46164.874\n",
      "Iteration 37, inertia 46164.362\n",
      "Iteration 38, inertia 46163.817\n",
      "Iteration 39, inertia 46163.305\n",
      "Iteration 40, inertia 46162.761\n",
      "Iteration 41, inertia 46162.211\n",
      "Iteration 42, inertia 46161.722\n",
      "Iteration 43, inertia 46161.289\n",
      "Iteration 44, inertia 46160.841\n",
      "Iteration 45, inertia 46160.359\n",
      "Iteration 46, inertia 46159.891\n",
      "Iteration 47, inertia 46159.437\n",
      "Iteration 48, inertia 46159.007\n",
      "Iteration 49, inertia 46158.631\n",
      "Iteration 50, inertia 46158.271\n",
      "Iteration 51, inertia 46157.927\n",
      "Iteration 52, inertia 46157.620\n",
      "Iteration 53, inertia 46157.323\n",
      "Iteration 54, inertia 46156.989\n",
      "Iteration 55, inertia 46156.654\n",
      "Iteration 56, inertia 46156.297\n",
      "Iteration 57, inertia 46155.883\n",
      "Iteration 58, inertia 46155.484\n",
      "Iteration 59, inertia 46155.074\n",
      "Iteration 60, inertia 46154.639\n",
      "Iteration 61, inertia 46154.193\n",
      "Iteration 62, inertia 46153.731\n",
      "Iteration 63, inertia 46153.247\n",
      "Iteration 64, inertia 46152.764\n",
      "Iteration 65, inertia 46152.319\n",
      "Iteration 66, inertia 46151.910\n",
      "Iteration 67, inertia 46151.541\n",
      "Iteration 68, inertia 46151.188\n",
      "Iteration 69, inertia 46150.808\n",
      "Iteration 70, inertia 46150.480\n",
      "Iteration 71, inertia 46150.132\n",
      "Iteration 72, inertia 46149.801\n",
      "Iteration 73, inertia 46149.507\n",
      "Iteration 74, inertia 46149.222\n",
      "Iteration 75, inertia 46148.952\n",
      "Iteration 76, inertia 46148.711\n",
      "Iteration 77, inertia 46148.489\n",
      "Iteration 78, inertia 46148.282\n",
      "Iteration 79, inertia 46148.099\n",
      "Iteration 80, inertia 46147.963\n",
      "Iteration 81, inertia 46147.853\n",
      "Iteration 82, inertia 46147.751\n",
      "Iteration 83, inertia 46147.656\n",
      "Iteration 84, inertia 46147.560\n",
      "Iteration 85, inertia 46147.457\n",
      "Iteration 86, inertia 46147.356\n",
      "Iteration 87, inertia 46147.261\n",
      "Iteration 88, inertia 46147.186\n",
      "Iteration 89, inertia 46147.107\n",
      "Iteration 90, inertia 46147.053\n",
      "Iteration 91, inertia 46147.003\n",
      "Iteration 92, inertia 46146.953\n",
      "Iteration 93, inertia 46146.917\n",
      "Iteration 94, inertia 46146.872\n",
      "Iteration 95, inertia 46146.828\n",
      "Iteration 96, inertia 46146.791\n",
      "Iteration 97, inertia 46146.750\n",
      "Iteration 98, inertia 46146.722\n",
      "Iteration 99, inertia 46146.675\n",
      "Iteration 100, inertia 46146.635\n",
      "Iteration 101, inertia 46146.594\n",
      "Iteration 102, inertia 46146.564\n",
      "Iteration 103, inertia 46146.531\n",
      "Iteration 104, inertia 46146.505\n",
      "Iteration 105, inertia 46146.484\n",
      "Iteration 106, inertia 46146.470\n",
      "Iteration 107, inertia 46146.459\n",
      "Iteration 108, inertia 46146.444\n",
      "Iteration 109, inertia 46146.430\n",
      "Iteration 110, inertia 46146.423\n",
      "Iteration 111, inertia 46146.418\n",
      "Iteration 112, inertia 46146.403\n",
      "Iteration 113, inertia 46146.395\n",
      "Iteration 114, inertia 46146.389\n",
      "Iteration 115, inertia 46146.377\n",
      "Iteration 116, inertia 46146.365\n",
      "Iteration 117, inertia 46146.354\n",
      "Iteration 118, inertia 46146.344\n",
      "Iteration 119, inertia 46146.331\n",
      "Iteration 120, inertia 46146.317\n",
      "Iteration 121, inertia 46146.313\n",
      "Iteration 122, inertia 46146.304\n",
      "Iteration 123, inertia 46146.298\n",
      "Iteration 124, inertia 46146.284\n",
      "Iteration 125, inertia 46146.273\n",
      "Iteration 126, inertia 46146.264\n",
      "Iteration 127, inertia 46146.255\n",
      "Iteration 128, inertia 46146.242\n",
      "Iteration 129, inertia 46146.236\n",
      "Iteration 130, inertia 46146.222\n",
      "Iteration 131, inertia 46146.211\n",
      "Iteration 132, inertia 46146.197\n",
      "Iteration 133, inertia 46146.185\n",
      "Iteration 134, inertia 46146.174\n",
      "Iteration 135, inertia 46146.164\n",
      "Iteration 136, inertia 46146.153\n",
      "Iteration 137, inertia 46146.141\n",
      "Iteration 138, inertia 46146.127\n",
      "Iteration 139, inertia 46146.110\n",
      "Iteration 140, inertia 46146.086\n",
      "Iteration 141, inertia 46146.064\n",
      "Iteration 142, inertia 46146.044\n",
      "Iteration 143, inertia 46146.019\n",
      "Iteration 144, inertia 46145.993\n",
      "Iteration 145, inertia 46145.962\n",
      "Iteration 146, inertia 46145.917\n",
      "Iteration 147, inertia 46145.872\n",
      "Iteration 148, inertia 46145.843\n",
      "Iteration 149, inertia 46145.814\n",
      "Iteration 150, inertia 46145.771\n",
      "Iteration 151, inertia 46145.723\n",
      "Iteration 152, inertia 46145.661\n",
      "Iteration 153, inertia 46145.576\n",
      "Iteration 154, inertia 46145.490\n",
      "Iteration 155, inertia 46145.410\n",
      "Iteration 156, inertia 46145.316\n",
      "Iteration 157, inertia 46145.250\n",
      "Iteration 158, inertia 46145.182\n",
      "Iteration 159, inertia 46145.122\n",
      "Iteration 160, inertia 46145.040\n",
      "Iteration 161, inertia 46144.955\n",
      "Iteration 162, inertia 46144.872\n",
      "Iteration 163, inertia 46144.757\n",
      "Iteration 164, inertia 46144.623\n",
      "Iteration 165, inertia 46144.478\n",
      "Iteration 166, inertia 46144.355\n",
      "Iteration 167, inertia 46144.233\n",
      "Iteration 168, inertia 46144.121\n",
      "Iteration 169, inertia 46144.028\n",
      "Iteration 170, inertia 46143.917\n",
      "Iteration 171, inertia 46143.821\n",
      "Iteration 172, inertia 46143.719\n",
      "Iteration 173, inertia 46143.623\n",
      "Iteration 174, inertia 46143.537\n",
      "Iteration 175, inertia 46143.462\n",
      "Iteration 176, inertia 46143.389\n",
      "Iteration 177, inertia 46143.327\n",
      "Iteration 178, inertia 46143.266\n",
      "Iteration 179, inertia 46143.203\n",
      "Iteration 180, inertia 46143.132\n",
      "Iteration 181, inertia 46143.055\n",
      "Iteration 182, inertia 46142.977\n",
      "Iteration 183, inertia 46142.902\n",
      "Iteration 184, inertia 46142.819\n",
      "Iteration 185, inertia 46142.741\n",
      "Iteration 186, inertia 46142.661\n",
      "Iteration 187, inertia 46142.558\n",
      "Iteration 188, inertia 46142.461\n",
      "Iteration 189, inertia 46142.375\n",
      "Iteration 190, inertia 46142.275\n",
      "Iteration 191, inertia 46142.196\n",
      "Iteration 192, inertia 46142.113\n",
      "Iteration 193, inertia 46142.038\n",
      "Iteration 194, inertia 46141.976\n",
      "Iteration 195, inertia 46141.915\n",
      "Iteration 196, inertia 46141.862\n",
      "Iteration 197, inertia 46141.811\n",
      "Iteration 198, inertia 46141.768\n",
      "Iteration 199, inertia 46141.727\n",
      "Iteration 200, inertia 46141.691\n",
      "Iteration 201, inertia 46141.651\n",
      "Iteration 202, inertia 46141.611\n",
      "Iteration 203, inertia 46141.568\n",
      "Iteration 204, inertia 46141.535\n",
      "Iteration 205, inertia 46141.488\n",
      "Iteration 206, inertia 46141.445\n",
      "Iteration 207, inertia 46141.400\n",
      "Iteration 208, inertia 46141.360\n",
      "Iteration 209, inertia 46141.323\n",
      "Iteration 210, inertia 46141.286\n",
      "Iteration 211, inertia 46141.256\n",
      "Iteration 212, inertia 46141.229\n",
      "Iteration 213, inertia 46141.199\n",
      "Iteration 214, inertia 46141.171\n",
      "Iteration 215, inertia 46141.140\n",
      "Iteration 216, inertia 46141.105\n",
      "Iteration 217, inertia 46141.071\n",
      "Iteration 218, inertia 46141.039\n",
      "Iteration 219, inertia 46141.014\n",
      "Iteration 220, inertia 46140.983\n",
      "Iteration 221, inertia 46140.953\n",
      "Iteration 222, inertia 46140.925\n",
      "Iteration 223, inertia 46140.889\n",
      "Iteration 224, inertia 46140.848\n",
      "Iteration 225, inertia 46140.812\n",
      "Iteration 226, inertia 46140.776\n",
      "Iteration 227, inertia 46140.735\n",
      "Iteration 228, inertia 46140.709\n",
      "Iteration 229, inertia 46140.673\n",
      "Iteration 230, inertia 46140.644\n",
      "Iteration 231, inertia 46140.620\n",
      "Iteration 232, inertia 46140.604\n",
      "Iteration 233, inertia 46140.586\n",
      "Iteration 234, inertia 46140.568\n",
      "Iteration 235, inertia 46140.550\n",
      "Iteration 236, inertia 46140.542\n",
      "Iteration 237, inertia 46140.528\n",
      "Iteration 238, inertia 46140.526\n",
      "Iteration 239, inertia 46140.520\n",
      "Iteration 240, inertia 46140.516\n",
      "Iteration 241, inertia 46140.507\n",
      "Iteration 242, inertia 46140.509\n",
      "Iteration 243, inertia 46140.498\n",
      "Iteration 244, inertia 46140.496\n",
      "Iteration 245, inertia 46140.482\n",
      "Iteration 246, inertia 46140.470\n",
      "Iteration 247, inertia 46140.468\n",
      "Iteration 248, inertia 46140.464\n",
      "Iteration 249, inertia 46140.458\n",
      "Iteration 250, inertia 46140.447\n",
      "Iteration 251, inertia 46140.447\n",
      "Iteration 252, inertia 46140.433\n",
      "Iteration 253, inertia 46140.421\n",
      "Iteration 254, inertia 46140.415\n",
      "Iteration 255, inertia 46140.408\n",
      "Iteration 256, inertia 46140.400\n",
      "Iteration 257, inertia 46140.399\n",
      "Iteration 258, inertia 46140.396\n",
      "Iteration 259, inertia 46140.398\n",
      "Iteration 260, inertia 46140.395\n",
      "Iteration 261, inertia 46140.395\n",
      "Converged at iteration 261: center shift 4.623985e-08 within tolerance 5.447187e-08\n"
     ]
    },
    {
     "data": {
      "text/plain": [
       "SphericalKMeans(copy_x=True, init='k-means++', max_iter=300, n_clusters=35,\n",
       "        n_init=10, n_jobs=1, normalize=True, random_state=1, tol=0.0001,\n",
       "        verbose=1)"
      ]
     },
     "execution_count": 165,
     "metadata": {},
     "output_type": "execute_result"
    }
   ],
   "source": [
    "from spherecluster import SphericalKMeans\n",
    "\n",
    "skm = SphericalKMeans(n_clusters=35, random_state = 1, verbose = 1)\n",
    "skm.fit(normalized)\n"
   ]
  },
  {
   "cell_type": "markdown",
   "metadata": {
    "deletable": true,
    "editable": true
   },
   "source": [
    "# Demonstration clusters\n",
    "\n",
    "Some of these clusters are nonsense. But some are pretty good! Rather than look at the middle of the cluster, I'll randomly pull five-ten books from each cluster and see if they make sense."
   ]
  },
  {
   "cell_type": "code",
   "execution_count": 235,
   "metadata": {
    "collapsed": false
   },
   "outputs": [
    {
     "data": {
      "text/html": [
       "<li><a href=https://babel.hathitrust.org/cgi/pt?id=mdp.39015038102524>b'Collected short stories /' (1996)</a><br></li>"
      ],
      "text/plain": [
       "<__main__.Printable_Hathi at 0x7f08c5b345c0>"
      ]
     },
     "metadata": {},
     "output_type": "display_data"
    },
    {
     "data": {
      "text/html": [
       "<li><a href=https://babel.hathitrust.org/cgi/pt?id=uc1.b4376073>b'An American omnibus.' (1933)</a><br></li>"
      ],
      "text/plain": [
       "<__main__.Printable_Hathi at 0x7f08c5b345c0>"
      ]
     },
     "metadata": {},
     "output_type": "display_data"
    },
    {
     "data": {
      "text/html": [
       "<li><a href=https://babel.hathitrust.org/cgi/pt?id=mdp.39015014756285>b'The magic of Xanth /' (1981)</a><br></li>"
      ],
      "text/plain": [
       "<__main__.Printable_Hathi at 0x7f08c5b345c0>"
      ]
     },
     "metadata": {},
     "output_type": "display_data"
    },
    {
     "data": {
      "text/html": [
       "<li><a href=https://babel.hathitrust.org/cgi/pt?id=mdp.39015060029512>b'The black chalice /' (2000)</a><br></li>"
      ],
      "text/plain": [
       "<__main__.Printable_Hathi at 0x7f08c5b345c0>"
      ]
     },
     "metadata": {},
     "output_type": "display_data"
    },
    {
     "data": {
      "text/html": [
       "<li><a href=https://babel.hathitrust.org/cgi/pt?id=inu.30000109821292>b'We the underpeople /' (2006)</a><br></li>"
      ],
      "text/plain": [
       "<__main__.Printable_Hathi at 0x7f08c5b345c0>"
      ]
     },
     "metadata": {},
     "output_type": "display_data"
    }
   ],
   "source": [
    "import random\n",
    "def kmeans_cluster(x, n = 5):\n",
    "    matches = [fiction_set['names'][i] for i in range(len(fiction_set['names'])) if skm.labels_[i]==x]\n",
    "    random.seed(1)\n",
    "    sample = random.sample(matches, n)\n",
    "    for htid in sample:\n",
    "        try:\n",
    "            display(Printable_Hathi(htid, \"\"))\n",
    "        except IndexError:\n",
    "            pass\n",
    "kmeans_cluster(3)"
   ]
  },
  {
   "cell_type": "code",
   "execution_count": null,
   "metadata": {
    "collapsed": false
   },
   "outputs": [],
   "source": [
    "\n"
   ]
  },
  {
   "cell_type": "markdown",
   "metadata": {},
   "source": [
    "## Cluster 0: The Old British Novel."
   ]
  },
  {
   "cell_type": "code",
   "execution_count": 237,
   "metadata": {
    "collapsed": false
   },
   "outputs": [
    {
     "data": {
      "text/html": [
       "<li><a href=https://babel.hathitrust.org/cgi/pt?id=mdp.39015059376536>b'The New British novelist; comprising works by the most popular and fashionable writers of the present day ...' (1830)</a><br></li>"
      ],
      "text/plain": [
       "<__main__.Printable_Hathi at 0x7f08c5b34940>"
      ]
     },
     "metadata": {},
     "output_type": "display_data"
    },
    {
     "data": {
      "text/html": [
       "<li><a href=https://babel.hathitrust.org/cgi/pt?id=uc1.b3322059>b'Our town; or, Rough sketches of character, manners, & c.' (1834)</a><br></li>"
      ],
      "text/plain": [
       "<__main__.Printable_Hathi at 0x7f08c5b34940>"
      ]
     },
     "metadata": {},
     "output_type": "display_data"
    },
    {
     "data": {
      "text/html": [
       "<li><a href=https://babel.hathitrust.org/cgi/pt?id=uc1.b3550025>b'The Shepherd of the Pyrenees.' (1827)</a><br></li>"
      ],
      "text/plain": [
       "<__main__.Printable_Hathi at 0x7f08c5b34940>"
      ]
     },
     "metadata": {},
     "output_type": "display_data"
    },
    {
     "data": {
      "text/html": [
       "<li><a href=https://babel.hathitrust.org/cgi/pt?id=nyp.33433081859419>b'The novels of Maria Edgeworth, in twelve volumes.' (1893)</a><br></li>"
      ],
      "text/plain": [
       "<__main__.Printable_Hathi at 0x7f08c5b34940>"
      ]
     },
     "metadata": {},
     "output_type": "display_data"
    },
    {
     "data": {
      "text/html": [
       "<li><a href=https://babel.hathitrust.org/cgi/pt?id=njp.32101065197491>b'Salmagundi : second series /' (1820)</a><br></li>"
      ],
      "text/plain": [
       "<__main__.Printable_Hathi at 0x7f08c5b34940>"
      ]
     },
     "metadata": {},
     "output_type": "display_data"
    },
    {
     "data": {
      "text/html": [
       "<li><a href=https://babel.hathitrust.org/cgi/pt?id=mdp.39015012849298>b'The Gulistan, or, Rose garden /' (1865)</a><br></li>"
      ],
      "text/plain": [
       "<__main__.Printable_Hathi at 0x7f08c5b34940>"
      ]
     },
     "metadata": {},
     "output_type": "display_data"
    },
    {
     "data": {
      "text/html": [
       "<li><a href=https://babel.hathitrust.org/cgi/pt?id=uc2.ark:/13960/t5k932x32>b'The novels of Laurence Sterne' (1873)</a><br></li>"
      ],
      "text/plain": [
       "<__main__.Printable_Hathi at 0x7f08c5b34940>"
      ]
     },
     "metadata": {},
     "output_type": "display_data"
    },
    {
     "data": {
      "text/html": [
       "<li><a href=https://babel.hathitrust.org/cgi/pt?id=mdp.39015085382995>b'Weikefei mu shi zhuan : fu Han wen shi yi = The vicar of Wakefield /' (1911)</a><br></li>"
      ],
      "text/plain": [
       "<__main__.Printable_Hathi at 0x7f08c5b34940>"
      ]
     },
     "metadata": {},
     "output_type": "display_data"
    },
    {
     "data": {
      "text/html": [
       "<li><a href=https://babel.hathitrust.org/cgi/pt?id=mdp.39015002712571>b'Letters from Sir Charles Grandison,' (1895)</a><br></li>"
      ],
      "text/plain": [
       "<__main__.Printable_Hathi at 0x7f08c5b34940>"
      ]
     },
     "metadata": {},
     "output_type": "display_data"
    },
    {
     "data": {
      "text/html": [
       "<li><a href=https://babel.hathitrust.org/cgi/pt?id=mdp.39015078548297>b'The novels of Daniel De Foe ...' (1809)</a><br></li>"
      ],
      "text/plain": [
       "<__main__.Printable_Hathi at 0x7f08c5b34940>"
      ]
     },
     "metadata": {},
     "output_type": "display_data"
    }
   ],
   "source": [
    "kmeans_cluster(0, 10)\n"
   ]
  },
  {
   "cell_type": "code",
   "execution_count": null,
   "metadata": {
    "collapsed": true
   },
   "outputs": [],
   "source": []
  },
  {
   "cell_type": "markdown",
   "metadata": {
    "deletable": true,
    "editable": true
   },
   "source": [
    "## Cluster 2: Modern women's stories"
   ]
  },
  {
   "cell_type": "code",
   "execution_count": 239,
   "metadata": {
    "collapsed": false,
    "deletable": true,
    "editable": true
   },
   "outputs": [
    {
     "data": {
      "text/html": [
       "<li><a href=https://babel.hathitrust.org/cgi/pt?id=mdp.39015048900651>b'Body blows /' (1986)</a><br></li>"
      ],
      "text/plain": [
       "<__main__.Printable_Hathi at 0x7f08c5b37080>"
      ]
     },
     "metadata": {},
     "output_type": "display_data"
    },
    {
     "data": {
      "text/html": [
       "<li><a href=https://babel.hathitrust.org/cgi/pt?id=mdp.39015040739149>b'Creek walk and other stories /' (1996)</a><br></li>"
      ],
      "text/plain": [
       "<__main__.Printable_Hathi at 0x7f08c5b37080>"
      ]
     },
     "metadata": {},
     "output_type": "display_data"
    },
    {
     "data": {
      "text/html": [
       "<li><a href=https://babel.hathitrust.org/cgi/pt?id=mdp.39015015512240>b'Ordinary time : a novel /' (1989)</a><br></li>"
      ],
      "text/plain": [
       "<__main__.Printable_Hathi at 0x7f08c5b37080>"
      ]
     },
     "metadata": {},
     "output_type": "display_data"
    },
    {
     "data": {
      "text/html": [
       "<li><a href=https://babel.hathitrust.org/cgi/pt?id=mdp.39015012199629>b'Chroma : stories /' (1987)</a><br></li>"
      ],
      "text/plain": [
       "<__main__.Printable_Hathi at 0x7f08c5b37080>"
      ]
     },
     "metadata": {},
     "output_type": "display_data"
    },
    {
     "data": {
      "text/html": [
       "<li><a href=https://babel.hathitrust.org/cgi/pt?id=mdp.39015048746989>b'Hurry home : novella and short stories /' (1999)</a><br></li>"
      ],
      "text/plain": [
       "<__main__.Printable_Hathi at 0x7f08c5b37080>"
      ]
     },
     "metadata": {},
     "output_type": "display_data"
    },
    {
     "data": {
      "text/html": [
       "<li><a href=https://babel.hathitrust.org/cgi/pt?id=mdp.39015022273125>b'The book of during /' (1991)</a><br></li>"
      ],
      "text/plain": [
       "<__main__.Printable_Hathi at 0x7f08c5b37080>"
      ]
     },
     "metadata": {},
     "output_type": "display_data"
    },
    {
     "data": {
      "text/html": [
       "<li><a href=https://babel.hathitrust.org/cgi/pt?id=inu.39000001351548>b'More stately mansions : a story /' (1987)</a><br></li>"
      ],
      "text/plain": [
       "<__main__.Printable_Hathi at 0x7f08c5b37080>"
      ]
     },
     "metadata": {},
     "output_type": "display_data"
    },
    {
     "data": {
      "text/html": [
       "<li><a href=https://babel.hathitrust.org/cgi/pt?id=mdp.39015064749099>b'The long dry /' (2006)</a><br></li>"
      ],
      "text/plain": [
       "<__main__.Printable_Hathi at 0x7f08c5b37080>"
      ]
     },
     "metadata": {},
     "output_type": "display_data"
    },
    {
     "data": {
      "text/html": [
       "<li><a href=https://babel.hathitrust.org/cgi/pt?id=uc1.b3688282>b'Too far to walk' (1966)</a><br></li>"
      ],
      "text/plain": [
       "<__main__.Printable_Hathi at 0x7f08c5b37080>"
      ]
     },
     "metadata": {},
     "output_type": "display_data"
    },
    {
     "data": {
      "text/html": [
       "<li><a href=https://babel.hathitrust.org/cgi/pt?id=mdp.39015041028039>b'Breathe something nice : stories /' (1997)</a><br></li>"
      ],
      "text/plain": [
       "<__main__.Printable_Hathi at 0x7f08c5b37080>"
      ]
     },
     "metadata": {},
     "output_type": "display_data"
    }
   ],
   "source": [
    "kmeans_cluster(2, 10)\n"
   ]
  },
  {
   "cell_type": "markdown",
   "metadata": {
    "deletable": true,
    "editable": true
   },
   "source": [
    "## Cluster 4: War stories?"
   ]
  },
  {
   "cell_type": "code",
   "execution_count": 241,
   "metadata": {
    "collapsed": false,
    "deletable": true,
    "editable": true
   },
   "outputs": [
    {
     "data": {
      "text/html": [
       "<li><a href=https://babel.hathitrust.org/cgi/pt?id=uc1.b3810808>b'Europa in limbo' (1937)</a><br></li>"
      ],
      "text/plain": [
       "<__main__.Printable_Hathi at 0x7f08c5f04c88>"
      ]
     },
     "metadata": {},
     "output_type": "display_data"
    },
    {
     "data": {
      "text/html": [
       "<li><a href=https://babel.hathitrust.org/cgi/pt?id=inu.32000013321965>b'... In China now.' (1941)</a><br></li>"
      ],
      "text/plain": [
       "<__main__.Printable_Hathi at 0x7f08c5f04c88>"
      ]
     },
     "metadata": {},
     "output_type": "display_data"
    },
    {
     "data": {
      "text/html": [
       "<li><a href=https://babel.hathitrust.org/cgi/pt?id=mdp.49015002637412>b'Normandy : a novel /' (1995)</a><br></li>"
      ],
      "text/plain": [
       "<__main__.Printable_Hathi at 0x7f08c5f04c88>"
      ]
     },
     "metadata": {},
     "output_type": "display_data"
    },
    {
     "data": {
      "text/html": [
       "<li><a href=https://babel.hathitrust.org/cgi/pt?id=uc1.$b104051>b'Red ravage : a novel of the experiences of an American in the Philippines /' (1953)</a><br></li>"
      ],
      "text/plain": [
       "<__main__.Printable_Hathi at 0x7f08c5f04c88>"
      ]
     },
     "metadata": {},
     "output_type": "display_data"
    },
    {
     "data": {
      "text/html": [
       "<li><a href=https://babel.hathitrust.org/cgi/pt?id=mdp.39015027912156>b'The Battle of Cape Esperance; encounter at Guadalcanal.' (1968)</a><br></li>"
      ],
      "text/plain": [
       "<__main__.Printable_Hathi at 0x7f08c5f04c88>"
      ]
     },
     "metadata": {},
     "output_type": "display_data"
    },
    {
     "data": {
      "text/html": [
       "<li><a href=https://babel.hathitrust.org/cgi/pt?id=coo.31924022149037>b'The novels and stories of Richard Harding Davis ...' (1916)</a><br></li>"
      ],
      "text/plain": [
       "<__main__.Printable_Hathi at 0x7f08c5f04c88>"
      ]
     },
     "metadata": {},
     "output_type": "display_data"
    },
    {
     "data": {
      "text/html": [
       "<li><a href=https://babel.hathitrust.org/cgi/pt?id=uc2.ark:/13960/t1xd0x036>b'The book of the Grenvilles /' (1921)</a><br></li>"
      ],
      "text/plain": [
       "<__main__.Printable_Hathi at 0x7f08c5f04c88>"
      ]
     },
     "metadata": {},
     "output_type": "display_data"
    },
    {
     "data": {
      "text/html": [
       "<li><a href=https://babel.hathitrust.org/cgi/pt?id=loc.ark:/13960/t5n87xg98>b'Anecdotes of the great war, gathered from European sources, ' (1916)</a><br></li>"
      ],
      "text/plain": [
       "<__main__.Printable_Hathi at 0x7f08c5f04c88>"
      ]
     },
     "metadata": {},
     "output_type": "display_data"
    },
    {
     "data": {
      "text/html": [
       "<li><a href=https://babel.hathitrust.org/cgi/pt?id=nyp.33433082547864>b'The boy allies under the sea, or, The vanishing submarines /' (1916)</a><br></li>"
      ],
      "text/plain": [
       "<__main__.Printable_Hathi at 0x7f08c5f04c88>"
      ]
     },
     "metadata": {},
     "output_type": "display_data"
    },
    {
     "data": {
      "text/html": [
       "<li><a href=https://babel.hathitrust.org/cgi/pt?id=pst.000024875127>b\"A winter's tale : the wreck of the Florizel /\" (1976)</a><br></li>"
      ],
      "text/plain": [
       "<__main__.Printable_Hathi at 0x7f08c5f04c88>"
      ]
     },
     "metadata": {},
     "output_type": "display_data"
    }
   ],
   "source": [
    "kmeans_cluster(4, 10)\n"
   ]
  },
  {
   "cell_type": "markdown",
   "metadata": {
    "deletable": true,
    "editable": true
   },
   "source": [
    "## Cluster 9: Science Fiction"
   ]
  },
  {
   "cell_type": "code",
   "execution_count": 247,
   "metadata": {
    "collapsed": false,
    "deletable": true,
    "editable": true
   },
   "outputs": [
    {
     "data": {
      "text/html": [
       "<li><a href=https://babel.hathitrust.org/cgi/pt?id=uc1.$b803329>b'It never rains in Los Angeles.' (1970)</a><br></li>"
      ],
      "text/plain": [
       "<__main__.Printable_Hathi at 0x7f08c5b34cf8>"
      ]
     },
     "metadata": {},
     "output_type": "display_data"
    },
    {
     "data": {
      "text/html": [
       "<li><a href=https://babel.hathitrust.org/cgi/pt?id=mdp.39015070756740>b'The elves of Cintra /' (2007)</a><br></li>"
      ],
      "text/plain": [
       "<__main__.Printable_Hathi at 0x7f08c5b34cf8>"
      ]
     },
     "metadata": {},
     "output_type": "display_data"
    },
    {
     "data": {
      "text/html": [
       "<li><a href=https://babel.hathitrust.org/cgi/pt?id=mdp.39015031233433>b'Grips; or, Efforts to revive the host' (1972)</a><br></li>"
      ],
      "text/plain": [
       "<__main__.Printable_Hathi at 0x7f08c5b34cf8>"
      ]
     },
     "metadata": {},
     "output_type": "display_data"
    },
    {
     "data": {
      "text/html": [
       "<li><a href=https://babel.hathitrust.org/cgi/pt?id=mdp.39015005216281>b'The star treasure; a science fiction novel.' (1971)</a><br></li>"
      ],
      "text/plain": [
       "<__main__.Printable_Hathi at 0x7f08c5b34cf8>"
      ]
     },
     "metadata": {},
     "output_type": "display_data"
    },
    {
     "data": {
      "text/html": [
       "<li><a href=https://babel.hathitrust.org/cgi/pt?id=uc1.b3158708>b'Eternal wind' (1975)</a><br></li>"
      ],
      "text/plain": [
       "<__main__.Printable_Hathi at 0x7f08c5b34cf8>"
      ]
     },
     "metadata": {},
     "output_type": "display_data"
    },
    {
     "data": {
      "text/html": [
       "<li><a href=https://babel.hathitrust.org/cgi/pt?id=mdp.39015073818554>b'The chronicles of Amber /' (1972)</a><br></li>"
      ],
      "text/plain": [
       "<__main__.Printable_Hathi at 0x7f08c5b34cf8>"
      ]
     },
     "metadata": {},
     "output_type": "display_data"
    },
    {
     "data": {
      "text/html": [
       "<li><a href=https://babel.hathitrust.org/cgi/pt?id=pst.000015473615>b'This is the way the world ends : a novel /' (1989)</a><br></li>"
      ],
      "text/plain": [
       "<__main__.Printable_Hathi at 0x7f08c5b34cf8>"
      ]
     },
     "metadata": {},
     "output_type": "display_data"
    },
    {
     "data": {
      "text/html": [
       "<li><a href=https://babel.hathitrust.org/cgi/pt?id=mdp.49015000676602>b'Bedlam : short stories /' (1981)</a><br></li>"
      ],
      "text/plain": [
       "<__main__.Printable_Hathi at 0x7f08c5b34cf8>"
      ]
     },
     "metadata": {},
     "output_type": "display_data"
    },
    {
     "data": {
      "text/html": [
       "<li><a href=https://babel.hathitrust.org/cgi/pt?id=osu.32435059312066>b'The house that stood still /' (1960)</a><br></li>"
      ],
      "text/plain": [
       "<__main__.Printable_Hathi at 0x7f08c5b34cf8>"
      ]
     },
     "metadata": {},
     "output_type": "display_data"
    },
    {
     "data": {
      "text/html": [
       "<li><a href=https://babel.hathitrust.org/cgi/pt?id=mdp.39015052398834>b'Picnic on Nearside /' (1980)</a><br></li>"
      ],
      "text/plain": [
       "<__main__.Printable_Hathi at 0x7f08c5b34cf8>"
      ]
     },
     "metadata": {},
     "output_type": "display_data"
    }
   ],
   "source": [
    "kmeans_cluster(9, 10)\n"
   ]
  },
  {
   "cell_type": "markdown",
   "metadata": {
    "deletable": true,
    "editable": true
   },
   "source": [
    "## Cluster 14: This isn't fiction!"
   ]
  },
  {
   "cell_type": "code",
   "execution_count": 249,
   "metadata": {
    "collapsed": false,
    "deletable": true,
    "editable": true
   },
   "outputs": [
    {
     "data": {
      "text/html": [
       "<li><a href=https://babel.hathitrust.org/cgi/pt?id=coo.31924001071467>b'Dimension theory ... A lecture given at the Galois institute of mathematics at Long Island university.' (1936)</a><br></li>"
      ],
      "text/plain": [
       "<__main__.Printable_Hathi at 0x7f08c612b828>"
      ]
     },
     "metadata": {},
     "output_type": "display_data"
    },
    {
     "data": {
      "text/html": [
       "<li><a href=https://babel.hathitrust.org/cgi/pt?id=uc1.$b53420>b'The pit-dwellers of Hokkaido and Ainu place-names considered /' (1925)</a><br></li>"
      ],
      "text/plain": [
       "<__main__.Printable_Hathi at 0x7f08c612b828>"
      ]
     },
     "metadata": {},
     "output_type": "display_data"
    },
    {
     "data": {
      "text/html": [
       "<li><a href=https://babel.hathitrust.org/cgi/pt?id=loc.ark:/13960/t2h713457>b'A bullet from the battle-field of Mission Ridge,' (1895)</a><br></li>"
      ],
      "text/plain": [
       "<__main__.Printable_Hathi at 0x7f08c612b828>"
      ]
     },
     "metadata": {},
     "output_type": "display_data"
    },
    {
     "data": {
      "text/html": [
       "<li><a href=https://babel.hathitrust.org/cgi/pt?id=pst.000007602818>b'Lilias yoga and you /' (1976)</a><br></li>"
      ],
      "text/plain": [
       "<__main__.Printable_Hathi at 0x7f08c612b828>"
      ]
     },
     "metadata": {},
     "output_type": "display_data"
    },
    {
     "data": {
      "text/html": [
       "<li><a href=https://babel.hathitrust.org/cgi/pt?id=mdp.39015030009701>b'The rock tombs of El Amarna ...' (1903)</a><br></li>"
      ],
      "text/plain": [
       "<__main__.Printable_Hathi at 0x7f08c612b828>"
      ]
     },
     "metadata": {},
     "output_type": "display_data"
    },
    {
     "data": {
      "text/html": [
       "<li><a href=https://babel.hathitrust.org/cgi/pt?id=inu.30000097815553>b'Our places and ourselves /' (1974)</a><br></li>"
      ],
      "text/plain": [
       "<__main__.Printable_Hathi at 0x7f08c612b828>"
      ]
     },
     "metadata": {},
     "output_type": "display_data"
    },
    {
     "data": {
      "text/html": [
       "<li><a href=https://babel.hathitrust.org/cgi/pt?id=uc1.31822020598355>b'An introduction to the study of fishes /' (1993)</a><br></li>"
      ],
      "text/plain": [
       "<__main__.Printable_Hathi at 0x7f08c612b828>"
      ]
     },
     "metadata": {},
     "output_type": "display_data"
    },
    {
     "data": {
      "text/html": [
       "<li><a href=https://babel.hathitrust.org/cgi/pt?id=pst.000046270405>b'Windows on science :  active learning for young children /' (1988)</a><br></li>"
      ],
      "text/plain": [
       "<__main__.Printable_Hathi at 0x7f08c612b828>"
      ]
     },
     "metadata": {},
     "output_type": "display_data"
    },
    {
     "data": {
      "text/html": [
       "<li><a href=https://babel.hathitrust.org/cgi/pt?id=mdp.39015017666705>b'Thai traditional games & sports /' (1986)</a><br></li>"
      ],
      "text/plain": [
       "<__main__.Printable_Hathi at 0x7f08c612b828>"
      ]
     },
     "metadata": {},
     "output_type": "display_data"
    },
    {
     "data": {
      "text/html": [
       "<li><a href=https://babel.hathitrust.org/cgi/pt?id=wu.89043235761>b'A history of tropical medicine; based on the Fitzpatrick lectures delivered before the Royal College of Physicians of London, 1937-38,' (1939)</a><br></li>"
      ],
      "text/plain": [
       "<__main__.Printable_Hathi at 0x7f08c612b828>"
      ]
     },
     "metadata": {},
     "output_type": "display_data"
    }
   ],
   "source": [
    "kmeans_cluster(14, 10)\n"
   ]
  },
  {
   "cell_type": "markdown",
   "metadata": {},
   "source": [
    "## Cluster 15: The 18th century tale"
   ]
  },
  {
   "cell_type": "code",
   "execution_count": 250,
   "metadata": {
    "collapsed": false
   },
   "outputs": [
    {
     "data": {
      "text/html": [
       "<li><a href=https://babel.hathitrust.org/cgi/pt?id=uc2.ark:/13960/t50g3jc0p>b'A description of Millenium Hall, and the country adjacent : together with the characters of the inhabitants, and such historical anecdotes and reflections, as may excite in the reader proper sentiments of humanity, and lead the mind to the love of virtue /' (1762)</a><br></li>"
      ],
      "text/plain": [
       "<__main__.Printable_Hathi at 0x7f08c6133a58>"
      ]
     },
     "metadata": {},
     "output_type": "display_data"
    },
    {
     "data": {
      "text/html": [
       "<li><a href=https://babel.hathitrust.org/cgi/pt?id=nnc1.0037112007>b'The life and entertaining adventures of Mr. Cleveland; natural son of Oliver Cromwell,' (1760)</a><br></li>"
      ],
      "text/plain": [
       "<__main__.Printable_Hathi at 0x7f0921f5b780>"
      ]
     },
     "metadata": {},
     "output_type": "display_data"
    },
    {
     "data": {
      "text/html": [
       "<li><a href=https://babel.hathitrust.org/cgi/pt?id=nyp.33433074913355>b'A simple story. In four volumes.' (1791)</a><br></li>"
      ],
      "text/plain": [
       "<__main__.Printable_Hathi at 0x7f0921f5b780>"
      ]
     },
     "metadata": {},
     "output_type": "display_data"
    },
    {
     "data": {
      "text/html": [
       "<li><a href=https://babel.hathitrust.org/cgi/pt?id=dul1.ark:/13960/t4hm5zs2h>b'The history of Jemmy and Jenny Jessamy : in three volumes /' (1753)</a><br></li>"
      ],
      "text/plain": [
       "<__main__.Printable_Hathi at 0x7f0921f5b780>"
      ]
     },
     "metadata": {},
     "output_type": "display_data"
    },
    {
     "data": {
      "text/html": [
       "<li><a href=https://babel.hathitrust.org/cgi/pt?id=hvd.hn2hec>b'Lucinda, or, Virtue triumphant : a moral tale /' (1801)</a><br></li>"
      ],
      "text/plain": [
       "<__main__.Printable_Hathi at 0x7f0921f5b780>"
      ]
     },
     "metadata": {},
     "output_type": "display_data"
    }
   ],
   "source": [
    "kmeans_cluster(15)\n"
   ]
  },
  {
   "cell_type": "markdown",
   "metadata": {
    "deletable": true,
    "editable": true
   },
   "source": [
    "## Cluster 18: This is pretty weird.\n",
    "\n",
    "Based on proximity to the center I though this was straight modern fantasy--instead it seems to be something that spans the romance and some "
   ]
  },
  {
   "cell_type": "code",
   "execution_count": 252,
   "metadata": {
    "collapsed": false,
    "deletable": true,
    "editable": true
   },
   "outputs": [
    {
     "data": {
      "text/html": [
       "<li><a href=https://babel.hathitrust.org/cgi/pt?id=mdp.39015062269264>b'Light through the mist; quairains based on maxims and apothegms found in Aboth (the Fathers)' (1950)</a><br></li>"
      ],
      "text/plain": [
       "<__main__.Printable_Hathi at 0x7f0921f5b780>"
      ]
     },
     "metadata": {},
     "output_type": "display_data"
    },
    {
     "data": {
      "text/html": [
       "<li><a href=https://babel.hathitrust.org/cgi/pt?id=uc2.ark:/13960/t6930qn3x>b'The Italian novelists /' (1901)</a><br></li>"
      ],
      "text/plain": [
       "<__main__.Printable_Hathi at 0x7f0921f5b780>"
      ]
     },
     "metadata": {},
     "output_type": "display_data"
    },
    {
     "data": {
      "text/html": [
       "<li><a href=https://babel.hathitrust.org/cgi/pt?id=uc2.ark:/13960/t2g73914b>b'Shakespeare jest-books : reprints of the early and very rare jest-books supposed to have been used by Shakespeare /' (1864)</a><br></li>"
      ],
      "text/plain": [
       "<__main__.Printable_Hathi at 0x7f0921f5b780>"
      ]
     },
     "metadata": {},
     "output_type": "display_data"
    },
    {
     "data": {
      "text/html": [
       "<li><a href=https://babel.hathitrust.org/cgi/pt?id=uc1.b4334398>b'Great books of the Western World /' (1952)</a><br></li>"
      ],
      "text/plain": [
       "<__main__.Printable_Hathi at 0x7f0921f5b780>"
      ]
     },
     "metadata": {},
     "output_type": "display_data"
    },
    {
     "data": {
      "text/html": [
       "<li><a href=https://babel.hathitrust.org/cgi/pt?id=mdp.39015041904213>b'Sidonia the sorceress, the supposed destroyer of the whole reigning ducal house of Pomerania,' (1894)</a><br></li>"
      ],
      "text/plain": [
       "<__main__.Printable_Hathi at 0x7f0921f5b780>"
      ]
     },
     "metadata": {},
     "output_type": "display_data"
    },
    {
     "data": {
      "text/html": [
       "<li><a href=https://babel.hathitrust.org/cgi/pt?id=uc1.b4284368>b'The life and complete works in prose and verse of Robert Greene /' (1964)</a><br></li>"
      ],
      "text/plain": [
       "<__main__.Printable_Hathi at 0x7f0921f5b780>"
      ]
     },
     "metadata": {},
     "output_type": "display_data"
    },
    {
     "data": {
      "text/html": [
       "<li><a href=https://babel.hathitrust.org/cgi/pt?id=uc2.ark:/13960/t6f18w32x>b'The book of the duke of true lovers.' (1908)</a><br></li>"
      ],
      "text/plain": [
       "<__main__.Printable_Hathi at 0x7f0921f5b780>"
      ]
     },
     "metadata": {},
     "output_type": "display_data"
    },
    {
     "data": {
      "text/html": [
       "<li><a href=https://babel.hathitrust.org/cgi/pt?id=uc1.b4110108>b'The prose works of Sir Philip Sidney.' (1962)</a><br></li>"
      ],
      "text/plain": [
       "<__main__.Printable_Hathi at 0x7f0921f5b780>"
      ]
     },
     "metadata": {},
     "output_type": "display_data"
    },
    {
     "data": {
      "text/html": [
       "<li><a href=https://babel.hathitrust.org/cgi/pt?id=umn.319510020200029>b'Hypnerotomachia.' (1969)</a><br></li>"
      ],
      "text/plain": [
       "<__main__.Printable_Hathi at 0x7f0921f5b780>"
      ]
     },
     "metadata": {},
     "output_type": "display_data"
    },
    {
     "data": {
      "text/html": [
       "<li><a href=https://babel.hathitrust.org/cgi/pt?id=uc2.ark:/13960/t3dz0bf8t>b'Border lances : a romance of the northern marches in the reign of Edward the Third /' (1886)</a><br></li>"
      ],
      "text/plain": [
       "<__main__.Printable_Hathi at 0x7f0921f5b780>"
      ]
     },
     "metadata": {},
     "output_type": "display_data"
    }
   ],
   "source": [
    "kmeans_cluster(18, 10)\n"
   ]
  },
  {
   "cell_type": "markdown",
   "metadata": {
    "deletable": true,
    "editable": true
   },
   "source": [
    "## Cluster 21: Stories from the post-colonial Commonwealth? \n",
    "\n",
    "Mostly, Nigerian, Indian, Trinidadian fiction from 1970-200"
   ]
  },
  {
   "cell_type": "code",
   "execution_count": 254,
   "metadata": {
    "collapsed": false,
    "deletable": true,
    "editable": true
   },
   "outputs": [
    {
     "data": {
      "text/html": [
       "<li><a href=https://babel.hathitrust.org/cgi/pt?id=mdp.39015023978250>b'The defamed alley : a novel /' (1977)</a><br></li>"
      ],
      "text/plain": [
       "<__main__.Printable_Hathi at 0x7f08c5b36588>"
      ]
     },
     "metadata": {},
     "output_type": "display_data"
    },
    {
     "data": {
      "text/html": [
       "<li><a href=https://babel.hathitrust.org/cgi/pt?id=uc1.b3799976>b'The breaker of combs and scissors /' (1985)</a><br></li>"
      ],
      "text/plain": [
       "<__main__.Printable_Hathi at 0x7f08c5b36588>"
      ]
     },
     "metadata": {},
     "output_type": "display_data"
    },
    {
     "data": {
      "text/html": [
       "<li><a href=https://babel.hathitrust.org/cgi/pt?id=inu.30000067168520>b'Achachakolo : the sorrows of Mgboyibo : a romance /' (1990)</a><br></li>"
      ],
      "text/plain": [
       "<__main__.Printable_Hathi at 0x7f08c5b36588>"
      ]
     },
     "metadata": {},
     "output_type": "display_data"
    },
    {
     "data": {
      "text/html": [
       "<li><a href=https://babel.hathitrust.org/cgi/pt?id=mdp.39015029977736>b'The Cord & other stories /' (1992)</a><br></li>"
      ],
      "text/plain": [
       "<__main__.Printable_Hathi at 0x7f08c5b36588>"
      ]
     },
     "metadata": {},
     "output_type": "display_data"
    },
    {
     "data": {
      "text/html": [
       "<li><a href=https://babel.hathitrust.org/cgi/pt?id=inu.30000109359764>b'The triple clan /' (2004)</a><br></li>"
      ],
      "text/plain": [
       "<__main__.Printable_Hathi at 0x7f08c5b36588>"
      ]
     },
     "metadata": {},
     "output_type": "display_data"
    },
    {
     "data": {
      "text/html": [
       "<li><a href=https://babel.hathitrust.org/cgi/pt?id=mdp.39015025378947>b'Selected short stories /' (1991)</a><br></li>"
      ],
      "text/plain": [
       "<__main__.Printable_Hathi at 0x7f08c5b36588>"
      ]
     },
     "metadata": {},
     "output_type": "display_data"
    },
    {
     "data": {
      "text/html": [
       "<li><a href=https://babel.hathitrust.org/cgi/pt?id=inu.32000009854151>b'The half-brothers /' (1974)</a><br></li>"
      ],
      "text/plain": [
       "<__main__.Printable_Hathi at 0x7f08c5b36588>"
      ]
     },
     "metadata": {},
     "output_type": "display_data"
    },
    {
     "data": {
      "text/html": [
       "<li><a href=https://babel.hathitrust.org/cgi/pt?id=mdp.39015052765206>b'A story of true love : a translation of an Urdu novel Samrhae naykie (Reward of kindness) /' (2000)</a><br></li>"
      ],
      "text/plain": [
       "<__main__.Printable_Hathi at 0x7f08c5b36588>"
      ]
     },
     "metadata": {},
     "output_type": "display_data"
    },
    {
     "data": {
      "text/html": [
       "<li><a href=https://babel.hathitrust.org/cgi/pt?id=mdp.39015028445024>b'Contemporary Indian short stories in English /' (1991)</a><br></li>"
      ],
      "text/plain": [
       "<__main__.Printable_Hathi at 0x7f08c5b36588>"
      ]
     },
     "metadata": {},
     "output_type": "display_data"
    },
    {
     "data": {
      "text/html": [
       "<li><a href=https://babel.hathitrust.org/cgi/pt?id=pst.000023082847>b'The story of a single woman /' (1992)</a><br></li>"
      ],
      "text/plain": [
       "<__main__.Printable_Hathi at 0x7f08c5b36588>"
      ]
     },
     "metadata": {},
     "output_type": "display_data"
    }
   ],
   "source": [
    "kmeans_cluster(21, 10)\n"
   ]
  },
  {
   "cell_type": "markdown",
   "metadata": {
    "deletable": true,
    "editable": true
   },
   "source": [
    "## Cluster 25: Folk tales"
   ]
  },
  {
   "cell_type": "code",
   "execution_count": 259,
   "metadata": {
    "collapsed": false,
    "deletable": true,
    "editable": true
   },
   "outputs": [
    {
     "data": {
      "text/html": [
       "<li><a href=https://babel.hathitrust.org/cgi/pt?id=mdp.39015013285609>b'Through golden windows.' (1958)</a><br></li>"
      ],
      "text/plain": [
       "<__main__.Printable_Hathi at 0x7f0922cd6b70>"
      ]
     },
     "metadata": {},
     "output_type": "display_data"
    },
    {
     "data": {
      "text/html": [
       "<li><a href=https://babel.hathitrust.org/cgi/pt?id=wu.89007385289>b'Bannertail; the story of a graysquirrel,' (1922)</a><br></li>"
      ],
      "text/plain": [
       "<__main__.Printable_Hathi at 0x7f0922cd6b70>"
      ]
     },
     "metadata": {},
     "output_type": "display_data"
    },
    {
     "data": {
      "text/html": [
       "<li><a href=https://babel.hathitrust.org/cgi/pt?id=inu.30000036592388>b'The maiden who rose from the sea and other Finnish folk tales /' (1992)</a><br></li>"
      ],
      "text/plain": [
       "<__main__.Printable_Hathi at 0x7f0922cd6b70>"
      ]
     },
     "metadata": {},
     "output_type": "display_data"
    },
    {
     "data": {
      "text/html": [
       "<li><a href=https://babel.hathitrust.org/cgi/pt?id=inu.30000056307501>b'Tales of the tepee /' (1998)</a><br></li>"
      ],
      "text/plain": [
       "<__main__.Printable_Hathi at 0x7f0922cd6b70>"
      ]
     },
     "metadata": {},
     "output_type": "display_data"
    },
    {
     "data": {
      "text/html": [
       "<li><a href=https://babel.hathitrust.org/cgi/pt?id=inu.30000004005785>b'Stories of Serra East /' (1985)</a><br></li>"
      ],
      "text/plain": [
       "<__main__.Printable_Hathi at 0x7f0922cd6b70>"
      ]
     },
     "metadata": {},
     "output_type": "display_data"
    }
   ],
   "source": [
    "kmeans_cluster(25)\n"
   ]
  },
  {
   "cell_type": "markdown",
   "metadata": {
    "deletable": true,
    "editable": true
   },
   "source": [
    "## Cluster 26: The hip-hop noir novel\n",
    "\n",
    "Isn't it helpful when the metadata defines the cluster! Honestly, I don't know exactly what this is; it seems to be a certain form of brisk American modern novel that bridges cops (*Under the Color of Law)*, technology (*JPod*) and gay erotica (*Brother Stud*). "
   ]
  },
  {
   "cell_type": "code",
   "execution_count": 261,
   "metadata": {
    "collapsed": false,
    "deletable": true,
    "editable": true
   },
   "outputs": [
    {
     "data": {
      "text/html": [
       "<li><a href=https://babel.hathitrust.org/cgi/pt?id=uc1.32106018647310>b'The dying ground : a hip-hop noir novel /' (2001)</a><br></li>"
      ],
      "text/plain": [
       "<__main__.Printable_Hathi at 0x7f08c5b1e470>"
      ]
     },
     "metadata": {},
     "output_type": "display_data"
    },
    {
     "data": {
      "text/html": [
       "<li><a href=https://babel.hathitrust.org/cgi/pt?id=mdp.39015073377296>b'Brother stud /' (1979)</a><br></li>"
      ],
      "text/plain": [
       "<__main__.Printable_Hathi at 0x7f08c5b1e470>"
      ]
     },
     "metadata": {},
     "output_type": "display_data"
    },
    {
     "data": {
      "text/html": [
       "<li><a href=https://babel.hathitrust.org/cgi/pt?id=mdp.39015080890075>b'Maneuvers /' (2009)</a><br></li>"
      ],
      "text/plain": [
       "<__main__.Printable_Hathi at 0x7f08c5b1e470>"
      ]
     },
     "metadata": {},
     "output_type": "display_data"
    },
    {
     "data": {
      "text/html": [
       "<li><a href=https://babel.hathitrust.org/cgi/pt?id=uc1.32106014480880>b'In the beginning /' (1997)</a><br></li>"
      ],
      "text/plain": [
       "<__main__.Printable_Hathi at 0x7f08c5b1e470>"
      ]
     },
     "metadata": {},
     "output_type": "display_data"
    },
    {
     "data": {
      "text/html": [
       "<li><a href=https://babel.hathitrust.org/cgi/pt?id=mdp.39015064701256>b'JPod : a novel /' (2006)</a><br></li>"
      ],
      "text/plain": [
       "<__main__.Printable_Hathi at 0x7f08c5b1e470>"
      ]
     },
     "metadata": {},
     "output_type": "display_data"
    },
    {
     "data": {
      "text/html": [
       "<li><a href=https://babel.hathitrust.org/cgi/pt?id=mdp.39015034414261>b\"From Potter's field /\" (1995)</a><br></li>"
      ],
      "text/plain": [
       "<__main__.Printable_Hathi at 0x7f08c5b1e470>"
      ]
     },
     "metadata": {},
     "output_type": "display_data"
    },
    {
     "data": {
      "text/html": [
       "<li><a href=https://babel.hathitrust.org/cgi/pt?id=mdp.39015020828839>b'Necessary objects.' (1973)</a><br></li>"
      ],
      "text/plain": [
       "<__main__.Printable_Hathi at 0x7f08c5b1e470>"
      ]
     },
     "metadata": {},
     "output_type": "display_data"
    },
    {
     "data": {
      "text/html": [
       "<li><a href=https://babel.hathitrust.org/cgi/pt?id=uc1.b4351593>b'8 monologs /' (1980)</a><br></li>"
      ],
      "text/plain": [
       "<__main__.Printable_Hathi at 0x7f08c5b1e470>"
      ]
     },
     "metadata": {},
     "output_type": "display_data"
    },
    {
     "data": {
      "text/html": [
       "<li><a href=https://babel.hathitrust.org/cgi/pt?id=mdp.39015078810036>b'The weight of heaven : a novel /' (2009)</a><br></li>"
      ],
      "text/plain": [
       "<__main__.Printable_Hathi at 0x7f08c5b1e470>"
      ]
     },
     "metadata": {},
     "output_type": "display_data"
    },
    {
     "data": {
      "text/html": [
       "<li><a href=https://babel.hathitrust.org/cgi/pt?id=mdp.39015056181830>b'Under the color of law : a Kevin Kearney novel /' (2001)</a><br></li>"
      ],
      "text/plain": [
       "<__main__.Printable_Hathi at 0x7f08c5b1e470>"
      ]
     },
     "metadata": {},
     "output_type": "display_data"
    }
   ],
   "source": [
    "kmeans_cluster(26, 10)\n"
   ]
  },
  {
   "cell_type": "markdown",
   "metadata": {
    "deletable": true,
    "editable": true
   },
   "source": [
    "## Cluster 28: The Imperial Romance."
   ]
  },
  {
   "cell_type": "code",
   "execution_count": 264,
   "metadata": {
    "collapsed": false,
    "deletable": true,
    "editable": true
   },
   "outputs": [
    {
     "data": {
      "text/html": [
       "<li><a href=https://babel.hathitrust.org/cgi/pt?id=pst.000011179887>b'The new Bethlehem /' (1935)</a><br></li>"
      ],
      "text/plain": [
       "<__main__.Printable_Hathi at 0x7f08c5b344e0>"
      ]
     },
     "metadata": {},
     "output_type": "display_data"
    },
    {
     "data": {
      "text/html": [
       "<li><a href=https://babel.hathitrust.org/cgi/pt?id=nyp.33433073356473>b'The Cossacks : a tale of the Caucasus in 1852 /' (1878)</a><br></li>"
      ],
      "text/plain": [
       "<__main__.Printable_Hathi at 0x7f08c5b344e0>"
      ]
     },
     "metadata": {},
     "output_type": "display_data"
    },
    {
     "data": {
      "text/html": [
       "<li><a href=https://babel.hathitrust.org/cgi/pt?id=pst.000019683003>b'The house of prayer /' (1958)</a><br></li>"
      ],
      "text/plain": [
       "<__main__.Printable_Hathi at 0x7f08c5b344e0>"
      ]
     },
     "metadata": {},
     "output_type": "display_data"
    },
    {
     "data": {
      "text/html": [
       "<li><a href=https://babel.hathitrust.org/cgi/pt?id=uc1.$b56510>b'The sky but not the heart; a novel' (1936)</a><br></li>"
      ],
      "text/plain": [
       "<__main__.Printable_Hathi at 0x7f08c5b344e0>"
      ]
     },
     "metadata": {},
     "output_type": "display_data"
    },
    {
     "data": {
      "text/html": [
       "<li><a href=https://babel.hathitrust.org/cgi/pt?id=umn.319510020277183>b'The doctor and the dragon : a tragi-comedy of British India.' (1947)</a><br></li>"
      ],
      "text/plain": [
       "<__main__.Printable_Hathi at 0x7f08c5b344e0>"
      ]
     },
     "metadata": {},
     "output_type": "display_data"
    },
    {
     "data": {
      "text/html": [
       "<li><a href=https://babel.hathitrust.org/cgi/pt?id=nyp.33433074939590>b'Masters of the wheat-lands /' (1910)</a><br></li>"
      ],
      "text/plain": [
       "<__main__.Printable_Hathi at 0x7f08c5b344e0>"
      ]
     },
     "metadata": {},
     "output_type": "display_data"
    },
    {
     "data": {
      "text/html": [
       "<li><a href=https://babel.hathitrust.org/cgi/pt?id=mdp.49015002137876>b'The collected works of Rudyard Kipling.' (1970)</a><br></li>"
      ],
      "text/plain": [
       "<__main__.Printable_Hathi at 0x7f08c5b344e0>"
      ]
     },
     "metadata": {},
     "output_type": "display_data"
    },
    {
     "data": {
      "text/html": [
       "<li><a href=https://babel.hathitrust.org/cgi/pt?id=pst.000002498188>b'Concluding; a novel.' (1948)</a><br></li>"
      ],
      "text/plain": [
       "<__main__.Printable_Hathi at 0x7f08c5b344e0>"
      ]
     },
     "metadata": {},
     "output_type": "display_data"
    },
    {
     "data": {
      "text/html": [
       "<li><a href=https://babel.hathitrust.org/cgi/pt?id=uc2.ark:/13960/t6057s29k>b'News from the duchy.' (1913)</a><br></li>"
      ],
      "text/plain": [
       "<__main__.Printable_Hathi at 0x7f08c5b344e0>"
      ]
     },
     "metadata": {},
     "output_type": "display_data"
    },
    {
     "data": {
      "text/html": [
       "<li><a href=https://babel.hathitrust.org/cgi/pt?id=mdp.39015066710131>b'The works of Rudyard Kipling ...' (1899)</a><br></li>"
      ],
      "text/plain": [
       "<__main__.Printable_Hathi at 0x7f08c5b344e0>"
      ]
     },
     "metadata": {},
     "output_type": "display_data"
    }
   ],
   "source": [
    "kmeans_cluster(28, 10)\n"
   ]
  },
  {
   "cell_type": "markdown",
   "metadata": {
    "deletable": true,
    "editable": true
   },
   "source": [
    "## Cluster 30: More Scifi/fantasy."
   ]
  },
  {
   "cell_type": "code",
   "execution_count": 267,
   "metadata": {
    "collapsed": false,
    "deletable": true,
    "editable": true
   },
   "outputs": [
    {
     "data": {
      "text/html": [
       "<li><a href=https://babel.hathitrust.org/cgi/pt?id=mdp.39015069158932>b\"Rod Serling's triple w: witches, warlocks, and werewolves : a collection /\" (1963)</a><br></li>"
      ],
      "text/plain": [
       "<__main__.Printable_Hathi at 0x7f08c5b27be0>"
      ]
     },
     "metadata": {},
     "output_type": "display_data"
    },
    {
     "data": {
      "text/html": [
       "<li><a href=https://babel.hathitrust.org/cgi/pt?id=inu.39000001027940>b'Tart is the apple; a novel.' (1973)</a><br></li>"
      ],
      "text/plain": [
       "<__main__.Printable_Hathi at 0x7f08c5b27be0>"
      ]
     },
     "metadata": {},
     "output_type": "display_data"
    },
    {
     "data": {
      "text/html": [
       "<li><a href=https://babel.hathitrust.org/cgi/pt?id=mdp.39015030945797>b'Mostly womenfolk and a man or two : a collection /' (1976)</a><br></li>"
      ],
      "text/plain": [
       "<__main__.Printable_Hathi at 0x7f08c5b27be0>"
      ]
     },
     "metadata": {},
     "output_type": "display_data"
    },
    {
     "data": {
      "text/html": [
       "<li><a href=https://babel.hathitrust.org/cgi/pt?id=mdp.39015010824095>b'Two serious ladies.' (1965)</a><br></li>"
      ],
      "text/plain": [
       "<__main__.Printable_Hathi at 0x7f08c5b27be0>"
      ]
     },
     "metadata": {},
     "output_type": "display_data"
    },
    {
     "data": {
      "text/html": [
       "<li><a href=https://babel.hathitrust.org/cgi/pt?id=uc1.$b807537>b'The land of lost content' (1970)</a><br></li>"
      ],
      "text/plain": [
       "<__main__.Printable_Hathi at 0x7f08c5b27be0>"
      ]
     },
     "metadata": {},
     "output_type": "display_data"
    },
    {
     "data": {
      "text/html": [
       "<li><a href=https://babel.hathitrust.org/cgi/pt?id=uc1.$b63751>b'Sam.' (1939)</a><br></li>"
      ],
      "text/plain": [
       "<__main__.Printable_Hathi at 0x7f08c5b27be0>"
      ]
     },
     "metadata": {},
     "output_type": "display_data"
    },
    {
     "data": {
      "text/html": [
       "<li><a href=https://babel.hathitrust.org/cgi/pt?id=uc2.ark:/13960/t8nc5ts38>b'Molly make-believe.' (1910)</a><br></li>"
      ],
      "text/plain": [
       "<__main__.Printable_Hathi at 0x7f08c5b27be0>"
      ]
     },
     "metadata": {},
     "output_type": "display_data"
    },
    {
     "data": {
      "text/html": [
       "<li><a href=https://babel.hathitrust.org/cgi/pt?id=uc1.$b87206>b'Temporary address: Reno,' (1941)</a><br></li>"
      ],
      "text/plain": [
       "<__main__.Printable_Hathi at 0x7f08c5b27be0>"
      ]
     },
     "metadata": {},
     "output_type": "display_data"
    },
    {
     "data": {
      "text/html": [
       "<li><a href=https://babel.hathitrust.org/cgi/pt?id=uc1.b3346325>b'Wisteria Cottage.' (1948)</a><br></li>"
      ],
      "text/plain": [
       "<__main__.Printable_Hathi at 0x7f08c5b27be0>"
      ]
     },
     "metadata": {},
     "output_type": "display_data"
    },
    {
     "data": {
      "text/html": [
       "<li><a href=https://babel.hathitrust.org/cgi/pt?id=mdp.39015040713144>b'Life strokes : blood on the moon and other stories /' (1996)</a><br></li>"
      ],
      "text/plain": [
       "<__main__.Printable_Hathi at 0x7f08c5b27be0>"
      ]
     },
     "metadata": {},
     "output_type": "display_data"
    }
   ],
   "source": [
    "kmeans_cluster(30, 10)\n"
   ]
  },
  {
   "cell_type": "markdown",
   "metadata": {
    "deletable": true,
    "editable": true
   },
   "source": [
    "# All Clusters\n",
    "\n",
    "For reference, 5 random texts from all 30 clusters, with no attempt to label.\n",
    "All clusters: top 5."
   ]
  },
  {
   "cell_type": "code",
   "execution_count": 271,
   "metadata": {
    "collapsed": false,
    "deletable": true,
    "editable": true,
    "scrolled": false
   },
   "outputs": [
    {
     "name": "stdout",
     "output_type": "stream",
     "text": [
      "~~~~~~~~~~~~~~~~~~~~~~~~~~~~~~~~~~~~~~~~~~~~~~~~~~~~~~~~~~~~~~~~~~~~~~~~~~~~~~~~~~~~~~~~~~~~~~~~~~~~\n",
      "CLUSTER 0\n",
      "~~~~~~~~~~~~~~~~~~~~~~~~~~~~~~~~~~~~~~~~~~~~~~~~~~~~~~~~~~~~~~~~~~~~~~~~~~~~~~~~~~~~~~~~~~~~~~~~~~~~\n"
     ]
    },
    {
     "data": {
      "text/html": [
       "<li><a href=https://babel.hathitrust.org/cgi/pt?id=mdp.39015059376536>b'The New British novelist; comprising works by the most popular and fashionable writers of the present day ...' (1830)</a><br></li>"
      ],
      "text/plain": [
       "<__main__.Printable_Hathi at 0x7f08c5ac20f0>"
      ]
     },
     "metadata": {},
     "output_type": "display_data"
    },
    {
     "data": {
      "text/html": [
       "<li><a href=https://babel.hathitrust.org/cgi/pt?id=uc1.b3322059>b'Our town; or, Rough sketches of character, manners, & c.' (1834)</a><br></li>"
      ],
      "text/plain": [
       "<__main__.Printable_Hathi at 0x7f08c5ac20f0>"
      ]
     },
     "metadata": {},
     "output_type": "display_data"
    },
    {
     "data": {
      "text/html": [
       "<li><a href=https://babel.hathitrust.org/cgi/pt?id=uc1.b3550025>b'The Shepherd of the Pyrenees.' (1827)</a><br></li>"
      ],
      "text/plain": [
       "<__main__.Printable_Hathi at 0x7f08c5ac20f0>"
      ]
     },
     "metadata": {},
     "output_type": "display_data"
    },
    {
     "data": {
      "text/html": [
       "<li><a href=https://babel.hathitrust.org/cgi/pt?id=nyp.33433081859419>b'The novels of Maria Edgeworth, in twelve volumes.' (1893)</a><br></li>"
      ],
      "text/plain": [
       "<__main__.Printable_Hathi at 0x7f08c5ac20f0>"
      ]
     },
     "metadata": {},
     "output_type": "display_data"
    },
    {
     "data": {
      "text/html": [
       "<li><a href=https://babel.hathitrust.org/cgi/pt?id=njp.32101065197491>b'Salmagundi : second series /' (1820)</a><br></li>"
      ],
      "text/plain": [
       "<__main__.Printable_Hathi at 0x7f08c5ac20f0>"
      ]
     },
     "metadata": {},
     "output_type": "display_data"
    },
    {
     "name": "stdout",
     "output_type": "stream",
     "text": [
      "~~~~~~~~~~~~~~~~~~~~~~~~~~~~~~~~~~~~~~~~~~~~~~~~~~~~~~~~~~~~~~~~~~~~~~~~~~~~~~~~~~~~~~~~~~~~~~~~~~~~\n",
      "CLUSTER 1\n",
      "~~~~~~~~~~~~~~~~~~~~~~~~~~~~~~~~~~~~~~~~~~~~~~~~~~~~~~~~~~~~~~~~~~~~~~~~~~~~~~~~~~~~~~~~~~~~~~~~~~~~\n"
     ]
    },
    {
     "data": {
      "text/html": [
       "<li><a href=https://babel.hathitrust.org/cgi/pt?id=nyp.33433075768949>b'With the Grand army to Moscow. An historical novel.' (1900)</a><br></li>"
      ],
      "text/plain": [
       "<__main__.Printable_Hathi at 0x7f08c5ac2ef0>"
      ]
     },
     "metadata": {},
     "output_type": "display_data"
    },
    {
     "data": {
      "text/html": [
       "<li><a href=https://babel.hathitrust.org/cgi/pt?id=uc1.b3321847>b'Contarini Fleming, and Alroy : two romances /' (1850)</a><br></li>"
      ],
      "text/plain": [
       "<__main__.Printable_Hathi at 0x7f08c5ac2ef0>"
      ]
     },
     "metadata": {},
     "output_type": "display_data"
    },
    {
     "data": {
      "text/html": [
       "<li><a href=https://babel.hathitrust.org/cgi/pt?id=uiuo.ark:/13960/t4pk11c53>b'De Montfort, or, The old English nobleman /' (1842)</a><br></li>"
      ],
      "text/plain": [
       "<__main__.Printable_Hathi at 0x7f08c5ac2ef0>"
      ]
     },
     "metadata": {},
     "output_type": "display_data"
    },
    {
     "data": {
      "text/html": [
       "<li><a href=https://babel.hathitrust.org/cgi/pt?id=hvd.hwadvf>b'Waverley novels.' (1829)</a><br></li>"
      ],
      "text/plain": [
       "<__main__.Printable_Hathi at 0x7f08c5ac2ef0>"
      ]
     },
     "metadata": {},
     "output_type": "display_data"
    },
    {
     "data": {
      "text/html": [
       "<li><a href=https://babel.hathitrust.org/cgi/pt?id=uc2.ark:/13960/t1gh9cr0d>b'Miss Fairfax of Virginia; a romance of love and adventure under the Palmettos,' (1899)</a><br></li>"
      ],
      "text/plain": [
       "<__main__.Printable_Hathi at 0x7f08c5ac2ef0>"
      ]
     },
     "metadata": {},
     "output_type": "display_data"
    },
    {
     "name": "stdout",
     "output_type": "stream",
     "text": [
      "~~~~~~~~~~~~~~~~~~~~~~~~~~~~~~~~~~~~~~~~~~~~~~~~~~~~~~~~~~~~~~~~~~~~~~~~~~~~~~~~~~~~~~~~~~~~~~~~~~~~\n",
      "CLUSTER 2\n",
      "~~~~~~~~~~~~~~~~~~~~~~~~~~~~~~~~~~~~~~~~~~~~~~~~~~~~~~~~~~~~~~~~~~~~~~~~~~~~~~~~~~~~~~~~~~~~~~~~~~~~\n"
     ]
    },
    {
     "data": {
      "text/html": [
       "<li><a href=https://babel.hathitrust.org/cgi/pt?id=mdp.39015048900651>b'Body blows /' (1986)</a><br></li>"
      ],
      "text/plain": [
       "<__main__.Printable_Hathi at 0x7f08c5aca710>"
      ]
     },
     "metadata": {},
     "output_type": "display_data"
    },
    {
     "data": {
      "text/html": [
       "<li><a href=https://babel.hathitrust.org/cgi/pt?id=mdp.39015040739149>b'Creek walk and other stories /' (1996)</a><br></li>"
      ],
      "text/plain": [
       "<__main__.Printable_Hathi at 0x7f08c5ac2e48>"
      ]
     },
     "metadata": {},
     "output_type": "display_data"
    },
    {
     "data": {
      "text/html": [
       "<li><a href=https://babel.hathitrust.org/cgi/pt?id=mdp.39015015512240>b'Ordinary time : a novel /' (1989)</a><br></li>"
      ],
      "text/plain": [
       "<__main__.Printable_Hathi at 0x7f08c5ac2e48>"
      ]
     },
     "metadata": {},
     "output_type": "display_data"
    },
    {
     "data": {
      "text/html": [
       "<li><a href=https://babel.hathitrust.org/cgi/pt?id=mdp.39015012199629>b'Chroma : stories /' (1987)</a><br></li>"
      ],
      "text/plain": [
       "<__main__.Printable_Hathi at 0x7f08c5ac2e48>"
      ]
     },
     "metadata": {},
     "output_type": "display_data"
    },
    {
     "data": {
      "text/html": [
       "<li><a href=https://babel.hathitrust.org/cgi/pt?id=mdp.39015048746989>b'Hurry home : novella and short stories /' (1999)</a><br></li>"
      ],
      "text/plain": [
       "<__main__.Printable_Hathi at 0x7f08c5ac2e48>"
      ]
     },
     "metadata": {},
     "output_type": "display_data"
    },
    {
     "name": "stdout",
     "output_type": "stream",
     "text": [
      "~~~~~~~~~~~~~~~~~~~~~~~~~~~~~~~~~~~~~~~~~~~~~~~~~~~~~~~~~~~~~~~~~~~~~~~~~~~~~~~~~~~~~~~~~~~~~~~~~~~~\n",
      "CLUSTER 3\n",
      "~~~~~~~~~~~~~~~~~~~~~~~~~~~~~~~~~~~~~~~~~~~~~~~~~~~~~~~~~~~~~~~~~~~~~~~~~~~~~~~~~~~~~~~~~~~~~~~~~~~~\n"
     ]
    },
    {
     "data": {
      "text/html": [
       "<li><a href=https://babel.hathitrust.org/cgi/pt?id=mdp.39015038102524>b'Collected short stories /' (1996)</a><br></li>"
      ],
      "text/plain": [
       "<__main__.Printable_Hathi at 0x7f08c5aca898>"
      ]
     },
     "metadata": {},
     "output_type": "display_data"
    },
    {
     "data": {
      "text/html": [
       "<li><a href=https://babel.hathitrust.org/cgi/pt?id=uc1.b4376073>b'An American omnibus.' (1933)</a><br></li>"
      ],
      "text/plain": [
       "<__main__.Printable_Hathi at 0x7f08c5ac2ef0>"
      ]
     },
     "metadata": {},
     "output_type": "display_data"
    },
    {
     "data": {
      "text/html": [
       "<li><a href=https://babel.hathitrust.org/cgi/pt?id=mdp.39015014756285>b'The magic of Xanth /' (1981)</a><br></li>"
      ],
      "text/plain": [
       "<__main__.Printable_Hathi at 0x7f08c5ac2ef0>"
      ]
     },
     "metadata": {},
     "output_type": "display_data"
    },
    {
     "data": {
      "text/html": [
       "<li><a href=https://babel.hathitrust.org/cgi/pt?id=mdp.39015060029512>b'The black chalice /' (2000)</a><br></li>"
      ],
      "text/plain": [
       "<__main__.Printable_Hathi at 0x7f08c5ac2ef0>"
      ]
     },
     "metadata": {},
     "output_type": "display_data"
    },
    {
     "data": {
      "text/html": [
       "<li><a href=https://babel.hathitrust.org/cgi/pt?id=inu.30000109821292>b'We the underpeople /' (2006)</a><br></li>"
      ],
      "text/plain": [
       "<__main__.Printable_Hathi at 0x7f08c5ac2ef0>"
      ]
     },
     "metadata": {},
     "output_type": "display_data"
    },
    {
     "name": "stdout",
     "output_type": "stream",
     "text": [
      "~~~~~~~~~~~~~~~~~~~~~~~~~~~~~~~~~~~~~~~~~~~~~~~~~~~~~~~~~~~~~~~~~~~~~~~~~~~~~~~~~~~~~~~~~~~~~~~~~~~~\n",
      "CLUSTER 4\n",
      "~~~~~~~~~~~~~~~~~~~~~~~~~~~~~~~~~~~~~~~~~~~~~~~~~~~~~~~~~~~~~~~~~~~~~~~~~~~~~~~~~~~~~~~~~~~~~~~~~~~~\n"
     ]
    },
    {
     "data": {
      "text/html": [
       "<li><a href=https://babel.hathitrust.org/cgi/pt?id=uc1.b3810808>b'Europa in limbo' (1937)</a><br></li>"
      ],
      "text/plain": [
       "<__main__.Printable_Hathi at 0x7f08c5aca6a0>"
      ]
     },
     "metadata": {},
     "output_type": "display_data"
    },
    {
     "data": {
      "text/html": [
       "<li><a href=https://babel.hathitrust.org/cgi/pt?id=inu.32000013321965>b'... In China now.' (1941)</a><br></li>"
      ],
      "text/plain": [
       "<__main__.Printable_Hathi at 0x7f08c5ac2e48>"
      ]
     },
     "metadata": {},
     "output_type": "display_data"
    },
    {
     "data": {
      "text/html": [
       "<li><a href=https://babel.hathitrust.org/cgi/pt?id=mdp.49015002637412>b'Normandy : a novel /' (1995)</a><br></li>"
      ],
      "text/plain": [
       "<__main__.Printable_Hathi at 0x7f08c5ac2e48>"
      ]
     },
     "metadata": {},
     "output_type": "display_data"
    },
    {
     "data": {
      "text/html": [
       "<li><a href=https://babel.hathitrust.org/cgi/pt?id=uc1.$b104051>b'Red ravage : a novel of the experiences of an American in the Philippines /' (1953)</a><br></li>"
      ],
      "text/plain": [
       "<__main__.Printable_Hathi at 0x7f08c5ac2e48>"
      ]
     },
     "metadata": {},
     "output_type": "display_data"
    },
    {
     "data": {
      "text/html": [
       "<li><a href=https://babel.hathitrust.org/cgi/pt?id=mdp.39015027912156>b'The Battle of Cape Esperance; encounter at Guadalcanal.' (1968)</a><br></li>"
      ],
      "text/plain": [
       "<__main__.Printable_Hathi at 0x7f08c5ac2e48>"
      ]
     },
     "metadata": {},
     "output_type": "display_data"
    },
    {
     "name": "stdout",
     "output_type": "stream",
     "text": [
      "~~~~~~~~~~~~~~~~~~~~~~~~~~~~~~~~~~~~~~~~~~~~~~~~~~~~~~~~~~~~~~~~~~~~~~~~~~~~~~~~~~~~~~~~~~~~~~~~~~~~\n",
      "CLUSTER 5\n",
      "~~~~~~~~~~~~~~~~~~~~~~~~~~~~~~~~~~~~~~~~~~~~~~~~~~~~~~~~~~~~~~~~~~~~~~~~~~~~~~~~~~~~~~~~~~~~~~~~~~~~\n"
     ]
    },
    {
     "data": {
      "text/html": [
       "<li><a href=https://babel.hathitrust.org/cgi/pt?id=mdp.39015028870882>b'Minimax : a novel /' (1991)</a><br></li>"
      ],
      "text/plain": [
       "<__main__.Printable_Hathi at 0x7f08c5aca668>"
      ]
     },
     "metadata": {},
     "output_type": "display_data"
    },
    {
     "data": {
      "text/html": [
       "<li><a href=https://babel.hathitrust.org/cgi/pt?id=uc1.$b106194>b'Behind the mirror.' (1955)</a><br></li>"
      ],
      "text/plain": [
       "<__main__.Printable_Hathi at 0x7f08c5ac2ef0>"
      ]
     },
     "metadata": {},
     "output_type": "display_data"
    },
    {
     "data": {
      "text/html": [
       "<li><a href=https://babel.hathitrust.org/cgi/pt?id=uc1.b4390013>b'The Soviet character : short stories ; [translated from the Russian].' (1987)</a><br></li>"
      ],
      "text/plain": [
       "<__main__.Printable_Hathi at 0x7f08c5ac2ef0>"
      ]
     },
     "metadata": {},
     "output_type": "display_data"
    },
    {
     "data": {
      "text/html": [
       "<li><a href=https://babel.hathitrust.org/cgi/pt?id=nyp.33433074791058>b'The mystery of the hated man and then some /' (1916)</a><br></li>"
      ],
      "text/plain": [
       "<__main__.Printable_Hathi at 0x7f08c5ac2ef0>"
      ]
     },
     "metadata": {},
     "output_type": "display_data"
    },
    {
     "data": {
      "text/html": [
       "<li><a href=https://babel.hathitrust.org/cgi/pt?id=uc1.$b236286>b'Night by my witness : a novel /' (1952)</a><br></li>"
      ],
      "text/plain": [
       "<__main__.Printable_Hathi at 0x7f08c5ac2ef0>"
      ]
     },
     "metadata": {},
     "output_type": "display_data"
    },
    {
     "name": "stdout",
     "output_type": "stream",
     "text": [
      "~~~~~~~~~~~~~~~~~~~~~~~~~~~~~~~~~~~~~~~~~~~~~~~~~~~~~~~~~~~~~~~~~~~~~~~~~~~~~~~~~~~~~~~~~~~~~~~~~~~~\n",
      "CLUSTER 6\n",
      "~~~~~~~~~~~~~~~~~~~~~~~~~~~~~~~~~~~~~~~~~~~~~~~~~~~~~~~~~~~~~~~~~~~~~~~~~~~~~~~~~~~~~~~~~~~~~~~~~~~~\n"
     ]
    },
    {
     "data": {
      "text/html": [
       "<li><a href=https://babel.hathitrust.org/cgi/pt?id=uc2.ark:/13960/t2f76951h>b'Works.' (1880)</a><br></li>"
      ],
      "text/plain": [
       "<__main__.Printable_Hathi at 0x7f08c5ac2ef0>"
      ]
     },
     "metadata": {},
     "output_type": "display_data"
    },
    {
     "data": {
      "text/html": [
       "<li><a href=https://babel.hathitrust.org/cgi/pt?id=mdp.39015055590288>b'The home and the world,' (1919)</a><br></li>"
      ],
      "text/plain": [
       "<__main__.Printable_Hathi at 0x7f08c5ac2ef0>"
      ]
     },
     "metadata": {},
     "output_type": "display_data"
    },
    {
     "data": {
      "text/html": [
       "<li><a href=https://babel.hathitrust.org/cgi/pt?id=uc2.ark:/13960/t3hx16445>b'A gentleman player; his adventures on a secret mission for Queen Elizabeth,' (1899)</a><br></li>"
      ],
      "text/plain": [
       "<__main__.Printable_Hathi at 0x7f08c5ac2ef0>"
      ]
     },
     "metadata": {},
     "output_type": "display_data"
    },
    {
     "data": {
      "text/html": [
       "<li><a href=https://babel.hathitrust.org/cgi/pt?id=uc2.ark:/13960/t09w0g118>b'Masters of the world /' (1888)</a><br></li>"
      ],
      "text/plain": [
       "<__main__.Printable_Hathi at 0x7f08c5ac2ef0>"
      ]
     },
     "metadata": {},
     "output_type": "display_data"
    },
    {
     "data": {
      "text/html": [
       "<li><a href=https://babel.hathitrust.org/cgi/pt?id=nyp.33433074875224>b'The glorious rascal (Pretty maids all in a row)' (1915)</a><br></li>"
      ],
      "text/plain": [
       "<__main__.Printable_Hathi at 0x7f08c5ac2ef0>"
      ]
     },
     "metadata": {},
     "output_type": "display_data"
    },
    {
     "name": "stdout",
     "output_type": "stream",
     "text": [
      "~~~~~~~~~~~~~~~~~~~~~~~~~~~~~~~~~~~~~~~~~~~~~~~~~~~~~~~~~~~~~~~~~~~~~~~~~~~~~~~~~~~~~~~~~~~~~~~~~~~~\n",
      "CLUSTER 7\n",
      "~~~~~~~~~~~~~~~~~~~~~~~~~~~~~~~~~~~~~~~~~~~~~~~~~~~~~~~~~~~~~~~~~~~~~~~~~~~~~~~~~~~~~~~~~~~~~~~~~~~~\n"
     ]
    },
    {
     "data": {
      "text/html": [
       "<li><a href=https://babel.hathitrust.org/cgi/pt?id=nyp.33433074851258>b'Wessex tales : that is to say The three strangers ; A tradition of eighteen hundred and four ; The melancholy Hussar ; The withered arm ; Fellow-townsmen ; Interlopers at the Knap ; The distracted preacher /' (1912)</a><br></li>"
      ],
      "text/plain": [
       "<__main__.Printable_Hathi at 0x7f08c5acf2e8>"
      ]
     },
     "metadata": {},
     "output_type": "display_data"
    },
    {
     "data": {
      "text/html": [
       "<li><a href=https://babel.hathitrust.org/cgi/pt?id=uiuo.ark:/13960/t0bv84p5k>b'Lena, or, The silent woman /' (1852)</a><br></li>"
      ],
      "text/plain": [
       "<__main__.Printable_Hathi at 0x7f08c5acf2e8>"
      ]
     },
     "metadata": {},
     "output_type": "display_data"
    },
    {
     "data": {
      "text/html": [
       "<li><a href=https://babel.hathitrust.org/cgi/pt?id=inu.32000007188222>b'The two guardians : or, Home in this world /' (1869)</a><br></li>"
      ],
      "text/plain": [
       "<__main__.Printable_Hathi at 0x7f08c5acc438>"
      ]
     },
     "metadata": {},
     "output_type": "display_data"
    },
    {
     "data": {
      "text/html": [
       "<li><a href=https://babel.hathitrust.org/cgi/pt?id=mdp.39015063547668>b'Robert Orange, being a continuation of the history of Robert Orange, M. P., and a sequel to The school for saints,' (1900)</a><br></li>"
      ],
      "text/plain": [
       "<__main__.Printable_Hathi at 0x7f08c5acc438>"
      ]
     },
     "metadata": {},
     "output_type": "display_data"
    },
    {
     "data": {
      "text/html": [
       "<li><a href=https://babel.hathitrust.org/cgi/pt?id=mdp.39015030727682>b'A south-sea siren.' (1970)</a><br></li>"
      ],
      "text/plain": [
       "<__main__.Printable_Hathi at 0x7f08c5acc438>"
      ]
     },
     "metadata": {},
     "output_type": "display_data"
    },
    {
     "name": "stdout",
     "output_type": "stream",
     "text": [
      "~~~~~~~~~~~~~~~~~~~~~~~~~~~~~~~~~~~~~~~~~~~~~~~~~~~~~~~~~~~~~~~~~~~~~~~~~~~~~~~~~~~~~~~~~~~~~~~~~~~~\n",
      "CLUSTER 8\n",
      "~~~~~~~~~~~~~~~~~~~~~~~~~~~~~~~~~~~~~~~~~~~~~~~~~~~~~~~~~~~~~~~~~~~~~~~~~~~~~~~~~~~~~~~~~~~~~~~~~~~~\n"
     ]
    },
    {
     "data": {
      "text/html": [
       "<li><a href=https://babel.hathitrust.org/cgi/pt?id=nc01.ark:/13960/t9f48335q>b'What answer?' (1868)</a><br></li>"
      ],
      "text/plain": [
       "<__main__.Printable_Hathi at 0x7f08c5acc438>"
      ]
     },
     "metadata": {},
     "output_type": "display_data"
    },
    {
     "data": {
      "text/html": [
       "<li><a href=https://babel.hathitrust.org/cgi/pt?id=uc2.ark:/13960/t2h70896n>b\"Walter Sherwood's probation; or, Cool head and warm heart,\" (1898)</a><br></li>"
      ],
      "text/plain": [
       "<__main__.Printable_Hathi at 0x7f08c5acc438>"
      ]
     },
     "metadata": {},
     "output_type": "display_data"
    },
    {
     "data": {
      "text/html": [
       "<li><a href=https://babel.hathitrust.org/cgi/pt?id=nyp.33433074878251>b'Octavia, the octoroon,' (1900)</a><br></li>"
      ],
      "text/plain": [
       "<__main__.Printable_Hathi at 0x7f08c5acc438>"
      ]
     },
     "metadata": {},
     "output_type": "display_data"
    },
    {
     "data": {
      "text/html": [
       "<li><a href=https://babel.hathitrust.org/cgi/pt?id=uc2.ark:/13960/t9d50gk23>b'The lash  /' (1909)</a><br></li>"
      ],
      "text/plain": [
       "<__main__.Printable_Hathi at 0x7f08c5acc438>"
      ]
     },
     "metadata": {},
     "output_type": "display_data"
    },
    {
     "data": {
      "text/html": [
       "<li><a href=https://babel.hathitrust.org/cgi/pt?id=uc2.ark:/13960/t6xw49t75>b'The knight-errant : a novel of to-day /' (1911)</a><br></li>"
      ],
      "text/plain": [
       "<__main__.Printable_Hathi at 0x7f08c5acc438>"
      ]
     },
     "metadata": {},
     "output_type": "display_data"
    },
    {
     "name": "stdout",
     "output_type": "stream",
     "text": [
      "~~~~~~~~~~~~~~~~~~~~~~~~~~~~~~~~~~~~~~~~~~~~~~~~~~~~~~~~~~~~~~~~~~~~~~~~~~~~~~~~~~~~~~~~~~~~~~~~~~~~\n",
      "CLUSTER 9\n",
      "~~~~~~~~~~~~~~~~~~~~~~~~~~~~~~~~~~~~~~~~~~~~~~~~~~~~~~~~~~~~~~~~~~~~~~~~~~~~~~~~~~~~~~~~~~~~~~~~~~~~\n"
     ]
    },
    {
     "data": {
      "text/html": [
       "<li><a href=https://babel.hathitrust.org/cgi/pt?id=uc1.$b803329>b'It never rains in Los Angeles.' (1970)</a><br></li>"
      ],
      "text/plain": [
       "<__main__.Printable_Hathi at 0x7f08c5acc438>"
      ]
     },
     "metadata": {},
     "output_type": "display_data"
    },
    {
     "data": {
      "text/html": [
       "<li><a href=https://babel.hathitrust.org/cgi/pt?id=mdp.39015070756740>b'The elves of Cintra /' (2007)</a><br></li>"
      ],
      "text/plain": [
       "<__main__.Printable_Hathi at 0x7f08c5acc438>"
      ]
     },
     "metadata": {},
     "output_type": "display_data"
    },
    {
     "data": {
      "text/html": [
       "<li><a href=https://babel.hathitrust.org/cgi/pt?id=mdp.39015031233433>b'Grips; or, Efforts to revive the host' (1972)</a><br></li>"
      ],
      "text/plain": [
       "<__main__.Printable_Hathi at 0x7f08c5acc438>"
      ]
     },
     "metadata": {},
     "output_type": "display_data"
    },
    {
     "data": {
      "text/html": [
       "<li><a href=https://babel.hathitrust.org/cgi/pt?id=mdp.39015005216281>b'The star treasure; a science fiction novel.' (1971)</a><br></li>"
      ],
      "text/plain": [
       "<__main__.Printable_Hathi at 0x7f08c5acc438>"
      ]
     },
     "metadata": {},
     "output_type": "display_data"
    },
    {
     "data": {
      "text/html": [
       "<li><a href=https://babel.hathitrust.org/cgi/pt?id=uc1.b3158708>b'Eternal wind' (1975)</a><br></li>"
      ],
      "text/plain": [
       "<__main__.Printable_Hathi at 0x7f08c5acc438>"
      ]
     },
     "metadata": {},
     "output_type": "display_data"
    },
    {
     "name": "stdout",
     "output_type": "stream",
     "text": [
      "~~~~~~~~~~~~~~~~~~~~~~~~~~~~~~~~~~~~~~~~~~~~~~~~~~~~~~~~~~~~~~~~~~~~~~~~~~~~~~~~~~~~~~~~~~~~~~~~~~~~\n",
      "CLUSTER 10\n",
      "~~~~~~~~~~~~~~~~~~~~~~~~~~~~~~~~~~~~~~~~~~~~~~~~~~~~~~~~~~~~~~~~~~~~~~~~~~~~~~~~~~~~~~~~~~~~~~~~~~~~\n"
     ]
    },
    {
     "data": {
      "text/html": [
       "<li><a href=https://babel.hathitrust.org/cgi/pt?id=nyp.33433076021595>b'Married in haste /' (1870)</a><br></li>"
      ],
      "text/plain": [
       "<__main__.Printable_Hathi at 0x7f08c5ad1080>"
      ]
     },
     "metadata": {},
     "output_type": "display_data"
    },
    {
     "data": {
      "text/html": [
       "<li><a href=https://babel.hathitrust.org/cgi/pt?id=mdp.39015024877857>b\"L'arrabiata and other tales,\" (1867)</a><br></li>"
      ],
      "text/plain": [
       "<__main__.Printable_Hathi at 0x7f08c5ad1080>"
      ]
     },
     "metadata": {},
     "output_type": "display_data"
    },
    {
     "data": {
      "text/html": [
       "<li><a href=https://babel.hathitrust.org/cgi/pt?id=uiuo.ark:/13960/t6c258k0c>b'Not while she lives : a novel /' (1870)</a><br></li>"
      ],
      "text/plain": [
       "<__main__.Printable_Hathi at 0x7f08c5ad1080>"
      ]
     },
     "metadata": {},
     "output_type": "display_data"
    },
    {
     "data": {
      "text/html": [
       "<li><a href=https://babel.hathitrust.org/cgi/pt?id=njp.32101068174703>b'A crown from the spear /' (1872)</a><br></li>"
      ],
      "text/plain": [
       "<__main__.Printable_Hathi at 0x7f08c5ad1080>"
      ]
     },
     "metadata": {},
     "output_type": "display_data"
    },
    {
     "data": {
      "text/html": [
       "<li><a href=https://babel.hathitrust.org/cgi/pt?id=njp.32101069186383>b'Clip her wing; or, let her soar. A novel.' (1889)</a><br></li>"
      ],
      "text/plain": [
       "<__main__.Printable_Hathi at 0x7f08c5ad1080>"
      ]
     },
     "metadata": {},
     "output_type": "display_data"
    },
    {
     "name": "stdout",
     "output_type": "stream",
     "text": [
      "~~~~~~~~~~~~~~~~~~~~~~~~~~~~~~~~~~~~~~~~~~~~~~~~~~~~~~~~~~~~~~~~~~~~~~~~~~~~~~~~~~~~~~~~~~~~~~~~~~~~\n",
      "CLUSTER 11\n",
      "~~~~~~~~~~~~~~~~~~~~~~~~~~~~~~~~~~~~~~~~~~~~~~~~~~~~~~~~~~~~~~~~~~~~~~~~~~~~~~~~~~~~~~~~~~~~~~~~~~~~\n"
     ]
    },
    {
     "data": {
      "text/html": [
       "<li><a href=https://babel.hathitrust.org/cgi/pt?id=loc.ark:/13960/t2f76g630>b'Willie and his papa, and the rest of the family,' (1901)</a><br></li>"
      ],
      "text/plain": [
       "<__main__.Printable_Hathi at 0x7f08c5ad1c18>"
      ]
     },
     "metadata": {},
     "output_type": "display_data"
    },
    {
     "data": {
      "text/html": [
       "<li><a href=https://babel.hathitrust.org/cgi/pt?id=uc1.b4101900>b'Red Rooster;' (1950)</a><br></li>"
      ],
      "text/plain": [
       "<__main__.Printable_Hathi at 0x7f08c5ad1c18>"
      ]
     },
     "metadata": {},
     "output_type": "display_data"
    },
    {
     "data": {
      "text/html": [
       "<li><a href=https://babel.hathitrust.org/cgi/pt?id=mdp.39076002719958>b'Tales of a poultry farm,' (1904)</a><br></li>"
      ],
      "text/plain": [
       "<__main__.Printable_Hathi at 0x7f08c5ad1c18>"
      ]
     },
     "metadata": {},
     "output_type": "display_data"
    },
    {
     "data": {
      "text/html": [
       "<li><a href=https://babel.hathitrust.org/cgi/pt?id=nyp.33433082523774>b'The chickens of fowl farm; a story.' (1898)</a><br></li>"
      ],
      "text/plain": [
       "<__main__.Printable_Hathi at 0x7f08c5ad1c18>"
      ]
     },
     "metadata": {},
     "output_type": "display_data"
    },
    {
     "data": {
      "text/html": [
       "<li><a href=https://babel.hathitrust.org/cgi/pt?id=mdp.39076006982578>b'Willy is my brother.' (1963)</a><br></li>"
      ],
      "text/plain": [
       "<__main__.Printable_Hathi at 0x7f08c5ad1c18>"
      ]
     },
     "metadata": {},
     "output_type": "display_data"
    },
    {
     "name": "stdout",
     "output_type": "stream",
     "text": [
      "~~~~~~~~~~~~~~~~~~~~~~~~~~~~~~~~~~~~~~~~~~~~~~~~~~~~~~~~~~~~~~~~~~~~~~~~~~~~~~~~~~~~~~~~~~~~~~~~~~~~\n",
      "CLUSTER 12\n",
      "~~~~~~~~~~~~~~~~~~~~~~~~~~~~~~~~~~~~~~~~~~~~~~~~~~~~~~~~~~~~~~~~~~~~~~~~~~~~~~~~~~~~~~~~~~~~~~~~~~~~\n"
     ]
    },
    {
     "data": {
      "text/html": [
       "<li><a href=https://babel.hathitrust.org/cgi/pt?id=osu.32435059733964>b'Two sought adventure : exploits of Fafhrd and the Gray Mouser /' (1957)</a><br></li>"
      ],
      "text/plain": [
       "<__main__.Printable_Hathi at 0x7f08c5ad1c18>"
      ]
     },
     "metadata": {},
     "output_type": "display_data"
    },
    {
     "data": {
      "text/html": [
       "<li><a href=https://babel.hathitrust.org/cgi/pt?id=mdp.39015063154507>b'Flight of the seventh moon : the teaching of the shields /' (1985)</a><br></li>"
      ],
      "text/plain": [
       "<__main__.Printable_Hathi at 0x7f08c5ad1c18>"
      ]
     },
     "metadata": {},
     "output_type": "display_data"
    },
    {
     "data": {
      "text/html": [
       "<li><a href=https://babel.hathitrust.org/cgi/pt?id=mdp.39015032324264>b'The song of Jed Smith,' (1941)</a><br></li>"
      ],
      "text/plain": [
       "<__main__.Printable_Hathi at 0x7f08c5ad1c18>"
      ]
     },
     "metadata": {},
     "output_type": "display_data"
    },
    {
     "data": {
      "text/html": [
       "<li><a href=https://babel.hathitrust.org/cgi/pt?id=mdp.39076006915370>b'Huasipungo.' (1962)</a><br></li>"
      ],
      "text/plain": [
       "<__main__.Printable_Hathi at 0x7f08c5ad1c18>"
      ]
     },
     "metadata": {},
     "output_type": "display_data"
    },
    {
     "data": {
      "text/html": [
       "<li><a href=https://babel.hathitrust.org/cgi/pt?id=uc2.ark:/13960/t40r9nm2s>b'The haunters of the silences; a book of animal life,' (1907)</a><br></li>"
      ],
      "text/plain": [
       "<__main__.Printable_Hathi at 0x7f08c5adc550>"
      ]
     },
     "metadata": {},
     "output_type": "display_data"
    },
    {
     "name": "stdout",
     "output_type": "stream",
     "text": [
      "~~~~~~~~~~~~~~~~~~~~~~~~~~~~~~~~~~~~~~~~~~~~~~~~~~~~~~~~~~~~~~~~~~~~~~~~~~~~~~~~~~~~~~~~~~~~~~~~~~~~\n",
      "CLUSTER 13\n",
      "~~~~~~~~~~~~~~~~~~~~~~~~~~~~~~~~~~~~~~~~~~~~~~~~~~~~~~~~~~~~~~~~~~~~~~~~~~~~~~~~~~~~~~~~~~~~~~~~~~~~\n"
     ]
    },
    {
     "data": {
      "text/html": [
       "<li><a href=https://babel.hathitrust.org/cgi/pt?id=pst.000030348394>b'Stories by foreign authors.' (1970)</a><br></li>"
      ],
      "text/plain": [
       "<__main__.Printable_Hathi at 0x7f08c5adaac8>"
      ]
     },
     "metadata": {},
     "output_type": "display_data"
    },
    {
     "data": {
      "text/html": [
       "<li><a href=https://babel.hathitrust.org/cgi/pt?id=mdp.39076005189555>b'Gloria; a novel.' (1974)</a><br></li>"
      ],
      "text/plain": [
       "<__main__.Printable_Hathi at 0x7f08c5adaac8>"
      ]
     },
     "metadata": {},
     "output_type": "display_data"
    },
    {
     "data": {
      "text/html": [
       "<li><a href=https://babel.hathitrust.org/cgi/pt?id=nyp.33433075819635>b'Love the avenger.' (1869)</a><br></li>"
      ],
      "text/plain": [
       "<__main__.Printable_Hathi at 0x7f08c5adaac8>"
      ]
     },
     "metadata": {},
     "output_type": "display_data"
    },
    {
     "data": {
      "text/html": [
       "<li><a href=https://babel.hathitrust.org/cgi/pt?id=coo.31924088397629>b'The novels complete and unabridged of Victor Hugo.' (1902)</a><br></li>"
      ],
      "text/plain": [
       "<__main__.Printable_Hathi at 0x7f08c5adaac8>"
      ]
     },
     "metadata": {},
     "output_type": "display_data"
    },
    {
     "data": {
      "text/html": [
       "<li><a href=https://babel.hathitrust.org/cgi/pt?id=uc2.ark:/13960/t80k2883z>b'Novels by Paul de Kock.' (1903)</a><br></li>"
      ],
      "text/plain": [
       "<__main__.Printable_Hathi at 0x7f08c5adaac8>"
      ]
     },
     "metadata": {},
     "output_type": "display_data"
    },
    {
     "name": "stdout",
     "output_type": "stream",
     "text": [
      "~~~~~~~~~~~~~~~~~~~~~~~~~~~~~~~~~~~~~~~~~~~~~~~~~~~~~~~~~~~~~~~~~~~~~~~~~~~~~~~~~~~~~~~~~~~~~~~~~~~~\n",
      "CLUSTER 14\n",
      "~~~~~~~~~~~~~~~~~~~~~~~~~~~~~~~~~~~~~~~~~~~~~~~~~~~~~~~~~~~~~~~~~~~~~~~~~~~~~~~~~~~~~~~~~~~~~~~~~~~~\n"
     ]
    },
    {
     "data": {
      "text/html": [
       "<li><a href=https://babel.hathitrust.org/cgi/pt?id=coo.31924001071467>b'Dimension theory ... A lecture given at the Galois institute of mathematics at Long Island university.' (1936)</a><br></li>"
      ],
      "text/plain": [
       "<__main__.Printable_Hathi at 0x7f08c5adaac8>"
      ]
     },
     "metadata": {},
     "output_type": "display_data"
    },
    {
     "data": {
      "text/html": [
       "<li><a href=https://babel.hathitrust.org/cgi/pt?id=uc1.$b53420>b'The pit-dwellers of Hokkaido and Ainu place-names considered /' (1925)</a><br></li>"
      ],
      "text/plain": [
       "<__main__.Printable_Hathi at 0x7f08c5adaac8>"
      ]
     },
     "metadata": {},
     "output_type": "display_data"
    },
    {
     "data": {
      "text/html": [
       "<li><a href=https://babel.hathitrust.org/cgi/pt?id=loc.ark:/13960/t2h713457>b'A bullet from the battle-field of Mission Ridge,' (1895)</a><br></li>"
      ],
      "text/plain": [
       "<__main__.Printable_Hathi at 0x7f08c5adaac8>"
      ]
     },
     "metadata": {},
     "output_type": "display_data"
    },
    {
     "data": {
      "text/html": [
       "<li><a href=https://babel.hathitrust.org/cgi/pt?id=pst.000007602818>b'Lilias yoga and you /' (1976)</a><br></li>"
      ],
      "text/plain": [
       "<__main__.Printable_Hathi at 0x7f08c5adaac8>"
      ]
     },
     "metadata": {},
     "output_type": "display_data"
    },
    {
     "data": {
      "text/html": [
       "<li><a href=https://babel.hathitrust.org/cgi/pt?id=mdp.39015030009701>b'The rock tombs of El Amarna ...' (1903)</a><br></li>"
      ],
      "text/plain": [
       "<__main__.Printable_Hathi at 0x7f08c5adaac8>"
      ]
     },
     "metadata": {},
     "output_type": "display_data"
    },
    {
     "name": "stdout",
     "output_type": "stream",
     "text": [
      "~~~~~~~~~~~~~~~~~~~~~~~~~~~~~~~~~~~~~~~~~~~~~~~~~~~~~~~~~~~~~~~~~~~~~~~~~~~~~~~~~~~~~~~~~~~~~~~~~~~~\n",
      "CLUSTER 15\n",
      "~~~~~~~~~~~~~~~~~~~~~~~~~~~~~~~~~~~~~~~~~~~~~~~~~~~~~~~~~~~~~~~~~~~~~~~~~~~~~~~~~~~~~~~~~~~~~~~~~~~~\n"
     ]
    },
    {
     "data": {
      "text/html": [
       "<li><a href=https://babel.hathitrust.org/cgi/pt?id=uc2.ark:/13960/t50g3jc0p>b'A description of Millenium Hall, and the country adjacent : together with the characters of the inhabitants, and such historical anecdotes and reflections, as may excite in the reader proper sentiments of humanity, and lead the mind to the love of virtue /' (1762)</a><br></li>"
      ],
      "text/plain": [
       "<__main__.Printable_Hathi at 0x7f08c5a6d438>"
      ]
     },
     "metadata": {},
     "output_type": "display_data"
    },
    {
     "data": {
      "text/html": [
       "<li><a href=https://babel.hathitrust.org/cgi/pt?id=nnc1.0037112007>b'The life and entertaining adventures of Mr. Cleveland; natural son of Oliver Cromwell,' (1760)</a><br></li>"
      ],
      "text/plain": [
       "<__main__.Printable_Hathi at 0x7f08c5a6d438>"
      ]
     },
     "metadata": {},
     "output_type": "display_data"
    },
    {
     "data": {
      "text/html": [
       "<li><a href=https://babel.hathitrust.org/cgi/pt?id=nyp.33433074913355>b'A simple story. In four volumes.' (1791)</a><br></li>"
      ],
      "text/plain": [
       "<__main__.Printable_Hathi at 0x7f08c5a6d438>"
      ]
     },
     "metadata": {},
     "output_type": "display_data"
    },
    {
     "data": {
      "text/html": [
       "<li><a href=https://babel.hathitrust.org/cgi/pt?id=dul1.ark:/13960/t4hm5zs2h>b'The history of Jemmy and Jenny Jessamy : in three volumes /' (1753)</a><br></li>"
      ],
      "text/plain": [
       "<__main__.Printable_Hathi at 0x7f08c5a6d438>"
      ]
     },
     "metadata": {},
     "output_type": "display_data"
    },
    {
     "data": {
      "text/html": [
       "<li><a href=https://babel.hathitrust.org/cgi/pt?id=hvd.hn2hec>b'Lucinda, or, Virtue triumphant : a moral tale /' (1801)</a><br></li>"
      ],
      "text/plain": [
       "<__main__.Printable_Hathi at 0x7f08c5a6d438>"
      ]
     },
     "metadata": {},
     "output_type": "display_data"
    },
    {
     "name": "stdout",
     "output_type": "stream",
     "text": [
      "~~~~~~~~~~~~~~~~~~~~~~~~~~~~~~~~~~~~~~~~~~~~~~~~~~~~~~~~~~~~~~~~~~~~~~~~~~~~~~~~~~~~~~~~~~~~~~~~~~~~\n",
      "CLUSTER 16\n",
      "~~~~~~~~~~~~~~~~~~~~~~~~~~~~~~~~~~~~~~~~~~~~~~~~~~~~~~~~~~~~~~~~~~~~~~~~~~~~~~~~~~~~~~~~~~~~~~~~~~~~\n"
     ]
    },
    {
     "data": {
      "text/html": [
       "<li><a href=https://babel.hathitrust.org/cgi/pt?id=uc1.32106008747328>b'The Lesbian reader /' (1975)</a><br></li>"
      ],
      "text/plain": [
       "<__main__.Printable_Hathi at 0x7f08c5adc550>"
      ]
     },
     "metadata": {},
     "output_type": "display_data"
    },
    {
     "data": {
      "text/html": [
       "<li><a href=https://babel.hathitrust.org/cgi/pt?id=uc2.ark:/13960/t3319tq14>b'The right knock : a story /' (1889)</a><br></li>"
      ],
      "text/plain": [
       "<__main__.Printable_Hathi at 0x7f08c5adc550>"
      ]
     },
     "metadata": {},
     "output_type": "display_data"
    },
    {
     "data": {
      "text/html": [
       "<li><a href=https://babel.hathitrust.org/cgi/pt?id=uiuo.ark:/13960/t3jw8rg1f>b\"A Country curate's autobiography, or, Passages of a life without a living. 1\" (1836)</a><br></li>"
      ],
      "text/plain": [
       "<__main__.Printable_Hathi at 0x7f08c5adc550>"
      ]
     },
     "metadata": {},
     "output_type": "display_data"
    },
    {
     "data": {
      "text/html": [
       "<li><a href=https://babel.hathitrust.org/cgi/pt?id=pst.000062910897>b'Eastern wisdom for your soul : 111 meditations for everyday enlightenment /' (2007)</a><br></li>"
      ],
      "text/plain": [
       "<__main__.Printable_Hathi at 0x7f08c5adc550>"
      ]
     },
     "metadata": {},
     "output_type": "display_data"
    },
    {
     "data": {
      "text/html": [
       "<li><a href=https://babel.hathitrust.org/cgi/pt?id=mdp.39015052821371>b'The writings of William Gilmore Simms. Centennial edition.' (1969)</a><br></li>"
      ],
      "text/plain": [
       "<__main__.Printable_Hathi at 0x7f08c5adc550>"
      ]
     },
     "metadata": {},
     "output_type": "display_data"
    },
    {
     "name": "stdout",
     "output_type": "stream",
     "text": [
      "~~~~~~~~~~~~~~~~~~~~~~~~~~~~~~~~~~~~~~~~~~~~~~~~~~~~~~~~~~~~~~~~~~~~~~~~~~~~~~~~~~~~~~~~~~~~~~~~~~~~\n",
      "CLUSTER 17\n",
      "~~~~~~~~~~~~~~~~~~~~~~~~~~~~~~~~~~~~~~~~~~~~~~~~~~~~~~~~~~~~~~~~~~~~~~~~~~~~~~~~~~~~~~~~~~~~~~~~~~~~\n"
     ]
    },
    {
     "data": {
      "text/html": [
       "<li><a href=https://babel.hathitrust.org/cgi/pt?id=nyp.33433074950548>b'Tales and novels,' (1836)</a><br></li>"
      ],
      "text/plain": [
       "<__main__.Printable_Hathi at 0x7f08c5adaac8>"
      ]
     },
     "metadata": {},
     "output_type": "display_data"
    },
    {
     "data": {
      "text/html": [
       "<li><a href=https://babel.hathitrust.org/cgi/pt?id=uva.x004613945>b'Sir Ralph Esher:' (1850)</a><br></li>"
      ],
      "text/plain": [
       "<__main__.Printable_Hathi at 0x7f08c5adaac8>"
      ]
     },
     "metadata": {},
     "output_type": "display_data"
    },
    {
     "data": {
      "text/html": [
       "<li><a href=https://babel.hathitrust.org/cgi/pt?id=nyp.33433075906291>b'A woman-hater. A novel.' (1877)</a><br></li>"
      ],
      "text/plain": [
       "<__main__.Printable_Hathi at 0x7f08c5adaac8>"
      ]
     },
     "metadata": {},
     "output_type": "display_data"
    },
    {
     "data": {
      "text/html": [
       "<li><a href=https://babel.hathitrust.org/cgi/pt?id=mdp.39015063931029>b'Getting on: a tale of modern English life ...' (1860)</a><br></li>"
      ],
      "text/plain": [
       "<__main__.Printable_Hathi at 0x7f08c5adaac8>"
      ]
     },
     "metadata": {},
     "output_type": "display_data"
    },
    {
     "data": {
      "text/html": [
       "<li><a href=https://babel.hathitrust.org/cgi/pt?id=mdp.39015000599715>b'The tales of Henry James.' (1973)</a><br></li>"
      ],
      "text/plain": [
       "<__main__.Printable_Hathi at 0x7f08c5a7cb00>"
      ]
     },
     "metadata": {},
     "output_type": "display_data"
    },
    {
     "name": "stdout",
     "output_type": "stream",
     "text": [
      "~~~~~~~~~~~~~~~~~~~~~~~~~~~~~~~~~~~~~~~~~~~~~~~~~~~~~~~~~~~~~~~~~~~~~~~~~~~~~~~~~~~~~~~~~~~~~~~~~~~~\n",
      "CLUSTER 18\n",
      "~~~~~~~~~~~~~~~~~~~~~~~~~~~~~~~~~~~~~~~~~~~~~~~~~~~~~~~~~~~~~~~~~~~~~~~~~~~~~~~~~~~~~~~~~~~~~~~~~~~~\n"
     ]
    },
    {
     "data": {
      "text/html": [
       "<li><a href=https://babel.hathitrust.org/cgi/pt?id=mdp.39015062269264>b'Light through the mist; quairains based on maxims and apothegms found in Aboth (the Fathers)' (1950)</a><br></li>"
      ],
      "text/plain": [
       "<__main__.Printable_Hathi at 0x7f08c5a71e48>"
      ]
     },
     "metadata": {},
     "output_type": "display_data"
    },
    {
     "data": {
      "text/html": [
       "<li><a href=https://babel.hathitrust.org/cgi/pt?id=uc2.ark:/13960/t6930qn3x>b'The Italian novelists /' (1901)</a><br></li>"
      ],
      "text/plain": [
       "<__main__.Printable_Hathi at 0x7f08c5a71e48>"
      ]
     },
     "metadata": {},
     "output_type": "display_data"
    },
    {
     "data": {
      "text/html": [
       "<li><a href=https://babel.hathitrust.org/cgi/pt?id=uc2.ark:/13960/t2g73914b>b'Shakespeare jest-books : reprints of the early and very rare jest-books supposed to have been used by Shakespeare /' (1864)</a><br></li>"
      ],
      "text/plain": [
       "<__main__.Printable_Hathi at 0x7f08c5a71e48>"
      ]
     },
     "metadata": {},
     "output_type": "display_data"
    },
    {
     "data": {
      "text/html": [
       "<li><a href=https://babel.hathitrust.org/cgi/pt?id=uc1.b4334398>b'Great books of the Western World /' (1952)</a><br></li>"
      ],
      "text/plain": [
       "<__main__.Printable_Hathi at 0x7f08c5a71e48>"
      ]
     },
     "metadata": {},
     "output_type": "display_data"
    },
    {
     "data": {
      "text/html": [
       "<li><a href=https://babel.hathitrust.org/cgi/pt?id=mdp.39015041904213>b'Sidonia the sorceress, the supposed destroyer of the whole reigning ducal house of Pomerania,' (1894)</a><br></li>"
      ],
      "text/plain": [
       "<__main__.Printable_Hathi at 0x7f08c5a71e48>"
      ]
     },
     "metadata": {},
     "output_type": "display_data"
    },
    {
     "name": "stdout",
     "output_type": "stream",
     "text": [
      "~~~~~~~~~~~~~~~~~~~~~~~~~~~~~~~~~~~~~~~~~~~~~~~~~~~~~~~~~~~~~~~~~~~~~~~~~~~~~~~~~~~~~~~~~~~~~~~~~~~~\n",
      "CLUSTER 19\n",
      "~~~~~~~~~~~~~~~~~~~~~~~~~~~~~~~~~~~~~~~~~~~~~~~~~~~~~~~~~~~~~~~~~~~~~~~~~~~~~~~~~~~~~~~~~~~~~~~~~~~~\n"
     ]
    },
    {
     "data": {
      "text/html": [
       "<li><a href=https://babel.hathitrust.org/cgi/pt?id=mdp.39015081382700>b\"Mrs. Andrew Johnson Jones' handmaid /\" (1912)</a><br></li>"
      ],
      "text/plain": [
       "<__main__.Printable_Hathi at 0x7f08c5a71cf8>"
      ]
     },
     "metadata": {},
     "output_type": "display_data"
    },
    {
     "data": {
      "text/html": [
       "<li><a href=https://babel.hathitrust.org/cgi/pt?id=uc2.ark:/13960/t88g8hg8p>b'Across the campus : a story of college life /' (1899)</a><br></li>"
      ],
      "text/plain": [
       "<__main__.Printable_Hathi at 0x7f08c5a71cf8>"
      ]
     },
     "metadata": {},
     "output_type": "display_data"
    },
    {
     "data": {
      "text/html": [
       "<li><a href=https://babel.hathitrust.org/cgi/pt?id=nyp.33433082524392>b'Jane Allen : center,' (1920)</a><br></li>"
      ],
      "text/plain": [
       "<__main__.Printable_Hathi at 0x7f08c5a71cf8>"
      ]
     },
     "metadata": {},
     "output_type": "display_data"
    },
    {
     "data": {
      "text/html": [
       "<li><a href=https://babel.hathitrust.org/cgi/pt?id=mdp.39015002972886>b'My mother and I,' (1917)</a><br></li>"
      ],
      "text/plain": [
       "<__main__.Printable_Hathi at 0x7f08c5a71cf8>"
      ]
     },
     "metadata": {},
     "output_type": "display_data"
    },
    {
     "data": {
      "text/html": [
       "<li><a href=https://babel.hathitrust.org/cgi/pt?id=nyp.33433076026131>b'Ten old maids: and five of them were wise, and five of them were foolish. A novel.' (1874)</a><br></li>"
      ],
      "text/plain": [
       "<__main__.Printable_Hathi at 0x7f08c5a71cf8>"
      ]
     },
     "metadata": {},
     "output_type": "display_data"
    },
    {
     "name": "stdout",
     "output_type": "stream",
     "text": [
      "~~~~~~~~~~~~~~~~~~~~~~~~~~~~~~~~~~~~~~~~~~~~~~~~~~~~~~~~~~~~~~~~~~~~~~~~~~~~~~~~~~~~~~~~~~~~~~~~~~~~\n",
      "CLUSTER 20\n",
      "~~~~~~~~~~~~~~~~~~~~~~~~~~~~~~~~~~~~~~~~~~~~~~~~~~~~~~~~~~~~~~~~~~~~~~~~~~~~~~~~~~~~~~~~~~~~~~~~~~~~\n"
     ]
    },
    {
     "data": {
      "text/html": [
       "<li><a href=https://babel.hathitrust.org/cgi/pt?id=uc2.ark:/13960/t8hd7qx3p>b'The Dippers /' (1920)</a><br></li>"
      ],
      "text/plain": [
       "<__main__.Printable_Hathi at 0x7f08c5a71e48>"
      ]
     },
     "metadata": {},
     "output_type": "display_data"
    },
    {
     "data": {
      "text/html": [
       "<li><a href=https://babel.hathitrust.org/cgi/pt?id=uc2.ark:/13960/t8cf9mc0p>b'I fasten a bracelet /' (1911)</a><br></li>"
      ],
      "text/plain": [
       "<__main__.Printable_Hathi at 0x7f08c5a71e48>"
      ]
     },
     "metadata": {},
     "output_type": "display_data"
    },
    {
     "data": {
      "text/html": [
       "<li><a href=https://babel.hathitrust.org/cgi/pt?id=uc2.ark:/13960/t08w39d0g>b'The Carleton case,' (1910)</a><br></li>"
      ],
      "text/plain": [
       "<__main__.Printable_Hathi at 0x7f08c5a71e48>"
      ]
     },
     "metadata": {},
     "output_type": "display_data"
    },
    {
     "data": {
      "text/html": [
       "<li><a href=https://babel.hathitrust.org/cgi/pt?id=mdp.39015020087329>b'Faraway island,' (1941)</a><br></li>"
      ],
      "text/plain": [
       "<__main__.Printable_Hathi at 0x7f08c5a71e48>"
      ]
     },
     "metadata": {},
     "output_type": "display_data"
    },
    {
     "data": {
      "text/html": [
       "<li><a href=https://babel.hathitrust.org/cgi/pt?id=nyp.33433074875778>b'What next? /' (1921)</a><br></li>"
      ],
      "text/plain": [
       "<__main__.Printable_Hathi at 0x7f08c5a71e48>"
      ]
     },
     "metadata": {},
     "output_type": "display_data"
    },
    {
     "name": "stdout",
     "output_type": "stream",
     "text": [
      "~~~~~~~~~~~~~~~~~~~~~~~~~~~~~~~~~~~~~~~~~~~~~~~~~~~~~~~~~~~~~~~~~~~~~~~~~~~~~~~~~~~~~~~~~~~~~~~~~~~~\n",
      "CLUSTER 21\n",
      "~~~~~~~~~~~~~~~~~~~~~~~~~~~~~~~~~~~~~~~~~~~~~~~~~~~~~~~~~~~~~~~~~~~~~~~~~~~~~~~~~~~~~~~~~~~~~~~~~~~~\n"
     ]
    },
    {
     "data": {
      "text/html": [
       "<li><a href=https://babel.hathitrust.org/cgi/pt?id=mdp.39015023978250>b'The defamed alley : a novel /' (1977)</a><br></li>"
      ],
      "text/plain": [
       "<__main__.Printable_Hathi at 0x7f08c5a71f28>"
      ]
     },
     "metadata": {},
     "output_type": "display_data"
    },
    {
     "data": {
      "text/html": [
       "<li><a href=https://babel.hathitrust.org/cgi/pt?id=uc1.b3799976>b'The breaker of combs and scissors /' (1985)</a><br></li>"
      ],
      "text/plain": [
       "<__main__.Printable_Hathi at 0x7f08c5a71f28>"
      ]
     },
     "metadata": {},
     "output_type": "display_data"
    },
    {
     "data": {
      "text/html": [
       "<li><a href=https://babel.hathitrust.org/cgi/pt?id=inu.30000067168520>b'Achachakolo : the sorrows of Mgboyibo : a romance /' (1990)</a><br></li>"
      ],
      "text/plain": [
       "<__main__.Printable_Hathi at 0x7f08c5a71f28>"
      ]
     },
     "metadata": {},
     "output_type": "display_data"
    },
    {
     "data": {
      "text/html": [
       "<li><a href=https://babel.hathitrust.org/cgi/pt?id=mdp.39015029977736>b'The Cord & other stories /' (1992)</a><br></li>"
      ],
      "text/plain": [
       "<__main__.Printable_Hathi at 0x7f08c5a71f28>"
      ]
     },
     "metadata": {},
     "output_type": "display_data"
    },
    {
     "data": {
      "text/html": [
       "<li><a href=https://babel.hathitrust.org/cgi/pt?id=inu.30000109359764>b'The triple clan /' (2004)</a><br></li>"
      ],
      "text/plain": [
       "<__main__.Printable_Hathi at 0x7f08c5a71f28>"
      ]
     },
     "metadata": {},
     "output_type": "display_data"
    },
    {
     "name": "stdout",
     "output_type": "stream",
     "text": [
      "~~~~~~~~~~~~~~~~~~~~~~~~~~~~~~~~~~~~~~~~~~~~~~~~~~~~~~~~~~~~~~~~~~~~~~~~~~~~~~~~~~~~~~~~~~~~~~~~~~~~\n",
      "CLUSTER 22\n",
      "~~~~~~~~~~~~~~~~~~~~~~~~~~~~~~~~~~~~~~~~~~~~~~~~~~~~~~~~~~~~~~~~~~~~~~~~~~~~~~~~~~~~~~~~~~~~~~~~~~~~\n"
     ]
    },
    {
     "data": {
      "text/html": [
       "<li><a href=https://babel.hathitrust.org/cgi/pt?id=uc2.ark:/13960/t5p844k98>b'Mrs. Raffles; being the adventures of an amateur crackswoman.' (1905)</a><br></li>"
      ],
      "text/plain": [
       "<__main__.Printable_Hathi at 0x7f08c5ada4e0>"
      ]
     },
     "metadata": {},
     "output_type": "display_data"
    },
    {
     "data": {
      "text/html": [
       "<li><a href=https://babel.hathitrust.org/cgi/pt?id=mdp.39015054096352>b'I like it here, a novel.' (1958)</a><br></li>"
      ],
      "text/plain": [
       "<__main__.Printable_Hathi at 0x7f08c5a71e48>"
      ]
     },
     "metadata": {},
     "output_type": "display_data"
    },
    {
     "data": {
      "text/html": [
       "<li><a href=https://babel.hathitrust.org/cgi/pt?id=mdp.39015047557338>b'The book of lies /' (1999)</a><br></li>"
      ],
      "text/plain": [
       "<__main__.Printable_Hathi at 0x7f08c5ada4e0>"
      ]
     },
     "metadata": {},
     "output_type": "display_data"
    },
    {
     "data": {
      "text/html": [
       "<li><a href=https://babel.hathitrust.org/cgi/pt?id=uc1.$b807387>b'The impostor.' (1970)</a><br></li>"
      ],
      "text/plain": [
       "<__main__.Printable_Hathi at 0x7f08c5ada4e0>"
      ]
     },
     "metadata": {},
     "output_type": "display_data"
    },
    {
     "data": {
      "text/html": [
       "<li><a href=https://babel.hathitrust.org/cgi/pt?id=uc1.$b675920>b'I was Cicero /' (1962)</a><br></li>"
      ],
      "text/plain": [
       "<__main__.Printable_Hathi at 0x7f08c5ada4e0>"
      ]
     },
     "metadata": {},
     "output_type": "display_data"
    },
    {
     "name": "stdout",
     "output_type": "stream",
     "text": [
      "~~~~~~~~~~~~~~~~~~~~~~~~~~~~~~~~~~~~~~~~~~~~~~~~~~~~~~~~~~~~~~~~~~~~~~~~~~~~~~~~~~~~~~~~~~~~~~~~~~~~\n",
      "CLUSTER 23\n",
      "~~~~~~~~~~~~~~~~~~~~~~~~~~~~~~~~~~~~~~~~~~~~~~~~~~~~~~~~~~~~~~~~~~~~~~~~~~~~~~~~~~~~~~~~~~~~~~~~~~~~\n"
     ]
    },
    {
     "data": {
      "text/html": [
       "<li><a href=https://babel.hathitrust.org/cgi/pt?id=uc2.ark:/13960/t9862hm6r>b'London homes, including The murder hole; The drowning dragoon; The priest and the curate; Lady Mary Pierrepoint; and Frank Vansittart.' (1853)</a><br></li>"
      ],
      "text/plain": [
       "<__main__.Printable_Hathi at 0x7f08c5a71f28>"
      ]
     },
     "metadata": {},
     "output_type": "display_data"
    },
    {
     "data": {
      "text/html": [
       "<li><a href=https://babel.hathitrust.org/cgi/pt?id=uc2.ark:/13960/t8cf9mc15>b\"Travels of a lady's maid,\" (1908)</a><br></li>"
      ],
      "text/plain": [
       "<__main__.Printable_Hathi at 0x7f08c5a71f28>"
      ]
     },
     "metadata": {},
     "output_type": "display_data"
    },
    {
     "data": {
      "text/html": [
       "<li><a href=https://babel.hathitrust.org/cgi/pt?id=nyp.33433081991675>b'Stories of American life; by American writers.' (1830)</a><br></li>"
      ],
      "text/plain": [
       "<__main__.Printable_Hathi at 0x7f08c5a71f28>"
      ]
     },
     "metadata": {},
     "output_type": "display_data"
    },
    {
     "data": {
      "text/html": [
       "<li><a href=https://babel.hathitrust.org/cgi/pt?id=uiuo.ark:/13960/t9k36449n>b'The unkind word, and other stories. 1' (1870)</a><br></li>"
      ],
      "text/plain": [
       "<__main__.Printable_Hathi at 0x7f08c5a71f28>"
      ]
     },
     "metadata": {},
     "output_type": "display_data"
    },
    {
     "data": {
      "text/html": [
       "<li><a href=https://babel.hathitrust.org/cgi/pt?id=mdp.39015010692658>b'Early memories for the children.' (1895)</a><br></li>"
      ],
      "text/plain": [
       "<__main__.Printable_Hathi at 0x7f08c5a71f28>"
      ]
     },
     "metadata": {},
     "output_type": "display_data"
    },
    {
     "name": "stdout",
     "output_type": "stream",
     "text": [
      "~~~~~~~~~~~~~~~~~~~~~~~~~~~~~~~~~~~~~~~~~~~~~~~~~~~~~~~~~~~~~~~~~~~~~~~~~~~~~~~~~~~~~~~~~~~~~~~~~~~~\n",
      "CLUSTER 24\n",
      "~~~~~~~~~~~~~~~~~~~~~~~~~~~~~~~~~~~~~~~~~~~~~~~~~~~~~~~~~~~~~~~~~~~~~~~~~~~~~~~~~~~~~~~~~~~~~~~~~~~~\n"
     ]
    },
    {
     "data": {
      "text/html": [
       "<li><a href=https://babel.hathitrust.org/cgi/pt?id=uc1.$b15025>b'The passionate heart;' (1953)</a><br></li>"
      ],
      "text/plain": [
       "<__main__.Printable_Hathi at 0x7f08c5ada4e0>"
      ]
     },
     "metadata": {},
     "output_type": "display_data"
    },
    {
     "data": {
      "text/html": [
       "<li><a href=https://babel.hathitrust.org/cgi/pt?id=mdp.39015048843117>b'Anas Nin reader.' (1973)</a><br></li>"
      ],
      "text/plain": [
       "<__main__.Printable_Hathi at 0x7f08c5a71e48>"
      ]
     },
     "metadata": {},
     "output_type": "display_data"
    },
    {
     "data": {
      "text/html": [
       "<li><a href=https://babel.hathitrust.org/cgi/pt?id=uc1.b4362258>b'The modern Polish mind, an anthology.' (1963)</a><br></li>"
      ],
      "text/plain": [
       "<__main__.Printable_Hathi at 0x7f08c5ada4e0>"
      ]
     },
     "metadata": {},
     "output_type": "display_data"
    },
    {
     "data": {
      "text/html": [
       "<li><a href=https://babel.hathitrust.org/cgi/pt?id=mdp.39015065640396>b'The norther (El norte).' (1968)</a><br></li>"
      ],
      "text/plain": [
       "<__main__.Printable_Hathi at 0x7f08c5ada4e0>"
      ]
     },
     "metadata": {},
     "output_type": "display_data"
    },
    {
     "data": {
      "text/html": [
       "<li><a href=https://babel.hathitrust.org/cgi/pt?id=uc1.$b318382>b'A lesson in love,' (1932)</a><br></li>"
      ],
      "text/plain": [
       "<__main__.Printable_Hathi at 0x7f08c5ada4e0>"
      ]
     },
     "metadata": {},
     "output_type": "display_data"
    },
    {
     "name": "stdout",
     "output_type": "stream",
     "text": [
      "~~~~~~~~~~~~~~~~~~~~~~~~~~~~~~~~~~~~~~~~~~~~~~~~~~~~~~~~~~~~~~~~~~~~~~~~~~~~~~~~~~~~~~~~~~~~~~~~~~~~\n",
      "CLUSTER 25\n",
      "~~~~~~~~~~~~~~~~~~~~~~~~~~~~~~~~~~~~~~~~~~~~~~~~~~~~~~~~~~~~~~~~~~~~~~~~~~~~~~~~~~~~~~~~~~~~~~~~~~~~\n"
     ]
    },
    {
     "data": {
      "text/html": [
       "<li><a href=https://babel.hathitrust.org/cgi/pt?id=mdp.39015013285609>b'Through golden windows.' (1958)</a><br></li>"
      ],
      "text/plain": [
       "<__main__.Printable_Hathi at 0x7f08c5adab00>"
      ]
     },
     "metadata": {},
     "output_type": "display_data"
    },
    {
     "data": {
      "text/html": [
       "<li><a href=https://babel.hathitrust.org/cgi/pt?id=wu.89007385289>b'Bannertail; the story of a graysquirrel,' (1922)</a><br></li>"
      ],
      "text/plain": [
       "<__main__.Printable_Hathi at 0x7f08c5adab00>"
      ]
     },
     "metadata": {},
     "output_type": "display_data"
    },
    {
     "data": {
      "text/html": [
       "<li><a href=https://babel.hathitrust.org/cgi/pt?id=inu.30000036592388>b'The maiden who rose from the sea and other Finnish folk tales /' (1992)</a><br></li>"
      ],
      "text/plain": [
       "<__main__.Printable_Hathi at 0x7f08c5adab00>"
      ]
     },
     "metadata": {},
     "output_type": "display_data"
    },
    {
     "data": {
      "text/html": [
       "<li><a href=https://babel.hathitrust.org/cgi/pt?id=inu.30000056307501>b'Tales of the tepee /' (1998)</a><br></li>"
      ],
      "text/plain": [
       "<__main__.Printable_Hathi at 0x7f08c5adab00>"
      ]
     },
     "metadata": {},
     "output_type": "display_data"
    },
    {
     "data": {
      "text/html": [
       "<li><a href=https://babel.hathitrust.org/cgi/pt?id=inu.30000004005785>b'Stories of Serra East /' (1985)</a><br></li>"
      ],
      "text/plain": [
       "<__main__.Printable_Hathi at 0x7f08c5adab00>"
      ]
     },
     "metadata": {},
     "output_type": "display_data"
    },
    {
     "name": "stdout",
     "output_type": "stream",
     "text": [
      "~~~~~~~~~~~~~~~~~~~~~~~~~~~~~~~~~~~~~~~~~~~~~~~~~~~~~~~~~~~~~~~~~~~~~~~~~~~~~~~~~~~~~~~~~~~~~~~~~~~~\n",
      "CLUSTER 26\n",
      "~~~~~~~~~~~~~~~~~~~~~~~~~~~~~~~~~~~~~~~~~~~~~~~~~~~~~~~~~~~~~~~~~~~~~~~~~~~~~~~~~~~~~~~~~~~~~~~~~~~~\n"
     ]
    },
    {
     "data": {
      "text/html": [
       "<li><a href=https://babel.hathitrust.org/cgi/pt?id=uc1.32106018647310>b'The dying ground : a hip-hop noir novel /' (2001)</a><br></li>"
      ],
      "text/plain": [
       "<__main__.Printable_Hathi at 0x7f08c5ada5c0>"
      ]
     },
     "metadata": {},
     "output_type": "display_data"
    },
    {
     "data": {
      "text/html": [
       "<li><a href=https://babel.hathitrust.org/cgi/pt?id=mdp.39015073377296>b'Brother stud /' (1979)</a><br></li>"
      ],
      "text/plain": [
       "<__main__.Printable_Hathi at 0x7f08c5ada5c0>"
      ]
     },
     "metadata": {},
     "output_type": "display_data"
    },
    {
     "data": {
      "text/html": [
       "<li><a href=https://babel.hathitrust.org/cgi/pt?id=mdp.39015080890075>b'Maneuvers /' (2009)</a><br></li>"
      ],
      "text/plain": [
       "<__main__.Printable_Hathi at 0x7f08c5ada5c0>"
      ]
     },
     "metadata": {},
     "output_type": "display_data"
    },
    {
     "data": {
      "text/html": [
       "<li><a href=https://babel.hathitrust.org/cgi/pt?id=uc1.32106014480880>b'In the beginning /' (1997)</a><br></li>"
      ],
      "text/plain": [
       "<__main__.Printable_Hathi at 0x7f08c5ada5c0>"
      ]
     },
     "metadata": {},
     "output_type": "display_data"
    },
    {
     "data": {
      "text/html": [
       "<li><a href=https://babel.hathitrust.org/cgi/pt?id=mdp.39015064701256>b'JPod : a novel /' (2006)</a><br></li>"
      ],
      "text/plain": [
       "<__main__.Printable_Hathi at 0x7f08c5ada5c0>"
      ]
     },
     "metadata": {},
     "output_type": "display_data"
    },
    {
     "name": "stdout",
     "output_type": "stream",
     "text": [
      "~~~~~~~~~~~~~~~~~~~~~~~~~~~~~~~~~~~~~~~~~~~~~~~~~~~~~~~~~~~~~~~~~~~~~~~~~~~~~~~~~~~~~~~~~~~~~~~~~~~~\n",
      "CLUSTER 27\n",
      "~~~~~~~~~~~~~~~~~~~~~~~~~~~~~~~~~~~~~~~~~~~~~~~~~~~~~~~~~~~~~~~~~~~~~~~~~~~~~~~~~~~~~~~~~~~~~~~~~~~~\n"
     ]
    },
    {
     "data": {
      "text/html": [
       "<li><a href=https://babel.hathitrust.org/cgi/pt?id=uc2.ark:/13960/t0000492f>b'The tales of old Liverpool.' (1886)</a><br></li>"
      ],
      "text/plain": [
       "<__main__.Printable_Hathi at 0x7f08c5ada7f0>"
      ]
     },
     "metadata": {},
     "output_type": "display_data"
    },
    {
     "data": {
      "text/html": [
       "<li><a href=https://babel.hathitrust.org/cgi/pt?id=uc2.ark:/13960/t2c827g0f>b'The stolen child. A tale of the town, founded on a certain interesting fact.' (1833)</a><br></li>"
      ],
      "text/plain": [
       "<__main__.Printable_Hathi at 0x7f08c5ada7f0>"
      ]
     },
     "metadata": {},
     "output_type": "display_data"
    },
    {
     "data": {
      "text/html": [
       "<li><a href=https://babel.hathitrust.org/cgi/pt?id=uva.x001173718>b'Flowers of the forest.' (1857)</a><br></li>"
      ],
      "text/plain": [
       "<__main__.Printable_Hathi at 0x7f08c5ada7f0>"
      ]
     },
     "metadata": {},
     "output_type": "display_data"
    },
    {
     "data": {
      "text/html": [
       "<li><a href=https://babel.hathitrust.org/cgi/pt?id=nyp.33433034409916>b'A memoir of Jane Austen.' (1871)</a><br></li>"
      ],
      "text/plain": [
       "<__main__.Printable_Hathi at 0x7f08c5ada7f0>"
      ]
     },
     "metadata": {},
     "output_type": "display_data"
    },
    {
     "data": {
      "text/html": [
       "<li><a href=https://babel.hathitrust.org/cgi/pt?id=uiuo.ark:/13960/t4qj82s7g>b'Lodore /' (1835)</a><br></li>"
      ],
      "text/plain": [
       "<__main__.Printable_Hathi at 0x7f08c5ada7f0>"
      ]
     },
     "metadata": {},
     "output_type": "display_data"
    },
    {
     "name": "stdout",
     "output_type": "stream",
     "text": [
      "~~~~~~~~~~~~~~~~~~~~~~~~~~~~~~~~~~~~~~~~~~~~~~~~~~~~~~~~~~~~~~~~~~~~~~~~~~~~~~~~~~~~~~~~~~~~~~~~~~~~\n",
      "CLUSTER 28\n",
      "~~~~~~~~~~~~~~~~~~~~~~~~~~~~~~~~~~~~~~~~~~~~~~~~~~~~~~~~~~~~~~~~~~~~~~~~~~~~~~~~~~~~~~~~~~~~~~~~~~~~\n"
     ]
    },
    {
     "data": {
      "text/html": [
       "<li><a href=https://babel.hathitrust.org/cgi/pt?id=pst.000011179887>b'The new Bethlehem /' (1935)</a><br></li>"
      ],
      "text/plain": [
       "<__main__.Printable_Hathi at 0x7f08c5a71f28>"
      ]
     },
     "metadata": {},
     "output_type": "display_data"
    },
    {
     "data": {
      "text/html": [
       "<li><a href=https://babel.hathitrust.org/cgi/pt?id=nyp.33433073356473>b'The Cossacks : a tale of the Caucasus in 1852 /' (1878)</a><br></li>"
      ],
      "text/plain": [
       "<__main__.Printable_Hathi at 0x7f08c5a71f28>"
      ]
     },
     "metadata": {},
     "output_type": "display_data"
    },
    {
     "data": {
      "text/html": [
       "<li><a href=https://babel.hathitrust.org/cgi/pt?id=pst.000019683003>b'The house of prayer /' (1958)</a><br></li>"
      ],
      "text/plain": [
       "<__main__.Printable_Hathi at 0x7f08c5a71f28>"
      ]
     },
     "metadata": {},
     "output_type": "display_data"
    },
    {
     "data": {
      "text/html": [
       "<li><a href=https://babel.hathitrust.org/cgi/pt?id=uc1.$b56510>b'The sky but not the heart; a novel' (1936)</a><br></li>"
      ],
      "text/plain": [
       "<__main__.Printable_Hathi at 0x7f08c5a71f28>"
      ]
     },
     "metadata": {},
     "output_type": "display_data"
    },
    {
     "data": {
      "text/html": [
       "<li><a href=https://babel.hathitrust.org/cgi/pt?id=umn.319510020277183>b'The doctor and the dragon : a tragi-comedy of British India.' (1947)</a><br></li>"
      ],
      "text/plain": [
       "<__main__.Printable_Hathi at 0x7f08c5a71f28>"
      ]
     },
     "metadata": {},
     "output_type": "display_data"
    },
    {
     "name": "stdout",
     "output_type": "stream",
     "text": [
      "~~~~~~~~~~~~~~~~~~~~~~~~~~~~~~~~~~~~~~~~~~~~~~~~~~~~~~~~~~~~~~~~~~~~~~~~~~~~~~~~~~~~~~~~~~~~~~~~~~~~\n",
      "CLUSTER 29\n",
      "~~~~~~~~~~~~~~~~~~~~~~~~~~~~~~~~~~~~~~~~~~~~~~~~~~~~~~~~~~~~~~~~~~~~~~~~~~~~~~~~~~~~~~~~~~~~~~~~~~~~\n"
     ]
    },
    {
     "data": {
      "text/html": [
       "<li><a href=https://babel.hathitrust.org/cgi/pt?id=umn.31951d00527924v>b\"Ballantyne's novelist's library.\" (1821)</a><br></li>"
      ],
      "text/plain": [
       "<__main__.Printable_Hathi at 0x7f08c5a71e48>"
      ]
     },
     "metadata": {},
     "output_type": "display_data"
    },
    {
     "data": {
      "text/html": [
       "<li><a href=https://babel.hathitrust.org/cgi/pt?id=mdp.39015078564468>b'The works of Jonathan Swift ... Carefully selected: with a biography of the author,' (1871)</a><br></li>"
      ],
      "text/plain": [
       "<__main__.Printable_Hathi at 0x7f08c5a71e48>"
      ]
     },
     "metadata": {},
     "output_type": "display_data"
    },
    {
     "data": {
      "text/html": [
       "<li><a href=https://babel.hathitrust.org/cgi/pt?id=nyp.33433076093990>b'Select works of Henry Fielding... With a memoir of the life of the author,' (1832)</a><br></li>"
      ],
      "text/plain": [
       "<__main__.Printable_Hathi at 0x7f08c5a71e48>"
      ]
     },
     "metadata": {},
     "output_type": "display_data"
    },
    {
     "data": {
      "text/html": [
       "<li><a href=https://babel.hathitrust.org/cgi/pt?id=pst.000027995006>b'Memoirs . . . : The life & opinions of Tristram Shandy. A sentimental journey. Selected sermons and letters /' (1950)</a><br></li>"
      ],
      "text/plain": [
       "<__main__.Printable_Hathi at 0x7f08c5a71e48>"
      ]
     },
     "metadata": {},
     "output_type": "display_data"
    },
    {
     "data": {
      "text/html": [
       "<li><a href=https://babel.hathitrust.org/cgi/pt?id=njp.32101023512468>b'[The works of J. Fenimore Cooper].' (1876)</a><br></li>"
      ],
      "text/plain": [
       "<__main__.Printable_Hathi at 0x7f08c5a71e48>"
      ]
     },
     "metadata": {},
     "output_type": "display_data"
    }
   ],
   "source": [
    "for i in range(30):\n",
    "    print(\"~\"*100)\n",
    "    print (\"CLUSTER {}\".format(i))\n",
    "    print(\"~\"*100)\n",
    "    kmeans_cluster(i)\n"
   ]
  },
  {
   "cell_type": "code",
   "execution_count": null,
   "metadata": {
    "collapsed": true
   },
   "outputs": [],
   "source": []
  }
 ],
 "metadata": {
  "kernelspec": {
   "display_name": "Python 3",
   "language": "python",
   "name": "python3"
  },
  "language_info": {
   "codemirror_mode": {
    "name": "ipython",
    "version": 3
   },
   "file_extension": ".py",
   "mimetype": "text/x-python",
   "name": "python",
   "nbconvert_exporter": "python",
   "pygments_lexer": "ipython3",
   "version": "3.5.2"
  }
 },
 "nbformat": 4,
 "nbformat_minor": 2
}
