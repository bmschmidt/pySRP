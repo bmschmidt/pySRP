{
 "cells": [
  {
   "cell_type": "markdown",
   "metadata": {},
   "source": [
    "In the Hathi Trust case, it's useful to access Ids by their prefixes, as identified by a separator"
   ]
  },
  {
   "cell_type": "code",
   "execution_count": 1,
   "metadata": {},
   "outputs": [],
   "source": [
    "import SRP\n",
    "import tempfile\n",
    "import numpy as np\n",
    "from pathlib import Path "
   ]
  },
  {
   "cell_type": "code",
   "execution_count": 2,
   "metadata": {},
   "outputs": [],
   "source": [
    "%load_ext autoreload\n",
    "%autoreload 2"
   ]
  },
  {
   "cell_type": "code",
   "execution_count": 13,
   "metadata": {},
   "outputs": [
    {
     "name": "stdout",
     "output_type": "stream",
     "text": [
      "('file_1-part-0', array([1., 0.], dtype=float32))\n",
      "('file_1-part-1', array([1., 1.], dtype=float32))\n",
      "('file_1-part-2', array([1., 2.], dtype=float32))\n",
      "('file_1-part-3', array([1., 3.], dtype=float32))\n",
      "('file_1-part-4', array([1., 4.], dtype=float32))\n",
      "[('file_100-part_302', array([100., 302.], dtype=float32))]\n"
     ]
    }
   ],
   "source": [
    "with tempfile.TemporaryDirectory() as dir:\n",
    "    fout = SRP.Vector_file(Path(dir, \"out.bin\"), mode = \"a\", dims = 2)\n",
    "    for i in range(3):\n",
    "        for j in range(5):\n",
    "            fout.add_row(f\"file_{i}-part-{j}\", np.array([i, j], '<f4'))\n",
    "    fout.close()\n",
    "    newview = SRP.Vector_file(Path(dir, \"out.bin\"), mode = \"a\", dims = 2)\n",
    "    for k, v in newview.find_prefix(\"file_1\", \"-\"):\n",
    "        print((k, v))\n",
    "    newview.add_row('file_100-part_302', np.array([100, 302], '<f4'))\n",
    "    print(newview.find_prefix(\"file_100\"))"
   ]
  },
  {
   "cell_type": "code",
   "execution_count": 14,
   "metadata": {},
   "outputs": [
    {
     "data": {
      "text/plain": [
       "1.0"
      ]
     },
     "execution_count": 14,
     "metadata": {},
     "output_type": "execute_result"
    }
   ],
   "source": [
    "np.float32(1)"
   ]
  },
  {
   "cell_type": "code",
   "execution_count": null,
   "metadata": {},
   "outputs": [],
   "source": []
  }
 ],
 "metadata": {
  "kernelspec": {
   "display_name": "Python (htrc)",
   "language": "python",
   "name": "htrc"
  },
  "language_info": {
   "codemirror_mode": {
    "name": "ipython",
    "version": 3
   },
   "file_extension": ".py",
   "mimetype": "text/x-python",
   "name": "python",
   "nbconvert_exporter": "python",
   "pygments_lexer": "ipython3",
   "version": "3.7.6"
  }
 },
 "nbformat": 4,
 "nbformat_minor": 4
}
