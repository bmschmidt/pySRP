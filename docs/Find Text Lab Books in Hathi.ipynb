{
 "cells": [
  {
   "cell_type": "markdown",
   "metadata": {
    "deletable": true,
    "editable": true
   },
   "source": [
    "# Finding instances from one corpus in Hathi\n",
    "\n",
    "This shows how to churn through two corpuses to find copies of one in the other.\n"
   ]
  },
  {
   "cell_type": "code",
   "execution_count": 2,
   "metadata": {
    "collapsed": false,
    "deletable": true,
    "editable": true
   },
   "outputs": [],
   "source": [
    "import SRP\n",
    "import numpy as np\n",
    "from scipy.spatial.distance import cdist"
   ]
  },
  {
   "cell_type": "code",
   "execution_count": 2,
   "metadata": {
    "collapsed": false,
    "deletable": true,
    "editable": true
   },
   "outputs": [],
   "source": [
    "%load_ext autoreload\n",
    "%autoreload 2"
   ]
  },
  {
   "cell_type": "markdown",
   "metadata": {
    "deletable": true,
    "editable": true
   },
   "source": [
    "This assumes that you've already created the txtlab file described in the notebook \"Hash a corpus of text files into SRP space\""
   ]
  },
  {
   "cell_type": "code",
   "execution_count": 3,
   "metadata": {
    "collapsed": false,
    "deletable": true,
    "editable": true
   },
   "outputs": [],
   "source": [
    "txtlab = SRP.Vector_file(\"txtlab.bin\").to_matrix()\n"
   ]
  },
  {
   "cell_type": "code",
   "execution_count": 4,
   "metadata": {
    "collapsed": false,
    "deletable": true,
    "editable": true
   },
   "outputs": [],
   "source": [
    "def hathi_chunker(max_size=1000):\n",
    "    hathi = SRP.Vector_file(\"/home/bschmidt/vector_models/hathi.bin\")\n",
    "    id_cache = []\n",
    "    row_cache = np.zeros((max_size,hathi.dims),\"<f4\")\n",
    "    for id,row in hathi:\n",
    "        row_cache[len(id_cache)] = row\n",
    "        id_cache.append(id)\n",
    "        if len(id_cache) == max_size:\n",
    "            yield (id_cache, row_cache)\n",
    "            id_cache = []\n",
    "            row_cache = np.zeros((max_size,hathi.dims),\"<f4\")        \n",
    "            \n"
   ]
  },
  {
   "cell_type": "markdown",
   "metadata": {
    "deletable": true,
    "editable": true
   },
   "source": [
    "Use an array to store the neighbors of each index: store the top ten items to start."
   ]
  },
  {
   "cell_type": "code",
   "execution_count": 6,
   "metadata": {
    "collapsed": false,
    "deletable": true,
    "editable": true
   },
   "outputs": [
    {
     "name": "stdout",
     "output_type": "stream",
     "text": [
      "checked 1 million in hathi\n",
      "checked 2 million in hathi\n",
      "checked 3 million in hathi\n",
      "checked 4 million in hathi\n",
      "checked 5 million in hathi\n",
      "checked 6 million in hathi\n",
      "checked 7 million in hathi\n",
      "checked 8 million in hathi\n",
      "checked 9 million in hathi\n",
      "checked 10 million in hathi\n",
      "checked 11 million in hathi\n",
      "checked 12 million in hathi\n",
      "checked 13 million in hathi\n"
     ]
    }
   ],
   "source": [
    "hathi_chunks = hathi_chunker()\n",
    "\n",
    "knn = 20\n",
    "neighbors = []\n",
    "for i in range(len(txtlab[\"names\"])):\n",
    "    neighbors.append([])\n",
    "    for j in range(knn):\n",
    "        neighbors[-1].append((float(\"Inf\"),\"nothing\"))\n",
    "\n",
    "n_chunked = 0\n",
    "for ids,rows in hathi_chunks:\n",
    "    n_chunked += 1\n",
    "    if n_chunked % 1000 == 0:\n",
    "        print \"checked {} million in hathi\\r\".format(n_chunked/1000)\n",
    "    pairwise = cdist(txtlab[\"matrix\"], rows, \"cosine\")\n",
    "    closest = np.argpartition(pairwise,knn,1)\n",
    "    for i,row in enumerate(closest):\n",
    "        for ix in range(knn):\n",
    "            dist = pairwise[i][row[ix]]\n",
    "            if dist < neighbors[i][-1][0]:\n",
    "                neighbors[i][-1] = (dist,ids[row[ix]])\n",
    "                neighbors[i].sort()\n",
    "            elif dist < .05:\n",
    "                # Catch everything that close\n",
    "                neighbors[i].append((dist,ids[ix]))\n",
    "                neighbors[i].sort()"
   ]
  },
  {
   "cell_type": "code",
   "execution_count": 7,
   "metadata": {
    "collapsed": false,
    "deletable": true,
    "editable": true
   },
   "outputs": [
    {
     "name": "stdout",
     "output_type": "stream",
     "text": [
      "EN_1900_Barr,Amelia_TheMaidofMaidenLane_Novel is only 0.0021 from uc1.$b249538\n",
      "DE_1932_Roth,Joseph_Radetzkymarsch_Novel is only 0.0021 from wu.89093642122\n",
      "EN_1900_Barr,Amelia_TheMaidofMaidenLane_Novel is only 0.0023 from nyp.33433074833421\n",
      "EN_1900_Barr,Amelia_TheMaidofMaidenLane_Novel is only 0.0025 from hvd.hn1m5d\n",
      "EN_1851_Hawthorne,Nathaniel_TheHouseoftheSevenGables_Novel is only 0.0032 from hvd.hn6n6v\n",
      "EN_1818_Shelley,Mary_Frankenstein_Novel is only 0.0035 from pst.000049200850\n",
      "EN_1837_Disraeli,Benjamin_Venetia_Novel is only 0.0035 from nnc1.0055235000\n",
      "EN_1851_Hawthorne,Nathaniel_TheHouseoftheSevenGables_Novel is only 0.0036 from hvd.hn6nhb\n",
      "EN_1850_Aguilar,Grace_ValeofCedars_Novel is only 0.0039 from nyp.33433074945985\n",
      "EN_1900_Barr,Amelia_TheMaidofMaidenLane_Novel is only 0.0040 from hvd.hn5fcn\n",
      "EN_1851_Hawthorne,Nathaniel_TheHouseoftheSevenGables_Novel is only 0.0042 from hvd.32044011866720\n",
      "EN_1837_Disraeli,Benjamin_Venetia_Novel is only 0.0042 from nyp.33433074937099\n",
      "EN_1813_Austen,Jane_PrideandPrejudice_Novel is only 0.0043 from pst.000055930734\n",
      "EN_1851_Hawthorne,Nathaniel_TheHouseoftheSevenGables_Novel is only 0.0044 from hvd.hn66kz\n",
      "FR_1883_Maupassant,Guy_UneVie_Novel is only 0.0044 from mdp.39015004664929\n",
      "EN_1900_Kipling,Rudyard_Kim_Novel is only 0.0045 from uc1.c085523086\n",
      "EN_1885_Barr,Amelia_JanVeeder'sWife_Novel is only 0.0045 from hvd.hwssci\n",
      "EN_1813_Austen,Jane_PrideandPrejudice_Novel is only 0.0046 from pst.000049310382\n",
      "EN_1850_Yonge,Charlotte_Henrietta'sWish_Novel is only 0.0046 from uc2.ark:/13960/t42r3vs2v\n",
      "EN_1813_Austen,Jane_PrideandPrejudice_Novel is only 0.0046 from mdp.39015054066439\n",
      "EN_1917_Webb,Mary_GonetoEart_Novel is only 0.0047 from nyp.33433075757827\n",
      "EN_1900_Kipling,Rudyard_Kim_Novel is only 0.0047 from mdp.39015007016580\n",
      "EN_1826_Cooper,JameFenimore_TheLastoftheMohicans_Novel is only 0.0047 from pst.000062567619\n",
      "EN_1850_Aguilar,Grace_ValeofCedars_Novel is only 0.0048 from hvd.hn1nqj\n",
      "EN_1851_Hawthorne,Nathaniel_TheHouseoftheSevenGables_Novel is only 0.0049 from osu.32435017841164\n"
     ]
    }
   ],
   "source": [
    "nearly = []\n",
    "for i,neighbor in enumerate(neighbors):\n",
    "    name = txtlab[\"names\"][i]\n",
    "    for dist, hathi in neighbor:\n",
    "        if dist < .1:\n",
    "            nearly.append((dist,name,hathi))\n",
    "nearly.sort()\n",
    "for dist,name,hathi in nearly[25]:\n",
    "    print u\"{} is only {:0.4f} from {}\".format(name,dist, hathi)"
   ]
  },
  {
   "cell_type": "code",
   "execution_count": 27,
   "metadata": {
    "collapsed": false,
    "deletable": true,
    "editable": true
   },
   "outputs": [
    {
     "data": {
      "text/plain": [
       "u'Yearbook of German-American studies.'"
      ]
     },
     "execution_count": 27,
     "metadata": {},
     "output_type": "execute_result"
    }
   ],
   "source": [
    "import urllib2\n",
    "import ujson as json\n",
    "from IPython.display import HTML\n",
    "\n",
    "#hathi_cache = {}\n",
    "\n",
    "def jsonify(id, force = False):\n",
    "    global hathi_cache\n",
    "    if id in hathi_cache and not force:\n",
    "        return hathi_cache[id]\n",
    "    sons = \"\\n\".join(urllib2.urlopen(\"http://catalog.hathitrust.org/api/volumes/brief/htid/%s.json\" %id.replace(\"+\",\":\").replace(\"=\",\"/\")).readlines())\n",
    "    hathi_cache[id] = json.loads(sons)\n",
    "    return hathi_cache[id]\n",
    "\n",
    "def descend(record):\n",
    "    # Parse a hathi API call response.\n",
    "    a = record['records']\n",
    "    try:\n",
    "        return a[a.keys()[0]]\n",
    "    except IndexError:\n",
    "        print record\n",
    "        raise\n",
    "        \n",
    "def pretty_print(htid,text):\n",
    "    output_string = \"\"#u\"<ul>\"\n",
    "    try:\n",
    "        a = descend(jsonify(htid))\n",
    "        a['url'] = u\"https://babel.hathitrust.org/cgi/pt?id=\" + htid\n",
    "        try:\n",
    "            output_string += u\"<li><a href={}>{} ({})</a><br>{}</li>\".format(\n",
    "                a['url'],a['titles'][0].encode(\"ascii\",\"ignore\"),a['publishDates'][0],text.encode(\"ascii\",\"ignore\"))\n",
    "        except:\n",
    "            print a\n",
    "    except IndexError:\n",
    "        print ('no index',p)\n",
    "        pass\n",
    "    except:\n",
    "        print \"\"\n",
    "        raise\n",
    "    return HTML(output_string + \"\")#)\"</ul>\")\n",
    "\n",
    "class Hathi_Book():\n",
    "    def __init__(self,htid,text=\"\"):\n",
    "        self.htid = htid\n",
    "        self.desc = descend(jsonify(htid))\n",
    "        self.text = text\n",
    "    def _repr_html_(self):\n",
    "        self.desc['url'] = u\"https://babel.hathitrust.org/cgi/pt?id=\" + self.htid\n",
    "        output_string = u\"<li><a href={}>{} ({})</a><br>{}</li>\".format(\n",
    "                self.desc['url'],self.desc['titles'][0].encode(\"ascii\",\"ignore\"),self.desc['publishDates'][0],self.text.decode(\"utf-8\",\"ignore\"))\n",
    "        return output_string\n",
    "    def title(self):\n",
    "        return self.desc['titles'][0]\n",
    "    \n",
    "Hathi_Book(\"inu.30000026383574\",\"Some sample text to go with, ❤\").title()"
   ]
  },
  {
   "cell_type": "markdown",
   "metadata": {
    "collapsed": false,
    "deletable": true,
    "editable": true
   },
   "source": [
    "This is code to debug the matches that I find. It's involved in the way that research code can be.\n",
    "\n",
    "Essentially, though, it spends most of its time on data cleaning and cutoff. The big challenge is \n",
    "that I don't want it to flag for me as a problem when Hathi has a \"The Works of Charles Dickens, vol 3\" \n",
    "and the textlab has \"Great Expectations.\"\n",
    "\n",
    "So it doesn't bother to compare matches for uninformative Hathi titles.\n",
    "\n",
    "Then it does some string replacement to normalize words or strings like \"and\", \"roman\", and \"œ\":\n",
    "finally, it can compare the titles from Hathi to see if they're the same as those in the textlab. If not,\n",
    "it prints to console suggesting that we check up.\n",
    "\n",
    "In many cases, this reveals problems in the original data: the textlab called a book \"The Vicar of Wrexham\", but it's actuall *The vicar of Wrexhill*. The machine is a decent proofreader!"
   ]
  },
  {
   "cell_type": "code",
   "execution_count": 117,
   "metadata": {
    "collapsed": false,
    "deletable": true,
    "editable": true,
    "scrolled": false
   },
   "outputs": [
    {
     "name": "stdout",
     "output_type": "stream",
     "text": [
      "........JanVeeder'sWife is 0.0045 from Jan Vedder's wife, (hvd.hwssci - EN_1885_Barr,Amelia_JanVeeder'sWife_Novel)\n",
      ".....EffieBriest is 0.0053 from Effi Briest : roman / (mdp.39015054099133 - DE_1895_Fontane,Theodor_EffieBriest_Novel)\n",
      "........{u'records': {}, u'items': []}\n",
      "........LesPleiadesroman is 0.0066 from Les Pléïades. (uc1.$b183061 - FR_1874_Gobineau,Arthur,comtede_LesPleiadesroman_Novel)\n",
      "..........TheVicarofWrexham is 0.0074 from The vicar of Wrexhill / (inu.32000002550467 - EN_1837_Trollope,FrancesMilton_TheVicarofWrexham_Novel)\n",
      "............PeterPan is 0.0085 from Peter and Wendy, (mdp.39015008403183 - EN_1911_Barrie,J.M._PeterPan_Novel)\n",
      "..............LaMaternelle,Roman is 0.0093 from La maternelle / (wu.89099436701 - FR_1904_Frapie,Leon_LaMaternelle,Roman_Novel)\n",
      "..........AventuresdeMelleMariette is 0.0100 from Les aventures de Mademoiselle Mariette, par Champfleury. (hvd.32044087054235 - FR_1853_Champfleury_AventuresdeMelleMariette_Novel)\n",
      ".HeidesLehrundWanderjahre is 0.0100 from Heidis Lehr- und Wanderjahre / (mdp.39015061379478 - DE_1880_Spyri,Johanna_HeidesLehrundWanderjahre_Novel)\n",
      ".......Eleonora is 0.0104 from Leonora, (mdp.39015031225223 - EN_1902_Bellamy,Edward_Eleonora_Novel)\n",
      "LeBlequiLeve is 0.0104 from Le blé qui lève. (mdp.39015008639711 - FR_1907_Bazin,Rene_LeBlequiLeve_Novel)\n",
      "..DuCotedeChezSwann is 0.0107 from A la recherche du temps perdu. (mdp.49015000787391 - FR_1913_Proust,Marcel_DuCotedeChezSwann_Novel)\n",
      "...........MadameChrysantheme is 0.0113 from Madame Chrysanthème. (hvd.hwddu1 - FR_1887_Loti,Pierre_MadameChrysantheme_Novel)\n",
      "......Confessions is 0.0117 from La confession d'un enfant du siècle / (ucm.5309086467 - FR_1836_Musset,Alfred_Confessions_Novel)\n",
      "....LaFugitive is 0.0121 from A la recherche du temps perdu / (mdp.39015064990834 - FR_1922_Proust,Marcel_LaFugitive_Novel)\n",
      "...JekyllandHyde is 0.0126 from Strange case of Dr. Jekyll and Mr. Hyde, (mdp.39015059642994 - EN_1886_Stevenson,RobertLouis_JekyllandHyde_Novel)\n",
      ".Renee is 0.0127 from Renée Mauperin. (inu.32000007731773 - FR_1864_Goncourt,Edmundde_Renee_Mauperin_Novel)\n",
      "AlfredDe is 0.0127 from Servitude et grandeur militaires / (ucm.5325908522 - FR_1835_Vigny,_AlfredDe_ServitudeEtGrandeurMiliitaires_Novel)\n",
      "LaNouvelleJournee is 0.0127 from Jean-Christophe ... (mdp.39015053622935 - FR_1912_Rolland,Romain_LaNouvelleJournee_Novel)\n",
      ".....Lemalheurd'HenrietteGerard is 0.0129 from Le malheur d'Henriette Gérard ... (nyp.33433075816672 - FR_1860_Duranty,Louis_Lemalheurd'HenrietteGerard_Novel)\n",
      "Lepithaleme is 0.0129 from L'épithalame; roman. Illustrations en couleurs de Clément Servean ... (mdp.39015033180145 - FR_1921_Chardonne,Jacques_Lepithaleme_Novel)\n",
      "...LeNabob is 0.0132 from Le Nabab : mœurs parisiennes / (mdp.49015000749060 - FR_1878_Daudet,Alphonse_LeNabob_Novel)\n",
      "........LeDésespéré is 0.0142 from Le desespéré, Roman. (inu.32000001229568 - FR_1886_Bloy,Leon_LeDésespéré_Novel)\n",
      "..............LeConscritde1813 is 0.0152 from Histoire d'un conscrit de 1813. (njp.32101067522878 - FR_1864_Erckmann,Emile_LeConscritde1813_Novel)\n",
      "............LhotelduNord is 0.0162 from L'Hôtel du Nord. (mdp.39015005637338 - FR_1929_Dabit,Eugene_LhotelduNord_Novel)\n",
      "...LaConfessiondeMinuit is 0.0166 from Confession de minuit. (mdp.39015032034913 - FR_1920_Duhamel,Georges_LaConfessiondeMinuit_Novel)\n",
      ".LeMariagedeGerard is 0.0167 from Le mariage de Gérard. (njp.32101067526671 - FR_1875_Theuriet,Andre_LeMariagedeGerard_Novel)\n",
      ".Irrungen,Wirrungen is 0.0168 from Irrungen Wirrungen: Roman. (inu.30000041641626 - DE_1887_Fontane,Theodor_Irrungen,Wirrungen_Novel)\n",
      "......Memoiresd'uneSuicide is 0.0171 from Mémoires d'un suicidé / (njp.32101071960742 - FR_1853_DuCamp,Maxime_Memoiresd'uneSuicide_Novel)\n",
      "LEFILSDUFORÇAT is 0.0171 from Le fils du forçat, M. Coumbes, (mdp.39015011811752 - FR_1865_Dumas,Alexandre_LEFILSDUFORÇAT_Novel)\n",
      "LaDebacle is 0.0173 from La débacle, (uc1.$b318010 - FR_1892_Zola,Emile_LaDebacle_Novel)\n",
      ".JeromePaturotALaRechercheD'unePositionSociale is 0.0174 from Jérome Paturot à la recherche d'une position sociale / (chi.31549809 - FR_1842_Reybaud,Louis_JeromePaturotALaRechercheD'unePositionSociale_Novel)\n",
      "....Raphael is 0.0178 from Raphaël : pages de la vingtième année / (nyp.33433075831242 - FR_1849_Lamartine,Alphonse_Raphael_Novel)\n",
      "...TheHeirofRedcliffe is 0.0180 from The heir of Redclyffe. (uva.x000779652 - EN_1853_Yonge,Charlotte_TheHeirofRedcliffe_Novel)\n",
      "...........LeTourduMondeEn80Jours is 0.0188 from Le tour du monde en quatre-vingts jours, (mdp.39015078547794 - FR_1873_Verne,Jules_LeTourduMondeEn80Jours_Novel)\n",
      ".RobRoy is 0.0192 from The novels, tales and romances of the author of Waverley. (hvd.hwp69n - EN_1817_Scott,Walter_RobRoy_Novel)\n",
      ".TheExpedictionofHenryClinker is 0.0196 from The expedition of Humphry Clinker. (mdp.39015002306010 - EN_1771_Smollett,Tobias_TheExpedictionofHenryClinker_Novel)\n",
      "Heidekannbrauchen is 0.0196 from Heidi kann brauchen, was es gelernt hat / (mdp.39015061379460 - DE_1881_Spyri,Johanna_Heidekannbrauchen_Novel)\n",
      "...SoeurPhilomene is 0.0199 from Soeur Philomène : roman / (pst.000020572969 - FR_1861_Goncourt,EdmondDe_SoeurPhilomene_Novel)\n",
      ".PoilDeCarrotte is 0.0200 from Poil de carotte. (wu.89002295483 - FR_1894_Renard,Jules_PoilDeCarrotte_Novel)\n",
      ".......Histoiredesara is 0.0204 from Monsieur Nicolas; ou, Le cœur humain dévoilé. (mdp.39015033443691 - FR_1796_RestifdelabretonneNicholas_Histoiredesara_Novel)\n",
      "LeViceSupreme is 0.0206 from Le vice suprême / (hvd.32044010405058 - FR_1884_Peladin,Josephin_LeViceSupreme_Novel)\n",
      ".AndreasVöst is 0.0208 from Andreas Vöst : Bauernroman (hvd.32044087283164 - DE_1906_Thoma,Ludwig_AndreasVöst_Novel)\n",
      "....Novel is 0.0218 from Der Prozess; Roman. (mdp.39015000644933 - DE_1915_Kafka,Franz,DerProzeß_Novel)\n",
      ".LeCapitaineFracasseTexteComplet1863 is 0.0218 from Le capitaine Fracasse / (nyp.33433075826671 - FR_1863_Gautier,Theophile_LeCapitaineFracasseTexteComplet1863_Novel)\n",
      ".LileMysterieuse is 0.0222 from L'île mystérieuse : Texte intégral conforme à l'édition originale Hetzel / (mdp.39015060885681 - FR_1874_Verne,Jules_LileMysterieuse_Novel)\n",
      "..ARebours is 0.0226 from À rebours. (mdp.39015032447107 - FR_1884_Huysman,JK_ARebours_Novel)\n",
      "......DerSchüdderump is 0.0241 from Der schüdderump. (mdp.39015064525192 - DE_1870_Raabe,Wilhelm_DerSchüdderump_Novel)\n",
      ".MephisTome1 is 0.0244 from Méphis / (mdp.39015037759258 - FR_1838_Tristan,Flora_MephisTome1_Novel)\n",
      "Delaterrealalune is 0.0244 from De la terre à la lune : traject direct en 97 heures 20 minutes / (uiuc.2705016 - FR_1865_Verne,Jules_Delaterrealalune_Novel)\n",
      "...Alice'sAdventureinWonderland is 0.0254 from Alice's adventures in Wonderland / (inu.39000002601958 - EN_1865_Carroll,Lewis_Alice'sAdventureinWonderland_Novel)\n",
      "....Nono is 0.0269 from Monsieur Vénus : (wu.89009091950 - FR_1885_Rachilde_Nono_Novel)\n",
      ".....ClemensBrentano'sFrühlingskranz is 0.0283 from Frühlingskranz aus Jugendbriefen ihm geflochten, wie er selbst schriftlich verlangte. (wu.89005898580 - DE_1844_Achim,Bettinevon_ClemensBrentano'sFrühlingskranz_Novel)\n",
      "Obermann is 0.0284 from Oberman; lettres publiées par M... Senancour. Précédé de \"L'Espace désenchanté de Senancour\" par Georges Borgeaud. (uc1.32106001751764 - FR_1840_Senancour,EtiennePivertDe_Obermann_Novel)\n",
      "...CapitanePamphileLe is 0.0294 from Le capitaine Pamphile. (hvd.32044087035689 - FR_1839_Dumas,Alexandre(père),_CapitanePamphileLe_Novel)\n",
      "........DieNachtwachendesBonaventura is 0.0328 from Nachtwachen. (uc1.$c242055 - DE_1805_Klingemann,August_DieNachtwachendesBonaventura_Novel)\n",
      "Cecile is 0.0337 from Cécile, Roman. (inu.30000041654769 - DE_1886_Fontane,Theodor_Cecile_Novel)\n",
      "......DerGrüneHeinrichErsteFassung is 0.0355 from Der grüne Heinrich / (mdp.39015041124879 - DE_1845_Keller,Gottfried_DerGrüneHeinrichErsteFassung_Novel)\n",
      "..LaJongieuse is 0.0366 from La jongleuse : roman / (hvd.32044012275012 - FR_1900_Rachilde_LaJongieuse_Novel)\n",
      "..Valerie-Novel is 0.0375 from Valérie, (hvd.32044018771410 - FR_1803_Krudener,Barbara_Valerie-Novel)\n",
      "L'aneMortEtLaFemmeGuillotinee is 0.0386 from L'âne mort et la femme guillotinée. (wu.89005131693 - FR_1829_Janin,JulesGabriel_L'aneMortEtLaFemmeGuillotinee_Novel)\n",
      "Leonora is 0.0390 from Tales, and miscellaneous pieces / (nyp.33433076091432 - EN_1806_Edgeworth,Maria_Leonora_Novel)\n",
      "Bozena is 0.0397 from Božena : erzählung / (njp.32101067121325 - DE_1876_EbnerEschenbach,Maria_Bozena_Novel)\n",
      "..GeschichtederAbderiten is 0.0427 from Geschichte Abderiten. (mdp.49015001120774 - DE_1774_Wieland,ChristophMartin_GeschichtederAbderiten_Novel)\n",
      "...DerGeldcomplex is 0.0438 from Der Geldkomplex : Roman / (njp.32101068180692 - DE_1916_Reventlow,Franziska_DerGeldcomplex_Novel)\n",
      ".........LaFeeAuxMiettes is 0.0470 from Trilby [et] La fée aux miettes. (inu.30000077514408 - FR_1831_Nodier,Charles_LaFeeAuxMiettes_Novel)\n",
      "DieKronenwachterErsterBandBertholdsErstesUndZweitesLeben is 0.0473 from Die Kronenwächter, Roman. (uc1.$b185704 - DE_1817_Arnim,Achimvon_DieKronenwachterErsterBandBertholdsErstesUndZweitesLeben_Novel)\n",
      "..LesabendioEinAsteroiderRoman is 0.0480 from Lesabéndio : ein asteroïden-Roman / (uc1.b2807621 - DE_1913_Scheerbart,Paul_LesabendioEinAsteroiderRoman_Novel)\n",
      "...DiePoeten is 0.0491 from Das junge Europa (mdp.39015010307737 - DE_1833_Laube,Heinrich_DiePoeten_Novel)\n",
      "TheNarrativeofArthurGordonPym is 0.0513 from Tales / (hvd.32044080922743 - EN_1838_Poe,EdgarAllen_TheNarrativeofArthurGordonPym_Novel)\n",
      "Roche,Sophievon is 0.0515 from Geschichte des Fräulein von Sternheim, (mdp.39015005269223 - DE_1771_La_Roche,Sophievon_GeschichtedesFräuleinsvonSternheim_Novel)\n",
      "Tarub,BagdadsKöchin is 0.0521 from Tarub, Bagdads berühmte Köchin : arabischer Kulturroman / (wu.89052411667 - DE_1897_Scheerbart,Paul_Tarub,BagdadsKöchin_Novel)\n",
      "Flammetti is 0.0524 from Flametti, oder, Vom Dandysmus der Armen : Roman / (njp.32101066455948 - DE_1918_Ball,Hugo_Flammetti_Novel)\n",
      ".DieLeidendesjungenWerthers1 is 0.0547 from Die Leiden des jungen Werthers : synoptischer Druck der beiden Fassungen 1774 und 1787 / (uc1.b4271401 - DE_1774_Goethe,Johann_DieLeidendesjungenWerthers1_Novel)\n",
      "..DernieresLettresDeDeuxAmansDeBarcelone is 0.0560 from Dernières lettres de deux amans de Barcelone (mdp.39015066677686 - FR_1821_Latouche,HenriDe_DernieresLettresDeDeuxAmansDeBarcelone_Novel)\n",
      ".EugénieGrandet is 0.0570 from Eugénie Grandet / (hvd.hn3aem - FR_1833_Balzac,HonoreDe_EugénieGrandet_Novel)\n",
      "Amalie.EinewahreGeschichteinBriefen is 0.0574 from Amalie; eine wahre Geschichte in Briefen, (ien.35556007475064 - DE_1788_Ehrmann,Marianne_Amalie.EinewahreGeschichteinBriefen_Novel)\n",
      "Sousloeilsdesbarbares is 0.0574 from Sous l'oeil des barbares, (mdp.39015033157390 - FR_1888_Barres,Maurice_Sousloeilsdesbarbares_Novel)\n",
      "VathekConteArabe is 0.0591 from Vathek ; conte arabe / (uc1.b2793339 - FR_1787_Beckford,William_VathekConteArabe_Novel)\n",
      ".Anna is 0.0613 from Haus-, wald- und feldmärchen. (hvd.hnxstq - DE_1845_Schopenhauer,Adele_Anna_Novel)\n",
      ".....DieKronenwachterZweiterBand is 0.0647 from Die Kronenwächter, Roman. (uc1.$b185705 - DE_1854_Arnim,Achimvon_DieKronenwachterZweiterBand_Novel)\n",
      "..LettresDeMylordRiversASirCharlesCardigan is 0.0695 from Lettres de Mylord Rivers à Sir Charles Cardigan / (uc1.b3795763 - FR_1776_Riccoboni,MarieJeannedeHeurlesLaborasdeMezieres_LettresDeMylordRiversASirCharlesCardigan_Novel)\n",
      ".HeinrichvonOfterdingen is 0.0721 from Novalis schriften. (mdp.39015005211803 - DE_1800_Novalis_HeinrichvonOfterdingen_Novel)\n",
      "CalisteOuLettresDeLausanne is 0.0729 from Lettres écrites de Lausanne: histoire de Cécile, Caliste, (njp.32101073046680 - FR_1787_Charriere,IsabelleDe_CalisteOuLettresDeLausanne_Novel)\n",
      ".ProblematischeNaturen2 is 0.0750 from Problematische naturen; Roman. (hvd.hn1xar - DE_1861_Spielhagen,Friedrich_ProblematischeNaturen2_Novel)\n",
      ".RitterSchnapphahnski is 0.0753 from Leben und Thaten des berühmten Ritters Schnapphahnski. (mdp.39015014133469 - DE_1849_Weerth,Georg_RitterSchnapphahnski_Novel)\n",
      ".ScenesViedeJeunesse is 0.0775 from Scènes de la vie de jeunesse. (mdp.39015033393482 - FR_1851_Murger,Henri_ScenesViedeJeunesse_Novel)\n",
      "WilliamLovell is 0.0775 from Agorà : eine humanistische Schriftenreihe. (pst.000002387000 - DE_1796_Tieck,Ludwig_WilliamLovell_Novel)\n",
      "..AnnetteEtLeCriminel is 0.0787 from Argow le pirate. (umn.31951002116955t - FR_1824_Balzac,HonoreDe_AnnetteEtLeCriminel_Novel)\n",
      ".OlympesDesCleves is 0.0795 from Olympe de Clèves, (hvd.hwk9ju - FR_1851_Dumas,Alexandre_OlympesDesCleves_Novel)\n",
      "FaustsLeben is 0.0801 from Die Faustdichtung vor, neben und nach Goethe. (mdp.39015014959590 - DE_1791_Klinger,Friedrich_FaustsLeben_Novel)\n",
      ".....***seen 377 at .1 distance\n",
      "..ProblematischeNaturen1 is 0.1039 from Problematische Naturen : Roman / (uc1.a0007935067 - DE_1861_Spielhagen,Friedrich_ProblematischeNaturen1_Novel)\n",
      "Estelle is 0.1049 from Galatée, roman pastoral; imité de Cervantes ... (uva.x004963257 - FR_1788_Florian,Jean-Pierre_Estelle_Novel)\n",
      ".BenjaminNoldmann is 0.1076 from Geschichte der Aufklärung in Abyssinien; oder, Nachricht von seinem und seines Herrn Vetters Aufenthalte an dem Hofe des grossen Negus, oder Priesters Johannes. (nyp.33433082476882 - DE_1791_Knigge,Adolph_BenjaminNoldmann_Novel)\n",
      "...ChampavertContesImmoraux is 0.1142 from Champavert : contes immoraux / (mdp.39015055873569 - FR_1833_Borel,Petrus_ChampavertContesImmoraux_Novel)\n",
      "...LaDotDeSuzanneOuHistoireDeMmeDeSenneterre is 0.1188 from La dot de Suzette / (inu.30000003097700 - FR_1798_Fievee,Joseph_LaDotDeSuzanneOuHistoireDeMmeDeSenneterre_Novel)\n",
      "DelphineTome1 is 0.1211 from Delphine / (nyp.33433075813570 - FR_1802_Stael,MadameDe_DelphineTome1_Novel)\n",
      "..LesChevaliersDuCygneOuLaCourDeCharlemagne is 0.1323 from Les chevaliers du Cygne, ou La cour de Charlemagne. (iau.31858000446694 - FR_1795_Genlis,StephanieFelicite,ComtesseDe_LesChevaliersDuCygneOuLaCourDeCharlemagne_Novel)\n",
      "HammerundAmboß is 0.1334 from Hammer & amboss. (mdp.39015030329885 - DE_1869_Spielhagen,Friedrich_HammerundAmboß_Novel)\n",
      ".......Limposture is 0.1482 from La joie. (uc1.b3750446 - FR_1927_Bernanos,Georges_Limposture_Novel)\n",
      ".AdeleEtTheodoreOuLettresSurLEducation is 0.1518 from Adèle et Théodore, ou Lettres sur l'éducation; (hvd.hwysny - FR_1782_Genlis,StephanieFelicite,Comtessede_AdeleEtTheodoreOuLettresSurLEducation_Novel)\n",
      "Mathilda is 0.1569 from Mary ; Maria / (mdp.39015025013171 - EN_1819_Shelley,Mary_Mathilda_Novel)\n",
      ".DelphineTome2 is 0.1663 from Delphine / (mdp.39015014805975 - FR_1802_Stael,MadameDe_DelphineTome2_Novel)\n",
      ".***seen 410 at .18 distance\n",
      "BungayCastle is 0.1825 from The Lady's monthly museum. (nyp.33433104825397 - EN_1796_Bonhote,Elizabeth_BungayCastle_Novel)\n",
      "ThatUnfortunateMarriage is 0.1909 from How like a woman, (nyp.33433074880067 - EN_1888_Trollope,FrancesEleanor_ThatUnfortunateMarriage_Novel)\n",
      "HermannundUlrike is 0.2034 from Gesamtausgabe in acht Bänden / (wu.89063613699 - DE_1780_Wezel,Johann_HermannundUlrike_Novel)\n",
      "Clementine is 0.2172 from Eine Lebensfrage, Roman (uc1.$b782245 - DE_1843_Lewald,Fanny_Clementine_Novel)\n",
      "ArmutReichtumSchuldUndBusseDerGrafinDolores is 0.2206 from Armuth, Reichtum, Schuld und Busse der Gräfin Dolores; eine wahre Geschichte zur lehrreichen Unterhaltung armer Fräulein, (nnc1.0315056392 - DE_1810_Arnim,Achimvon_ArmutReichtumSchuldUndBusseDerGrafinDolores_Novel)\n",
      "HermannvonUnna is 0.2234 from Konradin von Schwaben : oder, Geschichte des unglücklichen Enkels Kaiser Friedrichs des Zweyten. (chi.81820393 - DE_1788_Naubert,Benedikte_HermannvonUnna_Novel)\n",
      "JulchenGrünthal is 0.2240 from Schriften. (mdp.39015066223796 - DE_1798_Unger,Friederike_JulchenGrünthal_Novel)\n",
      "EllenOlesjerne is 0.2259 from Erzählende schriften von Arthur Schnitzler ... (mdp.39015065998422 - DE_1903_Reventlow,Franziska_EllenOlesjerne_Novel)\n",
      ".AlfvonDülmen is 0.2323 from Walter von Stadion : oder, Geschichte Herzog Leopolds von Oestreich und seiner Kriegsgefährten. (chi.81820766 - DE_1791_Naubert,Benedikte_AlfvonDülmen_Novel)\n",
      "L'AventurierFrancoisOuMemoiresDeGregoireMerveil is 0.2331 from L'aventurier François; ou, Mémoires de Grégoire Merveil. (nyp.33433075821664 - FR_1782_Lesuire,RobertMartin_L'AventurierFrancoisOuMemoiresDeGregoireMerveil_Novel)\n",
      "DieAmtmanninvonHohenweiler is 0.2342 from Pauline Frankini : oder, Täuschungen der Leidenschaft und Freuden der Liebe. (chi.81820684 - DE_1791_Naubert,Benedikte_DieAmtmanninvonHohenweiler_Novel)\n",
      ".StufenjahreeinesGlücklichen is 0.2399 from Stufenjahre eines Glücklichen. (umn.319510020869261 - DE_1877_François,Louisevon_StufenjahreeinesGlücklichen_Novel)\n",
      "Roche,Sophie is 0.2428 from Sophie von La Roche : Lesebuch / (mdp.39015060665083 - DE_1798_La_Roche,Sophie_von_ErscheinungenamSeeOneida_Novel)\n",
      "DieFraudesFalkensteins is 0.2438 from Anthologie. Cabinets-ausg. (hvd.hnwr7h - DE_1810_Fouqué,CarolinedelaMotte_DieFraudesFalkensteins_Novel)\n",
      "NinasBriefeanihrenGeliebten is 0.2474 from Amalie; eine wahre Geschichte in Briefen, (ien.35556007475064 - DE_1788_Ehrmann,Marianne_NinasBriefeanihrenGeliebten_Novel)\n",
      "Titan is 0.2484 from Deutsche National-Litteratur, historisch, kritische Ausgabe ... (mdp.39015067134075 - DE_1803_Paul,Jean_Titan_Novel)\n"
     ]
    }
   ],
   "source": [
    "nearly = []\n",
    "for i,neighbor in enumerate(neighbors):\n",
    "    name = txtlab[\"names\"][i]\n",
    "    for dist, hathi in neighbor:\n",
    "        if dist < .25:\n",
    "            nearly.append((dist,name,hathi))\n",
    "nearly.sort()\n",
    "seen = set()\n",
    "last_dist = 0\n",
    "\n",
    "for dist,name,hathi in nearly:\n",
    "    if dist > .1 and last_dist <= .1:\n",
    "        print \"***seen {} at .1 distance, the conservative cutoff.\".format(len(seen))\n",
    "    if dist > .18 and last_dist <= .18:\n",
    "        print \"***seen {} at .18 distance, the hand-picked cutoff for best performance at this task\".format(len(seen))\n",
    "    last_dist = dist\n",
    "    if name in seen:\n",
    "        # The first match for a book is the best.\n",
    "        continue\n",
    "    try:\n",
    "        hathi_title = Hathi_Book(hathi).title()\n",
    "    except: \n",
    "        continue\n",
    "    broken = False\n",
    "    for workmarker in [\n",
    "        u\"sämmtliche\", u\"Novels and tales\",u\"works of\", \"novels of\",\n",
    "        u\"Werke\", u\"Gesammelte\", u\"Romane und Erzählungen\", \"werke\", \"Romane\", u\"Erzählungen\",\n",
    "        u\"Works\", u\"Life and works\", u\"v.\",u\"O︠e︡uvres\", u\"complètes\", u\"complètes\",\"gesammelt\",u\"Sämmtliche\",\n",
    "        u\"OEuvres\", \"The writings of\", \"Tales and novels\", u\"Œuvres\", \"Waverley novels\", u\"Erzählungen\",\n",
    "        u\"Oeuvres\", \"gesammelte Romane\", \"Standard novels\", \"uvres comple\", u\"sämtliche\", u\"sämliche\",\"Samtliche\",\n",
    "    \"Deutsche Literatur\", \"prose tales\", \"Romans\", \"ovels of\",\n",
    "        \"in philology\", \"Agora\", # These are both 20C journals I can't check to see if they published an old novel.\n",
    "        \"Dichtungen und Schriften\"]:\n",
    "        if workmarker in hathi_title:\n",
    "            broken = True\n",
    "    if broken:\n",
    "        # Don't make me check \"Works v. 4\"\n",
    "        continue\n",
    "    import sys   \n",
    "    seen.add(name)\n",
    "    mcgill_title = name.split(\"_\")[3]\n",
    "    mt = mcgill_title\n",
    "    ht = hathi_title\n",
    "    for find, replace in [\n",
    "        (u\"'\",\"\"),\n",
    "        (u\"œ\", \"oe\"),\n",
    "        (\"the\", \"\"),\n",
    "        (\" \",\"\"),\n",
    "        (u\"è\", \"e\"),\n",
    "        (\"-\",\"\"),\n",
    "        (u\"é\",\"e\"),\n",
    "        (\"man\",\"men\"),\n",
    "        (\"dela\", \"\"),\n",
    "        (\"de\", \"\"),\n",
    "        (u\"ß\",\"ss\"),\n",
    "        (\",roman\",\"\")\n",
    "    ]:\n",
    "        mt = mt.lower().replace(find, replace)\n",
    "        ht = ht.lower().replace(find, replace)\n",
    "    if mt in ht:\n",
    "        sys.stdout.write(\".\")\n",
    "        continue\n",
    "    print u\"{} is {:0.4f} from {} ({} - {})\".format(mcgill_title, dist, hathi_title, hathi, name)\n",
    "    \n",
    "\n",
    "# As with the library metadata, using textual features instead of metadata reveals several places where the metadata itself  is inaccurate.\n",
    "# Jan Vedder's wife is listed as Jan Veeder's Wife; Effi Briest is spelled \"Effie Briest\"; The Vicar of Wrexhill is title \"The Vicar of Wrexham.\"\n",
    "# The metadata identifies a book as Rachilde's Nono, when in fact it is actually Monsieur Venus.\n",
    "# The algorithm also identifies a copy of what the Hathi catalog describes as Adele Schopenhauer's Haus, Wald, und Feldmaerchen as Anna; the catalog metadata (hvd.hnxstq) appears not to note that that 350 novel is bound into the same covers as the 150 page fairy tales.\n"
   ]
  },
  {
   "cell_type": "code",
   "execution_count": 53,
   "metadata": {
    "collapsed": false,
    "deletable": true,
    "editable": true
   },
   "outputs": [
    {
     "data": {
      "text/plain": [
       "412"
      ]
     },
     "execution_count": 53,
     "metadata": {},
     "output_type": "execute_result"
    }
   ],
   "source": []
  }
 ],
 "metadata": {
  "kernelspec": {
   "display_name": "Python 2",
   "language": "python",
   "name": "python2"
  },
  "language_info": {
   "codemirror_mode": {
    "name": "ipython",
    "version": 2
   },
   "file_extension": ".py",
   "mimetype": "text/x-python",
   "name": "python",
   "nbconvert_exporter": "python",
   "pygments_lexer": "ipython2",
   "version": "2.7.12"
  }
 },
 "nbformat": 4,
 "nbformat_minor": 2
}
